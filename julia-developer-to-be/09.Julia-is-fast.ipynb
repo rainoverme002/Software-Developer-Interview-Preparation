{
 "cells": [
  {
   "cell_type": "markdown",
   "metadata": {},
   "source": [
    "From [Julia Academy: Intro to julia](https://juliaacademy.com/courses/intro-to-julia)"
   ]
  },
  {
   "cell_type": "markdown",
   "metadata": {},
   "source": [
    "# Julia is fast\n",
    "\n",
    "Very often, benchmarks are used to compare languages.  These benchmarks can lead to long discussions, first as to exactly what is being benchmarked and secondly what explains the differences.  These simple questions can sometimes get more complicated than you at first might imagine.\n",
    "\n",
    "The purpose of this notebook is for you to see a simple benchmark for yourself.  One can read the notebook and see what happened on the author's Macbook Pro with a 4-core Intel Core I7, or run the notebook yourself.\n",
    "\n",
    "(This material began life as a wonderful lecture by Steven Johnson at MIT: https://github.com/stevengj/18S096/blob/master/lectures/lecture1/Boxes-and-registers.ipynb.)"
   ]
  },
  {
   "cell_type": "markdown",
   "metadata": {},
   "source": [
    "# Outline of this notebook\n",
    "\n",
    "- Define the sum function\n",
    "- Implementations & benchmarking of sum in...\n",
    "    - C (hand-written)\n",
    "    - C (hand-written with -ffast-math)\n",
    "    - python (built-in)\n",
    "    - python (numpy)\n",
    "    - python (hand-written)\n",
    "    - Julia (built-in)\n",
    "    - Julia (hand-written)\n",
    "    - Julia (hand-written with SIMD)\n",
    "- Summary of benchmarks"
   ]
  },
  {
   "cell_type": "markdown",
   "metadata": {},
   "source": [
    "# `sum`: An easy enough function to understand"
   ]
  },
  {
   "cell_type": "markdown",
   "metadata": {},
   "source": [
    "Consider the  **sum** function `sum(a)`, which computes\n",
    "$$\n",
    "\\mathrm{sum}(a) = \\sum_{i=1}^n a_i,\n",
    "$$\n",
    "where $n$ is the length of `a`."
   ]
  },
  {
   "cell_type": "code",
   "execution_count": 1,
   "metadata": {},
   "outputs": [
    {
     "data": {
      "text/plain": [
       "10000000-element Array{Float64,1}:\n",
       " 0.1629152395689577\n",
       " 0.662934403375768\n",
       " 0.7365361725870585\n",
       " 0.6389455792506666\n",
       " 0.911270407180973\n",
       " 0.9120358729411095\n",
       " 0.1919657377434827\n",
       " 0.9809839685269774\n",
       " 0.26708823590744024\n",
       " 0.0664394160026407\n",
       " 0.6022542848016812\n",
       " 0.2404952245376415\n",
       " 0.524896956451044\n",
       " ⋮\n",
       " 0.8519984090835218\n",
       " 0.9884320627338523\n",
       " 0.19817594351169432\n",
       " 0.838567302021846\n",
       " 0.9504415967005913\n",
       " 0.6204068686679569\n",
       " 0.3793889958023904\n",
       " 0.9193163113681484\n",
       " 0.03378651629923146\n",
       " 0.012859030852297337\n",
       " 0.7728504231795377\n",
       " 0.8080249167669975"
      ]
     },
     "execution_count": 1,
     "metadata": {},
     "output_type": "execute_result"
    }
   ],
   "source": [
    "a = rand(10^7) # 1D vector of random numbers, uniform on [0,1)"
   ]
  },
  {
   "cell_type": "code",
   "execution_count": 2,
   "metadata": {},
   "outputs": [
    {
     "data": {
      "text/plain": [
       "4.999222014877353e6"
      ]
     },
     "execution_count": 2,
     "metadata": {},
     "output_type": "execute_result"
    }
   ],
   "source": [
    "sum(a)"
   ]
  },
  {
   "cell_type": "markdown",
   "metadata": {},
   "source": [
    "The expected result is 0.5 * 10^7, since the mean of each entry is 0.5"
   ]
  },
  {
   "cell_type": "markdown",
   "metadata": {},
   "source": [
    "# Benchmarking a few ways in a few languages"
   ]
  },
  {
   "cell_type": "code",
   "execution_count": 3,
   "metadata": {},
   "outputs": [
    {
     "name": "stdout",
     "output_type": "stream",
     "text": [
      "  0.006371 seconds (1 allocation: 16 bytes)\n"
     ]
    },
    {
     "data": {
      "text/plain": [
       "4.999222014877353e6"
      ]
     },
     "execution_count": 3,
     "metadata": {},
     "output_type": "execute_result"
    }
   ],
   "source": [
    "@time sum(a)"
   ]
  },
  {
   "cell_type": "code",
   "execution_count": 4,
   "metadata": {},
   "outputs": [
    {
     "name": "stdout",
     "output_type": "stream",
     "text": [
      "  0.007105 seconds (1 allocation: 16 bytes)\n"
     ]
    },
    {
     "data": {
      "text/plain": [
       "4.999222014877353e6"
      ]
     },
     "execution_count": 4,
     "metadata": {},
     "output_type": "execute_result"
    }
   ],
   "source": [
    "@time sum(a)"
   ]
  },
  {
   "cell_type": "code",
   "execution_count": 5,
   "metadata": {},
   "outputs": [
    {
     "name": "stdout",
     "output_type": "stream",
     "text": [
      "  0.008689 seconds (1 allocation: 16 bytes)\n"
     ]
    },
    {
     "data": {
      "text/plain": [
       "4.999222014877353e6"
      ]
     },
     "execution_count": 5,
     "metadata": {},
     "output_type": "execute_result"
    }
   ],
   "source": [
    "@time sum(a)"
   ]
  },
  {
   "cell_type": "markdown",
   "metadata": {},
   "source": [
    "The `@time` macro can yield noisy results, so it's not our best choice for benchmarking!\n",
    "\n",
    "Luckily, Julia has a `BenchmarkTools.jl` package to make benchmarking easy and accurate:"
   ]
  },
  {
   "cell_type": "code",
   "execution_count": 6,
   "metadata": {},
   "outputs": [
    {
     "name": "stderr",
     "output_type": "stream",
     "text": [
      "\u001b[32m\u001b[1m   Updating\u001b[22m\u001b[39m registry at `~/.julia/registries/General`\n",
      "######################################################################### 100.0%\n",
      "\u001b[32m\u001b[1m  Resolving\u001b[22m\u001b[39m package versions...\n",
      "\u001b[32m\u001b[1m  Installed\u001b[22m\u001b[39m BenchmarkTools ─ v0.5.0\n",
      "\u001b[32m\u001b[1mUpdating\u001b[22m\u001b[39m `~/.julia/environments/v1.5/Project.toml`\n",
      " \u001b[90m [6e4b80f9] \u001b[39m\u001b[92m+ BenchmarkTools v0.5.0\u001b[39m\n",
      "\u001b[32m\u001b[1mUpdating\u001b[22m\u001b[39m `~/.julia/environments/v1.5/Manifest.toml`\n",
      " \u001b[90m [6e4b80f9] \u001b[39m\u001b[92m+ BenchmarkTools v0.5.0\u001b[39m\n"
     ]
    }
   ],
   "source": [
    "using Pkg\n",
    "Pkg.add(\"BenchmarkTools\")"
   ]
  },
  {
   "cell_type": "code",
   "execution_count": 7,
   "metadata": {},
   "outputs": [
    {
     "name": "stderr",
     "output_type": "stream",
     "text": [
      "┌ Info: Precompiling BenchmarkTools [6e4b80f9-dd63-53aa-95a3-0cdb28fa8baf]\n",
      "└ @ Base loading.jl:1278\n"
     ]
    }
   ],
   "source": [
    "using BenchmarkTools"
   ]
  },
  {
   "cell_type": "markdown",
   "metadata": {},
   "source": [
    "#  1. The C language\n",
    "\n",
    "C is often considered the gold standard: difficult on the human, nice for the machine. Getting within a factor of 2 of C is often satisfying. Nonetheless, even within C, there are many kinds of optimizations possible that a naive C writer may or may not get the advantage of.\n",
    "\n",
    "The current author does not speak C, so he does not read the cell below, but is happy to know that you can put C code in a Julia session, compile it, and run it. Note that the `\"\"\"` wrap a multi-line string."
   ]
  },
  {
   "cell_type": "code",
   "execution_count": 8,
   "metadata": {},
   "outputs": [
    {
     "data": {
      "text/plain": [
       "c_sum (generic function with 1 method)"
      ]
     },
     "execution_count": 8,
     "metadata": {},
     "output_type": "execute_result"
    }
   ],
   "source": [
    "using Libdl\n",
    "C_code = \"\"\"\n",
    "#include <stddef.h>\n",
    "double c_sum(size_t n, double *X) {\n",
    "    double s = 0.0;\n",
    "    for (size_t i = 0; i < n; ++i) {\n",
    "        s += X[i];\n",
    "    }\n",
    "    return s;\n",
    "}\n",
    "\"\"\"\n",
    "\n",
    "const Clib = tempname()   # make a temporary file\n",
    "\n",
    "\n",
    "# compile to a shared library by piping C_code to gcc\n",
    "# (works only if you have gcc installed):\n",
    "\n",
    "open(`gcc -fPIC -O3 -msse3 -xc -shared -o $(Clib * \".\" * Libdl.dlext) -`, \"w\") do f\n",
    "    print(f, C_code)\n",
    "end\n",
    "\n",
    "# define a Julia function that calls the C function:\n",
    "c_sum(X::Array{Float64}) = ccall((\"c_sum\", Clib), Float64, (Csize_t, Ptr{Float64}), length(X), X)"
   ]
  },
  {
   "cell_type": "code",
   "execution_count": 9,
   "metadata": {},
   "outputs": [
    {
     "data": {
      "text/plain": [
       "4.999222014877313e6"
      ]
     },
     "execution_count": 9,
     "metadata": {},
     "output_type": "execute_result"
    }
   ],
   "source": [
    "c_sum(a)"
   ]
  },
  {
   "cell_type": "code",
   "execution_count": 10,
   "metadata": {},
   "outputs": [
    {
     "data": {
      "text/plain": [
       "true"
      ]
     },
     "execution_count": 10,
     "metadata": {},
     "output_type": "execute_result"
    }
   ],
   "source": [
    "c_sum(a) ≈ sum(a) # type \\approx and then <TAB> to get the ≈ symbolb"
   ]
  },
  {
   "cell_type": "code",
   "execution_count": 11,
   "metadata": {},
   "outputs": [
    {
     "data": {
      "text/plain": [
       "-4.0046870708465576e-8"
      ]
     },
     "execution_count": 11,
     "metadata": {},
     "output_type": "execute_result"
    }
   ],
   "source": [
    "c_sum(a) - sum(a)"
   ]
  },
  {
   "cell_type": "code",
   "execution_count": 12,
   "metadata": {},
   "outputs": [
    {
     "data": {
      "text/plain": [
       "isapprox (generic function with 9 methods)"
      ]
     },
     "execution_count": 12,
     "metadata": {},
     "output_type": "execute_result"
    }
   ],
   "source": [
    "≈  # alias for the `isapprox` function"
   ]
  },
  {
   "cell_type": "code",
   "execution_count": 13,
   "metadata": {},
   "outputs": [
    {
     "name": "stdout",
     "output_type": "stream",
     "text": [
      "search: \u001b[0m\u001b[1mi\u001b[22m\u001b[0m\u001b[1ms\u001b[22m\u001b[0m\u001b[1ma\u001b[22m\u001b[0m\u001b[1mp\u001b[22m\u001b[0m\u001b[1mp\u001b[22m\u001b[0m\u001b[1mr\u001b[22m\u001b[0m\u001b[1mo\u001b[22m\u001b[0m\u001b[1mx\u001b[22m\n",
      "\n"
     ]
    },
    {
     "data": {
      "text/latex": [
       "\\begin{verbatim}\n",
       "isapprox(x, y; rtol::Real=atol>0 ? 0 : √eps, atol::Real=0, nans::Bool=false, norm::Function)\n",
       "\\end{verbatim}\n",
       "Inexact equality comparison: \\texttt{true} if \\texttt{norm(x-y) <= max(atol, rtol*max(norm(x), norm(y)))}. The default \\texttt{atol} is zero and the default \\texttt{rtol} depends on the types of \\texttt{x} and \\texttt{y}. The keyword argument \\texttt{nans} determines whether or not NaN values are considered equal (defaults to false).\n",
       "\n",
       "For real or complex floating-point values, if an \\texttt{atol > 0} is not specified, \\texttt{rtol} defaults to the square root of \\href{@ref}{\\texttt{eps}} of the type of \\texttt{x} or \\texttt{y}, whichever is bigger (least precise). This corresponds to requiring equality of about half of the significand digits. Otherwise, e.g. for integer arguments or if an \\texttt{atol > 0} is supplied, \\texttt{rtol} defaults to zero.\n",
       "\n",
       "\\texttt{x} and \\texttt{y} may also be arrays of numbers, in which case \\texttt{norm} defaults to the usual \\texttt{norm} function in LinearAlgebra, but may be changed by passing a \\texttt{norm::Function} keyword argument. (For numbers, \\texttt{norm} is the same thing as \\texttt{abs}.) When \\texttt{x} and \\texttt{y} are arrays, if \\texttt{norm(x-y)} is not finite (i.e. \\texttt{±Inf} or \\texttt{NaN}), the comparison falls back to checking whether all elements of \\texttt{x} and \\texttt{y} are approximately equal component-wise.\n",
       "\n",
       "The binary operator \\texttt{≈} is equivalent to \\texttt{isapprox} with the default arguments, and \\texttt{x ≉ y} is equivalent to \\texttt{!isapprox(x,y)}.\n",
       "\n",
       "Note that \\texttt{x ≈ 0} (i.e., comparing to zero with the default tolerances) is equivalent to \\texttt{x == 0} since the default \\texttt{atol} is \\texttt{0}.  In such cases, you should either supply an appropriate \\texttt{atol} (or use \\texttt{norm(x) ≤ atol}) or rearrange your code (e.g. use \\texttt{x ≈ y} rather than \\texttt{x - y ≈ 0}).   It is not possible to pick a nonzero \\texttt{atol} automatically because it depends on the overall scaling (the \"units\") of your problem: for example, in \\texttt{x - y ≈ 0}, \\texttt{atol=1e-9} is an absurdly small tolerance if \\texttt{x} is the \\href{https://en.wikipedia.org/wiki/Earth_radius}{radius of the Earth} in meters, but an absurdly large tolerance if \\texttt{x} is the \\href{https://en.wikipedia.org/wiki/Bohr_radius}{radius of a Hydrogen atom} in meters.\n",
       "\n",
       "\\section{Examples}\n",
       "\\begin{verbatim}\n",
       "julia> 0.1 ≈ (0.1 - 1e-10)\n",
       "true\n",
       "\n",
       "julia> isapprox(10, 11; atol = 2)\n",
       "true\n",
       "\n",
       "julia> isapprox([10.0^9, 1.0], [10.0^9, 2.0])\n",
       "true\n",
       "\n",
       "julia> 1e-10 ≈ 0\n",
       "false\n",
       "\n",
       "julia> isapprox(1e-10, 0, atol=1e-8)\n",
       "true\n",
       "\\end{verbatim}\n",
       "\\rule{\\textwidth}{1pt}\n",
       "\\begin{verbatim}\n",
       "isapprox(x; kwargs...) / ≈(x; kwargs...)\n",
       "\\end{verbatim}\n",
       "Create a function that compares its argument to \\texttt{x} using \\texttt{≈}, i.e. a function equivalent to \\texttt{y -> y ≈ x}.\n",
       "\n",
       "The keyword arguments supported here are the same as those in the 2-argument \\texttt{isapprox}.\n",
       "\n"
      ],
      "text/markdown": [
       "```\n",
       "isapprox(x, y; rtol::Real=atol>0 ? 0 : √eps, atol::Real=0, nans::Bool=false, norm::Function)\n",
       "```\n",
       "\n",
       "Inexact equality comparison: `true` if `norm(x-y) <= max(atol, rtol*max(norm(x), norm(y)))`. The default `atol` is zero and the default `rtol` depends on the types of `x` and `y`. The keyword argument `nans` determines whether or not NaN values are considered equal (defaults to false).\n",
       "\n",
       "For real or complex floating-point values, if an `atol > 0` is not specified, `rtol` defaults to the square root of [`eps`](@ref) of the type of `x` or `y`, whichever is bigger (least precise). This corresponds to requiring equality of about half of the significand digits. Otherwise, e.g. for integer arguments or if an `atol > 0` is supplied, `rtol` defaults to zero.\n",
       "\n",
       "`x` and `y` may also be arrays of numbers, in which case `norm` defaults to the usual `norm` function in LinearAlgebra, but may be changed by passing a `norm::Function` keyword argument. (For numbers, `norm` is the same thing as `abs`.) When `x` and `y` are arrays, if `norm(x-y)` is not finite (i.e. `±Inf` or `NaN`), the comparison falls back to checking whether all elements of `x` and `y` are approximately equal component-wise.\n",
       "\n",
       "The binary operator `≈` is equivalent to `isapprox` with the default arguments, and `x ≉ y` is equivalent to `!isapprox(x,y)`.\n",
       "\n",
       "Note that `x ≈ 0` (i.e., comparing to zero with the default tolerances) is equivalent to `x == 0` since the default `atol` is `0`.  In such cases, you should either supply an appropriate `atol` (or use `norm(x) ≤ atol`) or rearrange your code (e.g. use `x ≈ y` rather than `x - y ≈ 0`).   It is not possible to pick a nonzero `atol` automatically because it depends on the overall scaling (the \"units\") of your problem: for example, in `x - y ≈ 0`, `atol=1e-9` is an absurdly small tolerance if `x` is the [radius of the Earth](https://en.wikipedia.org/wiki/Earth_radius) in meters, but an absurdly large tolerance if `x` is the [radius of a Hydrogen atom](https://en.wikipedia.org/wiki/Bohr_radius) in meters.\n",
       "\n",
       "# Examples\n",
       "\n",
       "```jldoctest\n",
       "julia> 0.1 ≈ (0.1 - 1e-10)\n",
       "true\n",
       "\n",
       "julia> isapprox(10, 11; atol = 2)\n",
       "true\n",
       "\n",
       "julia> isapprox([10.0^9, 1.0], [10.0^9, 2.0])\n",
       "true\n",
       "\n",
       "julia> 1e-10 ≈ 0\n",
       "false\n",
       "\n",
       "julia> isapprox(1e-10, 0, atol=1e-8)\n",
       "true\n",
       "```\n",
       "\n",
       "---\n",
       "\n",
       "```\n",
       "isapprox(x; kwargs...) / ≈(x; kwargs...)\n",
       "```\n",
       "\n",
       "Create a function that compares its argument to `x` using `≈`, i.e. a function equivalent to `y -> y ≈ x`.\n",
       "\n",
       "The keyword arguments supported here are the same as those in the 2-argument `isapprox`.\n"
      ],
      "text/plain": [
       "\u001b[36m  isapprox(x, y; rtol::Real=atol>0 ? 0 : √eps, atol::Real=0, nans::Bool=false, norm::Function)\u001b[39m\n",
       "\n",
       "  Inexact equality comparison: \u001b[36mtrue\u001b[39m if \u001b[36mnorm(x-y) <= max(atol,\n",
       "  rtol*max(norm(x), norm(y)))\u001b[39m. The default \u001b[36matol\u001b[39m is zero and the default \u001b[36mrtol\u001b[39m\n",
       "  depends on the types of \u001b[36mx\u001b[39m and \u001b[36my\u001b[39m. The keyword argument \u001b[36mnans\u001b[39m determines\n",
       "  whether or not NaN values are considered equal (defaults to false).\n",
       "\n",
       "  For real or complex floating-point values, if an \u001b[36matol > 0\u001b[39m is not specified,\n",
       "  \u001b[36mrtol\u001b[39m defaults to the square root of \u001b[36meps\u001b[39m of the type of \u001b[36mx\u001b[39m or \u001b[36my\u001b[39m, whichever is\n",
       "  bigger (least precise). This corresponds to requiring equality of about half\n",
       "  of the significand digits. Otherwise, e.g. for integer arguments or if an\n",
       "  \u001b[36matol > 0\u001b[39m is supplied, \u001b[36mrtol\u001b[39m defaults to zero.\n",
       "\n",
       "  \u001b[36mx\u001b[39m and \u001b[36my\u001b[39m may also be arrays of numbers, in which case \u001b[36mnorm\u001b[39m defaults to the\n",
       "  usual \u001b[36mnorm\u001b[39m function in LinearAlgebra, but may be changed by passing a\n",
       "  \u001b[36mnorm::Function\u001b[39m keyword argument. (For numbers, \u001b[36mnorm\u001b[39m is the same thing as\n",
       "  \u001b[36mabs\u001b[39m.) When \u001b[36mx\u001b[39m and \u001b[36my\u001b[39m are arrays, if \u001b[36mnorm(x-y)\u001b[39m is not finite (i.e. \u001b[36m±Inf\u001b[39m or\n",
       "  \u001b[36mNaN\u001b[39m), the comparison falls back to checking whether all elements of \u001b[36mx\u001b[39m and \u001b[36my\u001b[39m\n",
       "  are approximately equal component-wise.\n",
       "\n",
       "  The binary operator \u001b[36m≈\u001b[39m is equivalent to \u001b[36misapprox\u001b[39m with the default arguments,\n",
       "  and \u001b[36mx ≉ y\u001b[39m is equivalent to \u001b[36m!isapprox(x,y)\u001b[39m.\n",
       "\n",
       "  Note that \u001b[36mx ≈ 0\u001b[39m (i.e., comparing to zero with the default tolerances) is\n",
       "  equivalent to \u001b[36mx == 0\u001b[39m since the default \u001b[36matol\u001b[39m is \u001b[36m0\u001b[39m. In such cases, you should\n",
       "  either supply an appropriate \u001b[36matol\u001b[39m (or use \u001b[36mnorm(x) ≤ atol\u001b[39m) or rearrange your\n",
       "  code (e.g. use \u001b[36mx ≈ y\u001b[39m rather than \u001b[36mx - y ≈ 0\u001b[39m). It is not possible to pick a\n",
       "  nonzero \u001b[36matol\u001b[39m automatically because it depends on the overall scaling (the\n",
       "  \"units\") of your problem: for example, in \u001b[36mx - y ≈ 0\u001b[39m, \u001b[36matol=1e-9\u001b[39m is an\n",
       "  absurdly small tolerance if \u001b[36mx\u001b[39m is the radius of the Earth\n",
       "  (https://en.wikipedia.org/wiki/Earth_radius) in meters, but an absurdly\n",
       "  large tolerance if \u001b[36mx\u001b[39m is the radius of a Hydrogen atom\n",
       "  (https://en.wikipedia.org/wiki/Bohr_radius) in meters.\n",
       "\n",
       "\u001b[1m  Examples\u001b[22m\n",
       "\u001b[1m  ≡≡≡≡≡≡≡≡≡≡\u001b[22m\n",
       "\n",
       "\u001b[36m  julia> 0.1 ≈ (0.1 - 1e-10)\u001b[39m\n",
       "\u001b[36m  true\u001b[39m\n",
       "\u001b[36m  \u001b[39m\n",
       "\u001b[36m  julia> isapprox(10, 11; atol = 2)\u001b[39m\n",
       "\u001b[36m  true\u001b[39m\n",
       "\u001b[36m  \u001b[39m\n",
       "\u001b[36m  julia> isapprox([10.0^9, 1.0], [10.0^9, 2.0])\u001b[39m\n",
       "\u001b[36m  true\u001b[39m\n",
       "\u001b[36m  \u001b[39m\n",
       "\u001b[36m  julia> 1e-10 ≈ 0\u001b[39m\n",
       "\u001b[36m  false\u001b[39m\n",
       "\u001b[36m  \u001b[39m\n",
       "\u001b[36m  julia> isapprox(1e-10, 0, atol=1e-8)\u001b[39m\n",
       "\u001b[36m  true\u001b[39m\n",
       "\n",
       "  ────────────────────────────────────────────────────────────────────────────\n",
       "\n",
       "\u001b[36m  isapprox(x; kwargs...) / ≈(x; kwargs...)\u001b[39m\n",
       "\n",
       "  Create a function that compares its argument to \u001b[36mx\u001b[39m using \u001b[36m≈\u001b[39m, i.e. a function\n",
       "  equivalent to \u001b[36my -> y ≈ x\u001b[39m.\n",
       "\n",
       "  The keyword arguments supported here are the same as those in the 2-argument\n",
       "  \u001b[36misapprox\u001b[39m."
      ]
     },
     "execution_count": 13,
     "metadata": {},
     "output_type": "execute_result"
    }
   ],
   "source": [
    "?isapprox"
   ]
  },
  {
   "cell_type": "markdown",
   "metadata": {},
   "source": [
    "We can now benchmark the C code directly from Julia:"
   ]
  },
  {
   "cell_type": "code",
   "execution_count": 14,
   "metadata": {},
   "outputs": [
    {
     "data": {
      "text/plain": [
       "BenchmarkTools.Trial: \n",
       "  memory estimate:  0 bytes\n",
       "  allocs estimate:  0\n",
       "  --------------\n",
       "  minimum time:     11.614 ms (0.00% GC)\n",
       "  median time:      12.908 ms (0.00% GC)\n",
       "  mean time:        13.312 ms (0.00% GC)\n",
       "  maximum time:     25.279 ms (0.00% GC)\n",
       "  --------------\n",
       "  samples:          376\n",
       "  evals/sample:     1"
      ]
     },
     "execution_count": 14,
     "metadata": {},
     "output_type": "execute_result"
    }
   ],
   "source": [
    "c_bench = @benchmark c_sum($a)"
   ]
  },
  {
   "cell_type": "code",
   "execution_count": 15,
   "metadata": {},
   "outputs": [
    {
     "name": "stdout",
     "output_type": "stream",
     "text": [
      "C: Fastest time was 11.614006 msec\n"
     ]
    }
   ],
   "source": [
    "println(\"C: Fastest time was $(minimum(c_bench.times) / 1e6) msec\")"
   ]
  },
  {
   "cell_type": "code",
   "execution_count": 16,
   "metadata": {},
   "outputs": [
    {
     "data": {
      "text/plain": [
       "Dict{Any,Any} with 1 entry:\n",
       "  \"C\" => 11.614"
      ]
     },
     "execution_count": 16,
     "metadata": {},
     "output_type": "execute_result"
    }
   ],
   "source": [
    "d = Dict()  # a \"dictionary\", i.e. an associative array\n",
    "d[\"C\"] = minimum(c_bench.times) / 1e6  # in milliseconds\n",
    "d"
   ]
  },
  {
   "cell_type": "code",
   "execution_count": 17,
   "metadata": {},
   "outputs": [
    {
     "data": {
      "text/plain": [
       "Plots.GRBackend()"
      ]
     },
     "execution_count": 17,
     "metadata": {},
     "output_type": "execute_result"
    }
   ],
   "source": [
    "using Plots\n",
    "gr()"
   ]
  },
  {
   "cell_type": "code",
   "execution_count": 18,
   "metadata": {},
   "outputs": [
    {
     "data": {
      "image/svg+xml": [
       "<?xml version=\"1.0\" encoding=\"utf-8\"?>\n",
       "<svg xmlns=\"http://www.w3.org/2000/svg\" xmlns:xlink=\"http://www.w3.org/1999/xlink\" width=\"600\" height=\"400\" viewBox=\"0 0 2400 1600\">\n",
       "<defs>\n",
       "  <clipPath id=\"clip560\">\n",
       "    <rect x=\"0\" y=\"0\" width=\"2400\" height=\"1600\"/>\n",
       "  </clipPath>\n",
       "</defs>\n",
       "<path clip-path=\"url(#clip560)\" d=\"\n",
       "M0 1600 L2400 1600 L2400 0 L0 0  Z\n",
       "  \" fill=\"#ffffff\" fill-rule=\"evenodd\" fill-opacity=\"1\"/>\n",
       "<defs>\n",
       "  <clipPath id=\"clip561\">\n",
       "    <rect x=\"480\" y=\"0\" width=\"1681\" height=\"1600\"/>\n",
       "  </clipPath>\n",
       "</defs>\n",
       "<path clip-path=\"url(#clip560)\" d=\"\n",
       "M197.852 1423.18 L2352.76 1423.18 L2352.76 47.2441 L197.852 47.2441  Z\n",
       "  \" fill=\"#ffffff\" fill-rule=\"evenodd\" fill-opacity=\"1\"/>\n",
       "<defs>\n",
       "  <clipPath id=\"clip562\">\n",
       "    <rect x=\"197\" y=\"47\" width=\"2156\" height=\"1377\"/>\n",
       "  </clipPath>\n",
       "</defs>\n",
       "<polyline clip-path=\"url(#clip562)\" style=\"stroke:#000000; stroke-width:2; stroke-opacity:0.1; fill:none\" points=\"\n",
       "  445.045,1423.18 445.045,47.2441 \n",
       "  \"/>\n",
       "<polyline clip-path=\"url(#clip562)\" style=\"stroke:#000000; stroke-width:2; stroke-opacity:0.1; fill:none\" points=\"\n",
       "  697.291,1423.18 697.291,47.2441 \n",
       "  \"/>\n",
       "<polyline clip-path=\"url(#clip562)\" style=\"stroke:#000000; stroke-width:2; stroke-opacity:0.1; fill:none\" points=\"\n",
       "  949.536,1423.18 949.536,47.2441 \n",
       "  \"/>\n",
       "<polyline clip-path=\"url(#clip562)\" style=\"stroke:#000000; stroke-width:2; stroke-opacity:0.1; fill:none\" points=\"\n",
       "  1201.78,1423.18 1201.78,47.2441 \n",
       "  \"/>\n",
       "<polyline clip-path=\"url(#clip562)\" style=\"stroke:#000000; stroke-width:2; stroke-opacity:0.1; fill:none\" points=\"\n",
       "  1454.03,1423.18 1454.03,47.2441 \n",
       "  \"/>\n",
       "<polyline clip-path=\"url(#clip562)\" style=\"stroke:#000000; stroke-width:2; stroke-opacity:0.1; fill:none\" points=\"\n",
       "  1706.27,1423.18 1706.27,47.2441 \n",
       "  \"/>\n",
       "<polyline clip-path=\"url(#clip562)\" style=\"stroke:#000000; stroke-width:2; stroke-opacity:0.1; fill:none\" points=\"\n",
       "  1958.52,1423.18 1958.52,47.2441 \n",
       "  \"/>\n",
       "<polyline clip-path=\"url(#clip562)\" style=\"stroke:#000000; stroke-width:2; stroke-opacity:0.1; fill:none\" points=\"\n",
       "  2210.76,1423.18 2210.76,47.2441 \n",
       "  \"/>\n",
       "<polyline clip-path=\"url(#clip560)\" style=\"stroke:#000000; stroke-width:4; stroke-opacity:1; fill:none\" points=\"\n",
       "  197.852,1423.18 2352.76,1423.18 \n",
       "  \"/>\n",
       "<polyline clip-path=\"url(#clip560)\" style=\"stroke:#000000; stroke-width:4; stroke-opacity:1; fill:none\" points=\"\n",
       "  445.045,1423.18 445.045,1406.67 \n",
       "  \"/>\n",
       "<polyline clip-path=\"url(#clip560)\" style=\"stroke:#000000; stroke-width:4; stroke-opacity:1; fill:none\" points=\"\n",
       "  697.291,1423.18 697.291,1406.67 \n",
       "  \"/>\n",
       "<polyline clip-path=\"url(#clip560)\" style=\"stroke:#000000; stroke-width:4; stroke-opacity:1; fill:none\" points=\"\n",
       "  949.536,1423.18 949.536,1406.67 \n",
       "  \"/>\n",
       "<polyline clip-path=\"url(#clip560)\" style=\"stroke:#000000; stroke-width:4; stroke-opacity:1; fill:none\" points=\"\n",
       "  1201.78,1423.18 1201.78,1406.67 \n",
       "  \"/>\n",
       "<polyline clip-path=\"url(#clip560)\" style=\"stroke:#000000; stroke-width:4; stroke-opacity:1; fill:none\" points=\"\n",
       "  1454.03,1423.18 1454.03,1406.67 \n",
       "  \"/>\n",
       "<polyline clip-path=\"url(#clip560)\" style=\"stroke:#000000; stroke-width:4; stroke-opacity:1; fill:none\" points=\"\n",
       "  1706.27,1423.18 1706.27,1406.67 \n",
       "  \"/>\n",
       "<polyline clip-path=\"url(#clip560)\" style=\"stroke:#000000; stroke-width:4; stroke-opacity:1; fill:none\" points=\"\n",
       "  1958.52,1423.18 1958.52,1406.67 \n",
       "  \"/>\n",
       "<polyline clip-path=\"url(#clip560)\" style=\"stroke:#000000; stroke-width:4; stroke-opacity:1; fill:none\" points=\"\n",
       "  2210.76,1423.18 2210.76,1406.67 \n",
       "  \"/>\n",
       "<path clip-path=\"url(#clip560)\" d=\"M 0 0 M404.096 1479.92 L411.735 1479.92 L411.735 1453.55 L403.425 1455.22 L403.425 1450.96 L411.689 1449.29 L416.365 1449.29 L416.365 1479.92 L424.004 1479.92 L424.004 1483.85 L404.096 1483.85 L404.096 1479.92 Z\" fill=\"#000000\" fill-rule=\"evenodd\" fill-opacity=\"1\" /><path clip-path=\"url(#clip560)\" d=\"M 0 0 M429.883 1479.92 L437.522 1479.92 L437.522 1453.55 L429.212 1455.22 L429.212 1450.96 L437.476 1449.29 L442.152 1449.29 L442.152 1479.92 L449.791 1479.92 L449.791 1483.85 L429.883 1483.85 L429.883 1479.92 Z\" fill=\"#000000\" fill-rule=\"evenodd\" fill-opacity=\"1\" /><path clip-path=\"url(#clip560)\" d=\"M 0 0 M454.86 1477.97 L459.744 1477.97 L459.744 1483.85 L454.86 1483.85 L454.86 1477.97 Z\" fill=\"#000000\" fill-rule=\"evenodd\" fill-opacity=\"1\" /><path clip-path=\"url(#clip560)\" d=\"M 0 0 M474.814 1467.44 Q471.48 1467.44 469.559 1469.22 Q467.661 1471 467.661 1474.13 Q467.661 1477.25 469.559 1479.04 Q471.48 1480.82 474.814 1480.82 Q478.147 1480.82 480.068 1479.04 Q481.99 1477.23 481.99 1474.13 Q481.99 1471 480.068 1469.22 Q478.17 1467.44 474.814 1467.44 M470.138 1465.45 Q467.129 1464.71 465.439 1462.65 Q463.772 1460.59 463.772 1457.63 Q463.772 1453.48 466.712 1451.07 Q469.675 1448.67 474.814 1448.67 Q479.976 1448.67 482.915 1451.07 Q485.855 1453.48 485.855 1457.63 Q485.855 1460.59 484.165 1462.65 Q482.499 1464.71 479.513 1465.45 Q482.892 1466.24 484.767 1468.53 Q486.665 1470.82 486.665 1474.13 Q486.665 1479.15 483.587 1481.84 Q480.531 1484.52 474.814 1484.52 Q469.096 1484.52 466.017 1481.84 Q462.962 1479.15 462.962 1474.13 Q462.962 1470.82 464.86 1468.53 Q466.758 1466.24 470.138 1465.45 M468.425 1458.06 Q468.425 1460.75 470.091 1462.25 Q471.781 1463.76 474.814 1463.76 Q477.823 1463.76 479.513 1462.25 Q481.226 1460.75 481.226 1458.06 Q481.226 1455.38 479.513 1453.88 Q477.823 1452.37 474.814 1452.37 Q471.781 1452.37 470.091 1453.88 Q468.425 1455.38 468.425 1458.06 Z\" fill=\"#000000\" fill-rule=\"evenodd\" fill-opacity=\"1\" /><path clip-path=\"url(#clip560)\" d=\"M 0 0 M656.481 1479.92 L664.119 1479.92 L664.119 1453.55 L655.809 1455.22 L655.809 1450.96 L664.073 1449.29 L668.749 1449.29 L668.749 1479.92 L676.388 1479.92 L676.388 1483.85 L656.481 1483.85 L656.481 1479.92 Z\" fill=\"#000000\" fill-rule=\"evenodd\" fill-opacity=\"1\" /><path clip-path=\"url(#clip560)\" d=\"M 0 0 M685.485 1479.92 L701.804 1479.92 L701.804 1483.85 L679.86 1483.85 L679.86 1479.92 Q682.522 1477.16 687.105 1472.53 Q691.712 1467.88 692.892 1466.54 Q695.138 1464.01 696.017 1462.28 Q696.92 1460.52 696.92 1458.83 Q696.92 1456.07 694.976 1454.34 Q693.055 1452.6 689.953 1452.6 Q687.754 1452.6 685.3 1453.37 Q682.869 1454.13 680.092 1455.68 L680.092 1450.96 Q682.916 1449.82 685.369 1449.25 Q687.823 1448.67 689.86 1448.67 Q695.23 1448.67 698.425 1451.35 Q701.619 1454.04 701.619 1458.53 Q701.619 1460.66 700.809 1462.58 Q700.022 1464.48 697.916 1467.07 Q697.337 1467.74 694.235 1470.96 Q691.133 1474.15 685.485 1479.92 Z\" fill=\"#000000\" fill-rule=\"evenodd\" fill-opacity=\"1\" /><path clip-path=\"url(#clip560)\" d=\"M 0 0 M706.874 1477.97 L711.758 1477.97 L711.758 1483.85 L706.874 1483.85 L706.874 1477.97 Z\" fill=\"#000000\" fill-rule=\"evenodd\" fill-opacity=\"1\" /><path clip-path=\"url(#clip560)\" d=\"M 0 0 M726.827 1452.37 Q723.216 1452.37 721.388 1455.94 Q719.582 1459.48 719.582 1466.61 Q719.582 1473.71 721.388 1477.28 Q723.216 1480.82 726.827 1480.82 Q730.462 1480.82 732.267 1477.28 Q734.096 1473.71 734.096 1466.61 Q734.096 1459.48 732.267 1455.94 Q730.462 1452.37 726.827 1452.37 M726.827 1448.67 Q732.638 1448.67 735.693 1453.27 Q738.772 1457.86 738.772 1466.61 Q738.772 1475.33 735.693 1479.94 Q732.638 1484.52 726.827 1484.52 Q721.017 1484.52 717.939 1479.94 Q714.883 1475.33 714.883 1466.61 Q714.883 1457.86 717.939 1453.27 Q721.017 1448.67 726.827 1448.67 Z\" fill=\"#000000\" fill-rule=\"evenodd\" fill-opacity=\"1\" /><path clip-path=\"url(#clip560)\" d=\"M 0 0 M909.525 1479.92 L917.163 1479.92 L917.163 1453.55 L908.853 1455.22 L908.853 1450.96 L917.117 1449.29 L921.793 1449.29 L921.793 1479.92 L929.432 1479.92 L929.432 1483.85 L909.525 1483.85 L909.525 1479.92 Z\" fill=\"#000000\" fill-rule=\"evenodd\" fill-opacity=\"1\" /><path clip-path=\"url(#clip560)\" d=\"M 0 0 M938.529 1479.92 L954.848 1479.92 L954.848 1483.85 L932.904 1483.85 L932.904 1479.92 Q935.566 1477.16 940.149 1472.53 Q944.756 1467.88 945.936 1466.54 Q948.182 1464.01 949.061 1462.28 Q949.964 1460.52 949.964 1458.83 Q949.964 1456.07 948.02 1454.34 Q946.098 1452.6 942.997 1452.6 Q940.797 1452.6 938.344 1453.37 Q935.913 1454.13 933.136 1455.68 L933.136 1450.96 Q935.96 1449.82 938.413 1449.25 Q940.867 1448.67 942.904 1448.67 Q948.274 1448.67 951.469 1451.35 Q954.663 1454.04 954.663 1458.53 Q954.663 1460.66 953.853 1462.58 Q953.066 1464.48 950.959 1467.07 Q950.381 1467.74 947.279 1470.96 Q944.177 1474.15 938.529 1479.92 Z\" fill=\"#000000\" fill-rule=\"evenodd\" fill-opacity=\"1\" /><path clip-path=\"url(#clip560)\" d=\"M 0 0 M959.918 1477.97 L964.802 1477.97 L964.802 1483.85 L959.918 1483.85 L959.918 1477.97 Z\" fill=\"#000000\" fill-rule=\"evenodd\" fill-opacity=\"1\" /><path clip-path=\"url(#clip560)\" d=\"M 0 0 M973.899 1479.92 L990.219 1479.92 L990.219 1483.85 L968.274 1483.85 L968.274 1479.92 Q970.936 1477.16 975.52 1472.53 Q980.126 1467.88 981.307 1466.54 Q983.552 1464.01 984.432 1462.28 Q985.334 1460.52 985.334 1458.83 Q985.334 1456.07 983.39 1454.34 Q981.469 1452.6 978.367 1452.6 Q976.168 1452.6 973.714 1453.37 Q971.283 1454.13 968.506 1455.68 L968.506 1450.96 Q971.33 1449.82 973.783 1449.25 Q976.237 1448.67 978.274 1448.67 Q983.644 1448.67 986.839 1451.35 Q990.033 1454.04 990.033 1458.53 Q990.033 1460.66 989.223 1462.58 Q988.436 1464.48 986.33 1467.07 Q985.751 1467.74 982.649 1470.96 Q979.547 1474.15 973.899 1479.92 Z\" fill=\"#000000\" fill-rule=\"evenodd\" fill-opacity=\"1\" /><path clip-path=\"url(#clip560)\" d=\"M 0 0 M1160.73 1479.92 L1168.37 1479.92 L1168.37 1453.55 L1160.06 1455.22 L1160.06 1450.96 L1168.32 1449.29 L1173 1449.29 L1173 1479.92 L1180.64 1479.92 L1180.64 1483.85 L1160.73 1483.85 L1160.73 1479.92 Z\" fill=\"#000000\" fill-rule=\"evenodd\" fill-opacity=\"1\" /><path clip-path=\"url(#clip560)\" d=\"M 0 0 M1189.73 1479.92 L1206.05 1479.92 L1206.05 1483.85 L1184.11 1483.85 L1184.11 1479.92 Q1186.77 1477.16 1191.35 1472.53 Q1195.96 1467.88 1197.14 1466.54 Q1199.39 1464.01 1200.26 1462.28 Q1201.17 1460.52 1201.17 1458.83 Q1201.17 1456.07 1199.22 1454.34 Q1197.3 1452.6 1194.2 1452.6 Q1192 1452.6 1189.55 1453.37 Q1187.12 1454.13 1184.34 1455.68 L1184.34 1450.96 Q1187.16 1449.82 1189.62 1449.25 Q1192.07 1448.67 1194.11 1448.67 Q1199.48 1448.67 1202.67 1451.35 Q1205.87 1454.04 1205.87 1458.53 Q1205.87 1460.66 1205.06 1462.58 Q1204.27 1464.48 1202.16 1467.07 Q1201.58 1467.74 1198.48 1470.96 Q1195.38 1474.15 1189.73 1479.92 Z\" fill=\"#000000\" fill-rule=\"evenodd\" fill-opacity=\"1\" /><path clip-path=\"url(#clip560)\" d=\"M 0 0 M1211.12 1477.97 L1216.01 1477.97 L1216.01 1483.85 L1211.12 1483.85 L1211.12 1477.97 Z\" fill=\"#000000\" fill-rule=\"evenodd\" fill-opacity=\"1\" /><path clip-path=\"url(#clip560)\" d=\"M 0 0 M1233.92 1453.37 L1222.12 1471.81 L1233.92 1471.81 L1233.92 1453.37 M1232.7 1449.29 L1238.57 1449.29 L1238.57 1471.81 L1243.51 1471.81 L1243.51 1475.7 L1238.57 1475.7 L1238.57 1483.85 L1233.92 1483.85 L1233.92 1475.7 L1218.32 1475.7 L1218.32 1471.19 L1232.7 1449.29 Z\" fill=\"#000000\" fill-rule=\"evenodd\" fill-opacity=\"1\" /><path clip-path=\"url(#clip560)\" d=\"M 0 0 M1413.14 1479.92 L1420.77 1479.92 L1420.77 1453.55 L1412.46 1455.22 L1412.46 1450.96 L1420.73 1449.29 L1425.4 1449.29 L1425.4 1479.92 L1433.04 1479.92 L1433.04 1483.85 L1413.14 1483.85 L1413.14 1479.92 Z\" fill=\"#000000\" fill-rule=\"evenodd\" fill-opacity=\"1\" /><path clip-path=\"url(#clip560)\" d=\"M 0 0 M1442.14 1479.92 L1458.46 1479.92 L1458.46 1483.85 L1436.51 1483.85 L1436.51 1479.92 Q1439.18 1477.16 1443.76 1472.53 Q1448.37 1467.88 1449.55 1466.54 Q1451.79 1464.01 1452.67 1462.28 Q1453.58 1460.52 1453.58 1458.83 Q1453.58 1456.07 1451.63 1454.34 Q1449.71 1452.6 1446.61 1452.6 Q1444.41 1452.6 1441.95 1453.37 Q1439.52 1454.13 1436.75 1455.68 L1436.75 1450.96 Q1439.57 1449.82 1442.02 1449.25 Q1444.48 1448.67 1446.51 1448.67 Q1451.89 1448.67 1455.08 1451.35 Q1458.27 1454.04 1458.27 1458.53 Q1458.27 1460.66 1457.46 1462.58 Q1456.68 1464.48 1454.57 1467.07 Q1453.99 1467.74 1450.89 1470.96 Q1447.79 1474.15 1442.14 1479.92 Z\" fill=\"#000000\" fill-rule=\"evenodd\" fill-opacity=\"1\" /><path clip-path=\"url(#clip560)\" d=\"M 0 0 M1463.53 1477.97 L1468.41 1477.97 L1468.41 1483.85 L1463.53 1483.85 L1463.53 1477.97 Z\" fill=\"#000000\" fill-rule=\"evenodd\" fill-opacity=\"1\" /><path clip-path=\"url(#clip560)\" d=\"M 0 0 M1484.06 1464.71 Q1480.91 1464.71 1479.06 1466.86 Q1477.23 1469.01 1477.23 1472.76 Q1477.23 1476.49 1479.06 1478.67 Q1480.91 1480.82 1484.06 1480.82 Q1487.21 1480.82 1489.04 1478.67 Q1490.89 1476.49 1490.89 1472.76 Q1490.89 1469.01 1489.04 1466.86 Q1487.21 1464.71 1484.06 1464.71 M1493.34 1450.06 L1493.34 1454.31 Q1491.58 1453.48 1489.78 1453.04 Q1488 1452.6 1486.24 1452.6 Q1481.61 1452.6 1479.15 1455.73 Q1476.72 1458.85 1476.38 1465.17 Q1477.74 1463.16 1479.8 1462.09 Q1481.86 1461 1484.34 1461 Q1489.55 1461 1492.56 1464.18 Q1495.59 1467.32 1495.59 1472.76 Q1495.59 1478.09 1492.44 1481.31 Q1489.29 1484.52 1484.06 1484.52 Q1478.07 1484.52 1474.89 1479.94 Q1471.72 1475.33 1471.72 1466.61 Q1471.72 1458.41 1475.61 1453.55 Q1479.5 1448.67 1486.05 1448.67 Q1487.81 1448.67 1489.59 1449.01 Q1491.4 1449.36 1493.34 1450.06 Z\" fill=\"#000000\" fill-rule=\"evenodd\" fill-opacity=\"1\" /><path clip-path=\"url(#clip560)\" d=\"M 0 0 M1665.51 1479.92 L1673.15 1479.92 L1673.15 1453.55 L1664.84 1455.22 L1664.84 1450.96 L1673.1 1449.29 L1677.78 1449.29 L1677.78 1479.92 L1685.42 1479.92 L1685.42 1483.85 L1665.51 1483.85 L1665.51 1479.92 Z\" fill=\"#000000\" fill-rule=\"evenodd\" fill-opacity=\"1\" /><path clip-path=\"url(#clip560)\" d=\"M 0 0 M1694.51 1479.92 L1710.83 1479.92 L1710.83 1483.85 L1688.89 1483.85 L1688.89 1479.92 Q1691.55 1477.16 1696.13 1472.53 Q1700.74 1467.88 1701.92 1466.54 Q1704.17 1464.01 1705.04 1462.28 Q1705.95 1460.52 1705.95 1458.83 Q1705.95 1456.07 1704 1454.34 Q1702.08 1452.6 1698.98 1452.6 Q1696.78 1452.6 1694.33 1453.37 Q1691.9 1454.13 1689.12 1455.68 L1689.12 1450.96 Q1691.94 1449.82 1694.4 1449.25 Q1696.85 1448.67 1698.89 1448.67 Q1704.26 1448.67 1707.45 1451.35 Q1710.65 1454.04 1710.65 1458.53 Q1710.65 1460.66 1709.84 1462.58 Q1709.05 1464.48 1706.94 1467.07 Q1706.36 1467.74 1703.26 1470.96 Q1700.16 1474.15 1694.51 1479.92 Z\" fill=\"#000000\" fill-rule=\"evenodd\" fill-opacity=\"1\" /><path clip-path=\"url(#clip560)\" d=\"M 0 0 M1715.9 1477.97 L1720.79 1477.97 L1720.79 1483.85 L1715.9 1483.85 L1715.9 1477.97 Z\" fill=\"#000000\" fill-rule=\"evenodd\" fill-opacity=\"1\" /><path clip-path=\"url(#clip560)\" d=\"M 0 0 M1735.85 1467.44 Q1732.52 1467.44 1730.6 1469.22 Q1728.7 1471 1728.7 1474.13 Q1728.7 1477.25 1730.6 1479.04 Q1732.52 1480.82 1735.85 1480.82 Q1739.19 1480.82 1741.11 1479.04 Q1743.03 1477.23 1743.03 1474.13 Q1743.03 1471 1741.11 1469.22 Q1739.21 1467.44 1735.85 1467.44 M1731.18 1465.45 Q1728.17 1464.71 1726.48 1462.65 Q1724.81 1460.59 1724.81 1457.63 Q1724.81 1453.48 1727.75 1451.07 Q1730.72 1448.67 1735.85 1448.67 Q1741.02 1448.67 1743.96 1451.07 Q1746.9 1453.48 1746.9 1457.63 Q1746.9 1460.59 1745.21 1462.65 Q1743.54 1464.71 1740.55 1465.45 Q1743.93 1466.24 1745.81 1468.53 Q1747.71 1470.82 1747.71 1474.13 Q1747.71 1479.15 1744.63 1481.84 Q1741.57 1484.52 1735.85 1484.52 Q1730.14 1484.52 1727.06 1481.84 Q1724 1479.15 1724 1474.13 Q1724 1470.82 1725.9 1468.53 Q1727.8 1466.24 1731.18 1465.45 M1729.47 1458.06 Q1729.47 1460.75 1731.13 1462.25 Q1732.82 1463.76 1735.85 1463.76 Q1738.86 1463.76 1740.55 1462.25 Q1742.27 1460.75 1742.27 1458.06 Q1742.27 1455.38 1740.55 1453.88 Q1738.86 1452.37 1735.85 1452.37 Q1732.82 1452.37 1731.13 1453.88 Q1729.47 1455.38 1729.47 1458.06 Z\" fill=\"#000000\" fill-rule=\"evenodd\" fill-opacity=\"1\" /><path clip-path=\"url(#clip560)\" d=\"M 0 0 M1917.23 1479.92 L1924.87 1479.92 L1924.87 1453.55 L1916.56 1455.22 L1916.56 1450.96 L1924.83 1449.29 L1929.5 1449.29 L1929.5 1479.92 L1937.14 1479.92 L1937.14 1483.85 L1917.23 1483.85 L1917.23 1479.92 Z\" fill=\"#000000\" fill-rule=\"evenodd\" fill-opacity=\"1\" /><path clip-path=\"url(#clip560)\" d=\"M 0 0 M1956.38 1465.22 Q1959.73 1465.94 1961.61 1468.2 Q1963.51 1470.47 1963.51 1473.81 Q1963.51 1478.92 1959.99 1481.72 Q1956.47 1484.52 1949.99 1484.52 Q1947.81 1484.52 1945.5 1484.08 Q1943.2 1483.67 1940.75 1482.81 L1940.75 1478.3 Q1942.7 1479.43 1945.01 1480.01 Q1947.32 1480.59 1949.85 1480.59 Q1954.25 1480.59 1956.54 1478.85 Q1958.85 1477.12 1958.85 1473.81 Q1958.85 1470.75 1956.7 1469.04 Q1954.57 1467.3 1950.75 1467.3 L1946.72 1467.3 L1946.72 1463.46 L1950.94 1463.46 Q1954.39 1463.46 1956.21 1462.09 Q1958.04 1460.7 1958.04 1458.11 Q1958.04 1455.45 1956.14 1454.04 Q1954.27 1452.6 1950.75 1452.6 Q1948.83 1452.6 1946.63 1453.02 Q1944.43 1453.44 1941.79 1454.31 L1941.79 1450.15 Q1944.45 1449.41 1946.77 1449.04 Q1949.11 1448.67 1951.17 1448.67 Q1956.49 1448.67 1959.59 1451.1 Q1962.7 1453.5 1962.7 1457.63 Q1962.7 1460.5 1961.05 1462.49 Q1959.41 1464.45 1956.38 1465.22 Z\" fill=\"#000000\" fill-rule=\"evenodd\" fill-opacity=\"1\" /><path clip-path=\"url(#clip560)\" d=\"M 0 0 M1968.57 1477.97 L1973.46 1477.97 L1973.46 1483.85 L1968.57 1483.85 L1968.57 1477.97 Z\" fill=\"#000000\" fill-rule=\"evenodd\" fill-opacity=\"1\" /><path clip-path=\"url(#clip560)\" d=\"M 0 0 M1988.53 1452.37 Q1984.92 1452.37 1983.09 1455.94 Q1981.28 1459.48 1981.28 1466.61 Q1981.28 1473.71 1983.09 1477.28 Q1984.92 1480.82 1988.53 1480.82 Q1992.16 1480.82 1993.97 1477.28 Q1995.8 1473.71 1995.8 1466.61 Q1995.8 1459.48 1993.97 1455.94 Q1992.16 1452.37 1988.53 1452.37 M1988.53 1448.67 Q1994.34 1448.67 1997.39 1453.27 Q2000.47 1457.86 2000.47 1466.61 Q2000.47 1475.33 1997.39 1479.94 Q1994.34 1484.52 1988.53 1484.52 Q1982.72 1484.52 1979.64 1479.94 Q1976.58 1475.33 1976.58 1466.61 Q1976.58 1457.86 1979.64 1453.27 Q1982.72 1448.67 1988.53 1448.67 Z\" fill=\"#000000\" fill-rule=\"evenodd\" fill-opacity=\"1\" /><path clip-path=\"url(#clip560)\" d=\"M 0 0 M2170.28 1479.92 L2177.92 1479.92 L2177.92 1453.55 L2169.61 1455.22 L2169.61 1450.96 L2177.87 1449.29 L2182.54 1449.29 L2182.54 1479.92 L2190.18 1479.92 L2190.18 1483.85 L2170.28 1483.85 L2170.28 1479.92 Z\" fill=\"#000000\" fill-rule=\"evenodd\" fill-opacity=\"1\" /><path clip-path=\"url(#clip560)\" d=\"M 0 0 M2209.42 1465.22 Q2212.78 1465.94 2214.65 1468.2 Q2216.55 1470.47 2216.55 1473.81 Q2216.55 1478.92 2213.03 1481.72 Q2209.51 1484.52 2203.03 1484.52 Q2200.85 1484.52 2198.54 1484.08 Q2196.25 1483.67 2193.79 1482.81 L2193.79 1478.3 Q2195.74 1479.43 2198.05 1480.01 Q2200.37 1480.59 2202.89 1480.59 Q2207.29 1480.59 2209.58 1478.85 Q2211.9 1477.12 2211.9 1473.81 Q2211.9 1470.75 2209.74 1469.04 Q2207.61 1467.3 2203.79 1467.3 L2199.77 1467.3 L2199.77 1463.46 L2203.98 1463.46 Q2207.43 1463.46 2209.26 1462.09 Q2211.09 1460.7 2211.09 1458.11 Q2211.09 1455.45 2209.19 1454.04 Q2207.31 1452.6 2203.79 1452.6 Q2201.87 1452.6 2199.67 1453.02 Q2197.48 1453.44 2194.84 1454.31 L2194.84 1450.15 Q2197.5 1449.41 2199.81 1449.04 Q2202.15 1448.67 2204.21 1448.67 Q2209.54 1448.67 2212.64 1451.1 Q2215.74 1453.5 2215.74 1457.63 Q2215.74 1460.5 2214.1 1462.49 Q2212.45 1464.45 2209.42 1465.22 Z\" fill=\"#000000\" fill-rule=\"evenodd\" fill-opacity=\"1\" /><path clip-path=\"url(#clip560)\" d=\"M 0 0 M2221.62 1477.97 L2226.5 1477.97 L2226.5 1483.85 L2221.62 1483.85 L2221.62 1477.97 Z\" fill=\"#000000\" fill-rule=\"evenodd\" fill-opacity=\"1\" /><path clip-path=\"url(#clip560)\" d=\"M 0 0 M2235.6 1479.92 L2251.92 1479.92 L2251.92 1483.85 L2229.98 1483.85 L2229.98 1479.92 Q2232.64 1477.16 2237.22 1472.53 Q2241.83 1467.88 2243.01 1466.54 Q2245.25 1464.01 2246.13 1462.28 Q2247.04 1460.52 2247.04 1458.83 Q2247.04 1456.07 2245.09 1454.34 Q2243.17 1452.6 2240.07 1452.6 Q2237.87 1452.6 2235.41 1453.37 Q2232.98 1454.13 2230.21 1455.68 L2230.21 1450.96 Q2233.03 1449.82 2235.48 1449.25 Q2237.94 1448.67 2239.98 1448.67 Q2245.35 1448.67 2248.54 1451.35 Q2251.73 1454.04 2251.73 1458.53 Q2251.73 1460.66 2250.92 1462.58 Q2250.14 1464.48 2248.03 1467.07 Q2247.45 1467.74 2244.35 1470.96 Q2241.25 1474.15 2235.6 1479.92 Z\" fill=\"#000000\" fill-rule=\"evenodd\" fill-opacity=\"1\" /><path clip-path=\"url(#clip560)\" d=\"M 0 0 M1134.49 1527.24 Q1136.69 1523.29 1139.75 1521.41 Q1142.8 1519.54 1146.94 1519.54 Q1152.51 1519.54 1155.53 1523.45 Q1158.56 1527.33 1158.56 1534.53 L1158.56 1556.04 L1152.67 1556.04 L1152.67 1534.72 Q1152.67 1529.59 1150.85 1527.11 Q1149.04 1524.63 1145.32 1524.63 Q1140.76 1524.63 1138.12 1527.65 Q1135.48 1530.68 1135.48 1535.9 L1135.48 1556.04 L1129.59 1556.04 L1129.59 1534.72 Q1129.59 1529.56 1127.78 1527.11 Q1125.96 1524.63 1122.18 1524.63 Q1117.69 1524.63 1115.05 1527.68 Q1112.41 1530.71 1112.41 1535.9 L1112.41 1556.04 L1106.52 1556.04 L1106.52 1520.4 L1112.41 1520.4 L1112.41 1525.93 Q1114.41 1522.66 1117.21 1521.1 Q1120.01 1519.54 1123.86 1519.54 Q1127.75 1519.54 1130.45 1521.51 Q1133.19 1523.48 1134.49 1527.24 Z\" fill=\"#000000\" fill-rule=\"evenodd\" fill-opacity=\"1\" /><path clip-path=\"url(#clip560)\" d=\"M 0 0 M1164.7 1520.4 L1170.56 1520.4 L1170.56 1556.04 L1164.7 1556.04 L1164.7 1520.4 M1164.7 1506.52 L1170.56 1506.52 L1170.56 1513.93 L1164.7 1513.93 L1164.7 1506.52 Z\" fill=\"#000000\" fill-rule=\"evenodd\" fill-opacity=\"1\" /><path clip-path=\"url(#clip560)\" d=\"M 0 0 M1176.7 1506.52 L1182.56 1506.52 L1182.56 1556.04 L1176.7 1556.04 L1176.7 1506.52 Z\" fill=\"#000000\" fill-rule=\"evenodd\" fill-opacity=\"1\" /><path clip-path=\"url(#clip560)\" d=\"M 0 0 M1188.7 1506.52 L1194.56 1506.52 L1194.56 1556.04 L1188.7 1556.04 L1188.7 1506.52 Z\" fill=\"#000000\" fill-rule=\"evenodd\" fill-opacity=\"1\" /><path clip-path=\"url(#clip560)\" d=\"M 0 0 M1200.7 1520.4 L1206.55 1520.4 L1206.55 1556.04 L1200.7 1556.04 L1200.7 1520.4 M1200.7 1506.52 L1206.55 1506.52 L1206.55 1513.93 L1200.7 1513.93 L1200.7 1506.52 Z\" fill=\"#000000\" fill-rule=\"evenodd\" fill-opacity=\"1\" /><path clip-path=\"url(#clip560)\" d=\"M 0 0 M1235.42 1521.45 L1235.42 1526.98 Q1232.94 1525.71 1230.27 1525.07 Q1227.59 1524.44 1224.73 1524.44 Q1220.37 1524.44 1218.17 1525.77 Q1216.01 1527.11 1216.01 1529.79 Q1216.01 1531.82 1217.57 1533 Q1219.13 1534.15 1223.84 1535.2 L1225.84 1535.64 Q1232.08 1536.98 1234.69 1539.43 Q1237.33 1541.85 1237.33 1546.21 Q1237.33 1551.17 1233.39 1554.07 Q1229.47 1556.97 1222.6 1556.97 Q1219.73 1556.97 1216.61 1556.39 Q1213.53 1555.85 1210.09 1554.74 L1210.09 1548.69 Q1213.33 1550.38 1216.49 1551.24 Q1219.64 1552.07 1222.72 1552.07 Q1226.86 1552.07 1229.09 1550.66 Q1231.32 1549.23 1231.32 1546.65 Q1231.32 1544.27 1229.69 1542.99 Q1228.1 1541.72 1222.66 1540.54 L1220.62 1540.07 Q1215.18 1538.92 1212.76 1536.56 Q1210.34 1534.18 1210.34 1530.04 Q1210.34 1525.01 1213.91 1522.27 Q1217.47 1519.54 1224.03 1519.54 Q1227.27 1519.54 1230.14 1520.01 Q1233 1520.49 1235.42 1521.45 Z\" fill=\"#000000\" fill-rule=\"evenodd\" fill-opacity=\"1\" /><path clip-path=\"url(#clip560)\" d=\"M 0 0 M1273.97 1536.76 L1273.97 1539.62 L1247.04 1539.62 Q1247.42 1545.67 1250.67 1548.85 Q1253.95 1552 1259.77 1552 Q1263.15 1552 1266.3 1551.17 Q1269.48 1550.35 1272.6 1548.69 L1272.6 1554.23 Q1269.45 1555.57 1266.14 1556.27 Q1262.83 1556.97 1259.42 1556.97 Q1250.89 1556.97 1245.89 1552 Q1240.93 1547.04 1240.93 1538.57 Q1240.93 1529.82 1245.64 1524.69 Q1250.38 1519.54 1258.4 1519.54 Q1265.6 1519.54 1269.77 1524.18 Q1273.97 1528.8 1273.97 1536.76 M1268.11 1535.04 Q1268.05 1530.23 1265.41 1527.37 Q1262.8 1524.5 1258.47 1524.5 Q1253.57 1524.5 1250.61 1527.27 Q1247.68 1530.04 1247.23 1535.07 L1268.11 1535.04 Z\" fill=\"#000000\" fill-rule=\"evenodd\" fill-opacity=\"1\" /><path clip-path=\"url(#clip560)\" d=\"M 0 0 M1305.76 1521.76 L1305.76 1527.24 Q1303.28 1525.87 1300.77 1525.2 Q1298.28 1524.5 1295.74 1524.5 Q1290.04 1524.5 1286.89 1528.13 Q1283.74 1531.73 1283.74 1538.25 Q1283.74 1544.78 1286.89 1548.4 Q1290.04 1552 1295.74 1552 Q1298.28 1552 1300.77 1551.33 Q1303.28 1550.63 1305.76 1549.26 L1305.76 1554.68 Q1303.31 1555.82 1300.67 1556.39 Q1298.06 1556.97 1295.1 1556.97 Q1287.05 1556.97 1282.31 1551.91 Q1277.56 1546.85 1277.56 1538.25 Q1277.56 1529.53 1282.34 1524.53 Q1287.14 1519.54 1295.48 1519.54 Q1298.19 1519.54 1300.77 1520.11 Q1303.35 1520.65 1305.76 1521.76 Z\" fill=\"#000000\" fill-rule=\"evenodd\" fill-opacity=\"1\" /><path clip-path=\"url(#clip560)\" d=\"M 0 0 M1325.72 1524.5 Q1321.01 1524.5 1318.27 1528.19 Q1315.54 1531.85 1315.54 1538.25 Q1315.54 1544.65 1318.24 1548.34 Q1320.98 1552 1325.72 1552 Q1330.4 1552 1333.14 1548.31 Q1335.87 1544.62 1335.87 1538.25 Q1335.87 1531.92 1333.14 1528.23 Q1330.4 1524.5 1325.72 1524.5 M1325.72 1519.54 Q1333.36 1519.54 1337.72 1524.5 Q1342.08 1529.47 1342.08 1538.25 Q1342.08 1547 1337.72 1552 Q1333.36 1556.97 1325.72 1556.97 Q1318.05 1556.97 1313.69 1552 Q1309.36 1547 1309.36 1538.25 Q1309.36 1529.47 1313.69 1524.5 Q1318.05 1519.54 1325.72 1519.54 Z\" fill=\"#000000\" fill-rule=\"evenodd\" fill-opacity=\"1\" /><path clip-path=\"url(#clip560)\" d=\"M 0 0 M1377.86 1534.53 L1377.86 1556.04 L1372 1556.04 L1372 1534.72 Q1372 1529.66 1370.03 1527.14 Q1368.05 1524.63 1364.11 1524.63 Q1359.36 1524.63 1356.63 1527.65 Q1353.89 1530.68 1353.89 1535.9 L1353.89 1556.04 L1348 1556.04 L1348 1520.4 L1353.89 1520.4 L1353.89 1525.93 Q1355.99 1522.72 1358.82 1521.13 Q1361.69 1519.54 1365.41 1519.54 Q1371.55 1519.54 1374.7 1523.36 Q1377.86 1527.14 1377.86 1534.53 Z\" fill=\"#000000\" fill-rule=\"evenodd\" fill-opacity=\"1\" /><path clip-path=\"url(#clip560)\" d=\"M 0 0 M1407.46 1525.81 L1407.46 1506.52 L1413.31 1506.52 L1413.31 1556.04 L1407.46 1556.04 L1407.46 1550.7 Q1405.61 1553.88 1402.78 1555.44 Q1399.98 1556.97 1396.03 1556.97 Q1389.57 1556.97 1385.49 1551.81 Q1381.45 1546.65 1381.45 1538.25 Q1381.45 1529.85 1385.49 1524.69 Q1389.57 1519.54 1396.03 1519.54 Q1399.98 1519.54 1402.78 1521.1 Q1405.61 1522.62 1407.46 1525.81 M1387.5 1538.25 Q1387.5 1544.71 1390.14 1548.4 Q1392.82 1552.07 1397.46 1552.07 Q1402.11 1552.07 1404.78 1548.4 Q1407.46 1544.71 1407.46 1538.25 Q1407.46 1531.79 1404.78 1528.13 Q1402.11 1524.44 1397.46 1524.44 Q1392.82 1524.44 1390.14 1528.13 Q1387.5 1531.79 1387.5 1538.25 Z\" fill=\"#000000\" fill-rule=\"evenodd\" fill-opacity=\"1\" /><path clip-path=\"url(#clip560)\" d=\"M 0 0 M1442.18 1521.45 L1442.18 1526.98 Q1439.7 1525.71 1437.02 1525.07 Q1434.35 1524.44 1431.49 1524.44 Q1427.13 1524.44 1424.93 1525.77 Q1422.77 1527.11 1422.77 1529.79 Q1422.77 1531.82 1424.33 1533 Q1425.88 1534.15 1430.6 1535.2 L1432.6 1535.64 Q1438.84 1536.98 1441.45 1539.43 Q1444.09 1541.85 1444.09 1546.21 Q1444.09 1551.17 1440.14 1554.07 Q1436.23 1556.97 1429.35 1556.97 Q1426.49 1556.97 1423.37 1556.39 Q1420.28 1555.85 1416.85 1554.74 L1416.85 1548.69 Q1420.09 1550.38 1423.24 1551.24 Q1426.39 1552.07 1429.48 1552.07 Q1433.62 1552.07 1435.85 1550.66 Q1438.08 1549.23 1438.08 1546.65 Q1438.08 1544.27 1436.45 1542.99 Q1434.86 1541.72 1429.42 1540.54 L1427.38 1540.07 Q1421.94 1538.92 1419.52 1536.56 Q1417.1 1534.18 1417.1 1530.04 Q1417.1 1525.01 1420.67 1522.27 Q1424.23 1519.54 1430.79 1519.54 Q1434.03 1519.54 1436.9 1520.01 Q1439.76 1520.49 1442.18 1521.45 Z\" fill=\"#000000\" fill-rule=\"evenodd\" fill-opacity=\"1\" /><polyline clip-path=\"url(#clip562)\" style=\"stroke:#000000; stroke-width:2; stroke-opacity:0.1; fill:none\" points=\"\n",
       "  197.852,1384.24 2352.76,1384.24 \n",
       "  \"/>\n",
       "<polyline clip-path=\"url(#clip562)\" style=\"stroke:#000000; stroke-width:2; stroke-opacity:0.1; fill:none\" points=\"\n",
       "  197.852,1023.67 2352.76,1023.67 \n",
       "  \"/>\n",
       "<polyline clip-path=\"url(#clip562)\" style=\"stroke:#000000; stroke-width:2; stroke-opacity:0.1; fill:none\" points=\"\n",
       "  197.852,663.098 2352.76,663.098 \n",
       "  \"/>\n",
       "<polyline clip-path=\"url(#clip562)\" style=\"stroke:#000000; stroke-width:2; stroke-opacity:0.1; fill:none\" points=\"\n",
       "  197.852,302.528 2352.76,302.528 \n",
       "  \"/>\n",
       "<polyline clip-path=\"url(#clip560)\" style=\"stroke:#000000; stroke-width:4; stroke-opacity:1; fill:none\" points=\"\n",
       "  197.852,1423.18 197.852,47.2441 \n",
       "  \"/>\n",
       "<polyline clip-path=\"url(#clip560)\" style=\"stroke:#000000; stroke-width:4; stroke-opacity:1; fill:none\" points=\"\n",
       "  197.852,1384.24 223.711,1384.24 \n",
       "  \"/>\n",
       "<polyline clip-path=\"url(#clip560)\" style=\"stroke:#000000; stroke-width:4; stroke-opacity:1; fill:none\" points=\"\n",
       "  197.852,1023.67 223.711,1023.67 \n",
       "  \"/>\n",
       "<polyline clip-path=\"url(#clip560)\" style=\"stroke:#000000; stroke-width:4; stroke-opacity:1; fill:none\" points=\"\n",
       "  197.852,663.098 223.711,663.098 \n",
       "  \"/>\n",
       "<polyline clip-path=\"url(#clip560)\" style=\"stroke:#000000; stroke-width:4; stroke-opacity:1; fill:none\" points=\"\n",
       "  197.852,302.528 223.711,302.528 \n",
       "  \"/>\n",
       "<path clip-path=\"url(#clip560)\" d=\"M 0 0 M149.908 1370.04 Q146.297 1370.04 144.468 1373.6 Q142.663 1377.14 142.663 1384.27 Q142.663 1391.38 144.468 1394.94 Q146.297 1398.49 149.908 1398.49 Q153.542 1398.49 155.348 1394.94 Q157.177 1391.38 157.177 1384.27 Q157.177 1377.14 155.348 1373.6 Q153.542 1370.04 149.908 1370.04 M149.908 1366.33 Q155.718 1366.33 158.774 1370.94 Q161.852 1375.52 161.852 1384.27 Q161.852 1393 158.774 1397.61 Q155.718 1402.19 149.908 1402.19 Q144.098 1402.19 141.019 1397.61 Q137.964 1393 137.964 1384.27 Q137.964 1375.52 141.019 1370.94 Q144.098 1366.33 149.908 1366.33 Z\" fill=\"#000000\" fill-rule=\"evenodd\" fill-opacity=\"1\" /><path clip-path=\"url(#clip560)\" d=\"M 0 0 M140.95 1006.39 L159.306 1006.39 L159.306 1010.32 L145.232 1010.32 L145.232 1018.8 Q146.251 1018.45 147.269 1018.29 Q148.288 1018.1 149.306 1018.1 Q155.093 1018.1 158.473 1021.27 Q161.852 1024.44 161.852 1029.86 Q161.852 1035.44 158.38 1038.54 Q154.908 1041.62 148.589 1041.62 Q146.413 1041.62 144.144 1041.25 Q141.899 1040.88 139.492 1040.14 L139.492 1035.44 Q141.575 1036.57 143.797 1037.13 Q146.019 1037.68 148.496 1037.68 Q152.501 1037.68 154.839 1035.58 Q157.177 1033.47 157.177 1029.86 Q157.177 1026.25 154.839 1024.14 Q152.501 1022.04 148.496 1022.04 Q146.621 1022.04 144.746 1022.45 Q142.894 1022.87 140.95 1023.75 L140.95 1006.39 Z\" fill=\"#000000\" fill-rule=\"evenodd\" fill-opacity=\"1\" /><path clip-path=\"url(#clip560)\" d=\"M 0 0 M114.931 676.443 L122.57 676.443 L122.57 650.077 L114.26 651.744 L114.26 647.485 L122.524 645.818 L127.2 645.818 L127.2 676.443 L134.839 676.443 L134.839 680.378 L114.931 680.378 L114.931 676.443 Z\" fill=\"#000000\" fill-rule=\"evenodd\" fill-opacity=\"1\" /><path clip-path=\"url(#clip560)\" d=\"M 0 0 M149.908 648.897 Q146.297 648.897 144.468 652.461 Q142.663 656.003 142.663 663.133 Q142.663 670.239 144.468 673.804 Q146.297 677.346 149.908 677.346 Q153.542 677.346 155.348 673.804 Q157.177 670.239 157.177 663.133 Q157.177 656.003 155.348 652.461 Q153.542 648.897 149.908 648.897 M149.908 645.193 Q155.718 645.193 158.774 649.799 Q161.852 654.383 161.852 663.133 Q161.852 671.859 158.774 676.466 Q155.718 681.049 149.908 681.049 Q144.098 681.049 141.019 676.466 Q137.964 671.859 137.964 663.133 Q137.964 654.383 141.019 649.799 Q144.098 645.193 149.908 645.193 Z\" fill=\"#000000\" fill-rule=\"evenodd\" fill-opacity=\"1\" /><path clip-path=\"url(#clip560)\" d=\"M 0 0 M115.927 315.873 L123.566 315.873 L123.566 289.507 L115.256 291.174 L115.256 286.914 L123.519 285.248 L128.195 285.248 L128.195 315.873 L135.834 315.873 L135.834 319.808 L115.927 319.808 L115.927 315.873 Z\" fill=\"#000000\" fill-rule=\"evenodd\" fill-opacity=\"1\" /><path clip-path=\"url(#clip560)\" d=\"M 0 0 M140.95 285.248 L159.306 285.248 L159.306 289.183 L145.232 289.183 L145.232 297.655 Q146.251 297.308 147.269 297.146 Q148.288 296.961 149.306 296.961 Q155.093 296.961 158.473 300.132 Q161.852 303.303 161.852 308.72 Q161.852 314.299 158.38 317.4 Q154.908 320.479 148.589 320.479 Q146.413 320.479 144.144 320.109 Q141.899 319.738 139.492 318.998 L139.492 314.299 Q141.575 315.433 143.797 315.988 Q146.019 316.544 148.496 316.544 Q152.501 316.544 154.839 314.437 Q157.177 312.331 157.177 308.72 Q157.177 305.109 154.839 303.002 Q152.501 300.896 148.496 300.896 Q146.621 300.896 144.746 301.312 Q142.894 301.729 140.95 302.609 L140.95 285.248 Z\" fill=\"#000000\" fill-rule=\"evenodd\" fill-opacity=\"1\" /><path clip-path=\"url(#clip560)\" d=\"M 0 0 M53.7248 786.854 L59.1993 786.854 Q57.8307 789.336 57.1623 791.851 Q56.4621 794.333 56.4621 796.88 Q56.4621 802.577 60.0905 805.728 Q63.6872 808.879 70.212 808.879 Q76.7369 808.879 80.3653 805.728 Q83.9619 802.577 83.9619 796.88 Q83.9619 794.333 83.2935 791.851 Q82.5933 789.336 81.2247 786.854 L86.6355 786.854 Q87.7814 789.305 88.3543 791.946 Q88.9272 794.556 88.9272 797.516 Q88.9272 805.569 83.8664 810.311 Q78.8057 815.054 70.212 815.054 Q61.491 815.054 56.4939 810.28 Q51.4968 805.473 51.4968 797.134 Q51.4968 794.429 52.0697 791.851 Q52.6108 789.273 53.7248 786.854 Z\" fill=\"#000000\" fill-rule=\"evenodd\" fill-opacity=\"1\" /><path clip-path=\"url(#clip560)\" d=\"M 0 0 M56.4621 766.897 Q56.4621 771.608 60.1542 774.345 Q63.8145 777.082 70.212 777.082 Q76.6095 777.082 80.3017 774.377 Q83.9619 771.64 83.9619 766.897 Q83.9619 762.218 80.2698 759.481 Q76.5777 756.744 70.212 756.744 Q63.8781 756.744 60.186 759.481 Q56.4621 762.218 56.4621 766.897 M51.4968 766.897 Q51.4968 759.258 56.4621 754.898 Q61.4273 750.537 70.212 750.537 Q78.9649 750.537 83.9619 754.898 Q88.9272 759.258 88.9272 766.897 Q88.9272 774.568 83.9619 778.928 Q78.9649 783.257 70.212 783.257 Q61.4273 783.257 56.4621 778.928 Q51.4968 774.568 51.4968 766.897 Z\" fill=\"#000000\" fill-rule=\"evenodd\" fill-opacity=\"1\" /><path clip-path=\"url(#clip560)\" d=\"M 0 0 M73.9359 744.999 L52.3562 744.999 L52.3562 739.143 L73.7131 739.143 Q78.7739 739.143 81.3202 737.169 Q83.8346 735.196 83.8346 731.249 Q83.8346 726.507 80.8109 723.77 Q77.7872 721.001 72.5673 721.001 L52.3562 721.001 L52.3562 715.144 L88.0042 715.144 L88.0042 721.001 L82.5296 721.001 Q85.7762 723.133 87.3676 725.966 Q88.9272 728.767 88.9272 732.491 Q88.9272 738.634 85.1078 741.816 Q81.2883 744.999 73.9359 744.999 M51.4968 730.263 L51.4968 730.263 Z\" fill=\"#000000\" fill-rule=\"evenodd\" fill-opacity=\"1\" /><path clip-path=\"url(#clip560)\" d=\"M 0 0 M66.4881 679.369 L88.0042 679.369 L88.0042 685.225 L66.679 685.225 Q61.6183 685.225 59.1038 687.199 Q56.5894 689.172 56.5894 693.119 Q56.5894 697.861 59.6131 700.598 Q62.6368 703.336 67.8567 703.336 L88.0042 703.336 L88.0042 709.224 L52.3562 709.224 L52.3562 703.336 L57.8944 703.336 Q54.6797 701.235 53.0883 698.402 Q51.4968 695.538 51.4968 691.814 Q51.4968 685.671 55.3163 682.52 Q59.1038 679.369 66.4881 679.369 Z\" fill=\"#000000\" fill-rule=\"evenodd\" fill-opacity=\"1\" /><path clip-path=\"url(#clip560)\" d=\"M 0 0 M42.2347 667.433 L52.3562 667.433 L52.3562 655.37 L56.9077 655.37 L56.9077 667.433 L76.2594 667.433 Q80.6199 667.433 81.8613 666.255 Q83.1026 665.046 83.1026 661.386 L83.1026 655.37 L88.0042 655.37 L88.0042 661.386 Q88.0042 668.165 85.4897 670.743 Q82.9434 673.321 76.2594 673.321 L56.9077 673.321 L56.9077 677.618 L52.3562 677.618 L52.3562 673.321 L42.2347 673.321 L42.2347 667.433 Z\" fill=\"#000000\" fill-rule=\"evenodd\" fill-opacity=\"1\" /><path clip-path=\"url(#clip562)\" d=\"\n",
       "M192.8 1167.9 L192.8 1384.24 L255.861 1384.24 L255.861 1167.9 L192.8 1167.9 L192.8 1167.9  Z\n",
       "  \" fill=\"#009af9\" fill-rule=\"evenodd\" fill-opacity=\"1\"/>\n",
       "<polyline clip-path=\"url(#clip562)\" style=\"stroke:#000000; stroke-width:4; stroke-opacity:1; fill:none\" points=\"\n",
       "  192.8,1167.9 192.8,1384.24 255.861,1384.24 255.861,1167.9 192.8,1167.9 \n",
       "  \"/>\n",
       "<path clip-path=\"url(#clip562)\" d=\"\n",
       "M255.861 1312.12 L255.861 1384.24 L318.923 1384.24 L318.923 1312.12 L255.861 1312.12 L255.861 1312.12  Z\n",
       "  \" fill=\"#009af9\" fill-rule=\"evenodd\" fill-opacity=\"1\"/>\n",
       "<polyline clip-path=\"url(#clip562)\" style=\"stroke:#000000; stroke-width:4; stroke-opacity:1; fill:none\" points=\"\n",
       "  255.861,1312.12 255.861,1384.24 318.923,1384.24 318.923,1312.12 255.861,1312.12 \n",
       "  \"/>\n",
       "<path clip-path=\"url(#clip562)\" d=\"\n",
       "M318.923 1312.12 L318.923 1384.24 L381.984 1384.24 L381.984 1312.12 L318.923 1312.12 L318.923 1312.12  Z\n",
       "  \" fill=\"#009af9\" fill-rule=\"evenodd\" fill-opacity=\"1\"/>\n",
       "<polyline clip-path=\"url(#clip562)\" style=\"stroke:#000000; stroke-width:4; stroke-opacity:1; fill:none\" points=\"\n",
       "  318.923,1312.12 318.923,1384.24 381.984,1384.24 381.984,1312.12 318.923,1312.12 \n",
       "  \"/>\n",
       "<path clip-path=\"url(#clip562)\" d=\"\n",
       "M381.984 1312.12 L381.984 1384.24 L445.045 1384.24 L445.045 1312.12 L381.984 1312.12 L381.984 1312.12  Z\n",
       "  \" fill=\"#009af9\" fill-rule=\"evenodd\" fill-opacity=\"1\"/>\n",
       "<polyline clip-path=\"url(#clip562)\" style=\"stroke:#000000; stroke-width:4; stroke-opacity:1; fill:none\" points=\"\n",
       "  381.984,1312.12 381.984,1384.24 445.045,1384.24 445.045,1312.12 381.984,1312.12 \n",
       "  \"/>\n",
       "<path clip-path=\"url(#clip562)\" d=\"\n",
       "M445.045 1023.67 L445.045 1384.24 L508.107 1384.24 L508.107 1023.67 L445.045 1023.67 L445.045 1023.67  Z\n",
       "  \" fill=\"#009af9\" fill-rule=\"evenodd\" fill-opacity=\"1\"/>\n",
       "<polyline clip-path=\"url(#clip562)\" style=\"stroke:#000000; stroke-width:4; stroke-opacity:1; fill:none\" points=\"\n",
       "  445.045,1023.67 445.045,1384.24 508.107,1384.24 508.107,1023.67 445.045,1023.67 \n",
       "  \"/>\n",
       "<path clip-path=\"url(#clip562)\" d=\"\n",
       "M508.107 807.326 L508.107 1384.24 L571.168 1384.24 L571.168 807.326 L508.107 807.326 L508.107 807.326  Z\n",
       "  \" fill=\"#009af9\" fill-rule=\"evenodd\" fill-opacity=\"1\"/>\n",
       "<polyline clip-path=\"url(#clip562)\" style=\"stroke:#000000; stroke-width:4; stroke-opacity:1; fill:none\" points=\"\n",
       "  508.107,807.326 508.107,1384.24 571.168,1384.24 571.168,807.326 508.107,807.326 \n",
       "  \"/>\n",
       "<path clip-path=\"url(#clip562)\" d=\"\n",
       "M571.168 807.326 L571.168 1384.24 L634.229 1384.24 L634.229 807.326 L571.168 807.326 L571.168 807.326  Z\n",
       "  \" fill=\"#009af9\" fill-rule=\"evenodd\" fill-opacity=\"1\"/>\n",
       "<polyline clip-path=\"url(#clip562)\" style=\"stroke:#000000; stroke-width:4; stroke-opacity:1; fill:none\" points=\"\n",
       "  571.168,807.326 571.168,1384.24 634.229,1384.24 634.229,807.326 571.168,807.326 \n",
       "  \"/>\n",
       "<path clip-path=\"url(#clip562)\" d=\"\n",
       "M634.229 1167.9 L634.229 1384.24 L697.291 1384.24 L697.291 1167.9 L634.229 1167.9 L634.229 1167.9  Z\n",
       "  \" fill=\"#009af9\" fill-rule=\"evenodd\" fill-opacity=\"1\"/>\n",
       "<polyline clip-path=\"url(#clip562)\" style=\"stroke:#000000; stroke-width:4; stroke-opacity:1; fill:none\" points=\"\n",
       "  634.229,1167.9 634.229,1384.24 697.291,1384.24 697.291,1167.9 634.229,1167.9 \n",
       "  \"/>\n",
       "<path clip-path=\"url(#clip562)\" d=\"\n",
       "M697.291 735.212 L697.291 1384.24 L760.352 1384.24 L760.352 735.212 L697.291 735.212 L697.291 735.212  Z\n",
       "  \" fill=\"#009af9\" fill-rule=\"evenodd\" fill-opacity=\"1\"/>\n",
       "<polyline clip-path=\"url(#clip562)\" style=\"stroke:#000000; stroke-width:4; stroke-opacity:1; fill:none\" points=\"\n",
       "  697.291,735.212 697.291,1384.24 760.352,1384.24 760.352,735.212 697.291,735.212 \n",
       "  \"/>\n",
       "<path clip-path=\"url(#clip562)\" d=\"\n",
       "M760.352 1167.9 L760.352 1384.24 L823.413 1384.24 L823.413 1167.9 L760.352 1167.9 L760.352 1167.9  Z\n",
       "  \" fill=\"#009af9\" fill-rule=\"evenodd\" fill-opacity=\"1\"/>\n",
       "<polyline clip-path=\"url(#clip562)\" style=\"stroke:#000000; stroke-width:4; stroke-opacity:1; fill:none\" points=\"\n",
       "  760.352,1167.9 760.352,1384.24 823.413,1384.24 823.413,1167.9 760.352,1167.9 \n",
       "  \"/>\n",
       "<path clip-path=\"url(#clip562)\" d=\"\n",
       "M823.413 951.554 L823.413 1384.24 L886.475 1384.24 L886.475 951.554 L823.413 951.554 L823.413 951.554  Z\n",
       "  \" fill=\"#009af9\" fill-rule=\"evenodd\" fill-opacity=\"1\"/>\n",
       "<polyline clip-path=\"url(#clip562)\" style=\"stroke:#000000; stroke-width:4; stroke-opacity:1; fill:none\" points=\"\n",
       "  823.413,951.554 823.413,1384.24 886.475,1384.24 886.475,951.554 823.413,951.554 \n",
       "  \"/>\n",
       "<path clip-path=\"url(#clip562)\" d=\"\n",
       "M886.475 1023.67 L886.475 1384.24 L949.536 1384.24 L949.536 1023.67 L886.475 1023.67 L886.475 1023.67  Z\n",
       "  \" fill=\"#009af9\" fill-rule=\"evenodd\" fill-opacity=\"1\"/>\n",
       "<polyline clip-path=\"url(#clip562)\" style=\"stroke:#000000; stroke-width:4; stroke-opacity:1; fill:none\" points=\"\n",
       "  886.475,1023.67 886.475,1384.24 949.536,1384.24 949.536,1023.67 886.475,1023.67 \n",
       "  \"/>\n",
       "<path clip-path=\"url(#clip562)\" d=\"\n",
       "M949.536 518.87 L949.536 1384.24 L1012.6 1384.24 L1012.6 518.87 L949.536 518.87 L949.536 518.87  Z\n",
       "  \" fill=\"#009af9\" fill-rule=\"evenodd\" fill-opacity=\"1\"/>\n",
       "<polyline clip-path=\"url(#clip562)\" style=\"stroke:#000000; stroke-width:4; stroke-opacity:1; fill:none\" points=\"\n",
       "  949.536,518.87 949.536,1384.24 1012.6,1384.24 1012.6,518.87 949.536,518.87 \n",
       "  \"/>\n",
       "<path clip-path=\"url(#clip562)\" d=\"\n",
       "M1012.6 1167.9 L1012.6 1384.24 L1075.66 1384.24 L1075.66 1167.9 L1012.6 1167.9 L1012.6 1167.9  Z\n",
       "  \" fill=\"#009af9\" fill-rule=\"evenodd\" fill-opacity=\"1\"/>\n",
       "<polyline clip-path=\"url(#clip562)\" style=\"stroke:#000000; stroke-width:4; stroke-opacity:1; fill:none\" points=\"\n",
       "  1012.6,1167.9 1012.6,1384.24 1075.66,1384.24 1075.66,1167.9 1012.6,1167.9 \n",
       "  \"/>\n",
       "<path clip-path=\"url(#clip562)\" d=\"\n",
       "M1075.66 663.098 L1075.66 1384.24 L1138.72 1384.24 L1138.72 663.098 L1075.66 663.098 L1075.66 663.098  Z\n",
       "  \" fill=\"#009af9\" fill-rule=\"evenodd\" fill-opacity=\"1\"/>\n",
       "<polyline clip-path=\"url(#clip562)\" style=\"stroke:#000000; stroke-width:4; stroke-opacity:1; fill:none\" points=\"\n",
       "  1075.66,663.098 1075.66,1384.24 1138.72,1384.24 1138.72,663.098 1075.66,663.098 \n",
       "  \"/>\n",
       "<path clip-path=\"url(#clip562)\" d=\"\n",
       "M1138.72 158.3 L1138.72 1384.24 L1201.78 1384.24 L1201.78 158.3 L1138.72 158.3 L1138.72 158.3  Z\n",
       "  \" fill=\"#009af9\" fill-rule=\"evenodd\" fill-opacity=\"1\"/>\n",
       "<polyline clip-path=\"url(#clip562)\" style=\"stroke:#000000; stroke-width:4; stroke-opacity:1; fill:none\" points=\"\n",
       "  1138.72,158.3 1138.72,1384.24 1201.78,1384.24 1201.78,158.3 1138.72,158.3 \n",
       "  \"/>\n",
       "<path clip-path=\"url(#clip562)\" d=\"\n",
       "M1201.78 518.87 L1201.78 1384.24 L1264.84 1384.24 L1264.84 518.87 L1201.78 518.87 L1201.78 518.87  Z\n",
       "  \" fill=\"#009af9\" fill-rule=\"evenodd\" fill-opacity=\"1\"/>\n",
       "<polyline clip-path=\"url(#clip562)\" style=\"stroke:#000000; stroke-width:4; stroke-opacity:1; fill:none\" points=\"\n",
       "  1201.78,518.87 1201.78,1384.24 1264.84,1384.24 1264.84,518.87 1201.78,518.87 \n",
       "  \"/>\n",
       "<path clip-path=\"url(#clip562)\" d=\"\n",
       "M1264.84 86.1857 L1264.84 1384.24 L1327.9 1384.24 L1327.9 86.1857 L1264.84 86.1857 L1264.84 86.1857  Z\n",
       "  \" fill=\"#009af9\" fill-rule=\"evenodd\" fill-opacity=\"1\"/>\n",
       "<polyline clip-path=\"url(#clip562)\" style=\"stroke:#000000; stroke-width:4; stroke-opacity:1; fill:none\" points=\"\n",
       "  1264.84,86.1857 1264.84,1384.24 1327.9,1384.24 1327.9,86.1857 1264.84,86.1857 \n",
       "  \"/>\n",
       "<path clip-path=\"url(#clip562)\" d=\"\n",
       "M1327.9 879.44 L1327.9 1384.24 L1390.97 1384.24 L1390.97 879.44 L1327.9 879.44 L1327.9 879.44  Z\n",
       "  \" fill=\"#009af9\" fill-rule=\"evenodd\" fill-opacity=\"1\"/>\n",
       "<polyline clip-path=\"url(#clip562)\" style=\"stroke:#000000; stroke-width:4; stroke-opacity:1; fill:none\" points=\"\n",
       "  1327.9,879.44 1327.9,1384.24 1390.97,1384.24 1390.97,879.44 1327.9,879.44 \n",
       "  \"/>\n",
       "<path clip-path=\"url(#clip562)\" d=\"\n",
       "M1390.97 879.44 L1390.97 1384.24 L1454.03 1384.24 L1454.03 879.44 L1390.97 879.44 L1390.97 879.44  Z\n",
       "  \" fill=\"#009af9\" fill-rule=\"evenodd\" fill-opacity=\"1\"/>\n",
       "<polyline clip-path=\"url(#clip562)\" style=\"stroke:#000000; stroke-width:4; stroke-opacity:1; fill:none\" points=\"\n",
       "  1390.97,879.44 1390.97,1384.24 1454.03,1384.24 1454.03,879.44 1390.97,879.44 \n",
       "  \"/>\n",
       "<path clip-path=\"url(#clip562)\" d=\"\n",
       "M1454.03 951.554 L1454.03 1384.24 L1517.09 1384.24 L1517.09 951.554 L1454.03 951.554 L1454.03 951.554  Z\n",
       "  \" fill=\"#009af9\" fill-rule=\"evenodd\" fill-opacity=\"1\"/>\n",
       "<polyline clip-path=\"url(#clip562)\" style=\"stroke:#000000; stroke-width:4; stroke-opacity:1; fill:none\" points=\"\n",
       "  1454.03,951.554 1454.03,1384.24 1517.09,1384.24 1517.09,951.554 1454.03,951.554 \n",
       "  \"/>\n",
       "<path clip-path=\"url(#clip562)\" d=\"\n",
       "M1517.09 446.756 L1517.09 1384.24 L1580.15 1384.24 L1580.15 446.756 L1517.09 446.756 L1517.09 446.756  Z\n",
       "  \" fill=\"#009af9\" fill-rule=\"evenodd\" fill-opacity=\"1\"/>\n",
       "<polyline clip-path=\"url(#clip562)\" style=\"stroke:#000000; stroke-width:4; stroke-opacity:1; fill:none\" points=\"\n",
       "  1517.09,446.756 1517.09,1384.24 1580.15,1384.24 1580.15,446.756 1517.09,446.756 \n",
       "  \"/>\n",
       "<path clip-path=\"url(#clip562)\" d=\"\n",
       "M1580.15 735.212 L1580.15 1384.24 L1643.21 1384.24 L1643.21 735.212 L1580.15 735.212 L1580.15 735.212  Z\n",
       "  \" fill=\"#009af9\" fill-rule=\"evenodd\" fill-opacity=\"1\"/>\n",
       "<polyline clip-path=\"url(#clip562)\" style=\"stroke:#000000; stroke-width:4; stroke-opacity:1; fill:none\" points=\"\n",
       "  1580.15,735.212 1580.15,1384.24 1643.21,1384.24 1643.21,735.212 1580.15,735.212 \n",
       "  \"/>\n",
       "<path clip-path=\"url(#clip562)\" d=\"\n",
       "M1643.21 1095.78 L1643.21 1384.24 L1706.27 1384.24 L1706.27 1095.78 L1643.21 1095.78 L1643.21 1095.78  Z\n",
       "  \" fill=\"#009af9\" fill-rule=\"evenodd\" fill-opacity=\"1\"/>\n",
       "<polyline clip-path=\"url(#clip562)\" style=\"stroke:#000000; stroke-width:4; stroke-opacity:1; fill:none\" points=\"\n",
       "  1643.21,1095.78 1643.21,1384.24 1706.27,1384.24 1706.27,1095.78 1643.21,1095.78 \n",
       "  \"/>\n",
       "<path clip-path=\"url(#clip562)\" d=\"\n",
       "M1706.27 807.326 L1706.27 1384.24 L1769.33 1384.24 L1769.33 807.326 L1706.27 807.326 L1706.27 807.326  Z\n",
       "  \" fill=\"#009af9\" fill-rule=\"evenodd\" fill-opacity=\"1\"/>\n",
       "<polyline clip-path=\"url(#clip562)\" style=\"stroke:#000000; stroke-width:4; stroke-opacity:1; fill:none\" points=\"\n",
       "  1706.27,807.326 1706.27,1384.24 1769.33,1384.24 1769.33,807.326 1706.27,807.326 \n",
       "  \"/>\n",
       "<path clip-path=\"url(#clip562)\" d=\"\n",
       "M1769.33 807.326 L1769.33 1384.24 L1832.39 1384.24 L1832.39 807.326 L1769.33 807.326 L1769.33 807.326  Z\n",
       "  \" fill=\"#009af9\" fill-rule=\"evenodd\" fill-opacity=\"1\"/>\n",
       "<polyline clip-path=\"url(#clip562)\" style=\"stroke:#000000; stroke-width:4; stroke-opacity:1; fill:none\" points=\"\n",
       "  1769.33,807.326 1769.33,1384.24 1832.39,1384.24 1832.39,807.326 1769.33,807.326 \n",
       "  \"/>\n",
       "<path clip-path=\"url(#clip562)\" d=\"\n",
       "M1832.39 879.44 L1832.39 1384.24 L1895.46 1384.24 L1895.46 879.44 L1832.39 879.44 L1832.39 879.44  Z\n",
       "  \" fill=\"#009af9\" fill-rule=\"evenodd\" fill-opacity=\"1\"/>\n",
       "<polyline clip-path=\"url(#clip562)\" style=\"stroke:#000000; stroke-width:4; stroke-opacity:1; fill:none\" points=\"\n",
       "  1832.39,879.44 1832.39,1384.24 1895.46,1384.24 1895.46,879.44 1832.39,879.44 \n",
       "  \"/>\n",
       "<path clip-path=\"url(#clip562)\" d=\"\n",
       "M1895.46 807.326 L1895.46 1384.24 L1958.52 1384.24 L1958.52 807.326 L1895.46 807.326 L1895.46 807.326  Z\n",
       "  \" fill=\"#009af9\" fill-rule=\"evenodd\" fill-opacity=\"1\"/>\n",
       "<polyline clip-path=\"url(#clip562)\" style=\"stroke:#000000; stroke-width:4; stroke-opacity:1; fill:none\" points=\"\n",
       "  1895.46,807.326 1895.46,1384.24 1958.52,1384.24 1958.52,807.326 1895.46,807.326 \n",
       "  \"/>\n",
       "<path clip-path=\"url(#clip562)\" d=\"\n",
       "M1958.52 1167.9 L1958.52 1384.24 L2021.58 1384.24 L2021.58 1167.9 L1958.52 1167.9 L1958.52 1167.9  Z\n",
       "  \" fill=\"#009af9\" fill-rule=\"evenodd\" fill-opacity=\"1\"/>\n",
       "<polyline clip-path=\"url(#clip562)\" style=\"stroke:#000000; stroke-width:4; stroke-opacity:1; fill:none\" points=\"\n",
       "  1958.52,1167.9 1958.52,1384.24 2021.58,1384.24 2021.58,1167.9 1958.52,1167.9 \n",
       "  \"/>\n",
       "<path clip-path=\"url(#clip562)\" d=\"\n",
       "M2021.58 879.44 L2021.58 1384.24 L2084.64 1384.24 L2084.64 879.44 L2021.58 879.44 L2021.58 879.44  Z\n",
       "  \" fill=\"#009af9\" fill-rule=\"evenodd\" fill-opacity=\"1\"/>\n",
       "<polyline clip-path=\"url(#clip562)\" style=\"stroke:#000000; stroke-width:4; stroke-opacity:1; fill:none\" points=\"\n",
       "  2021.58,879.44 2021.58,1384.24 2084.64,1384.24 2084.64,879.44 2021.58,879.44 \n",
       "  \"/>\n",
       "<path clip-path=\"url(#clip562)\" d=\"\n",
       "M2084.64 518.87 L2084.64 1384.24 L2147.7 1384.24 L2147.7 518.87 L2084.64 518.87 L2084.64 518.87  Z\n",
       "  \" fill=\"#009af9\" fill-rule=\"evenodd\" fill-opacity=\"1\"/>\n",
       "<polyline clip-path=\"url(#clip562)\" style=\"stroke:#000000; stroke-width:4; stroke-opacity:1; fill:none\" points=\"\n",
       "  2084.64,518.87 2084.64,1384.24 2147.7,1384.24 2147.7,518.87 2084.64,518.87 \n",
       "  \"/>\n",
       "<path clip-path=\"url(#clip562)\" d=\"\n",
       "M2147.7 1023.67 L2147.7 1384.24 L2210.76 1384.24 L2210.76 1023.67 L2147.7 1023.67 L2147.7 1023.67  Z\n",
       "  \" fill=\"#009af9\" fill-rule=\"evenodd\" fill-opacity=\"1\"/>\n",
       "<polyline clip-path=\"url(#clip562)\" style=\"stroke:#000000; stroke-width:4; stroke-opacity:1; fill:none\" points=\"\n",
       "  2147.7,1023.67 2147.7,1384.24 2210.76,1384.24 2210.76,1023.67 2147.7,1023.67 \n",
       "  \"/>\n",
       "<path clip-path=\"url(#clip562)\" d=\"\n",
       "M2210.76 951.554 L2210.76 1384.24 L2273.82 1384.24 L2273.82 951.554 L2210.76 951.554 L2210.76 951.554  Z\n",
       "  \" fill=\"#009af9\" fill-rule=\"evenodd\" fill-opacity=\"1\"/>\n",
       "<polyline clip-path=\"url(#clip562)\" style=\"stroke:#000000; stroke-width:4; stroke-opacity:1; fill:none\" points=\"\n",
       "  2210.76,951.554 2210.76,1384.24 2273.82,1384.24 2273.82,951.554 2210.76,951.554 \n",
       "  \"/>\n",
       "<path clip-path=\"url(#clip562)\" d=\"\n",
       "M2273.82 735.212 L2273.82 1384.24 L2336.88 1384.24 L2336.88 735.212 L2273.82 735.212 L2273.82 735.212  Z\n",
       "  \" fill=\"#009af9\" fill-rule=\"evenodd\" fill-opacity=\"1\"/>\n",
       "<polyline clip-path=\"url(#clip562)\" style=\"stroke:#000000; stroke-width:4; stroke-opacity:1; fill:none\" points=\"\n",
       "  2273.82,735.212 2273.82,1384.24 2336.88,1384.24 2336.88,735.212 2273.82,735.212 \n",
       "  \"/>\n",
       "<path clip-path=\"url(#clip562)\" d=\"\n",
       "M2336.88 735.212 L2336.88 1384.24 L2399.95 1384.24 L2399.95 735.212 L2336.88 735.212 L2336.88 735.212  Z\n",
       "  \" fill=\"#009af9\" fill-rule=\"evenodd\" fill-opacity=\"1\"/>\n",
       "<polyline clip-path=\"url(#clip562)\" style=\"stroke:#000000; stroke-width:4; stroke-opacity:1; fill:none\" points=\"\n",
       "  2336.88,735.212 2336.88,1384.24 2399.95,1384.24 2399.95,735.212 2336.88,735.212 \n",
       "  \"/>\n",
       "<path clip-path=\"url(#clip562)\" d=\"\n",
       "M2399.95 1023.67 L2399.95 1384.24 L2463.01 1384.24 L2463.01 1023.67 L2399.95 1023.67 L2399.95 1023.67  Z\n",
       "  \" fill=\"#009af9\" fill-rule=\"evenodd\" fill-opacity=\"1\"/>\n",
       "<polyline clip-path=\"url(#clip562)\" style=\"stroke:#000000; stroke-width:4; stroke-opacity:1; fill:none\" points=\"\n",
       "  2399.95,1023.67 2399.95,1384.24 2463.01,1384.24 2463.01,1023.67 2399.95,1023.67 \n",
       "  \"/>\n",
       "<path clip-path=\"url(#clip562)\" d=\"\n",
       "M2463.01 735.212 L2463.01 1384.24 L2526.07 1384.24 L2526.07 735.212 L2463.01 735.212 L2463.01 735.212  Z\n",
       "  \" fill=\"#009af9\" fill-rule=\"evenodd\" fill-opacity=\"1\"/>\n",
       "<polyline clip-path=\"url(#clip562)\" style=\"stroke:#000000; stroke-width:4; stroke-opacity:1; fill:none\" points=\"\n",
       "  2463.01,735.212 2463.01,1384.24 2526.07,1384.24 2526.07,735.212 2463.01,735.212 \n",
       "  \"/>\n",
       "<path clip-path=\"url(#clip562)\" d=\"\n",
       "M2526.07 951.554 L2526.07 1384.24 L2589.13 1384.24 L2589.13 951.554 L2526.07 951.554 L2526.07 951.554  Z\n",
       "  \" fill=\"#009af9\" fill-rule=\"evenodd\" fill-opacity=\"1\"/>\n",
       "<polyline clip-path=\"url(#clip562)\" style=\"stroke:#000000; stroke-width:4; stroke-opacity:1; fill:none\" points=\"\n",
       "  2526.07,951.554 2526.07,1384.24 2589.13,1384.24 2589.13,951.554 2526.07,951.554 \n",
       "  \"/>\n",
       "<path clip-path=\"url(#clip562)\" d=\"\n",
       "M2589.13 1240.01 L2589.13 1384.24 L2652.19 1384.24 L2652.19 1240.01 L2589.13 1240.01 L2589.13 1240.01  Z\n",
       "  \" fill=\"#009af9\" fill-rule=\"evenodd\" fill-opacity=\"1\"/>\n",
       "<polyline clip-path=\"url(#clip562)\" style=\"stroke:#000000; stroke-width:4; stroke-opacity:1; fill:none\" points=\"\n",
       "  2589.13,1240.01 2589.13,1384.24 2652.19,1384.24 2652.19,1240.01 2589.13,1240.01 \n",
       "  \"/>\n",
       "<path clip-path=\"url(#clip562)\" d=\"\n",
       "M2652.19 1023.67 L2652.19 1384.24 L2715.25 1384.24 L2715.25 1023.67 L2652.19 1023.67 L2652.19 1023.67  Z\n",
       "  \" fill=\"#009af9\" fill-rule=\"evenodd\" fill-opacity=\"1\"/>\n",
       "<polyline clip-path=\"url(#clip562)\" style=\"stroke:#000000; stroke-width:4; stroke-opacity:1; fill:none\" points=\"\n",
       "  2652.19,1023.67 2652.19,1384.24 2715.25,1384.24 2715.25,1023.67 2652.19,1023.67 \n",
       "  \"/>\n",
       "<path clip-path=\"url(#clip562)\" d=\"\n",
       "M2715.25 735.212 L2715.25 1384.24 L2778.31 1384.24 L2778.31 735.212 L2715.25 735.212 L2715.25 735.212  Z\n",
       "  \" fill=\"#009af9\" fill-rule=\"evenodd\" fill-opacity=\"1\"/>\n",
       "<polyline clip-path=\"url(#clip562)\" style=\"stroke:#000000; stroke-width:4; stroke-opacity:1; fill:none\" points=\"\n",
       "  2715.25,735.212 2715.25,1384.24 2778.31,1384.24 2778.31,735.212 2715.25,735.212 \n",
       "  \"/>\n",
       "<path clip-path=\"url(#clip562)\" d=\"\n",
       "M2778.31 1312.12 L2778.31 1384.24 L2841.38 1384.24 L2841.38 1312.12 L2778.31 1312.12 L2778.31 1312.12  Z\n",
       "  \" fill=\"#009af9\" fill-rule=\"evenodd\" fill-opacity=\"1\"/>\n",
       "<polyline clip-path=\"url(#clip562)\" style=\"stroke:#000000; stroke-width:4; stroke-opacity:1; fill:none\" points=\"\n",
       "  2778.31,1312.12 2778.31,1384.24 2841.38,1384.24 2841.38,1312.12 2778.31,1312.12 \n",
       "  \"/>\n",
       "<path clip-path=\"url(#clip562)\" d=\"\n",
       "M2841.38 951.554 L2841.38 1384.24 L2904.44 1384.24 L2904.44 951.554 L2841.38 951.554 L2841.38 951.554  Z\n",
       "  \" fill=\"#009af9\" fill-rule=\"evenodd\" fill-opacity=\"1\"/>\n",
       "<polyline clip-path=\"url(#clip562)\" style=\"stroke:#000000; stroke-width:4; stroke-opacity:1; fill:none\" points=\"\n",
       "  2841.38,951.554 2841.38,1384.24 2904.44,1384.24 2904.44,951.554 2841.38,951.554 \n",
       "  \"/>\n",
       "<path clip-path=\"url(#clip562)\" d=\"\n",
       "M2904.44 1023.67 L2904.44 1384.24 L2967.5 1384.24 L2967.5 1023.67 L2904.44 1023.67 L2904.44 1023.67  Z\n",
       "  \" fill=\"#009af9\" fill-rule=\"evenodd\" fill-opacity=\"1\"/>\n",
       "<polyline clip-path=\"url(#clip562)\" style=\"stroke:#000000; stroke-width:4; stroke-opacity:1; fill:none\" points=\"\n",
       "  2904.44,1023.67 2904.44,1384.24 2967.5,1384.24 2967.5,1023.67 2904.44,1023.67 \n",
       "  \"/>\n",
       "<path clip-path=\"url(#clip562)\" d=\"\n",
       "M2967.5 1095.78 L2967.5 1384.24 L3030.56 1384.24 L3030.56 1095.78 L2967.5 1095.78 L2967.5 1095.78  Z\n",
       "  \" fill=\"#009af9\" fill-rule=\"evenodd\" fill-opacity=\"1\"/>\n",
       "<polyline clip-path=\"url(#clip562)\" style=\"stroke:#000000; stroke-width:4; stroke-opacity:1; fill:none\" points=\"\n",
       "  2967.5,1095.78 2967.5,1384.24 3030.56,1384.24 3030.56,1095.78 2967.5,1095.78 \n",
       "  \"/>\n",
       "<path clip-path=\"url(#clip562)\" d=\"\n",
       "M3030.56 1384.24 L3030.56 1384.24 L3093.62 1384.24 L3093.62 1384.24 L3030.56 1384.24 L3030.56 1384.24  Z\n",
       "  \" fill=\"#009af9\" fill-rule=\"evenodd\" fill-opacity=\"1\"/>\n",
       "<polyline clip-path=\"url(#clip562)\" style=\"stroke:#000000; stroke-width:4; stroke-opacity:1; fill:none\" points=\"\n",
       "  3030.56,1384.24 3030.56,1384.24 3093.62,1384.24 3030.56,1384.24 \n",
       "  \"/>\n",
       "<path clip-path=\"url(#clip562)\" d=\"\n",
       "M3093.62 1167.9 L3093.62 1384.24 L3156.68 1384.24 L3156.68 1167.9 L3093.62 1167.9 L3093.62 1167.9  Z\n",
       "  \" fill=\"#009af9\" fill-rule=\"evenodd\" fill-opacity=\"1\"/>\n",
       "<polyline clip-path=\"url(#clip562)\" style=\"stroke:#000000; stroke-width:4; stroke-opacity:1; fill:none\" points=\"\n",
       "  3093.62,1167.9 3093.62,1384.24 3156.68,1384.24 3156.68,1167.9 3093.62,1167.9 \n",
       "  \"/>\n",
       "<path clip-path=\"url(#clip562)\" d=\"\n",
       "M3156.68 807.326 L3156.68 1384.24 L3219.74 1384.24 L3219.74 807.326 L3156.68 807.326 L3156.68 807.326  Z\n",
       "  \" fill=\"#009af9\" fill-rule=\"evenodd\" fill-opacity=\"1\"/>\n",
       "<polyline clip-path=\"url(#clip562)\" style=\"stroke:#000000; stroke-width:4; stroke-opacity:1; fill:none\" points=\"\n",
       "  3156.68,807.326 3156.68,1384.24 3219.74,1384.24 3219.74,807.326 3156.68,807.326 \n",
       "  \"/>\n",
       "<path clip-path=\"url(#clip562)\" d=\"\n",
       "M3219.74 1095.78 L3219.74 1384.24 L3282.8 1384.24 L3282.8 1095.78 L3219.74 1095.78 L3219.74 1095.78  Z\n",
       "  \" fill=\"#009af9\" fill-rule=\"evenodd\" fill-opacity=\"1\"/>\n",
       "<polyline clip-path=\"url(#clip562)\" style=\"stroke:#000000; stroke-width:4; stroke-opacity:1; fill:none\" points=\"\n",
       "  3219.74,1095.78 3219.74,1384.24 3282.8,1384.24 3282.8,1095.78 3219.74,1095.78 \n",
       "  \"/>\n",
       "<path clip-path=\"url(#clip562)\" d=\"\n",
       "M3282.8 1095.78 L3282.8 1384.24 L3345.87 1384.24 L3345.87 1095.78 L3282.8 1095.78 L3282.8 1095.78  Z\n",
       "  \" fill=\"#009af9\" fill-rule=\"evenodd\" fill-opacity=\"1\"/>\n",
       "<polyline clip-path=\"url(#clip562)\" style=\"stroke:#000000; stroke-width:4; stroke-opacity:1; fill:none\" points=\"\n",
       "  3282.8,1095.78 3282.8,1384.24 3345.87,1384.24 3345.87,1095.78 3282.8,1095.78 \n",
       "  \"/>\n",
       "<path clip-path=\"url(#clip562)\" d=\"\n",
       "M3345.87 1384.24 L3345.87 1384.24 L3408.93 1384.24 L3408.93 1384.24 L3345.87 1384.24 L3345.87 1384.24  Z\n",
       "  \" fill=\"#009af9\" fill-rule=\"evenodd\" fill-opacity=\"1\"/>\n",
       "<polyline clip-path=\"url(#clip562)\" style=\"stroke:#000000; stroke-width:4; stroke-opacity:1; fill:none\" points=\"\n",
       "  3345.87,1384.24 3345.87,1384.24 3408.93,1384.24 3345.87,1384.24 \n",
       "  \"/>\n",
       "<path clip-path=\"url(#clip562)\" d=\"\n",
       "M3408.93 1167.9 L3408.93 1384.24 L3471.99 1384.24 L3471.99 1167.9 L3408.93 1167.9 L3408.93 1167.9  Z\n",
       "  \" fill=\"#009af9\" fill-rule=\"evenodd\" fill-opacity=\"1\"/>\n",
       "<polyline clip-path=\"url(#clip562)\" style=\"stroke:#000000; stroke-width:4; stroke-opacity:1; fill:none\" points=\"\n",
       "  3408.93,1167.9 3408.93,1384.24 3471.99,1384.24 3471.99,1167.9 3408.93,1167.9 \n",
       "  \"/>\n",
       "<path clip-path=\"url(#clip562)\" d=\"\n",
       "M3471.99 1167.9 L3471.99 1384.24 L3535.05 1384.24 L3535.05 1167.9 L3471.99 1167.9 L3471.99 1167.9  Z\n",
       "  \" fill=\"#009af9\" fill-rule=\"evenodd\" fill-opacity=\"1\"/>\n",
       "<polyline clip-path=\"url(#clip562)\" style=\"stroke:#000000; stroke-width:4; stroke-opacity:1; fill:none\" points=\"\n",
       "  3471.99,1167.9 3471.99,1384.24 3535.05,1384.24 3535.05,1167.9 3471.99,1167.9 \n",
       "  \"/>\n",
       "<path clip-path=\"url(#clip562)\" d=\"\n",
       "M3535.05 1312.12 L3535.05 1384.24 L3598.11 1384.24 L3598.11 1312.12 L3535.05 1312.12 L3535.05 1312.12  Z\n",
       "  \" fill=\"#009af9\" fill-rule=\"evenodd\" fill-opacity=\"1\"/>\n",
       "<polyline clip-path=\"url(#clip562)\" style=\"stroke:#000000; stroke-width:4; stroke-opacity:1; fill:none\" points=\"\n",
       "  3535.05,1312.12 3535.05,1384.24 3598.11,1384.24 3598.11,1312.12 3535.05,1312.12 \n",
       "  \"/>\n",
       "<path clip-path=\"url(#clip562)\" d=\"\n",
       "M3598.11 1384.24 L3598.11 1384.24 L3661.17 1384.24 L3661.17 1384.24 L3598.11 1384.24 L3598.11 1384.24  Z\n",
       "  \" fill=\"#009af9\" fill-rule=\"evenodd\" fill-opacity=\"1\"/>\n",
       "<polyline clip-path=\"url(#clip562)\" style=\"stroke:#000000; stroke-width:4; stroke-opacity:1; fill:none\" points=\"\n",
       "  3598.11,1384.24 3598.11,1384.24 3661.17,1384.24 3598.11,1384.24 \n",
       "  \"/>\n",
       "<path clip-path=\"url(#clip562)\" d=\"\n",
       "M3661.17 1167.9 L3661.17 1384.24 L3724.23 1384.24 L3724.23 1167.9 L3661.17 1167.9 L3661.17 1167.9  Z\n",
       "  \" fill=\"#009af9\" fill-rule=\"evenodd\" fill-opacity=\"1\"/>\n",
       "<polyline clip-path=\"url(#clip562)\" style=\"stroke:#000000; stroke-width:4; stroke-opacity:1; fill:none\" points=\"\n",
       "  3661.17,1167.9 3661.17,1384.24 3724.23,1384.24 3724.23,1167.9 3661.17,1167.9 \n",
       "  \"/>\n",
       "<path clip-path=\"url(#clip562)\" d=\"\n",
       "M3724.23 1384.24 L3724.23 1384.24 L3787.3 1384.24 L3787.3 1384.24 L3724.23 1384.24 L3724.23 1384.24  Z\n",
       "  \" fill=\"#009af9\" fill-rule=\"evenodd\" fill-opacity=\"1\"/>\n",
       "<polyline clip-path=\"url(#clip562)\" style=\"stroke:#000000; stroke-width:4; stroke-opacity:1; fill:none\" points=\"\n",
       "  3724.23,1384.24 3724.23,1384.24 3787.3,1384.24 3724.23,1384.24 \n",
       "  \"/>\n",
       "<path clip-path=\"url(#clip562)\" d=\"\n",
       "M3787.3 1240.01 L3787.3 1384.24 L3850.36 1384.24 L3850.36 1240.01 L3787.3 1240.01 L3787.3 1240.01  Z\n",
       "  \" fill=\"#009af9\" fill-rule=\"evenodd\" fill-opacity=\"1\"/>\n",
       "<polyline clip-path=\"url(#clip562)\" style=\"stroke:#000000; stroke-width:4; stroke-opacity:1; fill:none\" points=\"\n",
       "  3787.3,1240.01 3787.3,1384.24 3850.36,1384.24 3850.36,1240.01 3787.3,1240.01 \n",
       "  \"/>\n",
       "<path clip-path=\"url(#clip562)\" d=\"\n",
       "M3850.36 1312.12 L3850.36 1384.24 L3913.42 1384.24 L3913.42 1312.12 L3850.36 1312.12 L3850.36 1312.12  Z\n",
       "  \" fill=\"#009af9\" fill-rule=\"evenodd\" fill-opacity=\"1\"/>\n",
       "<polyline clip-path=\"url(#clip562)\" style=\"stroke:#000000; stroke-width:4; stroke-opacity:1; fill:none\" points=\"\n",
       "  3850.36,1312.12 3850.36,1384.24 3913.42,1384.24 3913.42,1312.12 3850.36,1312.12 \n",
       "  \"/>\n",
       "<path clip-path=\"url(#clip562)\" d=\"\n",
       "M3913.42 1384.24 L3913.42 1384.24 L3976.48 1384.24 L3976.48 1384.24 L3913.42 1384.24 L3913.42 1384.24  Z\n",
       "  \" fill=\"#009af9\" fill-rule=\"evenodd\" fill-opacity=\"1\"/>\n",
       "<polyline clip-path=\"url(#clip562)\" style=\"stroke:#000000; stroke-width:4; stroke-opacity:1; fill:none\" points=\"\n",
       "  3913.42,1384.24 3913.42,1384.24 3976.48,1384.24 3913.42,1384.24 \n",
       "  \"/>\n",
       "<path clip-path=\"url(#clip562)\" d=\"\n",
       "M3976.48 1095.78 L3976.48 1384.24 L4039.54 1384.24 L4039.54 1095.78 L3976.48 1095.78 L3976.48 1095.78  Z\n",
       "  \" fill=\"#009af9\" fill-rule=\"evenodd\" fill-opacity=\"1\"/>\n",
       "<polyline clip-path=\"url(#clip562)\" style=\"stroke:#000000; stroke-width:4; stroke-opacity:1; fill:none\" points=\"\n",
       "  3976.48,1095.78 3976.48,1384.24 4039.54,1384.24 4039.54,1095.78 3976.48,1095.78 \n",
       "  \"/>\n",
       "<path clip-path=\"url(#clip562)\" d=\"\n",
       "M4039.54 1384.24 L4039.54 1384.24 L4102.6 1384.24 L4102.6 1384.24 L4039.54 1384.24 L4039.54 1384.24  Z\n",
       "  \" fill=\"#009af9\" fill-rule=\"evenodd\" fill-opacity=\"1\"/>\n",
       "<polyline clip-path=\"url(#clip562)\" style=\"stroke:#000000; stroke-width:4; stroke-opacity:1; fill:none\" points=\"\n",
       "  4039.54,1384.24 4039.54,1384.24 4102.6,1384.24 4039.54,1384.24 \n",
       "  \"/>\n",
       "<path clip-path=\"url(#clip562)\" d=\"\n",
       "M4102.6 1384.24 L4102.6 1384.24 L4165.66 1384.24 L4165.66 1384.24 L4102.6 1384.24 L4102.6 1384.24  Z\n",
       "  \" fill=\"#009af9\" fill-rule=\"evenodd\" fill-opacity=\"1\"/>\n",
       "<polyline clip-path=\"url(#clip562)\" style=\"stroke:#000000; stroke-width:4; stroke-opacity:1; fill:none\" points=\"\n",
       "  4102.6,1384.24 4102.6,1384.24 4165.66,1384.24 4102.6,1384.24 \n",
       "  \"/>\n",
       "<path clip-path=\"url(#clip562)\" d=\"\n",
       "M4165.66 1384.24 L4165.66 1384.24 L4228.72 1384.24 L4228.72 1384.24 L4165.66 1384.24 L4165.66 1384.24  Z\n",
       "  \" fill=\"#009af9\" fill-rule=\"evenodd\" fill-opacity=\"1\"/>\n",
       "<polyline clip-path=\"url(#clip562)\" style=\"stroke:#000000; stroke-width:4; stroke-opacity:1; fill:none\" points=\"\n",
       "  4165.66,1384.24 4165.66,1384.24 4228.72,1384.24 4165.66,1384.24 \n",
       "  \"/>\n",
       "<path clip-path=\"url(#clip562)\" d=\"\n",
       "M4228.72 1312.12 L4228.72 1384.24 L4291.79 1384.24 L4291.79 1312.12 L4228.72 1312.12 L4228.72 1312.12  Z\n",
       "  \" fill=\"#009af9\" fill-rule=\"evenodd\" fill-opacity=\"1\"/>\n",
       "<polyline clip-path=\"url(#clip562)\" style=\"stroke:#000000; stroke-width:4; stroke-opacity:1; fill:none\" points=\"\n",
       "  4228.72,1312.12 4228.72,1384.24 4291.79,1384.24 4291.79,1312.12 4228.72,1312.12 \n",
       "  \"/>\n",
       "<path clip-path=\"url(#clip562)\" d=\"\n",
       "M4291.79 1384.24 L4291.79 1384.24 L4354.85 1384.24 L4354.85 1384.24 L4291.79 1384.24 L4291.79 1384.24  Z\n",
       "  \" fill=\"#009af9\" fill-rule=\"evenodd\" fill-opacity=\"1\"/>\n",
       "<polyline clip-path=\"url(#clip562)\" style=\"stroke:#000000; stroke-width:4; stroke-opacity:1; fill:none\" points=\"\n",
       "  4291.79,1384.24 4291.79,1384.24 4354.85,1384.24 4291.79,1384.24 \n",
       "  \"/>\n",
       "<path clip-path=\"url(#clip562)\" d=\"\n",
       "M4354.85 1312.12 L4354.85 1384.24 L4417.91 1384.24 L4417.91 1312.12 L4354.85 1312.12 L4354.85 1312.12  Z\n",
       "  \" fill=\"#009af9\" fill-rule=\"evenodd\" fill-opacity=\"1\"/>\n",
       "<polyline clip-path=\"url(#clip562)\" style=\"stroke:#000000; stroke-width:4; stroke-opacity:1; fill:none\" points=\"\n",
       "  4354.85,1312.12 4354.85,1384.24 4417.91,1384.24 4417.91,1312.12 4354.85,1312.12 \n",
       "  \"/>\n",
       "<path clip-path=\"url(#clip562)\" d=\"\n",
       "M4417.91 1023.67 L4417.91 1384.24 L4480.97 1384.24 L4480.97 1023.67 L4417.91 1023.67 L4417.91 1023.67  Z\n",
       "  \" fill=\"#009af9\" fill-rule=\"evenodd\" fill-opacity=\"1\"/>\n",
       "<polyline clip-path=\"url(#clip562)\" style=\"stroke:#000000; stroke-width:4; stroke-opacity:1; fill:none\" points=\"\n",
       "  4417.91,1023.67 4417.91,1384.24 4480.97,1384.24 4480.97,1023.67 4417.91,1023.67 \n",
       "  \"/>\n",
       "<path clip-path=\"url(#clip562)\" d=\"\n",
       "M4480.97 1240.01 L4480.97 1384.24 L4544.03 1384.24 L4544.03 1240.01 L4480.97 1240.01 L4480.97 1240.01  Z\n",
       "  \" fill=\"#009af9\" fill-rule=\"evenodd\" fill-opacity=\"1\"/>\n",
       "<polyline clip-path=\"url(#clip562)\" style=\"stroke:#000000; stroke-width:4; stroke-opacity:1; fill:none\" points=\"\n",
       "  4480.97,1240.01 4480.97,1384.24 4544.03,1384.24 4544.03,1240.01 4480.97,1240.01 \n",
       "  \"/>\n",
       "<path clip-path=\"url(#clip562)\" d=\"\n",
       "M4544.03 1384.24 L4544.03 1384.24 L4607.09 1384.24 L4607.09 1384.24 L4544.03 1384.24 L4544.03 1384.24  Z\n",
       "  \" fill=\"#009af9\" fill-rule=\"evenodd\" fill-opacity=\"1\"/>\n",
       "<polyline clip-path=\"url(#clip562)\" style=\"stroke:#000000; stroke-width:4; stroke-opacity:1; fill:none\" points=\"\n",
       "  4544.03,1384.24 4544.03,1384.24 4607.09,1384.24 4544.03,1384.24 \n",
       "  \"/>\n",
       "<path clip-path=\"url(#clip562)\" d=\"\n",
       "M4607.09 1312.12 L4607.09 1384.24 L4670.15 1384.24 L4670.15 1312.12 L4607.09 1312.12 L4607.09 1312.12  Z\n",
       "  \" fill=\"#009af9\" fill-rule=\"evenodd\" fill-opacity=\"1\"/>\n",
       "<polyline clip-path=\"url(#clip562)\" style=\"stroke:#000000; stroke-width:4; stroke-opacity:1; fill:none\" points=\"\n",
       "  4607.09,1312.12 4607.09,1384.24 4670.15,1384.24 4670.15,1312.12 4607.09,1312.12 \n",
       "  \"/>\n",
       "<path clip-path=\"url(#clip562)\" d=\"\n",
       "M4670.15 1312.12 L4670.15 1384.24 L4733.22 1384.24 L4733.22 1312.12 L4670.15 1312.12 L4670.15 1312.12  Z\n",
       "  \" fill=\"#009af9\" fill-rule=\"evenodd\" fill-opacity=\"1\"/>\n",
       "<polyline clip-path=\"url(#clip562)\" style=\"stroke:#000000; stroke-width:4; stroke-opacity:1; fill:none\" points=\"\n",
       "  4670.15,1312.12 4670.15,1384.24 4733.22,1384.24 4733.22,1312.12 4670.15,1312.12 \n",
       "  \"/>\n",
       "<path clip-path=\"url(#clip562)\" d=\"\n",
       "M4733.22 1384.24 L4733.22 1384.24 L4796.28 1384.24 L4796.28 1384.24 L4733.22 1384.24 L4733.22 1384.24  Z\n",
       "  \" fill=\"#009af9\" fill-rule=\"evenodd\" fill-opacity=\"1\"/>\n",
       "<polyline clip-path=\"url(#clip562)\" style=\"stroke:#000000; stroke-width:4; stroke-opacity:1; fill:none\" points=\"\n",
       "  4733.22,1384.24 4733.22,1384.24 4796.28,1384.24 4733.22,1384.24 \n",
       "  \"/>\n",
       "<path clip-path=\"url(#clip562)\" d=\"\n",
       "M4796.28 1312.12 L4796.28 1384.24 L4859.34 1384.24 L4859.34 1312.12 L4796.28 1312.12 L4796.28 1312.12  Z\n",
       "  \" fill=\"#009af9\" fill-rule=\"evenodd\" fill-opacity=\"1\"/>\n",
       "<polyline clip-path=\"url(#clip562)\" style=\"stroke:#000000; stroke-width:4; stroke-opacity:1; fill:none\" points=\"\n",
       "  4796.28,1312.12 4796.28,1384.24 4859.34,1384.24 4859.34,1312.12 4796.28,1312.12 \n",
       "  \"/>\n",
       "<path clip-path=\"url(#clip562)\" d=\"\n",
       "M4859.34 1384.24 L4859.34 1384.24 L4922.4 1384.24 L4922.4 1384.24 L4859.34 1384.24 L4859.34 1384.24  Z\n",
       "  \" fill=\"#009af9\" fill-rule=\"evenodd\" fill-opacity=\"1\"/>\n",
       "<polyline clip-path=\"url(#clip562)\" style=\"stroke:#000000; stroke-width:4; stroke-opacity:1; fill:none\" points=\"\n",
       "  4859.34,1384.24 4859.34,1384.24 4922.4,1384.24 4859.34,1384.24 \n",
       "  \"/>\n",
       "<path clip-path=\"url(#clip562)\" d=\"\n",
       "M4922.4 1384.24 L4922.4 1384.24 L4985.46 1384.24 L4985.46 1384.24 L4922.4 1384.24 L4922.4 1384.24  Z\n",
       "  \" fill=\"#009af9\" fill-rule=\"evenodd\" fill-opacity=\"1\"/>\n",
       "<polyline clip-path=\"url(#clip562)\" style=\"stroke:#000000; stroke-width:4; stroke-opacity:1; fill:none\" points=\"\n",
       "  4922.4,1384.24 4922.4,1384.24 4985.46,1384.24 4922.4,1384.24 \n",
       "  \"/>\n",
       "<path clip-path=\"url(#clip562)\" d=\"\n",
       "M4985.46 1384.24 L4985.46 1384.24 L5048.52 1384.24 L5048.52 1384.24 L4985.46 1384.24 L4985.46 1384.24  Z\n",
       "  \" fill=\"#009af9\" fill-rule=\"evenodd\" fill-opacity=\"1\"/>\n",
       "<polyline clip-path=\"url(#clip562)\" style=\"stroke:#000000; stroke-width:4; stroke-opacity:1; fill:none\" points=\"\n",
       "  4985.46,1384.24 4985.46,1384.24 5048.52,1384.24 4985.46,1384.24 \n",
       "  \"/>\n",
       "<path clip-path=\"url(#clip562)\" d=\"\n",
       "M5048.52 1384.24 L5048.52 1384.24 L5111.58 1384.24 L5111.58 1384.24 L5048.52 1384.24 L5048.52 1384.24  Z\n",
       "  \" fill=\"#009af9\" fill-rule=\"evenodd\" fill-opacity=\"1\"/>\n",
       "<polyline clip-path=\"url(#clip562)\" style=\"stroke:#000000; stroke-width:4; stroke-opacity:1; fill:none\" points=\"\n",
       "  5048.52,1384.24 5048.52,1384.24 5111.58,1384.24 5048.52,1384.24 \n",
       "  \"/>\n",
       "<path clip-path=\"url(#clip562)\" d=\"\n",
       "M5111.58 1384.24 L5111.58 1384.24 L5174.64 1384.24 L5174.64 1384.24 L5111.58 1384.24 L5111.58 1384.24  Z\n",
       "  \" fill=\"#009af9\" fill-rule=\"evenodd\" fill-opacity=\"1\"/>\n",
       "<polyline clip-path=\"url(#clip562)\" style=\"stroke:#000000; stroke-width:4; stroke-opacity:1; fill:none\" points=\"\n",
       "  5111.58,1384.24 5111.58,1384.24 5174.64,1384.24 5111.58,1384.24 \n",
       "  \"/>\n",
       "<path clip-path=\"url(#clip562)\" d=\"\n",
       "M5174.64 1240.01 L5174.64 1384.24 L5237.71 1384.24 L5237.71 1240.01 L5174.64 1240.01 L5174.64 1240.01  Z\n",
       "  \" fill=\"#009af9\" fill-rule=\"evenodd\" fill-opacity=\"1\"/>\n",
       "<polyline clip-path=\"url(#clip562)\" style=\"stroke:#000000; stroke-width:4; stroke-opacity:1; fill:none\" points=\"\n",
       "  5174.64,1240.01 5174.64,1384.24 5237.71,1384.24 5237.71,1240.01 5174.64,1240.01 \n",
       "  \"/>\n",
       "<path clip-path=\"url(#clip562)\" d=\"\n",
       "M5237.71 1384.24 L5237.71 1384.24 L5300.77 1384.24 L5300.77 1384.24 L5237.71 1384.24 L5237.71 1384.24  Z\n",
       "  \" fill=\"#009af9\" fill-rule=\"evenodd\" fill-opacity=\"1\"/>\n",
       "<polyline clip-path=\"url(#clip562)\" style=\"stroke:#000000; stroke-width:4; stroke-opacity:1; fill:none\" points=\"\n",
       "  5237.71,1384.24 5237.71,1384.24 5300.77,1384.24 5237.71,1384.24 \n",
       "  \"/>\n",
       "<path clip-path=\"url(#clip562)\" d=\"\n",
       "M5300.77 1384.24 L5300.77 1384.24 L5363.83 1384.24 L5363.83 1384.24 L5300.77 1384.24 L5300.77 1384.24  Z\n",
       "  \" fill=\"#009af9\" fill-rule=\"evenodd\" fill-opacity=\"1\"/>\n",
       "<polyline clip-path=\"url(#clip562)\" style=\"stroke:#000000; stroke-width:4; stroke-opacity:1; fill:none\" points=\"\n",
       "  5300.77,1384.24 5300.77,1384.24 5363.83,1384.24 5300.77,1384.24 \n",
       "  \"/>\n",
       "<path clip-path=\"url(#clip562)\" d=\"\n",
       "M5363.83 1384.24 L5363.83 1384.24 L5426.89 1384.24 L5426.89 1384.24 L5363.83 1384.24 L5363.83 1384.24  Z\n",
       "  \" fill=\"#009af9\" fill-rule=\"evenodd\" fill-opacity=\"1\"/>\n",
       "<polyline clip-path=\"url(#clip562)\" style=\"stroke:#000000; stroke-width:4; stroke-opacity:1; fill:none\" points=\"\n",
       "  5363.83,1384.24 5363.83,1384.24 5426.89,1384.24 5363.83,1384.24 \n",
       "  \"/>\n",
       "<path clip-path=\"url(#clip562)\" d=\"\n",
       "M5426.89 1312.12 L5426.89 1384.24 L5489.95 1384.24 L5489.95 1312.12 L5426.89 1312.12 L5426.89 1312.12  Z\n",
       "  \" fill=\"#009af9\" fill-rule=\"evenodd\" fill-opacity=\"1\"/>\n",
       "<polyline clip-path=\"url(#clip562)\" style=\"stroke:#000000; stroke-width:4; stroke-opacity:1; fill:none\" points=\"\n",
       "  5426.89,1312.12 5426.89,1384.24 5489.95,1384.24 5489.95,1312.12 5426.89,1312.12 \n",
       "  \"/>\n",
       "<path clip-path=\"url(#clip562)\" d=\"\n",
       "M5489.95 1384.24 L5489.95 1384.24 L5553.01 1384.24 L5553.01 1384.24 L5489.95 1384.24 L5489.95 1384.24  Z\n",
       "  \" fill=\"#009af9\" fill-rule=\"evenodd\" fill-opacity=\"1\"/>\n",
       "<polyline clip-path=\"url(#clip562)\" style=\"stroke:#000000; stroke-width:4; stroke-opacity:1; fill:none\" points=\"\n",
       "  5489.95,1384.24 5489.95,1384.24 5553.01,1384.24 5489.95,1384.24 \n",
       "  \"/>\n",
       "<path clip-path=\"url(#clip562)\" d=\"\n",
       "M5553.01 1384.24 L5553.01 1384.24 L5616.07 1384.24 L5616.07 1384.24 L5553.01 1384.24 L5553.01 1384.24  Z\n",
       "  \" fill=\"#009af9\" fill-rule=\"evenodd\" fill-opacity=\"1\"/>\n",
       "<polyline clip-path=\"url(#clip562)\" style=\"stroke:#000000; stroke-width:4; stroke-opacity:1; fill:none\" points=\"\n",
       "  5553.01,1384.24 5553.01,1384.24 5616.07,1384.24 5553.01,1384.24 \n",
       "  \"/>\n",
       "<path clip-path=\"url(#clip562)\" d=\"\n",
       "M5616.07 1384.24 L5616.07 1384.24 L5679.13 1384.24 L5679.13 1384.24 L5616.07 1384.24 L5616.07 1384.24  Z\n",
       "  \" fill=\"#009af9\" fill-rule=\"evenodd\" fill-opacity=\"1\"/>\n",
       "<polyline clip-path=\"url(#clip562)\" style=\"stroke:#000000; stroke-width:4; stroke-opacity:1; fill:none\" points=\"\n",
       "  5616.07,1384.24 5616.07,1384.24 5679.13,1384.24 5616.07,1384.24 \n",
       "  \"/>\n",
       "<path clip-path=\"url(#clip562)\" d=\"\n",
       "M5679.13 1312.12 L5679.13 1384.24 L5742.2 1384.24 L5742.2 1312.12 L5679.13 1312.12 L5679.13 1312.12  Z\n",
       "  \" fill=\"#009af9\" fill-rule=\"evenodd\" fill-opacity=\"1\"/>\n",
       "<polyline clip-path=\"url(#clip562)\" style=\"stroke:#000000; stroke-width:4; stroke-opacity:1; fill:none\" points=\"\n",
       "  5679.13,1312.12 5679.13,1384.24 5742.2,1384.24 5742.2,1312.12 5679.13,1312.12 \n",
       "  \"/>\n",
       "<path clip-path=\"url(#clip562)\" d=\"\n",
       "M5742.2 1384.24 L5742.2 1384.24 L5805.26 1384.24 L5805.26 1384.24 L5742.2 1384.24 L5742.2 1384.24  Z\n",
       "  \" fill=\"#009af9\" fill-rule=\"evenodd\" fill-opacity=\"1\"/>\n",
       "<polyline clip-path=\"url(#clip562)\" style=\"stroke:#000000; stroke-width:4; stroke-opacity:1; fill:none\" points=\"\n",
       "  5742.2,1384.24 5742.2,1384.24 5805.26,1384.24 5742.2,1384.24 \n",
       "  \"/>\n",
       "<path clip-path=\"url(#clip562)\" d=\"\n",
       "M5805.26 1312.12 L5805.26 1384.24 L5868.32 1384.24 L5868.32 1312.12 L5805.26 1312.12 L5805.26 1312.12  Z\n",
       "  \" fill=\"#009af9\" fill-rule=\"evenodd\" fill-opacity=\"1\"/>\n",
       "<polyline clip-path=\"url(#clip562)\" style=\"stroke:#000000; stroke-width:4; stroke-opacity:1; fill:none\" points=\"\n",
       "  5805.26,1312.12 5805.26,1384.24 5868.32,1384.24 5868.32,1312.12 5805.26,1312.12 \n",
       "  \"/>\n",
       "<path clip-path=\"url(#clip562)\" d=\"\n",
       "M5868.32 1384.24 L5868.32 1384.24 L5931.38 1384.24 L5931.38 1384.24 L5868.32 1384.24 L5868.32 1384.24  Z\n",
       "  \" fill=\"#009af9\" fill-rule=\"evenodd\" fill-opacity=\"1\"/>\n",
       "<polyline clip-path=\"url(#clip562)\" style=\"stroke:#000000; stroke-width:4; stroke-opacity:1; fill:none\" points=\"\n",
       "  5868.32,1384.24 5868.32,1384.24 5931.38,1384.24 5868.32,1384.24 \n",
       "  \"/>\n",
       "<path clip-path=\"url(#clip562)\" d=\"\n",
       "M5931.38 1312.12 L5931.38 1384.24 L5994.44 1384.24 L5994.44 1312.12 L5931.38 1312.12 L5931.38 1312.12  Z\n",
       "  \" fill=\"#009af9\" fill-rule=\"evenodd\" fill-opacity=\"1\"/>\n",
       "<polyline clip-path=\"url(#clip562)\" style=\"stroke:#000000; stroke-width:4; stroke-opacity:1; fill:none\" points=\"\n",
       "  5931.38,1312.12 5931.38,1384.24 5994.44,1384.24 5994.44,1312.12 5931.38,1312.12 \n",
       "  \"/>\n",
       "<path clip-path=\"url(#clip562)\" d=\"\n",
       "M5994.44 1384.24 L5994.44 1384.24 L6057.5 1384.24 L6057.5 1384.24 L5994.44 1384.24 L5994.44 1384.24  Z\n",
       "  \" fill=\"#009af9\" fill-rule=\"evenodd\" fill-opacity=\"1\"/>\n",
       "<polyline clip-path=\"url(#clip562)\" style=\"stroke:#000000; stroke-width:4; stroke-opacity:1; fill:none\" points=\"\n",
       "  5994.44,1384.24 5994.44,1384.24 6057.5,1384.24 5994.44,1384.24 \n",
       "  \"/>\n",
       "<path clip-path=\"url(#clip562)\" d=\"\n",
       "M6057.5 1384.24 L6057.5 1384.24 L6120.56 1384.24 L6120.56 1384.24 L6057.5 1384.24 L6057.5 1384.24  Z\n",
       "  \" fill=\"#009af9\" fill-rule=\"evenodd\" fill-opacity=\"1\"/>\n",
       "<polyline clip-path=\"url(#clip562)\" style=\"stroke:#000000; stroke-width:4; stroke-opacity:1; fill:none\" points=\"\n",
       "  6057.5,1384.24 6057.5,1384.24 6120.56,1384.24 6057.5,1384.24 \n",
       "  \"/>\n",
       "<path clip-path=\"url(#clip562)\" d=\"\n",
       "M6120.56 1384.24 L6120.56 1384.24 L6183.63 1384.24 L6183.63 1384.24 L6120.56 1384.24 L6120.56 1384.24  Z\n",
       "  \" fill=\"#009af9\" fill-rule=\"evenodd\" fill-opacity=\"1\"/>\n",
       "<polyline clip-path=\"url(#clip562)\" style=\"stroke:#000000; stroke-width:4; stroke-opacity:1; fill:none\" points=\"\n",
       "  6120.56,1384.24 6120.56,1384.24 6183.63,1384.24 6120.56,1384.24 \n",
       "  \"/>\n",
       "<path clip-path=\"url(#clip562)\" d=\"\n",
       "M6183.63 1312.12 L6183.63 1384.24 L6246.69 1384.24 L6246.69 1312.12 L6183.63 1312.12 L6183.63 1312.12  Z\n",
       "  \" fill=\"#009af9\" fill-rule=\"evenodd\" fill-opacity=\"1\"/>\n",
       "<polyline clip-path=\"url(#clip562)\" style=\"stroke:#000000; stroke-width:4; stroke-opacity:1; fill:none\" points=\"\n",
       "  6183.63,1312.12 6183.63,1384.24 6246.69,1384.24 6246.69,1312.12 6183.63,1312.12 \n",
       "  \"/>\n",
       "<path clip-path=\"url(#clip562)\" d=\"\n",
       "M6246.69 1384.24 L6246.69 1384.24 L6309.75 1384.24 L6309.75 1384.24 L6246.69 1384.24 L6246.69 1384.24  Z\n",
       "  \" fill=\"#009af9\" fill-rule=\"evenodd\" fill-opacity=\"1\"/>\n",
       "<polyline clip-path=\"url(#clip562)\" style=\"stroke:#000000; stroke-width:4; stroke-opacity:1; fill:none\" points=\"\n",
       "  6246.69,1384.24 6246.69,1384.24 6309.75,1384.24 6246.69,1384.24 \n",
       "  \"/>\n",
       "<path clip-path=\"url(#clip562)\" d=\"\n",
       "M6309.75 1384.24 L6309.75 1384.24 L6372.81 1384.24 L6372.81 1384.24 L6309.75 1384.24 L6309.75 1384.24  Z\n",
       "  \" fill=\"#009af9\" fill-rule=\"evenodd\" fill-opacity=\"1\"/>\n",
       "<polyline clip-path=\"url(#clip562)\" style=\"stroke:#000000; stroke-width:4; stroke-opacity:1; fill:none\" points=\"\n",
       "  6309.75,1384.24 6309.75,1384.24 6372.81,1384.24 6309.75,1384.24 \n",
       "  \"/>\n",
       "<path clip-path=\"url(#clip562)\" d=\"\n",
       "M6372.81 1384.24 L6372.81 1384.24 L6435.87 1384.24 L6435.87 1384.24 L6372.81 1384.24 L6372.81 1384.24  Z\n",
       "  \" fill=\"#009af9\" fill-rule=\"evenodd\" fill-opacity=\"1\"/>\n",
       "<polyline clip-path=\"url(#clip562)\" style=\"stroke:#000000; stroke-width:4; stroke-opacity:1; fill:none\" points=\"\n",
       "  6372.81,1384.24 6372.81,1384.24 6435.87,1384.24 6372.81,1384.24 \n",
       "  \"/>\n",
       "<path clip-path=\"url(#clip562)\" d=\"\n",
       "M6435.87 1384.24 L6435.87 1384.24 L6498.93 1384.24 L6498.93 1384.24 L6435.87 1384.24 L6435.87 1384.24  Z\n",
       "  \" fill=\"#009af9\" fill-rule=\"evenodd\" fill-opacity=\"1\"/>\n",
       "<polyline clip-path=\"url(#clip562)\" style=\"stroke:#000000; stroke-width:4; stroke-opacity:1; fill:none\" points=\"\n",
       "  6435.87,1384.24 6435.87,1384.24 6498.93,1384.24 6435.87,1384.24 \n",
       "  \"/>\n",
       "<path clip-path=\"url(#clip562)\" d=\"\n",
       "M6498.93 1384.24 L6498.93 1384.24 L6561.99 1384.24 L6561.99 1384.24 L6498.93 1384.24 L6498.93 1384.24  Z\n",
       "  \" fill=\"#009af9\" fill-rule=\"evenodd\" fill-opacity=\"1\"/>\n",
       "<polyline clip-path=\"url(#clip562)\" style=\"stroke:#000000; stroke-width:4; stroke-opacity:1; fill:none\" points=\"\n",
       "  6498.93,1384.24 6498.93,1384.24 6561.99,1384.24 6498.93,1384.24 \n",
       "  \"/>\n",
       "<path clip-path=\"url(#clip562)\" d=\"\n",
       "M6561.99 1384.24 L6561.99 1384.24 L6625.05 1384.24 L6625.05 1384.24 L6561.99 1384.24 L6561.99 1384.24  Z\n",
       "  \" fill=\"#009af9\" fill-rule=\"evenodd\" fill-opacity=\"1\"/>\n",
       "<polyline clip-path=\"url(#clip562)\" style=\"stroke:#000000; stroke-width:4; stroke-opacity:1; fill:none\" points=\"\n",
       "  6561.99,1384.24 6561.99,1384.24 6625.05,1384.24 6561.99,1384.24 \n",
       "  \"/>\n",
       "<path clip-path=\"url(#clip562)\" d=\"\n",
       "M6625.05 1384.24 L6625.05 1384.24 L6688.12 1384.24 L6688.12 1384.24 L6625.05 1384.24 L6625.05 1384.24  Z\n",
       "  \" fill=\"#009af9\" fill-rule=\"evenodd\" fill-opacity=\"1\"/>\n",
       "<polyline clip-path=\"url(#clip562)\" style=\"stroke:#000000; stroke-width:4; stroke-opacity:1; fill:none\" points=\"\n",
       "  6625.05,1384.24 6625.05,1384.24 6688.12,1384.24 6625.05,1384.24 \n",
       "  \"/>\n",
       "<path clip-path=\"url(#clip562)\" d=\"\n",
       "M6688.12 1384.24 L6688.12 1384.24 L6751.18 1384.24 L6751.18 1384.24 L6688.12 1384.24 L6688.12 1384.24  Z\n",
       "  \" fill=\"#009af9\" fill-rule=\"evenodd\" fill-opacity=\"1\"/>\n",
       "<polyline clip-path=\"url(#clip562)\" style=\"stroke:#000000; stroke-width:4; stroke-opacity:1; fill:none\" points=\"\n",
       "  6688.12,1384.24 6688.12,1384.24 6751.18,1384.24 6688.12,1384.24 \n",
       "  \"/>\n",
       "<path clip-path=\"url(#clip562)\" d=\"\n",
       "M6751.18 1312.12 L6751.18 1384.24 L6814.24 1384.24 L6814.24 1312.12 L6751.18 1312.12 L6751.18 1312.12  Z\n",
       "  \" fill=\"#009af9\" fill-rule=\"evenodd\" fill-opacity=\"1\"/>\n",
       "<polyline clip-path=\"url(#clip562)\" style=\"stroke:#000000; stroke-width:4; stroke-opacity:1; fill:none\" points=\"\n",
       "  6751.18,1312.12 6751.18,1384.24 6814.24,1384.24 6814.24,1312.12 6751.18,1312.12 \n",
       "  \"/>\n",
       "<path clip-path=\"url(#clip562)\" d=\"\n",
       "M6814.24 1384.24 L6814.24 1384.24 L6877.3 1384.24 L6877.3 1384.24 L6814.24 1384.24 L6814.24 1384.24  Z\n",
       "  \" fill=\"#009af9\" fill-rule=\"evenodd\" fill-opacity=\"1\"/>\n",
       "<polyline clip-path=\"url(#clip562)\" style=\"stroke:#000000; stroke-width:4; stroke-opacity:1; fill:none\" points=\"\n",
       "  6814.24,1384.24 6814.24,1384.24 6877.3,1384.24 6814.24,1384.24 \n",
       "  \"/>\n",
       "<path clip-path=\"url(#clip562)\" d=\"\n",
       "M6877.3 1384.24 L6877.3 1384.24 L6940.36 1384.24 L6940.36 1384.24 L6877.3 1384.24 L6877.3 1384.24  Z\n",
       "  \" fill=\"#009af9\" fill-rule=\"evenodd\" fill-opacity=\"1\"/>\n",
       "<polyline clip-path=\"url(#clip562)\" style=\"stroke:#000000; stroke-width:4; stroke-opacity:1; fill:none\" points=\"\n",
       "  6877.3,1384.24 6877.3,1384.24 6940.36,1384.24 6877.3,1384.24 \n",
       "  \"/>\n",
       "<path clip-path=\"url(#clip562)\" d=\"\n",
       "M6940.36 1384.24 L6940.36 1384.24 L7003.42 1384.24 L7003.42 1384.24 L6940.36 1384.24 L6940.36 1384.24  Z\n",
       "  \" fill=\"#009af9\" fill-rule=\"evenodd\" fill-opacity=\"1\"/>\n",
       "<polyline clip-path=\"url(#clip562)\" style=\"stroke:#000000; stroke-width:4; stroke-opacity:1; fill:none\" points=\"\n",
       "  6940.36,1384.24 6940.36,1384.24 7003.42,1384.24 6940.36,1384.24 \n",
       "  \"/>\n",
       "<path clip-path=\"url(#clip562)\" d=\"\n",
       "M7003.42 1384.24 L7003.42 1384.24 L7066.48 1384.24 L7066.48 1384.24 L7003.42 1384.24 L7003.42 1384.24  Z\n",
       "  \" fill=\"#009af9\" fill-rule=\"evenodd\" fill-opacity=\"1\"/>\n",
       "<polyline clip-path=\"url(#clip562)\" style=\"stroke:#000000; stroke-width:4; stroke-opacity:1; fill:none\" points=\"\n",
       "  7003.42,1384.24 7003.42,1384.24 7066.48,1384.24 7003.42,1384.24 \n",
       "  \"/>\n",
       "<path clip-path=\"url(#clip562)\" d=\"\n",
       "M7066.48 1384.24 L7066.48 1384.24 L7129.55 1384.24 L7129.55 1384.24 L7066.48 1384.24 L7066.48 1384.24  Z\n",
       "  \" fill=\"#009af9\" fill-rule=\"evenodd\" fill-opacity=\"1\"/>\n",
       "<polyline clip-path=\"url(#clip562)\" style=\"stroke:#000000; stroke-width:4; stroke-opacity:1; fill:none\" points=\"\n",
       "  7066.48,1384.24 7066.48,1384.24 7129.55,1384.24 7066.48,1384.24 \n",
       "  \"/>\n",
       "<path clip-path=\"url(#clip562)\" d=\"\n",
       "M7129.55 1384.24 L7129.55 1384.24 L7192.61 1384.24 L7192.61 1384.24 L7129.55 1384.24 L7129.55 1384.24  Z\n",
       "  \" fill=\"#009af9\" fill-rule=\"evenodd\" fill-opacity=\"1\"/>\n",
       "<polyline clip-path=\"url(#clip562)\" style=\"stroke:#000000; stroke-width:4; stroke-opacity:1; fill:none\" points=\"\n",
       "  7129.55,1384.24 7129.55,1384.24 7192.61,1384.24 7129.55,1384.24 \n",
       "  \"/>\n",
       "<path clip-path=\"url(#clip562)\" d=\"\n",
       "M7192.61 1384.24 L7192.61 1384.24 L7255.67 1384.24 L7255.67 1384.24 L7192.61 1384.24 L7192.61 1384.24  Z\n",
       "  \" fill=\"#009af9\" fill-rule=\"evenodd\" fill-opacity=\"1\"/>\n",
       "<polyline clip-path=\"url(#clip562)\" style=\"stroke:#000000; stroke-width:4; stroke-opacity:1; fill:none\" points=\"\n",
       "  7192.61,1384.24 7192.61,1384.24 7255.67,1384.24 7192.61,1384.24 \n",
       "  \"/>\n",
       "<path clip-path=\"url(#clip562)\" d=\"\n",
       "M7255.67 1384.24 L7255.67 1384.24 L7318.73 1384.24 L7318.73 1384.24 L7255.67 1384.24 L7255.67 1384.24  Z\n",
       "  \" fill=\"#009af9\" fill-rule=\"evenodd\" fill-opacity=\"1\"/>\n",
       "<polyline clip-path=\"url(#clip562)\" style=\"stroke:#000000; stroke-width:4; stroke-opacity:1; fill:none\" points=\"\n",
       "  7255.67,1384.24 7255.67,1384.24 7318.73,1384.24 7255.67,1384.24 \n",
       "  \"/>\n",
       "<path clip-path=\"url(#clip562)\" d=\"\n",
       "M7318.73 1384.24 L7318.73 1384.24 L7381.79 1384.24 L7381.79 1384.24 L7318.73 1384.24 L7318.73 1384.24  Z\n",
       "  \" fill=\"#009af9\" fill-rule=\"evenodd\" fill-opacity=\"1\"/>\n",
       "<polyline clip-path=\"url(#clip562)\" style=\"stroke:#000000; stroke-width:4; stroke-opacity:1; fill:none\" points=\"\n",
       "  7318.73,1384.24 7318.73,1384.24 7381.79,1384.24 7318.73,1384.24 \n",
       "  \"/>\n",
       "<path clip-path=\"url(#clip562)\" d=\"\n",
       "M7381.79 1312.12 L7381.79 1384.24 L7444.85 1384.24 L7444.85 1312.12 L7381.79 1312.12 L7381.79 1312.12  Z\n",
       "  \" fill=\"#009af9\" fill-rule=\"evenodd\" fill-opacity=\"1\"/>\n",
       "<polyline clip-path=\"url(#clip562)\" style=\"stroke:#000000; stroke-width:4; stroke-opacity:1; fill:none\" points=\"\n",
       "  7381.79,1312.12 7381.79,1384.24 7444.85,1384.24 7444.85,1312.12 7381.79,1312.12 \n",
       "  \"/>\n",
       "<path clip-path=\"url(#clip562)\" d=\"\n",
       "M7444.85 1384.24 L7444.85 1384.24 L7507.91 1384.24 L7507.91 1384.24 L7444.85 1384.24 L7444.85 1384.24  Z\n",
       "  \" fill=\"#009af9\" fill-rule=\"evenodd\" fill-opacity=\"1\"/>\n",
       "<polyline clip-path=\"url(#clip562)\" style=\"stroke:#000000; stroke-width:4; stroke-opacity:1; fill:none\" points=\"\n",
       "  7444.85,1384.24 7444.85,1384.24 7507.91,1384.24 7444.85,1384.24 \n",
       "  \"/>\n",
       "<path clip-path=\"url(#clip562)\" d=\"\n",
       "M7507.91 1384.24 L7507.91 1384.24 L7570.97 1384.24 L7570.97 1384.24 L7507.91 1384.24 L7507.91 1384.24  Z\n",
       "  \" fill=\"#009af9\" fill-rule=\"evenodd\" fill-opacity=\"1\"/>\n",
       "<polyline clip-path=\"url(#clip562)\" style=\"stroke:#000000; stroke-width:4; stroke-opacity:1; fill:none\" points=\"\n",
       "  7507.91,1384.24 7507.91,1384.24 7570.97,1384.24 7507.91,1384.24 \n",
       "  \"/>\n",
       "<path clip-path=\"url(#clip562)\" d=\"\n",
       "M7570.97 1384.24 L7570.97 1384.24 L7634.04 1384.24 L7634.04 1384.24 L7570.97 1384.24 L7570.97 1384.24  Z\n",
       "  \" fill=\"#009af9\" fill-rule=\"evenodd\" fill-opacity=\"1\"/>\n",
       "<polyline clip-path=\"url(#clip562)\" style=\"stroke:#000000; stroke-width:4; stroke-opacity:1; fill:none\" points=\"\n",
       "  7570.97,1384.24 7570.97,1384.24 7634.04,1384.24 7570.97,1384.24 \n",
       "  \"/>\n",
       "<path clip-path=\"url(#clip562)\" d=\"\n",
       "M7634.04 1384.24 L7634.04 1384.24 L7697.1 1384.24 L7697.1 1384.24 L7634.04 1384.24 L7634.04 1384.24  Z\n",
       "  \" fill=\"#009af9\" fill-rule=\"evenodd\" fill-opacity=\"1\"/>\n",
       "<polyline clip-path=\"url(#clip562)\" style=\"stroke:#000000; stroke-width:4; stroke-opacity:1; fill:none\" points=\"\n",
       "  7634.04,1384.24 7634.04,1384.24 7697.1,1384.24 7634.04,1384.24 \n",
       "  \"/>\n",
       "<path clip-path=\"url(#clip562)\" d=\"\n",
       "M7697.1 1384.24 L7697.1 1384.24 L7760.16 1384.24 L7760.16 1384.24 L7697.1 1384.24 L7697.1 1384.24  Z\n",
       "  \" fill=\"#009af9\" fill-rule=\"evenodd\" fill-opacity=\"1\"/>\n",
       "<polyline clip-path=\"url(#clip562)\" style=\"stroke:#000000; stroke-width:4; stroke-opacity:1; fill:none\" points=\"\n",
       "  7697.1,1384.24 7697.1,1384.24 7760.16,1384.24 7697.1,1384.24 \n",
       "  \"/>\n",
       "<path clip-path=\"url(#clip562)\" d=\"\n",
       "M7760.16 1312.12 L7760.16 1384.24 L7823.22 1384.24 L7823.22 1312.12 L7760.16 1312.12 L7760.16 1312.12  Z\n",
       "  \" fill=\"#009af9\" fill-rule=\"evenodd\" fill-opacity=\"1\"/>\n",
       "<polyline clip-path=\"url(#clip562)\" style=\"stroke:#000000; stroke-width:4; stroke-opacity:1; fill:none\" points=\"\n",
       "  7760.16,1312.12 7760.16,1384.24 7823.22,1384.24 7823.22,1312.12 7760.16,1312.12 \n",
       "  \"/>\n",
       "<path clip-path=\"url(#clip562)\" d=\"\n",
       "M7823.22 1384.24 L7823.22 1384.24 L7886.28 1384.24 L7886.28 1384.24 L7823.22 1384.24 L7823.22 1384.24  Z\n",
       "  \" fill=\"#009af9\" fill-rule=\"evenodd\" fill-opacity=\"1\"/>\n",
       "<polyline clip-path=\"url(#clip562)\" style=\"stroke:#000000; stroke-width:4; stroke-opacity:1; fill:none\" points=\"\n",
       "  7823.22,1384.24 7823.22,1384.24 7886.28,1384.24 7823.22,1384.24 \n",
       "  \"/>\n",
       "<path clip-path=\"url(#clip562)\" d=\"\n",
       "M7886.28 1384.24 L7886.28 1384.24 L7949.34 1384.24 L7949.34 1384.24 L7886.28 1384.24 L7886.28 1384.24  Z\n",
       "  \" fill=\"#009af9\" fill-rule=\"evenodd\" fill-opacity=\"1\"/>\n",
       "<polyline clip-path=\"url(#clip562)\" style=\"stroke:#000000; stroke-width:4; stroke-opacity:1; fill:none\" points=\"\n",
       "  7886.28,1384.24 7886.28,1384.24 7949.34,1384.24 7886.28,1384.24 \n",
       "  \"/>\n",
       "<path clip-path=\"url(#clip562)\" d=\"\n",
       "M7949.34 1384.24 L7949.34 1384.24 L8012.4 1384.24 L8012.4 1384.24 L7949.34 1384.24 L7949.34 1384.24  Z\n",
       "  \" fill=\"#009af9\" fill-rule=\"evenodd\" fill-opacity=\"1\"/>\n",
       "<polyline clip-path=\"url(#clip562)\" style=\"stroke:#000000; stroke-width:4; stroke-opacity:1; fill:none\" points=\"\n",
       "  7949.34,1384.24 7949.34,1384.24 8012.4,1384.24 7949.34,1384.24 \n",
       "  \"/>\n",
       "<path clip-path=\"url(#clip562)\" d=\"\n",
       "M8012.4 1312.12 L8012.4 1384.24 L8075.47 1384.24 L8075.47 1312.12 L8012.4 1312.12 L8012.4 1312.12  Z\n",
       "  \" fill=\"#009af9\" fill-rule=\"evenodd\" fill-opacity=\"1\"/>\n",
       "<polyline clip-path=\"url(#clip562)\" style=\"stroke:#000000; stroke-width:4; stroke-opacity:1; fill:none\" points=\"\n",
       "  8012.4,1312.12 8012.4,1384.24 8075.47,1384.24 8075.47,1312.12 8012.4,1312.12 \n",
       "  \"/>\n",
       "<path clip-path=\"url(#clip562)\" d=\"\n",
       "M8075.47 1384.24 L8075.47 1384.24 L8138.53 1384.24 L8138.53 1384.24 L8075.47 1384.24 L8075.47 1384.24  Z\n",
       "  \" fill=\"#009af9\" fill-rule=\"evenodd\" fill-opacity=\"1\"/>\n",
       "<polyline clip-path=\"url(#clip562)\" style=\"stroke:#000000; stroke-width:4; stroke-opacity:1; fill:none\" points=\"\n",
       "  8075.47,1384.24 8075.47,1384.24 8138.53,1384.24 8075.47,1384.24 \n",
       "  \"/>\n",
       "<path clip-path=\"url(#clip562)\" d=\"\n",
       "M8138.53 1384.24 L8138.53 1384.24 L8201.59 1384.24 L8201.59 1384.24 L8138.53 1384.24 L8138.53 1384.24  Z\n",
       "  \" fill=\"#009af9\" fill-rule=\"evenodd\" fill-opacity=\"1\"/>\n",
       "<polyline clip-path=\"url(#clip562)\" style=\"stroke:#000000; stroke-width:4; stroke-opacity:1; fill:none\" points=\"\n",
       "  8138.53,1384.24 8138.53,1384.24 8201.59,1384.24 8138.53,1384.24 \n",
       "  \"/>\n",
       "<path clip-path=\"url(#clip562)\" d=\"\n",
       "M8201.59 1384.24 L8201.59 1384.24 L8264.65 1384.24 L8264.65 1384.24 L8201.59 1384.24 L8201.59 1384.24  Z\n",
       "  \" fill=\"#009af9\" fill-rule=\"evenodd\" fill-opacity=\"1\"/>\n",
       "<polyline clip-path=\"url(#clip562)\" style=\"stroke:#000000; stroke-width:4; stroke-opacity:1; fill:none\" points=\"\n",
       "  8201.59,1384.24 8201.59,1384.24 8264.65,1384.24 8201.59,1384.24 \n",
       "  \"/>\n",
       "<path clip-path=\"url(#clip562)\" d=\"\n",
       "M8264.65 1384.24 L8264.65 1384.24 L8327.71 1384.24 L8327.71 1384.24 L8264.65 1384.24 L8264.65 1384.24  Z\n",
       "  \" fill=\"#009af9\" fill-rule=\"evenodd\" fill-opacity=\"1\"/>\n",
       "<polyline clip-path=\"url(#clip562)\" style=\"stroke:#000000; stroke-width:4; stroke-opacity:1; fill:none\" points=\"\n",
       "  8264.65,1384.24 8264.65,1384.24 8327.71,1384.24 8264.65,1384.24 \n",
       "  \"/>\n",
       "<path clip-path=\"url(#clip562)\" d=\"\n",
       "M8327.71 1384.24 L8327.71 1384.24 L8390.77 1384.24 L8390.77 1384.24 L8327.71 1384.24 L8327.71 1384.24  Z\n",
       "  \" fill=\"#009af9\" fill-rule=\"evenodd\" fill-opacity=\"1\"/>\n",
       "<polyline clip-path=\"url(#clip562)\" style=\"stroke:#000000; stroke-width:4; stroke-opacity:1; fill:none\" points=\"\n",
       "  8327.71,1384.24 8327.71,1384.24 8390.77,1384.24 8327.71,1384.24 \n",
       "  \"/>\n",
       "<path clip-path=\"url(#clip562)\" d=\"\n",
       "M8390.77 1384.24 L8390.77 1384.24 L8453.83 1384.24 L8453.83 1384.24 L8390.77 1384.24 L8390.77 1384.24  Z\n",
       "  \" fill=\"#009af9\" fill-rule=\"evenodd\" fill-opacity=\"1\"/>\n",
       "<polyline clip-path=\"url(#clip562)\" style=\"stroke:#000000; stroke-width:4; stroke-opacity:1; fill:none\" points=\"\n",
       "  8390.77,1384.24 8390.77,1384.24 8453.83,1384.24 8390.77,1384.24 \n",
       "  \"/>\n",
       "<path clip-path=\"url(#clip562)\" d=\"\n",
       "M8453.83 1312.12 L8453.83 1384.24 L8516.89 1384.24 L8516.89 1312.12 L8453.83 1312.12 L8453.83 1312.12  Z\n",
       "  \" fill=\"#009af9\" fill-rule=\"evenodd\" fill-opacity=\"1\"/>\n",
       "<polyline clip-path=\"url(#clip562)\" style=\"stroke:#000000; stroke-width:4; stroke-opacity:1; fill:none\" points=\"\n",
       "  8453.83,1312.12 8453.83,1384.24 8516.89,1384.24 8516.89,1312.12 8453.83,1312.12 \n",
       "  \"/>\n",
       "<path clip-path=\"url(#clip562)\" d=\"\n",
       "M8516.89 1384.24 L8516.89 1384.24 L8579.96 1384.24 L8579.96 1384.24 L8516.89 1384.24 L8516.89 1384.24  Z\n",
       "  \" fill=\"#009af9\" fill-rule=\"evenodd\" fill-opacity=\"1\"/>\n",
       "<polyline clip-path=\"url(#clip562)\" style=\"stroke:#000000; stroke-width:4; stroke-opacity:1; fill:none\" points=\"\n",
       "  8516.89,1384.24 8516.89,1384.24 8579.96,1384.24 8516.89,1384.24 \n",
       "  \"/>\n",
       "<path clip-path=\"url(#clip562)\" d=\"\n",
       "M8579.96 1384.24 L8579.96 1384.24 L8643.02 1384.24 L8643.02 1384.24 L8579.96 1384.24 L8579.96 1384.24  Z\n",
       "  \" fill=\"#009af9\" fill-rule=\"evenodd\" fill-opacity=\"1\"/>\n",
       "<polyline clip-path=\"url(#clip562)\" style=\"stroke:#000000; stroke-width:4; stroke-opacity:1; fill:none\" points=\"\n",
       "  8579.96,1384.24 8579.96,1384.24 8643.02,1384.24 8579.96,1384.24 \n",
       "  \"/>\n",
       "<path clip-path=\"url(#clip562)\" d=\"\n",
       "M8643.02 1312.12 L8643.02 1384.24 L8706.08 1384.24 L8706.08 1312.12 L8643.02 1312.12 L8643.02 1312.12  Z\n",
       "  \" fill=\"#009af9\" fill-rule=\"evenodd\" fill-opacity=\"1\"/>\n",
       "<polyline clip-path=\"url(#clip562)\" style=\"stroke:#000000; stroke-width:4; stroke-opacity:1; fill:none\" points=\"\n",
       "  8643.02,1312.12 8643.02,1384.24 8706.08,1384.24 8706.08,1312.12 8643.02,1312.12 \n",
       "  \"/>\n",
       "<path clip-path=\"url(#clip562)\" d=\"\n",
       "M8706.08 1384.24 L8706.08 1384.24 L8769.14 1384.24 L8769.14 1384.24 L8706.08 1384.24 L8706.08 1384.24  Z\n",
       "  \" fill=\"#009af9\" fill-rule=\"evenodd\" fill-opacity=\"1\"/>\n",
       "<polyline clip-path=\"url(#clip562)\" style=\"stroke:#000000; stroke-width:4; stroke-opacity:1; fill:none\" points=\"\n",
       "  8706.08,1384.24 8706.08,1384.24 8769.14,1384.24 8706.08,1384.24 \n",
       "  \"/>\n",
       "<path clip-path=\"url(#clip562)\" d=\"\n",
       "M8769.14 1384.24 L8769.14 1384.24 L8832.2 1384.24 L8832.2 1384.24 L8769.14 1384.24 L8769.14 1384.24  Z\n",
       "  \" fill=\"#009af9\" fill-rule=\"evenodd\" fill-opacity=\"1\"/>\n",
       "<polyline clip-path=\"url(#clip562)\" style=\"stroke:#000000; stroke-width:4; stroke-opacity:1; fill:none\" points=\"\n",
       "  8769.14,1384.24 8769.14,1384.24 8832.2,1384.24 8769.14,1384.24 \n",
       "  \"/>\n",
       "<path clip-path=\"url(#clip562)\" d=\"\n",
       "M8832.2 1384.24 L8832.2 1384.24 L8895.26 1384.24 L8895.26 1384.24 L8832.2 1384.24 L8832.2 1384.24  Z\n",
       "  \" fill=\"#009af9\" fill-rule=\"evenodd\" fill-opacity=\"1\"/>\n",
       "<polyline clip-path=\"url(#clip562)\" style=\"stroke:#000000; stroke-width:4; stroke-opacity:1; fill:none\" points=\"\n",
       "  8832.2,1384.24 8832.2,1384.24 8895.26,1384.24 8832.2,1384.24 \n",
       "  \"/>\n",
       "<path clip-path=\"url(#clip562)\" d=\"\n",
       "M8895.26 1384.24 L8895.26 1384.24 L8958.32 1384.24 L8958.32 1384.24 L8895.26 1384.24 L8895.26 1384.24  Z\n",
       "  \" fill=\"#009af9\" fill-rule=\"evenodd\" fill-opacity=\"1\"/>\n",
       "<polyline clip-path=\"url(#clip562)\" style=\"stroke:#000000; stroke-width:4; stroke-opacity:1; fill:none\" points=\"\n",
       "  8895.26,1384.24 8895.26,1384.24 8958.32,1384.24 8895.26,1384.24 \n",
       "  \"/>\n",
       "<path clip-path=\"url(#clip562)\" d=\"\n",
       "M8958.32 1384.24 L8958.32 1384.24 L9021.39 1384.24 L9021.39 1384.24 L8958.32 1384.24 L8958.32 1384.24  Z\n",
       "  \" fill=\"#009af9\" fill-rule=\"evenodd\" fill-opacity=\"1\"/>\n",
       "<polyline clip-path=\"url(#clip562)\" style=\"stroke:#000000; stroke-width:4; stroke-opacity:1; fill:none\" points=\"\n",
       "  8958.32,1384.24 8958.32,1384.24 9021.39,1384.24 8958.32,1384.24 \n",
       "  \"/>\n",
       "<path clip-path=\"url(#clip562)\" d=\"\n",
       "M9021.39 1384.24 L9021.39 1384.24 L9084.45 1384.24 L9084.45 1384.24 L9021.39 1384.24 L9021.39 1384.24  Z\n",
       "  \" fill=\"#009af9\" fill-rule=\"evenodd\" fill-opacity=\"1\"/>\n",
       "<polyline clip-path=\"url(#clip562)\" style=\"stroke:#000000; stroke-width:4; stroke-opacity:1; fill:none\" points=\"\n",
       "  9021.39,1384.24 9021.39,1384.24 9084.45,1384.24 9021.39,1384.24 \n",
       "  \"/>\n",
       "<path clip-path=\"url(#clip562)\" d=\"\n",
       "M9084.45 1384.24 L9084.45 1384.24 L9147.51 1384.24 L9147.51 1384.24 L9084.45 1384.24 L9084.45 1384.24  Z\n",
       "  \" fill=\"#009af9\" fill-rule=\"evenodd\" fill-opacity=\"1\"/>\n",
       "<polyline clip-path=\"url(#clip562)\" style=\"stroke:#000000; stroke-width:4; stroke-opacity:1; fill:none\" points=\"\n",
       "  9084.45,1384.24 9084.45,1384.24 9147.51,1384.24 9084.45,1384.24 \n",
       "  \"/>\n",
       "<path clip-path=\"url(#clip562)\" d=\"\n",
       "M9147.51 1384.24 L9147.51 1384.24 L9210.57 1384.24 L9210.57 1384.24 L9147.51 1384.24 L9147.51 1384.24  Z\n",
       "  \" fill=\"#009af9\" fill-rule=\"evenodd\" fill-opacity=\"1\"/>\n",
       "<polyline clip-path=\"url(#clip562)\" style=\"stroke:#000000; stroke-width:4; stroke-opacity:1; fill:none\" points=\"\n",
       "  9147.51,1384.24 9147.51,1384.24 9210.57,1384.24 9147.51,1384.24 \n",
       "  \"/>\n",
       "<path clip-path=\"url(#clip562)\" d=\"\n",
       "M9210.57 1384.24 L9210.57 1384.24 L9273.63 1384.24 L9273.63 1384.24 L9210.57 1384.24 L9210.57 1384.24  Z\n",
       "  \" fill=\"#009af9\" fill-rule=\"evenodd\" fill-opacity=\"1\"/>\n",
       "<polyline clip-path=\"url(#clip562)\" style=\"stroke:#000000; stroke-width:4; stroke-opacity:1; fill:none\" points=\"\n",
       "  9210.57,1384.24 9210.57,1384.24 9273.63,1384.24 9210.57,1384.24 \n",
       "  \"/>\n",
       "<path clip-path=\"url(#clip562)\" d=\"\n",
       "M9273.63 1384.24 L9273.63 1384.24 L9336.69 1384.24 L9336.69 1384.24 L9273.63 1384.24 L9273.63 1384.24  Z\n",
       "  \" fill=\"#009af9\" fill-rule=\"evenodd\" fill-opacity=\"1\"/>\n",
       "<polyline clip-path=\"url(#clip562)\" style=\"stroke:#000000; stroke-width:4; stroke-opacity:1; fill:none\" points=\"\n",
       "  9273.63,1384.24 9273.63,1384.24 9336.69,1384.24 9273.63,1384.24 \n",
       "  \"/>\n",
       "<path clip-path=\"url(#clip562)\" d=\"\n",
       "M9336.69 1384.24 L9336.69 1384.24 L9399.75 1384.24 L9399.75 1384.24 L9336.69 1384.24 L9336.69 1384.24  Z\n",
       "  \" fill=\"#009af9\" fill-rule=\"evenodd\" fill-opacity=\"1\"/>\n",
       "<polyline clip-path=\"url(#clip562)\" style=\"stroke:#000000; stroke-width:4; stroke-opacity:1; fill:none\" points=\"\n",
       "  9336.69,1384.24 9336.69,1384.24 9399.75,1384.24 9336.69,1384.24 \n",
       "  \"/>\n",
       "<path clip-path=\"url(#clip562)\" d=\"\n",
       "M9399.75 1384.24 L9399.75 1384.24 L9462.81 1384.24 L9462.81 1384.24 L9399.75 1384.24 L9399.75 1384.24  Z\n",
       "  \" fill=\"#009af9\" fill-rule=\"evenodd\" fill-opacity=\"1\"/>\n",
       "<polyline clip-path=\"url(#clip562)\" style=\"stroke:#000000; stroke-width:4; stroke-opacity:1; fill:none\" points=\"\n",
       "  9399.75,1384.24 9399.75,1384.24 9462.81,1384.24 9399.75,1384.24 \n",
       "  \"/>\n",
       "<path clip-path=\"url(#clip562)\" d=\"\n",
       "M9462.81 1384.24 L9462.81 1384.24 L9525.88 1384.24 L9525.88 1384.24 L9462.81 1384.24 L9462.81 1384.24  Z\n",
       "  \" fill=\"#009af9\" fill-rule=\"evenodd\" fill-opacity=\"1\"/>\n",
       "<polyline clip-path=\"url(#clip562)\" style=\"stroke:#000000; stroke-width:4; stroke-opacity:1; fill:none\" points=\"\n",
       "  9462.81,1384.24 9462.81,1384.24 9525.88,1384.24 9462.81,1384.24 \n",
       "  \"/>\n",
       "<path clip-path=\"url(#clip562)\" d=\"\n",
       "M9525.88 1384.24 L9525.88 1384.24 L9588.94 1384.24 L9588.94 1384.24 L9525.88 1384.24 L9525.88 1384.24  Z\n",
       "  \" fill=\"#009af9\" fill-rule=\"evenodd\" fill-opacity=\"1\"/>\n",
       "<polyline clip-path=\"url(#clip562)\" style=\"stroke:#000000; stroke-width:4; stroke-opacity:1; fill:none\" points=\"\n",
       "  9525.88,1384.24 9525.88,1384.24 9588.94,1384.24 9525.88,1384.24 \n",
       "  \"/>\n",
       "<path clip-path=\"url(#clip562)\" d=\"\n",
       "M9588.94 1312.12 L9588.94 1384.24 L9652 1384.24 L9652 1312.12 L9588.94 1312.12 L9588.94 1312.12  Z\n",
       "  \" fill=\"#009af9\" fill-rule=\"evenodd\" fill-opacity=\"1\"/>\n",
       "<polyline clip-path=\"url(#clip562)\" style=\"stroke:#000000; stroke-width:4; stroke-opacity:1; fill:none\" points=\"\n",
       "  9588.94,1312.12 9588.94,1384.24 9652,1384.24 9652,1312.12 9588.94,1312.12 \n",
       "  \"/>\n",
       "<path clip-path=\"url(#clip562)\" d=\"\n",
       "M9652 1384.24 L9652 1384.24 L9715.06 1384.24 L9715.06 1384.24 L9652 1384.24 L9652 1384.24  Z\n",
       "  \" fill=\"#009af9\" fill-rule=\"evenodd\" fill-opacity=\"1\"/>\n",
       "<polyline clip-path=\"url(#clip562)\" style=\"stroke:#000000; stroke-width:4; stroke-opacity:1; fill:none\" points=\"\n",
       "  9652,1384.24 9652,1384.24 9715.06,1384.24 9652,1384.24 \n",
       "  \"/>\n",
       "<path clip-path=\"url(#clip562)\" d=\"\n",
       "M9715.06 1384.24 L9715.06 1384.24 L9778.12 1384.24 L9778.12 1384.24 L9715.06 1384.24 L9715.06 1384.24  Z\n",
       "  \" fill=\"#009af9\" fill-rule=\"evenodd\" fill-opacity=\"1\"/>\n",
       "<polyline clip-path=\"url(#clip562)\" style=\"stroke:#000000; stroke-width:4; stroke-opacity:1; fill:none\" points=\"\n",
       "  9715.06,1384.24 9715.06,1384.24 9778.12,1384.24 9715.06,1384.24 \n",
       "  \"/>\n",
       "<path clip-path=\"url(#clip562)\" d=\"\n",
       "M9778.12 1384.24 L9778.12 1384.24 L9841.18 1384.24 L9841.18 1384.24 L9778.12 1384.24 L9778.12 1384.24  Z\n",
       "  \" fill=\"#009af9\" fill-rule=\"evenodd\" fill-opacity=\"1\"/>\n",
       "<polyline clip-path=\"url(#clip562)\" style=\"stroke:#000000; stroke-width:4; stroke-opacity:1; fill:none\" points=\"\n",
       "  9778.12,1384.24 9778.12,1384.24 9841.18,1384.24 9778.12,1384.24 \n",
       "  \"/>\n",
       "<path clip-path=\"url(#clip562)\" d=\"\n",
       "M9841.18 1384.24 L9841.18 1384.24 L9904.24 1384.24 L9904.24 1384.24 L9841.18 1384.24 L9841.18 1384.24  Z\n",
       "  \" fill=\"#009af9\" fill-rule=\"evenodd\" fill-opacity=\"1\"/>\n",
       "<polyline clip-path=\"url(#clip562)\" style=\"stroke:#000000; stroke-width:4; stroke-opacity:1; fill:none\" points=\"\n",
       "  9841.18,1384.24 9841.18,1384.24 9904.24,1384.24 9841.18,1384.24 \n",
       "  \"/>\n",
       "<path clip-path=\"url(#clip562)\" d=\"\n",
       "M9904.24 1384.24 L9904.24 1384.24 L9967.3 1384.24 L9967.3 1384.24 L9904.24 1384.24 L9904.24 1384.24  Z\n",
       "  \" fill=\"#009af9\" fill-rule=\"evenodd\" fill-opacity=\"1\"/>\n",
       "<polyline clip-path=\"url(#clip562)\" style=\"stroke:#000000; stroke-width:4; stroke-opacity:1; fill:none\" points=\"\n",
       "  9904.24,1384.24 9904.24,1384.24 9967.3,1384.24 9904.24,1384.24 \n",
       "  \"/>\n",
       "<path clip-path=\"url(#clip562)\" d=\"\n",
       "M9967.3 1384.24 L9967.3 1384.24 L10030.4 1384.24 L10030.4 1384.24 L9967.3 1384.24 L9967.3 1384.24  Z\n",
       "  \" fill=\"#009af9\" fill-rule=\"evenodd\" fill-opacity=\"1\"/>\n",
       "<polyline clip-path=\"url(#clip562)\" style=\"stroke:#000000; stroke-width:4; stroke-opacity:1; fill:none\" points=\"\n",
       "  9967.3,1384.24 9967.3,1384.24 10030.4,1384.24 9967.3,1384.24 \n",
       "  \"/>\n",
       "<path clip-path=\"url(#clip562)\" d=\"\n",
       "M10030.4 1384.24 L10030.4 1384.24 L10093.4 1384.24 L10093.4 1384.24 L10030.4 1384.24 L10030.4 1384.24  Z\n",
       "  \" fill=\"#009af9\" fill-rule=\"evenodd\" fill-opacity=\"1\"/>\n",
       "<polyline clip-path=\"url(#clip562)\" style=\"stroke:#000000; stroke-width:4; stroke-opacity:1; fill:none\" points=\"\n",
       "  10030.4,1384.24 10030.4,1384.24 10093.4,1384.24 10030.4,1384.24 \n",
       "  \"/>\n",
       "<path clip-path=\"url(#clip562)\" d=\"\n",
       "M10093.4 1384.24 L10093.4 1384.24 L10156.5 1384.24 L10156.5 1384.24 L10093.4 1384.24 L10093.4 1384.24  Z\n",
       "  \" fill=\"#009af9\" fill-rule=\"evenodd\" fill-opacity=\"1\"/>\n",
       "<polyline clip-path=\"url(#clip562)\" style=\"stroke:#000000; stroke-width:4; stroke-opacity:1; fill:none\" points=\"\n",
       "  10093.4,1384.24 10093.4,1384.24 10156.5,1384.24 10093.4,1384.24 \n",
       "  \"/>\n",
       "<path clip-path=\"url(#clip562)\" d=\"\n",
       "M10156.5 1384.24 L10156.5 1384.24 L10219.6 1384.24 L10219.6 1384.24 L10156.5 1384.24 L10156.5 1384.24  Z\n",
       "  \" fill=\"#009af9\" fill-rule=\"evenodd\" fill-opacity=\"1\"/>\n",
       "<polyline clip-path=\"url(#clip562)\" style=\"stroke:#000000; stroke-width:4; stroke-opacity:1; fill:none\" points=\"\n",
       "  10156.5,1384.24 10156.5,1384.24 10219.6,1384.24 10156.5,1384.24 \n",
       "  \"/>\n",
       "<path clip-path=\"url(#clip562)\" d=\"\n",
       "M10219.6 1384.24 L10219.6 1384.24 L10282.6 1384.24 L10282.6 1384.24 L10219.6 1384.24 L10219.6 1384.24  Z\n",
       "  \" fill=\"#009af9\" fill-rule=\"evenodd\" fill-opacity=\"1\"/>\n",
       "<polyline clip-path=\"url(#clip562)\" style=\"stroke:#000000; stroke-width:4; stroke-opacity:1; fill:none\" points=\"\n",
       "  10219.6,1384.24 10219.6,1384.24 10282.6,1384.24 10219.6,1384.24 \n",
       "  \"/>\n",
       "<path clip-path=\"url(#clip562)\" d=\"\n",
       "M10282.6 1384.24 L10282.6 1384.24 L10345.7 1384.24 L10345.7 1384.24 L10282.6 1384.24 L10282.6 1384.24  Z\n",
       "  \" fill=\"#009af9\" fill-rule=\"evenodd\" fill-opacity=\"1\"/>\n",
       "<polyline clip-path=\"url(#clip562)\" style=\"stroke:#000000; stroke-width:4; stroke-opacity:1; fill:none\" points=\"\n",
       "  10282.6,1384.24 10282.6,1384.24 10345.7,1384.24 10282.6,1384.24 \n",
       "  \"/>\n",
       "<path clip-path=\"url(#clip562)\" d=\"\n",
       "M10345.7 1384.24 L10345.7 1384.24 L10408.7 1384.24 L10408.7 1384.24 L10345.7 1384.24 L10345.7 1384.24  Z\n",
       "  \" fill=\"#009af9\" fill-rule=\"evenodd\" fill-opacity=\"1\"/>\n",
       "<polyline clip-path=\"url(#clip562)\" style=\"stroke:#000000; stroke-width:4; stroke-opacity:1; fill:none\" points=\"\n",
       "  10345.7,1384.24 10345.7,1384.24 10408.7,1384.24 10345.7,1384.24 \n",
       "  \"/>\n",
       "<path clip-path=\"url(#clip562)\" d=\"\n",
       "M10408.7 1384.24 L10408.7 1384.24 L10471.8 1384.24 L10471.8 1384.24 L10408.7 1384.24 L10408.7 1384.24  Z\n",
       "  \" fill=\"#009af9\" fill-rule=\"evenodd\" fill-opacity=\"1\"/>\n",
       "<polyline clip-path=\"url(#clip562)\" style=\"stroke:#000000; stroke-width:4; stroke-opacity:1; fill:none\" points=\"\n",
       "  10408.7,1384.24 10408.7,1384.24 10471.8,1384.24 10408.7,1384.24 \n",
       "  \"/>\n",
       "<path clip-path=\"url(#clip562)\" d=\"\n",
       "M10471.8 1384.24 L10471.8 1384.24 L10534.9 1384.24 L10534.9 1384.24 L10471.8 1384.24 L10471.8 1384.24  Z\n",
       "  \" fill=\"#009af9\" fill-rule=\"evenodd\" fill-opacity=\"1\"/>\n",
       "<polyline clip-path=\"url(#clip562)\" style=\"stroke:#000000; stroke-width:4; stroke-opacity:1; fill:none\" points=\"\n",
       "  10471.8,1384.24 10471.8,1384.24 10534.9,1384.24 10471.8,1384.24 \n",
       "  \"/>\n",
       "<path clip-path=\"url(#clip562)\" d=\"\n",
       "M10534.9 1384.24 L10534.9 1384.24 L10597.9 1384.24 L10597.9 1384.24 L10534.9 1384.24 L10534.9 1384.24  Z\n",
       "  \" fill=\"#009af9\" fill-rule=\"evenodd\" fill-opacity=\"1\"/>\n",
       "<polyline clip-path=\"url(#clip562)\" style=\"stroke:#000000; stroke-width:4; stroke-opacity:1; fill:none\" points=\"\n",
       "  10534.9,1384.24 10534.9,1384.24 10597.9,1384.24 10534.9,1384.24 \n",
       "  \"/>\n",
       "<path clip-path=\"url(#clip562)\" d=\"\n",
       "M10597.9 1384.24 L10597.9 1384.24 L10661 1384.24 L10661 1384.24 L10597.9 1384.24 L10597.9 1384.24  Z\n",
       "  \" fill=\"#009af9\" fill-rule=\"evenodd\" fill-opacity=\"1\"/>\n",
       "<polyline clip-path=\"url(#clip562)\" style=\"stroke:#000000; stroke-width:4; stroke-opacity:1; fill:none\" points=\"\n",
       "  10597.9,1384.24 10597.9,1384.24 10661,1384.24 10597.9,1384.24 \n",
       "  \"/>\n",
       "<path clip-path=\"url(#clip562)\" d=\"\n",
       "M10661 1384.24 L10661 1384.24 L10724 1384.24 L10724 1384.24 L10661 1384.24 L10661 1384.24  Z\n",
       "  \" fill=\"#009af9\" fill-rule=\"evenodd\" fill-opacity=\"1\"/>\n",
       "<polyline clip-path=\"url(#clip562)\" style=\"stroke:#000000; stroke-width:4; stroke-opacity:1; fill:none\" points=\"\n",
       "  10661,1384.24 10661,1384.24 10724,1384.24 10661,1384.24 \n",
       "  \"/>\n",
       "<path clip-path=\"url(#clip562)\" d=\"\n",
       "M10724 1312.12 L10724 1384.24 L10787.1 1384.24 L10787.1 1312.12 L10724 1312.12 L10724 1312.12  Z\n",
       "  \" fill=\"#009af9\" fill-rule=\"evenodd\" fill-opacity=\"1\"/>\n",
       "<polyline clip-path=\"url(#clip562)\" style=\"stroke:#000000; stroke-width:4; stroke-opacity:1; fill:none\" points=\"\n",
       "  10724,1312.12 10724,1384.24 10787.1,1384.24 10787.1,1312.12 10724,1312.12 \n",
       "  \"/>\n",
       "<path clip-path=\"url(#clip562)\" d=\"\n",
       "M10787.1 1384.24 L10787.1 1384.24 L10850.2 1384.24 L10850.2 1384.24 L10787.1 1384.24 L10787.1 1384.24  Z\n",
       "  \" fill=\"#009af9\" fill-rule=\"evenodd\" fill-opacity=\"1\"/>\n",
       "<polyline clip-path=\"url(#clip562)\" style=\"stroke:#000000; stroke-width:4; stroke-opacity:1; fill:none\" points=\"\n",
       "  10787.1,1384.24 10787.1,1384.24 10850.2,1384.24 10787.1,1384.24 \n",
       "  \"/>\n",
       "<path clip-path=\"url(#clip562)\" d=\"\n",
       "M10850.2 1384.24 L10850.2 1384.24 L10913.2 1384.24 L10913.2 1384.24 L10850.2 1384.24 L10850.2 1384.24  Z\n",
       "  \" fill=\"#009af9\" fill-rule=\"evenodd\" fill-opacity=\"1\"/>\n",
       "<polyline clip-path=\"url(#clip562)\" style=\"stroke:#000000; stroke-width:4; stroke-opacity:1; fill:none\" points=\"\n",
       "  10850.2,1384.24 10850.2,1384.24 10913.2,1384.24 10850.2,1384.24 \n",
       "  \"/>\n",
       "<path clip-path=\"url(#clip562)\" d=\"\n",
       "M10913.2 1384.24 L10913.2 1384.24 L10976.3 1384.24 L10976.3 1384.24 L10913.2 1384.24 L10913.2 1384.24  Z\n",
       "  \" fill=\"#009af9\" fill-rule=\"evenodd\" fill-opacity=\"1\"/>\n",
       "<polyline clip-path=\"url(#clip562)\" style=\"stroke:#000000; stroke-width:4; stroke-opacity:1; fill:none\" points=\"\n",
       "  10913.2,1384.24 10913.2,1384.24 10976.3,1384.24 10913.2,1384.24 \n",
       "  \"/>\n",
       "<path clip-path=\"url(#clip562)\" d=\"\n",
       "M10976.3 1384.24 L10976.3 1384.24 L11039.3 1384.24 L11039.3 1384.24 L10976.3 1384.24 L10976.3 1384.24  Z\n",
       "  \" fill=\"#009af9\" fill-rule=\"evenodd\" fill-opacity=\"1\"/>\n",
       "<polyline clip-path=\"url(#clip562)\" style=\"stroke:#000000; stroke-width:4; stroke-opacity:1; fill:none\" points=\"\n",
       "  10976.3,1384.24 10976.3,1384.24 11039.3,1384.24 10976.3,1384.24 \n",
       "  \"/>\n",
       "<path clip-path=\"url(#clip562)\" d=\"\n",
       "M11039.3 1384.24 L11039.3 1384.24 L11102.4 1384.24 L11102.4 1384.24 L11039.3 1384.24 L11039.3 1384.24  Z\n",
       "  \" fill=\"#009af9\" fill-rule=\"evenodd\" fill-opacity=\"1\"/>\n",
       "<polyline clip-path=\"url(#clip562)\" style=\"stroke:#000000; stroke-width:4; stroke-opacity:1; fill:none\" points=\"\n",
       "  11039.3,1384.24 11039.3,1384.24 11102.4,1384.24 11039.3,1384.24 \n",
       "  \"/>\n",
       "<path clip-path=\"url(#clip562)\" d=\"\n",
       "M11102.4 1384.24 L11102.4 1384.24 L11165.5 1384.24 L11165.5 1384.24 L11102.4 1384.24 L11102.4 1384.24  Z\n",
       "  \" fill=\"#009af9\" fill-rule=\"evenodd\" fill-opacity=\"1\"/>\n",
       "<polyline clip-path=\"url(#clip562)\" style=\"stroke:#000000; stroke-width:4; stroke-opacity:1; fill:none\" points=\"\n",
       "  11102.4,1384.24 11102.4,1384.24 11165.5,1384.24 11102.4,1384.24 \n",
       "  \"/>\n",
       "<path clip-path=\"url(#clip562)\" d=\"\n",
       "M11165.5 1312.12 L11165.5 1384.24 L11228.5 1384.24 L11228.5 1312.12 L11165.5 1312.12 L11165.5 1312.12  Z\n",
       "  \" fill=\"#009af9\" fill-rule=\"evenodd\" fill-opacity=\"1\"/>\n",
       "<polyline clip-path=\"url(#clip562)\" style=\"stroke:#000000; stroke-width:4; stroke-opacity:1; fill:none\" points=\"\n",
       "  11165.5,1312.12 11165.5,1384.24 11228.5,1384.24 11228.5,1312.12 11165.5,1312.12 \n",
       "  \"/>\n",
       "<path clip-path=\"url(#clip562)\" d=\"\n",
       "M11228.5 1312.12 L11228.5 1384.24 L11291.6 1384.24 L11291.6 1312.12 L11228.5 1312.12 L11228.5 1312.12  Z\n",
       "  \" fill=\"#009af9\" fill-rule=\"evenodd\" fill-opacity=\"1\"/>\n",
       "<polyline clip-path=\"url(#clip562)\" style=\"stroke:#000000; stroke-width:4; stroke-opacity:1; fill:none\" points=\"\n",
       "  11228.5,1312.12 11228.5,1384.24 11291.6,1384.24 11291.6,1312.12 11228.5,1312.12 \n",
       "  \"/>\n",
       "<path clip-path=\"url(#clip562)\" d=\"\n",
       "M11291.6 1384.24 L11291.6 1384.24 L11354.7 1384.24 L11354.7 1384.24 L11291.6 1384.24 L11291.6 1384.24  Z\n",
       "  \" fill=\"#009af9\" fill-rule=\"evenodd\" fill-opacity=\"1\"/>\n",
       "<polyline clip-path=\"url(#clip562)\" style=\"stroke:#000000; stroke-width:4; stroke-opacity:1; fill:none\" points=\"\n",
       "  11291.6,1384.24 11291.6,1384.24 11354.7,1384.24 11291.6,1384.24 \n",
       "  \"/>\n",
       "<path clip-path=\"url(#clip562)\" d=\"\n",
       "M11354.7 1384.24 L11354.7 1384.24 L11417.7 1384.24 L11417.7 1384.24 L11354.7 1384.24 L11354.7 1384.24  Z\n",
       "  \" fill=\"#009af9\" fill-rule=\"evenodd\" fill-opacity=\"1\"/>\n",
       "<polyline clip-path=\"url(#clip562)\" style=\"stroke:#000000; stroke-width:4; stroke-opacity:1; fill:none\" points=\"\n",
       "  11354.7,1384.24 11354.7,1384.24 11417.7,1384.24 11354.7,1384.24 \n",
       "  \"/>\n",
       "<path clip-path=\"url(#clip562)\" d=\"\n",
       "M11417.7 1384.24 L11417.7 1384.24 L11480.8 1384.24 L11480.8 1384.24 L11417.7 1384.24 L11417.7 1384.24  Z\n",
       "  \" fill=\"#009af9\" fill-rule=\"evenodd\" fill-opacity=\"1\"/>\n",
       "<polyline clip-path=\"url(#clip562)\" style=\"stroke:#000000; stroke-width:4; stroke-opacity:1; fill:none\" points=\"\n",
       "  11417.7,1384.24 11417.7,1384.24 11480.8,1384.24 11417.7,1384.24 \n",
       "  \"/>\n",
       "<path clip-path=\"url(#clip562)\" d=\"\n",
       "M11480.8 1312.12 L11480.8 1384.24 L11543.8 1384.24 L11543.8 1312.12 L11480.8 1312.12 L11480.8 1312.12  Z\n",
       "  \" fill=\"#009af9\" fill-rule=\"evenodd\" fill-opacity=\"1\"/>\n",
       "<polyline clip-path=\"url(#clip562)\" style=\"stroke:#000000; stroke-width:4; stroke-opacity:1; fill:none\" points=\"\n",
       "  11480.8,1312.12 11480.8,1384.24 11543.8,1384.24 11543.8,1312.12 11480.8,1312.12 \n",
       "  \"/>\n",
       "<path clip-path=\"url(#clip562)\" d=\"\n",
       "M11543.8 1384.24 L11543.8 1384.24 L11606.9 1384.24 L11606.9 1384.24 L11543.8 1384.24 L11543.8 1384.24  Z\n",
       "  \" fill=\"#009af9\" fill-rule=\"evenodd\" fill-opacity=\"1\"/>\n",
       "<polyline clip-path=\"url(#clip562)\" style=\"stroke:#000000; stroke-width:4; stroke-opacity:1; fill:none\" points=\"\n",
       "  11543.8,1384.24 11543.8,1384.24 11606.9,1384.24 11543.8,1384.24 \n",
       "  \"/>\n",
       "<path clip-path=\"url(#clip562)\" d=\"\n",
       "M11606.9 1384.24 L11606.9 1384.24 L11670 1384.24 L11670 1384.24 L11606.9 1384.24 L11606.9 1384.24  Z\n",
       "  \" fill=\"#009af9\" fill-rule=\"evenodd\" fill-opacity=\"1\"/>\n",
       "<polyline clip-path=\"url(#clip562)\" style=\"stroke:#000000; stroke-width:4; stroke-opacity:1; fill:none\" points=\"\n",
       "  11606.9,1384.24 11606.9,1384.24 11670,1384.24 11606.9,1384.24 \n",
       "  \"/>\n",
       "<path clip-path=\"url(#clip562)\" d=\"\n",
       "M11670 1384.24 L11670 1384.24 L11733 1384.24 L11733 1384.24 L11670 1384.24 L11670 1384.24  Z\n",
       "  \" fill=\"#009af9\" fill-rule=\"evenodd\" fill-opacity=\"1\"/>\n",
       "<polyline clip-path=\"url(#clip562)\" style=\"stroke:#000000; stroke-width:4; stroke-opacity:1; fill:none\" points=\"\n",
       "  11670,1384.24 11670,1384.24 11733,1384.24 11670,1384.24 \n",
       "  \"/>\n",
       "<path clip-path=\"url(#clip562)\" d=\"\n",
       "M11733 1384.24 L11733 1384.24 L11796.1 1384.24 L11796.1 1384.24 L11733 1384.24 L11733 1384.24  Z\n",
       "  \" fill=\"#009af9\" fill-rule=\"evenodd\" fill-opacity=\"1\"/>\n",
       "<polyline clip-path=\"url(#clip562)\" style=\"stroke:#000000; stroke-width:4; stroke-opacity:1; fill:none\" points=\"\n",
       "  11733,1384.24 11733,1384.24 11796.1,1384.24 11733,1384.24 \n",
       "  \"/>\n",
       "<path clip-path=\"url(#clip562)\" d=\"\n",
       "M11796.1 1384.24 L11796.1 1384.24 L11859.1 1384.24 L11859.1 1384.24 L11796.1 1384.24 L11796.1 1384.24  Z\n",
       "  \" fill=\"#009af9\" fill-rule=\"evenodd\" fill-opacity=\"1\"/>\n",
       "<polyline clip-path=\"url(#clip562)\" style=\"stroke:#000000; stroke-width:4; stroke-opacity:1; fill:none\" points=\"\n",
       "  11796.1,1384.24 11796.1,1384.24 11859.1,1384.24 11796.1,1384.24 \n",
       "  \"/>\n",
       "<path clip-path=\"url(#clip562)\" d=\"\n",
       "M11859.1 1384.24 L11859.1 1384.24 L11922.2 1384.24 L11922.2 1384.24 L11859.1 1384.24 L11859.1 1384.24  Z\n",
       "  \" fill=\"#009af9\" fill-rule=\"evenodd\" fill-opacity=\"1\"/>\n",
       "<polyline clip-path=\"url(#clip562)\" style=\"stroke:#000000; stroke-width:4; stroke-opacity:1; fill:none\" points=\"\n",
       "  11859.1,1384.24 11859.1,1384.24 11922.2,1384.24 11859.1,1384.24 \n",
       "  \"/>\n",
       "<path clip-path=\"url(#clip562)\" d=\"\n",
       "M11922.2 1384.24 L11922.2 1384.24 L11985.3 1384.24 L11985.3 1384.24 L11922.2 1384.24 L11922.2 1384.24  Z\n",
       "  \" fill=\"#009af9\" fill-rule=\"evenodd\" fill-opacity=\"1\"/>\n",
       "<polyline clip-path=\"url(#clip562)\" style=\"stroke:#000000; stroke-width:4; stroke-opacity:1; fill:none\" points=\"\n",
       "  11922.2,1384.24 11922.2,1384.24 11985.3,1384.24 11922.2,1384.24 \n",
       "  \"/>\n",
       "<path clip-path=\"url(#clip562)\" d=\"\n",
       "M11985.3 1312.12 L11985.3 1384.24 L12048.3 1384.24 L12048.3 1312.12 L11985.3 1312.12 L11985.3 1312.12  Z\n",
       "  \" fill=\"#009af9\" fill-rule=\"evenodd\" fill-opacity=\"1\"/>\n",
       "<polyline clip-path=\"url(#clip562)\" style=\"stroke:#000000; stroke-width:4; stroke-opacity:1; fill:none\" points=\"\n",
       "  11985.3,1312.12 11985.3,1384.24 12048.3,1384.24 12048.3,1312.12 11985.3,1312.12 \n",
       "  \"/>\n",
       "<path clip-path=\"url(#clip562)\" d=\"\n",
       "M12048.3 1384.24 L12048.3 1384.24 L12111.4 1384.24 L12111.4 1384.24 L12048.3 1384.24 L12048.3 1384.24  Z\n",
       "  \" fill=\"#009af9\" fill-rule=\"evenodd\" fill-opacity=\"1\"/>\n",
       "<polyline clip-path=\"url(#clip562)\" style=\"stroke:#000000; stroke-width:4; stroke-opacity:1; fill:none\" points=\"\n",
       "  12048.3,1384.24 12048.3,1384.24 12111.4,1384.24 12048.3,1384.24 \n",
       "  \"/>\n",
       "<path clip-path=\"url(#clip562)\" d=\"\n",
       "M12111.4 1312.12 L12111.4 1384.24 L12174.5 1384.24 L12174.5 1312.12 L12111.4 1312.12 L12111.4 1312.12  Z\n",
       "  \" fill=\"#009af9\" fill-rule=\"evenodd\" fill-opacity=\"1\"/>\n",
       "<polyline clip-path=\"url(#clip562)\" style=\"stroke:#000000; stroke-width:4; stroke-opacity:1; fill:none\" points=\"\n",
       "  12111.4,1312.12 12111.4,1384.24 12174.5,1384.24 12174.5,1312.12 12111.4,1312.12 \n",
       "  \"/>\n",
       "<path clip-path=\"url(#clip562)\" d=\"\n",
       "M12174.5 1384.24 L12174.5 1384.24 L12237.5 1384.24 L12237.5 1384.24 L12174.5 1384.24 L12174.5 1384.24  Z\n",
       "  \" fill=\"#009af9\" fill-rule=\"evenodd\" fill-opacity=\"1\"/>\n",
       "<polyline clip-path=\"url(#clip562)\" style=\"stroke:#000000; stroke-width:4; stroke-opacity:1; fill:none\" points=\"\n",
       "  12174.5,1384.24 12174.5,1384.24 12237.5,1384.24 12174.5,1384.24 \n",
       "  \"/>\n",
       "<path clip-path=\"url(#clip562)\" d=\"\n",
       "M12237.5 1384.24 L12237.5 1384.24 L12300.6 1384.24 L12300.6 1384.24 L12237.5 1384.24 L12237.5 1384.24  Z\n",
       "  \" fill=\"#009af9\" fill-rule=\"evenodd\" fill-opacity=\"1\"/>\n",
       "<polyline clip-path=\"url(#clip562)\" style=\"stroke:#000000; stroke-width:4; stroke-opacity:1; fill:none\" points=\"\n",
       "  12237.5,1384.24 12237.5,1384.24 12300.6,1384.24 12237.5,1384.24 \n",
       "  \"/>\n",
       "<path clip-path=\"url(#clip562)\" d=\"\n",
       "M12300.6 1384.24 L12300.6 1384.24 L12363.6 1384.24 L12363.6 1384.24 L12300.6 1384.24 L12300.6 1384.24  Z\n",
       "  \" fill=\"#009af9\" fill-rule=\"evenodd\" fill-opacity=\"1\"/>\n",
       "<polyline clip-path=\"url(#clip562)\" style=\"stroke:#000000; stroke-width:4; stroke-opacity:1; fill:none\" points=\"\n",
       "  12300.6,1384.24 12300.6,1384.24 12363.6,1384.24 12300.6,1384.24 \n",
       "  \"/>\n",
       "<path clip-path=\"url(#clip562)\" d=\"\n",
       "M12363.6 1384.24 L12363.6 1384.24 L12426.7 1384.24 L12426.7 1384.24 L12363.6 1384.24 L12363.6 1384.24  Z\n",
       "  \" fill=\"#009af9\" fill-rule=\"evenodd\" fill-opacity=\"1\"/>\n",
       "<polyline clip-path=\"url(#clip562)\" style=\"stroke:#000000; stroke-width:4; stroke-opacity:1; fill:none\" points=\"\n",
       "  12363.6,1384.24 12363.6,1384.24 12426.7,1384.24 12363.6,1384.24 \n",
       "  \"/>\n",
       "<path clip-path=\"url(#clip562)\" d=\"\n",
       "M12426.7 1384.24 L12426.7 1384.24 L12489.8 1384.24 L12489.8 1384.24 L12426.7 1384.24 L12426.7 1384.24  Z\n",
       "  \" fill=\"#009af9\" fill-rule=\"evenodd\" fill-opacity=\"1\"/>\n",
       "<polyline clip-path=\"url(#clip562)\" style=\"stroke:#000000; stroke-width:4; stroke-opacity:1; fill:none\" points=\"\n",
       "  12426.7,1384.24 12426.7,1384.24 12489.8,1384.24 12426.7,1384.24 \n",
       "  \"/>\n",
       "<path clip-path=\"url(#clip562)\" d=\"\n",
       "M12489.8 1384.24 L12489.8 1384.24 L12552.8 1384.24 L12552.8 1384.24 L12489.8 1384.24 L12489.8 1384.24  Z\n",
       "  \" fill=\"#009af9\" fill-rule=\"evenodd\" fill-opacity=\"1\"/>\n",
       "<polyline clip-path=\"url(#clip562)\" style=\"stroke:#000000; stroke-width:4; stroke-opacity:1; fill:none\" points=\"\n",
       "  12489.8,1384.24 12489.8,1384.24 12552.8,1384.24 12489.8,1384.24 \n",
       "  \"/>\n",
       "<path clip-path=\"url(#clip562)\" d=\"\n",
       "M12552.8 1384.24 L12552.8 1384.24 L12615.9 1384.24 L12615.9 1384.24 L12552.8 1384.24 L12552.8 1384.24  Z\n",
       "  \" fill=\"#009af9\" fill-rule=\"evenodd\" fill-opacity=\"1\"/>\n",
       "<polyline clip-path=\"url(#clip562)\" style=\"stroke:#000000; stroke-width:4; stroke-opacity:1; fill:none\" points=\"\n",
       "  12552.8,1384.24 12552.8,1384.24 12615.9,1384.24 12552.8,1384.24 \n",
       "  \"/>\n",
       "<path clip-path=\"url(#clip562)\" d=\"\n",
       "M12615.9 1384.24 L12615.9 1384.24 L12678.9 1384.24 L12678.9 1384.24 L12615.9 1384.24 L12615.9 1384.24  Z\n",
       "  \" fill=\"#009af9\" fill-rule=\"evenodd\" fill-opacity=\"1\"/>\n",
       "<polyline clip-path=\"url(#clip562)\" style=\"stroke:#000000; stroke-width:4; stroke-opacity:1; fill:none\" points=\"\n",
       "  12615.9,1384.24 12615.9,1384.24 12678.9,1384.24 12615.9,1384.24 \n",
       "  \"/>\n",
       "<path clip-path=\"url(#clip562)\" d=\"\n",
       "M12678.9 1384.24 L12678.9 1384.24 L12742 1384.24 L12742 1384.24 L12678.9 1384.24 L12678.9 1384.24  Z\n",
       "  \" fill=\"#009af9\" fill-rule=\"evenodd\" fill-opacity=\"1\"/>\n",
       "<polyline clip-path=\"url(#clip562)\" style=\"stroke:#000000; stroke-width:4; stroke-opacity:1; fill:none\" points=\"\n",
       "  12678.9,1384.24 12678.9,1384.24 12742,1384.24 12678.9,1384.24 \n",
       "  \"/>\n",
       "<path clip-path=\"url(#clip562)\" d=\"\n",
       "M12742 1384.24 L12742 1384.24 L12805.1 1384.24 L12805.1 1384.24 L12742 1384.24 L12742 1384.24  Z\n",
       "  \" fill=\"#009af9\" fill-rule=\"evenodd\" fill-opacity=\"1\"/>\n",
       "<polyline clip-path=\"url(#clip562)\" style=\"stroke:#000000; stroke-width:4; stroke-opacity:1; fill:none\" points=\"\n",
       "  12742,1384.24 12742,1384.24 12805.1,1384.24 12742,1384.24 \n",
       "  \"/>\n",
       "<path clip-path=\"url(#clip562)\" d=\"\n",
       "M12805.1 1384.24 L12805.1 1384.24 L12868.1 1384.24 L12868.1 1384.24 L12805.1 1384.24 L12805.1 1384.24  Z\n",
       "  \" fill=\"#009af9\" fill-rule=\"evenodd\" fill-opacity=\"1\"/>\n",
       "<polyline clip-path=\"url(#clip562)\" style=\"stroke:#000000; stroke-width:4; stroke-opacity:1; fill:none\" points=\"\n",
       "  12805.1,1384.24 12805.1,1384.24 12868.1,1384.24 12805.1,1384.24 \n",
       "  \"/>\n",
       "<path clip-path=\"url(#clip562)\" d=\"\n",
       "M12868.1 1384.24 L12868.1 1384.24 L12931.2 1384.24 L12931.2 1384.24 L12868.1 1384.24 L12868.1 1384.24  Z\n",
       "  \" fill=\"#009af9\" fill-rule=\"evenodd\" fill-opacity=\"1\"/>\n",
       "<polyline clip-path=\"url(#clip562)\" style=\"stroke:#000000; stroke-width:4; stroke-opacity:1; fill:none\" points=\"\n",
       "  12868.1,1384.24 12868.1,1384.24 12931.2,1384.24 12868.1,1384.24 \n",
       "  \"/>\n",
       "<path clip-path=\"url(#clip562)\" d=\"\n",
       "M12931.2 1384.24 L12931.2 1384.24 L12994.2 1384.24 L12994.2 1384.24 L12931.2 1384.24 L12931.2 1384.24  Z\n",
       "  \" fill=\"#009af9\" fill-rule=\"evenodd\" fill-opacity=\"1\"/>\n",
       "<polyline clip-path=\"url(#clip562)\" style=\"stroke:#000000; stroke-width:4; stroke-opacity:1; fill:none\" points=\"\n",
       "  12931.2,1384.24 12931.2,1384.24 12994.2,1384.24 12931.2,1384.24 \n",
       "  \"/>\n",
       "<path clip-path=\"url(#clip562)\" d=\"\n",
       "M12994.2 1384.24 L12994.2 1384.24 L13057.3 1384.24 L13057.3 1384.24 L12994.2 1384.24 L12994.2 1384.24  Z\n",
       "  \" fill=\"#009af9\" fill-rule=\"evenodd\" fill-opacity=\"1\"/>\n",
       "<polyline clip-path=\"url(#clip562)\" style=\"stroke:#000000; stroke-width:4; stroke-opacity:1; fill:none\" points=\"\n",
       "  12994.2,1384.24 12994.2,1384.24 13057.3,1384.24 12994.2,1384.24 \n",
       "  \"/>\n",
       "<path clip-path=\"url(#clip562)\" d=\"\n",
       "M13057.3 1384.24 L13057.3 1384.24 L13120.4 1384.24 L13120.4 1384.24 L13057.3 1384.24 L13057.3 1384.24  Z\n",
       "  \" fill=\"#009af9\" fill-rule=\"evenodd\" fill-opacity=\"1\"/>\n",
       "<polyline clip-path=\"url(#clip562)\" style=\"stroke:#000000; stroke-width:4; stroke-opacity:1; fill:none\" points=\"\n",
       "  13057.3,1384.24 13057.3,1384.24 13120.4,1384.24 13057.3,1384.24 \n",
       "  \"/>\n",
       "<path clip-path=\"url(#clip562)\" d=\"\n",
       "M13120.4 1384.24 L13120.4 1384.24 L13183.4 1384.24 L13183.4 1384.24 L13120.4 1384.24 L13120.4 1384.24  Z\n",
       "  \" fill=\"#009af9\" fill-rule=\"evenodd\" fill-opacity=\"1\"/>\n",
       "<polyline clip-path=\"url(#clip562)\" style=\"stroke:#000000; stroke-width:4; stroke-opacity:1; fill:none\" points=\"\n",
       "  13120.4,1384.24 13120.4,1384.24 13183.4,1384.24 13120.4,1384.24 \n",
       "  \"/>\n",
       "<path clip-path=\"url(#clip562)\" d=\"\n",
       "M13183.4 1384.24 L13183.4 1384.24 L13246.5 1384.24 L13246.5 1384.24 L13183.4 1384.24 L13183.4 1384.24  Z\n",
       "  \" fill=\"#009af9\" fill-rule=\"evenodd\" fill-opacity=\"1\"/>\n",
       "<polyline clip-path=\"url(#clip562)\" style=\"stroke:#000000; stroke-width:4; stroke-opacity:1; fill:none\" points=\"\n",
       "  13183.4,1384.24 13183.4,1384.24 13246.5,1384.24 13183.4,1384.24 \n",
       "  \"/>\n",
       "<path clip-path=\"url(#clip562)\" d=\"\n",
       "M13246.5 1384.24 L13246.5 1384.24 L13309.6 1384.24 L13309.6 1384.24 L13246.5 1384.24 L13246.5 1384.24  Z\n",
       "  \" fill=\"#009af9\" fill-rule=\"evenodd\" fill-opacity=\"1\"/>\n",
       "<polyline clip-path=\"url(#clip562)\" style=\"stroke:#000000; stroke-width:4; stroke-opacity:1; fill:none\" points=\"\n",
       "  13246.5,1384.24 13246.5,1384.24 13309.6,1384.24 13246.5,1384.24 \n",
       "  \"/>\n",
       "<path clip-path=\"url(#clip562)\" d=\"\n",
       "M13309.6 1384.24 L13309.6 1384.24 L13372.6 1384.24 L13372.6 1384.24 L13309.6 1384.24 L13309.6 1384.24  Z\n",
       "  \" fill=\"#009af9\" fill-rule=\"evenodd\" fill-opacity=\"1\"/>\n",
       "<polyline clip-path=\"url(#clip562)\" style=\"stroke:#000000; stroke-width:4; stroke-opacity:1; fill:none\" points=\"\n",
       "  13309.6,1384.24 13309.6,1384.24 13372.6,1384.24 13309.6,1384.24 \n",
       "  \"/>\n",
       "<path clip-path=\"url(#clip562)\" d=\"\n",
       "M13372.6 1312.12 L13372.6 1384.24 L13435.7 1384.24 L13435.7 1312.12 L13372.6 1312.12 L13372.6 1312.12  Z\n",
       "  \" fill=\"#009af9\" fill-rule=\"evenodd\" fill-opacity=\"1\"/>\n",
       "<polyline clip-path=\"url(#clip562)\" style=\"stroke:#000000; stroke-width:4; stroke-opacity:1; fill:none\" points=\"\n",
       "  13372.6,1312.12 13372.6,1384.24 13435.7,1384.24 13435.7,1312.12 13372.6,1312.12 \n",
       "  \"/>\n",
       "<path clip-path=\"url(#clip562)\" d=\"\n",
       "M13435.7 1384.24 L13435.7 1384.24 L13498.7 1384.24 L13498.7 1384.24 L13435.7 1384.24 L13435.7 1384.24  Z\n",
       "  \" fill=\"#009af9\" fill-rule=\"evenodd\" fill-opacity=\"1\"/>\n",
       "<polyline clip-path=\"url(#clip562)\" style=\"stroke:#000000; stroke-width:4; stroke-opacity:1; fill:none\" points=\"\n",
       "  13435.7,1384.24 13435.7,1384.24 13498.7,1384.24 13435.7,1384.24 \n",
       "  \"/>\n",
       "<path clip-path=\"url(#clip562)\" d=\"\n",
       "M13498.7 1384.24 L13498.7 1384.24 L13561.8 1384.24 L13561.8 1384.24 L13498.7 1384.24 L13498.7 1384.24  Z\n",
       "  \" fill=\"#009af9\" fill-rule=\"evenodd\" fill-opacity=\"1\"/>\n",
       "<polyline clip-path=\"url(#clip562)\" style=\"stroke:#000000; stroke-width:4; stroke-opacity:1; fill:none\" points=\"\n",
       "  13498.7,1384.24 13498.7,1384.24 13561.8,1384.24 13498.7,1384.24 \n",
       "  \"/>\n",
       "<path clip-path=\"url(#clip562)\" d=\"\n",
       "M13561.8 1384.24 L13561.8 1384.24 L13624.9 1384.24 L13624.9 1384.24 L13561.8 1384.24 L13561.8 1384.24  Z\n",
       "  \" fill=\"#009af9\" fill-rule=\"evenodd\" fill-opacity=\"1\"/>\n",
       "<polyline clip-path=\"url(#clip562)\" style=\"stroke:#000000; stroke-width:4; stroke-opacity:1; fill:none\" points=\"\n",
       "  13561.8,1384.24 13561.8,1384.24 13624.9,1384.24 13561.8,1384.24 \n",
       "  \"/>\n",
       "<path clip-path=\"url(#clip562)\" d=\"\n",
       "M13624.9 1384.24 L13624.9 1384.24 L13687.9 1384.24 L13687.9 1384.24 L13624.9 1384.24 L13624.9 1384.24  Z\n",
       "  \" fill=\"#009af9\" fill-rule=\"evenodd\" fill-opacity=\"1\"/>\n",
       "<polyline clip-path=\"url(#clip562)\" style=\"stroke:#000000; stroke-width:4; stroke-opacity:1; fill:none\" points=\"\n",
       "  13624.9,1384.24 13624.9,1384.24 13687.9,1384.24 13624.9,1384.24 \n",
       "  \"/>\n",
       "<path clip-path=\"url(#clip562)\" d=\"\n",
       "M13687.9 1384.24 L13687.9 1384.24 L13751 1384.24 L13751 1384.24 L13687.9 1384.24 L13687.9 1384.24  Z\n",
       "  \" fill=\"#009af9\" fill-rule=\"evenodd\" fill-opacity=\"1\"/>\n",
       "<polyline clip-path=\"url(#clip562)\" style=\"stroke:#000000; stroke-width:4; stroke-opacity:1; fill:none\" points=\"\n",
       "  13687.9,1384.24 13687.9,1384.24 13751,1384.24 13687.9,1384.24 \n",
       "  \"/>\n",
       "<path clip-path=\"url(#clip562)\" d=\"\n",
       "M13751 1384.24 L13751 1384.24 L13814 1384.24 L13814 1384.24 L13751 1384.24 L13751 1384.24  Z\n",
       "  \" fill=\"#009af9\" fill-rule=\"evenodd\" fill-opacity=\"1\"/>\n",
       "<polyline clip-path=\"url(#clip562)\" style=\"stroke:#000000; stroke-width:4; stroke-opacity:1; fill:none\" points=\"\n",
       "  13751,1384.24 13751,1384.24 13814,1384.24 13751,1384.24 \n",
       "  \"/>\n",
       "<path clip-path=\"url(#clip562)\" d=\"\n",
       "M13814 1384.24 L13814 1384.24 L13877.1 1384.24 L13877.1 1384.24 L13814 1384.24 L13814 1384.24  Z\n",
       "  \" fill=\"#009af9\" fill-rule=\"evenodd\" fill-opacity=\"1\"/>\n",
       "<polyline clip-path=\"url(#clip562)\" style=\"stroke:#000000; stroke-width:4; stroke-opacity:1; fill:none\" points=\"\n",
       "  13814,1384.24 13814,1384.24 13877.1,1384.24 13814,1384.24 \n",
       "  \"/>\n",
       "<path clip-path=\"url(#clip562)\" d=\"\n",
       "M13877.1 1384.24 L13877.1 1384.24 L13940.2 1384.24 L13940.2 1384.24 L13877.1 1384.24 L13877.1 1384.24  Z\n",
       "  \" fill=\"#009af9\" fill-rule=\"evenodd\" fill-opacity=\"1\"/>\n",
       "<polyline clip-path=\"url(#clip562)\" style=\"stroke:#000000; stroke-width:4; stroke-opacity:1; fill:none\" points=\"\n",
       "  13877.1,1384.24 13877.1,1384.24 13940.2,1384.24 13877.1,1384.24 \n",
       "  \"/>\n",
       "<path clip-path=\"url(#clip562)\" d=\"\n",
       "M13940.2 1384.24 L13940.2 1384.24 L14003.2 1384.24 L14003.2 1384.24 L13940.2 1384.24 L13940.2 1384.24  Z\n",
       "  \" fill=\"#009af9\" fill-rule=\"evenodd\" fill-opacity=\"1\"/>\n",
       "<polyline clip-path=\"url(#clip562)\" style=\"stroke:#000000; stroke-width:4; stroke-opacity:1; fill:none\" points=\"\n",
       "  13940.2,1384.24 13940.2,1384.24 14003.2,1384.24 13940.2,1384.24 \n",
       "  \"/>\n",
       "<path clip-path=\"url(#clip562)\" d=\"\n",
       "M14003.2 1384.24 L14003.2 1384.24 L14066.3 1384.24 L14066.3 1384.24 L14003.2 1384.24 L14003.2 1384.24  Z\n",
       "  \" fill=\"#009af9\" fill-rule=\"evenodd\" fill-opacity=\"1\"/>\n",
       "<polyline clip-path=\"url(#clip562)\" style=\"stroke:#000000; stroke-width:4; stroke-opacity:1; fill:none\" points=\"\n",
       "  14003.2,1384.24 14003.2,1384.24 14066.3,1384.24 14003.2,1384.24 \n",
       "  \"/>\n",
       "<path clip-path=\"url(#clip562)\" d=\"\n",
       "M14066.3 1384.24 L14066.3 1384.24 L14129.4 1384.24 L14129.4 1384.24 L14066.3 1384.24 L14066.3 1384.24  Z\n",
       "  \" fill=\"#009af9\" fill-rule=\"evenodd\" fill-opacity=\"1\"/>\n",
       "<polyline clip-path=\"url(#clip562)\" style=\"stroke:#000000; stroke-width:4; stroke-opacity:1; fill:none\" points=\"\n",
       "  14066.3,1384.24 14066.3,1384.24 14129.4,1384.24 14066.3,1384.24 \n",
       "  \"/>\n",
       "<path clip-path=\"url(#clip562)\" d=\"\n",
       "M14129.4 1384.24 L14129.4 1384.24 L14192.4 1384.24 L14192.4 1384.24 L14129.4 1384.24 L14129.4 1384.24  Z\n",
       "  \" fill=\"#009af9\" fill-rule=\"evenodd\" fill-opacity=\"1\"/>\n",
       "<polyline clip-path=\"url(#clip562)\" style=\"stroke:#000000; stroke-width:4; stroke-opacity:1; fill:none\" points=\"\n",
       "  14129.4,1384.24 14129.4,1384.24 14192.4,1384.24 14129.4,1384.24 \n",
       "  \"/>\n",
       "<path clip-path=\"url(#clip562)\" d=\"\n",
       "M14192.4 1312.12 L14192.4 1384.24 L14255.5 1384.24 L14255.5 1312.12 L14192.4 1312.12 L14192.4 1312.12  Z\n",
       "  \" fill=\"#009af9\" fill-rule=\"evenodd\" fill-opacity=\"1\"/>\n",
       "<polyline clip-path=\"url(#clip562)\" style=\"stroke:#000000; stroke-width:4; stroke-opacity:1; fill:none\" points=\"\n",
       "  14192.4,1312.12 14192.4,1384.24 14255.5,1384.24 14255.5,1312.12 14192.4,1312.12 \n",
       "  \"/>\n",
       "<path clip-path=\"url(#clip562)\" d=\"\n",
       "M14255.5 1384.24 L14255.5 1384.24 L14318.5 1384.24 L14318.5 1384.24 L14255.5 1384.24 L14255.5 1384.24  Z\n",
       "  \" fill=\"#009af9\" fill-rule=\"evenodd\" fill-opacity=\"1\"/>\n",
       "<polyline clip-path=\"url(#clip562)\" style=\"stroke:#000000; stroke-width:4; stroke-opacity:1; fill:none\" points=\"\n",
       "  14255.5,1384.24 14255.5,1384.24 14318.5,1384.24 14255.5,1384.24 \n",
       "  \"/>\n",
       "<path clip-path=\"url(#clip562)\" d=\"\n",
       "M14318.5 1384.24 L14318.5 1384.24 L14381.6 1384.24 L14381.6 1384.24 L14318.5 1384.24 L14318.5 1384.24  Z\n",
       "  \" fill=\"#009af9\" fill-rule=\"evenodd\" fill-opacity=\"1\"/>\n",
       "<polyline clip-path=\"url(#clip562)\" style=\"stroke:#000000; stroke-width:4; stroke-opacity:1; fill:none\" points=\"\n",
       "  14318.5,1384.24 14318.5,1384.24 14381.6,1384.24 14318.5,1384.24 \n",
       "  \"/>\n",
       "<path clip-path=\"url(#clip562)\" d=\"\n",
       "M14381.6 1384.24 L14381.6 1384.24 L14444.7 1384.24 L14444.7 1384.24 L14381.6 1384.24 L14381.6 1384.24  Z\n",
       "  \" fill=\"#009af9\" fill-rule=\"evenodd\" fill-opacity=\"1\"/>\n",
       "<polyline clip-path=\"url(#clip562)\" style=\"stroke:#000000; stroke-width:4; stroke-opacity:1; fill:none\" points=\"\n",
       "  14381.6,1384.24 14381.6,1384.24 14444.7,1384.24 14381.6,1384.24 \n",
       "  \"/>\n",
       "<path clip-path=\"url(#clip562)\" d=\"\n",
       "M14444.7 1384.24 L14444.7 1384.24 L14507.7 1384.24 L14507.7 1384.24 L14444.7 1384.24 L14444.7 1384.24  Z\n",
       "  \" fill=\"#009af9\" fill-rule=\"evenodd\" fill-opacity=\"1\"/>\n",
       "<polyline clip-path=\"url(#clip562)\" style=\"stroke:#000000; stroke-width:4; stroke-opacity:1; fill:none\" points=\"\n",
       "  14444.7,1384.24 14444.7,1384.24 14507.7,1384.24 14444.7,1384.24 \n",
       "  \"/>\n",
       "<path clip-path=\"url(#clip562)\" d=\"\n",
       "M14507.7 1384.24 L14507.7 1384.24 L14570.8 1384.24 L14570.8 1384.24 L14507.7 1384.24 L14507.7 1384.24  Z\n",
       "  \" fill=\"#009af9\" fill-rule=\"evenodd\" fill-opacity=\"1\"/>\n",
       "<polyline clip-path=\"url(#clip562)\" style=\"stroke:#000000; stroke-width:4; stroke-opacity:1; fill:none\" points=\"\n",
       "  14507.7,1384.24 14507.7,1384.24 14570.8,1384.24 14507.7,1384.24 \n",
       "  \"/>\n",
       "<path clip-path=\"url(#clip562)\" d=\"\n",
       "M14570.8 1384.24 L14570.8 1384.24 L14633.8 1384.24 L14633.8 1384.24 L14570.8 1384.24 L14570.8 1384.24  Z\n",
       "  \" fill=\"#009af9\" fill-rule=\"evenodd\" fill-opacity=\"1\"/>\n",
       "<polyline clip-path=\"url(#clip562)\" style=\"stroke:#000000; stroke-width:4; stroke-opacity:1; fill:none\" points=\"\n",
       "  14570.8,1384.24 14570.8,1384.24 14633.8,1384.24 14570.8,1384.24 \n",
       "  \"/>\n",
       "<path clip-path=\"url(#clip562)\" d=\"\n",
       "M14633.8 1384.24 L14633.8 1384.24 L14696.9 1384.24 L14696.9 1384.24 L14633.8 1384.24 L14633.8 1384.24  Z\n",
       "  \" fill=\"#009af9\" fill-rule=\"evenodd\" fill-opacity=\"1\"/>\n",
       "<polyline clip-path=\"url(#clip562)\" style=\"stroke:#000000; stroke-width:4; stroke-opacity:1; fill:none\" points=\"\n",
       "  14633.8,1384.24 14633.8,1384.24 14696.9,1384.24 14633.8,1384.24 \n",
       "  \"/>\n",
       "<path clip-path=\"url(#clip562)\" d=\"\n",
       "M14696.9 1384.24 L14696.9 1384.24 L14760 1384.24 L14760 1384.24 L14696.9 1384.24 L14696.9 1384.24  Z\n",
       "  \" fill=\"#009af9\" fill-rule=\"evenodd\" fill-opacity=\"1\"/>\n",
       "<polyline clip-path=\"url(#clip562)\" style=\"stroke:#000000; stroke-width:4; stroke-opacity:1; fill:none\" points=\"\n",
       "  14696.9,1384.24 14696.9,1384.24 14760,1384.24 14696.9,1384.24 \n",
       "  \"/>\n",
       "<path clip-path=\"url(#clip562)\" d=\"\n",
       "M14760 1384.24 L14760 1384.24 L14823 1384.24 L14823 1384.24 L14760 1384.24 L14760 1384.24  Z\n",
       "  \" fill=\"#009af9\" fill-rule=\"evenodd\" fill-opacity=\"1\"/>\n",
       "<polyline clip-path=\"url(#clip562)\" style=\"stroke:#000000; stroke-width:4; stroke-opacity:1; fill:none\" points=\"\n",
       "  14760,1384.24 14760,1384.24 14823,1384.24 14760,1384.24 \n",
       "  \"/>\n",
       "<path clip-path=\"url(#clip562)\" d=\"\n",
       "M14823 1384.24 L14823 1384.24 L14886.1 1384.24 L14886.1 1384.24 L14823 1384.24 L14823 1384.24  Z\n",
       "  \" fill=\"#009af9\" fill-rule=\"evenodd\" fill-opacity=\"1\"/>\n",
       "<polyline clip-path=\"url(#clip562)\" style=\"stroke:#000000; stroke-width:4; stroke-opacity:1; fill:none\" points=\"\n",
       "  14823,1384.24 14823,1384.24 14886.1,1384.24 14823,1384.24 \n",
       "  \"/>\n",
       "<path clip-path=\"url(#clip562)\" d=\"\n",
       "M14886.1 1384.24 L14886.1 1384.24 L14949.1 1384.24 L14949.1 1384.24 L14886.1 1384.24 L14886.1 1384.24  Z\n",
       "  \" fill=\"#009af9\" fill-rule=\"evenodd\" fill-opacity=\"1\"/>\n",
       "<polyline clip-path=\"url(#clip562)\" style=\"stroke:#000000; stroke-width:4; stroke-opacity:1; fill:none\" points=\"\n",
       "  14886.1,1384.24 14886.1,1384.24 14949.1,1384.24 14886.1,1384.24 \n",
       "  \"/>\n",
       "<path clip-path=\"url(#clip562)\" d=\"\n",
       "M14949.1 1384.24 L14949.1 1384.24 L15012.2 1384.24 L15012.2 1384.24 L14949.1 1384.24 L14949.1 1384.24  Z\n",
       "  \" fill=\"#009af9\" fill-rule=\"evenodd\" fill-opacity=\"1\"/>\n",
       "<polyline clip-path=\"url(#clip562)\" style=\"stroke:#000000; stroke-width:4; stroke-opacity:1; fill:none\" points=\"\n",
       "  14949.1,1384.24 14949.1,1384.24 15012.2,1384.24 14949.1,1384.24 \n",
       "  \"/>\n",
       "<path clip-path=\"url(#clip562)\" d=\"\n",
       "M15012.2 1384.24 L15012.2 1384.24 L15075.3 1384.24 L15075.3 1384.24 L15012.2 1384.24 L15012.2 1384.24  Z\n",
       "  \" fill=\"#009af9\" fill-rule=\"evenodd\" fill-opacity=\"1\"/>\n",
       "<polyline clip-path=\"url(#clip562)\" style=\"stroke:#000000; stroke-width:4; stroke-opacity:1; fill:none\" points=\"\n",
       "  15012.2,1384.24 15012.2,1384.24 15075.3,1384.24 15012.2,1384.24 \n",
       "  \"/>\n",
       "<path clip-path=\"url(#clip562)\" d=\"\n",
       "M15075.3 1384.24 L15075.3 1384.24 L15138.3 1384.24 L15138.3 1384.24 L15075.3 1384.24 L15075.3 1384.24  Z\n",
       "  \" fill=\"#009af9\" fill-rule=\"evenodd\" fill-opacity=\"1\"/>\n",
       "<polyline clip-path=\"url(#clip562)\" style=\"stroke:#000000; stroke-width:4; stroke-opacity:1; fill:none\" points=\"\n",
       "  15075.3,1384.24 15075.3,1384.24 15138.3,1384.24 15075.3,1384.24 \n",
       "  \"/>\n",
       "<path clip-path=\"url(#clip562)\" d=\"\n",
       "M15138.3 1384.24 L15138.3 1384.24 L15201.4 1384.24 L15201.4 1384.24 L15138.3 1384.24 L15138.3 1384.24  Z\n",
       "  \" fill=\"#009af9\" fill-rule=\"evenodd\" fill-opacity=\"1\"/>\n",
       "<polyline clip-path=\"url(#clip562)\" style=\"stroke:#000000; stroke-width:4; stroke-opacity:1; fill:none\" points=\"\n",
       "  15138.3,1384.24 15138.3,1384.24 15201.4,1384.24 15138.3,1384.24 \n",
       "  \"/>\n",
       "<path clip-path=\"url(#clip562)\" d=\"\n",
       "M15201.4 1384.24 L15201.4 1384.24 L15264.5 1384.24 L15264.5 1384.24 L15201.4 1384.24 L15201.4 1384.24  Z\n",
       "  \" fill=\"#009af9\" fill-rule=\"evenodd\" fill-opacity=\"1\"/>\n",
       "<polyline clip-path=\"url(#clip562)\" style=\"stroke:#000000; stroke-width:4; stroke-opacity:1; fill:none\" points=\"\n",
       "  15201.4,1384.24 15201.4,1384.24 15264.5,1384.24 15201.4,1384.24 \n",
       "  \"/>\n",
       "<path clip-path=\"url(#clip562)\" d=\"\n",
       "M15264.5 1384.24 L15264.5 1384.24 L15327.5 1384.24 L15327.5 1384.24 L15264.5 1384.24 L15264.5 1384.24  Z\n",
       "  \" fill=\"#009af9\" fill-rule=\"evenodd\" fill-opacity=\"1\"/>\n",
       "<polyline clip-path=\"url(#clip562)\" style=\"stroke:#000000; stroke-width:4; stroke-opacity:1; fill:none\" points=\"\n",
       "  15264.5,1384.24 15264.5,1384.24 15327.5,1384.24 15264.5,1384.24 \n",
       "  \"/>\n",
       "<path clip-path=\"url(#clip562)\" d=\"\n",
       "M15327.5 1384.24 L15327.5 1384.24 L15390.6 1384.24 L15390.6 1384.24 L15327.5 1384.24 L15327.5 1384.24  Z\n",
       "  \" fill=\"#009af9\" fill-rule=\"evenodd\" fill-opacity=\"1\"/>\n",
       "<polyline clip-path=\"url(#clip562)\" style=\"stroke:#000000; stroke-width:4; stroke-opacity:1; fill:none\" points=\"\n",
       "  15327.5,1384.24 15327.5,1384.24 15390.6,1384.24 15327.5,1384.24 \n",
       "  \"/>\n",
       "<path clip-path=\"url(#clip562)\" d=\"\n",
       "M15390.6 1384.24 L15390.6 1384.24 L15453.6 1384.24 L15453.6 1384.24 L15390.6 1384.24 L15390.6 1384.24  Z\n",
       "  \" fill=\"#009af9\" fill-rule=\"evenodd\" fill-opacity=\"1\"/>\n",
       "<polyline clip-path=\"url(#clip562)\" style=\"stroke:#000000; stroke-width:4; stroke-opacity:1; fill:none\" points=\"\n",
       "  15390.6,1384.24 15390.6,1384.24 15453.6,1384.24 15390.6,1384.24 \n",
       "  \"/>\n",
       "<path clip-path=\"url(#clip562)\" d=\"\n",
       "M15453.6 1384.24 L15453.6 1384.24 L15516.7 1384.24 L15516.7 1384.24 L15453.6 1384.24 L15453.6 1384.24  Z\n",
       "  \" fill=\"#009af9\" fill-rule=\"evenodd\" fill-opacity=\"1\"/>\n",
       "<polyline clip-path=\"url(#clip562)\" style=\"stroke:#000000; stroke-width:4; stroke-opacity:1; fill:none\" points=\"\n",
       "  15453.6,1384.24 15453.6,1384.24 15516.7,1384.24 15453.6,1384.24 \n",
       "  \"/>\n",
       "<path clip-path=\"url(#clip562)\" d=\"\n",
       "M15516.7 1384.24 L15516.7 1384.24 L15579.8 1384.24 L15579.8 1384.24 L15516.7 1384.24 L15516.7 1384.24  Z\n",
       "  \" fill=\"#009af9\" fill-rule=\"evenodd\" fill-opacity=\"1\"/>\n",
       "<polyline clip-path=\"url(#clip562)\" style=\"stroke:#000000; stroke-width:4; stroke-opacity:1; fill:none\" points=\"\n",
       "  15516.7,1384.24 15516.7,1384.24 15579.8,1384.24 15516.7,1384.24 \n",
       "  \"/>\n",
       "<path clip-path=\"url(#clip562)\" d=\"\n",
       "M15579.8 1384.24 L15579.8 1384.24 L15642.8 1384.24 L15642.8 1384.24 L15579.8 1384.24 L15579.8 1384.24  Z\n",
       "  \" fill=\"#009af9\" fill-rule=\"evenodd\" fill-opacity=\"1\"/>\n",
       "<polyline clip-path=\"url(#clip562)\" style=\"stroke:#000000; stroke-width:4; stroke-opacity:1; fill:none\" points=\"\n",
       "  15579.8,1384.24 15579.8,1384.24 15642.8,1384.24 15579.8,1384.24 \n",
       "  \"/>\n",
       "<path clip-path=\"url(#clip562)\" d=\"\n",
       "M15642.8 1384.24 L15642.8 1384.24 L15705.9 1384.24 L15705.9 1384.24 L15642.8 1384.24 L15642.8 1384.24  Z\n",
       "  \" fill=\"#009af9\" fill-rule=\"evenodd\" fill-opacity=\"1\"/>\n",
       "<polyline clip-path=\"url(#clip562)\" style=\"stroke:#000000; stroke-width:4; stroke-opacity:1; fill:none\" points=\"\n",
       "  15642.8,1384.24 15642.8,1384.24 15705.9,1384.24 15642.8,1384.24 \n",
       "  \"/>\n",
       "<path clip-path=\"url(#clip562)\" d=\"\n",
       "M15705.9 1384.24 L15705.9 1384.24 L15768.9 1384.24 L15768.9 1384.24 L15705.9 1384.24 L15705.9 1384.24  Z\n",
       "  \" fill=\"#009af9\" fill-rule=\"evenodd\" fill-opacity=\"1\"/>\n",
       "<polyline clip-path=\"url(#clip562)\" style=\"stroke:#000000; stroke-width:4; stroke-opacity:1; fill:none\" points=\"\n",
       "  15705.9,1384.24 15705.9,1384.24 15768.9,1384.24 15705.9,1384.24 \n",
       "  \"/>\n",
       "<path clip-path=\"url(#clip562)\" d=\"\n",
       "M15768.9 1384.24 L15768.9 1384.24 L15832 1384.24 L15832 1384.24 L15768.9 1384.24 L15768.9 1384.24  Z\n",
       "  \" fill=\"#009af9\" fill-rule=\"evenodd\" fill-opacity=\"1\"/>\n",
       "<polyline clip-path=\"url(#clip562)\" style=\"stroke:#000000; stroke-width:4; stroke-opacity:1; fill:none\" points=\"\n",
       "  15768.9,1384.24 15768.9,1384.24 15832,1384.24 15768.9,1384.24 \n",
       "  \"/>\n",
       "<path clip-path=\"url(#clip562)\" d=\"\n",
       "M15832 1384.24 L15832 1384.24 L15895.1 1384.24 L15895.1 1384.24 L15832 1384.24 L15832 1384.24  Z\n",
       "  \" fill=\"#009af9\" fill-rule=\"evenodd\" fill-opacity=\"1\"/>\n",
       "<polyline clip-path=\"url(#clip562)\" style=\"stroke:#000000; stroke-width:4; stroke-opacity:1; fill:none\" points=\"\n",
       "  15832,1384.24 15832,1384.24 15895.1,1384.24 15832,1384.24 \n",
       "  \"/>\n",
       "<path clip-path=\"url(#clip562)\" d=\"\n",
       "M15895.1 1384.24 L15895.1 1384.24 L15958.1 1384.24 L15958.1 1384.24 L15895.1 1384.24 L15895.1 1384.24  Z\n",
       "  \" fill=\"#009af9\" fill-rule=\"evenodd\" fill-opacity=\"1\"/>\n",
       "<polyline clip-path=\"url(#clip562)\" style=\"stroke:#000000; stroke-width:4; stroke-opacity:1; fill:none\" points=\"\n",
       "  15895.1,1384.24 15895.1,1384.24 15958.1,1384.24 15895.1,1384.24 \n",
       "  \"/>\n",
       "<path clip-path=\"url(#clip562)\" d=\"\n",
       "M15958.1 1384.24 L15958.1 1384.24 L16021.2 1384.24 L16021.2 1384.24 L15958.1 1384.24 L15958.1 1384.24  Z\n",
       "  \" fill=\"#009af9\" fill-rule=\"evenodd\" fill-opacity=\"1\"/>\n",
       "<polyline clip-path=\"url(#clip562)\" style=\"stroke:#000000; stroke-width:4; stroke-opacity:1; fill:none\" points=\"\n",
       "  15958.1,1384.24 15958.1,1384.24 16021.2,1384.24 15958.1,1384.24 \n",
       "  \"/>\n",
       "<path clip-path=\"url(#clip562)\" d=\"\n",
       "M16021.2 1384.24 L16021.2 1384.24 L16084.3 1384.24 L16084.3 1384.24 L16021.2 1384.24 L16021.2 1384.24  Z\n",
       "  \" fill=\"#009af9\" fill-rule=\"evenodd\" fill-opacity=\"1\"/>\n",
       "<polyline clip-path=\"url(#clip562)\" style=\"stroke:#000000; stroke-width:4; stroke-opacity:1; fill:none\" points=\"\n",
       "  16021.2,1384.24 16021.2,1384.24 16084.3,1384.24 16021.2,1384.24 \n",
       "  \"/>\n",
       "<path clip-path=\"url(#clip562)\" d=\"\n",
       "M16084.3 1384.24 L16084.3 1384.24 L16147.3 1384.24 L16147.3 1384.24 L16084.3 1384.24 L16084.3 1384.24  Z\n",
       "  \" fill=\"#009af9\" fill-rule=\"evenodd\" fill-opacity=\"1\"/>\n",
       "<polyline clip-path=\"url(#clip562)\" style=\"stroke:#000000; stroke-width:4; stroke-opacity:1; fill:none\" points=\"\n",
       "  16084.3,1384.24 16084.3,1384.24 16147.3,1384.24 16084.3,1384.24 \n",
       "  \"/>\n",
       "<path clip-path=\"url(#clip562)\" d=\"\n",
       "M16147.3 1384.24 L16147.3 1384.24 L16210.4 1384.24 L16210.4 1384.24 L16147.3 1384.24 L16147.3 1384.24  Z\n",
       "  \" fill=\"#009af9\" fill-rule=\"evenodd\" fill-opacity=\"1\"/>\n",
       "<polyline clip-path=\"url(#clip562)\" style=\"stroke:#000000; stroke-width:4; stroke-opacity:1; fill:none\" points=\"\n",
       "  16147.3,1384.24 16147.3,1384.24 16210.4,1384.24 16147.3,1384.24 \n",
       "  \"/>\n",
       "<path clip-path=\"url(#clip562)\" d=\"\n",
       "M16210.4 1384.24 L16210.4 1384.24 L16273.4 1384.24 L16273.4 1384.24 L16210.4 1384.24 L16210.4 1384.24  Z\n",
       "  \" fill=\"#009af9\" fill-rule=\"evenodd\" fill-opacity=\"1\"/>\n",
       "<polyline clip-path=\"url(#clip562)\" style=\"stroke:#000000; stroke-width:4; stroke-opacity:1; fill:none\" points=\"\n",
       "  16210.4,1384.24 16210.4,1384.24 16273.4,1384.24 16210.4,1384.24 \n",
       "  \"/>\n",
       "<path clip-path=\"url(#clip562)\" d=\"\n",
       "M16273.4 1384.24 L16273.4 1384.24 L16336.5 1384.24 L16336.5 1384.24 L16273.4 1384.24 L16273.4 1384.24  Z\n",
       "  \" fill=\"#009af9\" fill-rule=\"evenodd\" fill-opacity=\"1\"/>\n",
       "<polyline clip-path=\"url(#clip562)\" style=\"stroke:#000000; stroke-width:4; stroke-opacity:1; fill:none\" points=\"\n",
       "  16273.4,1384.24 16273.4,1384.24 16336.5,1384.24 16273.4,1384.24 \n",
       "  \"/>\n",
       "<path clip-path=\"url(#clip562)\" d=\"\n",
       "M16336.5 1384.24 L16336.5 1384.24 L16399.6 1384.24 L16399.6 1384.24 L16336.5 1384.24 L16336.5 1384.24  Z\n",
       "  \" fill=\"#009af9\" fill-rule=\"evenodd\" fill-opacity=\"1\"/>\n",
       "<polyline clip-path=\"url(#clip562)\" style=\"stroke:#000000; stroke-width:4; stroke-opacity:1; fill:none\" points=\"\n",
       "  16336.5,1384.24 16336.5,1384.24 16399.6,1384.24 16336.5,1384.24 \n",
       "  \"/>\n",
       "<path clip-path=\"url(#clip562)\" d=\"\n",
       "M16399.6 1384.24 L16399.6 1384.24 L16462.6 1384.24 L16462.6 1384.24 L16399.6 1384.24 L16399.6 1384.24  Z\n",
       "  \" fill=\"#009af9\" fill-rule=\"evenodd\" fill-opacity=\"1\"/>\n",
       "<polyline clip-path=\"url(#clip562)\" style=\"stroke:#000000; stroke-width:4; stroke-opacity:1; fill:none\" points=\"\n",
       "  16399.6,1384.24 16399.6,1384.24 16462.6,1384.24 16399.6,1384.24 \n",
       "  \"/>\n",
       "<path clip-path=\"url(#clip562)\" d=\"\n",
       "M16462.6 1384.24 L16462.6 1384.24 L16525.7 1384.24 L16525.7 1384.24 L16462.6 1384.24 L16462.6 1384.24  Z\n",
       "  \" fill=\"#009af9\" fill-rule=\"evenodd\" fill-opacity=\"1\"/>\n",
       "<polyline clip-path=\"url(#clip562)\" style=\"stroke:#000000; stroke-width:4; stroke-opacity:1; fill:none\" points=\"\n",
       "  16462.6,1384.24 16462.6,1384.24 16525.7,1384.24 16462.6,1384.24 \n",
       "  \"/>\n",
       "<path clip-path=\"url(#clip562)\" d=\"\n",
       "M16525.7 1384.24 L16525.7 1384.24 L16588.7 1384.24 L16588.7 1384.24 L16525.7 1384.24 L16525.7 1384.24  Z\n",
       "  \" fill=\"#009af9\" fill-rule=\"evenodd\" fill-opacity=\"1\"/>\n",
       "<polyline clip-path=\"url(#clip562)\" style=\"stroke:#000000; stroke-width:4; stroke-opacity:1; fill:none\" points=\"\n",
       "  16525.7,1384.24 16525.7,1384.24 16588.7,1384.24 16525.7,1384.24 \n",
       "  \"/>\n",
       "<path clip-path=\"url(#clip562)\" d=\"\n",
       "M16588.7 1384.24 L16588.7 1384.24 L16651.8 1384.24 L16651.8 1384.24 L16588.7 1384.24 L16588.7 1384.24  Z\n",
       "  \" fill=\"#009af9\" fill-rule=\"evenodd\" fill-opacity=\"1\"/>\n",
       "<polyline clip-path=\"url(#clip562)\" style=\"stroke:#000000; stroke-width:4; stroke-opacity:1; fill:none\" points=\"\n",
       "  16588.7,1384.24 16588.7,1384.24 16651.8,1384.24 16588.7,1384.24 \n",
       "  \"/>\n",
       "<path clip-path=\"url(#clip562)\" d=\"\n",
       "M16651.8 1384.24 L16651.8 1384.24 L16714.9 1384.24 L16714.9 1384.24 L16651.8 1384.24 L16651.8 1384.24  Z\n",
       "  \" fill=\"#009af9\" fill-rule=\"evenodd\" fill-opacity=\"1\"/>\n",
       "<polyline clip-path=\"url(#clip562)\" style=\"stroke:#000000; stroke-width:4; stroke-opacity:1; fill:none\" points=\"\n",
       "  16651.8,1384.24 16651.8,1384.24 16714.9,1384.24 16651.8,1384.24 \n",
       "  \"/>\n",
       "<path clip-path=\"url(#clip562)\" d=\"\n",
       "M16714.9 1384.24 L16714.9 1384.24 L16777.9 1384.24 L16777.9 1384.24 L16714.9 1384.24 L16714.9 1384.24  Z\n",
       "  \" fill=\"#009af9\" fill-rule=\"evenodd\" fill-opacity=\"1\"/>\n",
       "<polyline clip-path=\"url(#clip562)\" style=\"stroke:#000000; stroke-width:4; stroke-opacity:1; fill:none\" points=\"\n",
       "  16714.9,1384.24 16714.9,1384.24 16777.9,1384.24 16714.9,1384.24 \n",
       "  \"/>\n",
       "<path clip-path=\"url(#clip562)\" d=\"\n",
       "M16777.9 1384.24 L16777.9 1384.24 L16841 1384.24 L16841 1384.24 L16777.9 1384.24 L16777.9 1384.24  Z\n",
       "  \" fill=\"#009af9\" fill-rule=\"evenodd\" fill-opacity=\"1\"/>\n",
       "<polyline clip-path=\"url(#clip562)\" style=\"stroke:#000000; stroke-width:4; stroke-opacity:1; fill:none\" points=\"\n",
       "  16777.9,1384.24 16777.9,1384.24 16841,1384.24 16777.9,1384.24 \n",
       "  \"/>\n",
       "<path clip-path=\"url(#clip562)\" d=\"\n",
       "M16841 1384.24 L16841 1384.24 L16904.1 1384.24 L16904.1 1384.24 L16841 1384.24 L16841 1384.24  Z\n",
       "  \" fill=\"#009af9\" fill-rule=\"evenodd\" fill-opacity=\"1\"/>\n",
       "<polyline clip-path=\"url(#clip562)\" style=\"stroke:#000000; stroke-width:4; stroke-opacity:1; fill:none\" points=\"\n",
       "  16841,1384.24 16841,1384.24 16904.1,1384.24 16841,1384.24 \n",
       "  \"/>\n",
       "<path clip-path=\"url(#clip562)\" d=\"\n",
       "M16904.1 1384.24 L16904.1 1384.24 L16967.1 1384.24 L16967.1 1384.24 L16904.1 1384.24 L16904.1 1384.24  Z\n",
       "  \" fill=\"#009af9\" fill-rule=\"evenodd\" fill-opacity=\"1\"/>\n",
       "<polyline clip-path=\"url(#clip562)\" style=\"stroke:#000000; stroke-width:4; stroke-opacity:1; fill:none\" points=\"\n",
       "  16904.1,1384.24 16904.1,1384.24 16967.1,1384.24 16904.1,1384.24 \n",
       "  \"/>\n",
       "<path clip-path=\"url(#clip562)\" d=\"\n",
       "M16967.1 1384.24 L16967.1 1384.24 L17030.2 1384.24 L17030.2 1384.24 L16967.1 1384.24 L16967.1 1384.24  Z\n",
       "  \" fill=\"#009af9\" fill-rule=\"evenodd\" fill-opacity=\"1\"/>\n",
       "<polyline clip-path=\"url(#clip562)\" style=\"stroke:#000000; stroke-width:4; stroke-opacity:1; fill:none\" points=\"\n",
       "  16967.1,1384.24 16967.1,1384.24 17030.2,1384.24 16967.1,1384.24 \n",
       "  \"/>\n",
       "<path clip-path=\"url(#clip562)\" d=\"\n",
       "M17030.2 1384.24 L17030.2 1384.24 L17093.2 1384.24 L17093.2 1384.24 L17030.2 1384.24 L17030.2 1384.24  Z\n",
       "  \" fill=\"#009af9\" fill-rule=\"evenodd\" fill-opacity=\"1\"/>\n",
       "<polyline clip-path=\"url(#clip562)\" style=\"stroke:#000000; stroke-width:4; stroke-opacity:1; fill:none\" points=\"\n",
       "  17030.2,1384.24 17030.2,1384.24 17093.2,1384.24 17030.2,1384.24 \n",
       "  \"/>\n",
       "<path clip-path=\"url(#clip562)\" d=\"\n",
       "M17093.2 1384.24 L17093.2 1384.24 L17156.3 1384.24 L17156.3 1384.24 L17093.2 1384.24 L17093.2 1384.24  Z\n",
       "  \" fill=\"#009af9\" fill-rule=\"evenodd\" fill-opacity=\"1\"/>\n",
       "<polyline clip-path=\"url(#clip562)\" style=\"stroke:#000000; stroke-width:4; stroke-opacity:1; fill:none\" points=\"\n",
       "  17093.2,1384.24 17093.2,1384.24 17156.3,1384.24 17093.2,1384.24 \n",
       "  \"/>\n",
       "<path clip-path=\"url(#clip562)\" d=\"\n",
       "M17156.3 1384.24 L17156.3 1384.24 L17219.4 1384.24 L17219.4 1384.24 L17156.3 1384.24 L17156.3 1384.24  Z\n",
       "  \" fill=\"#009af9\" fill-rule=\"evenodd\" fill-opacity=\"1\"/>\n",
       "<polyline clip-path=\"url(#clip562)\" style=\"stroke:#000000; stroke-width:4; stroke-opacity:1; fill:none\" points=\"\n",
       "  17156.3,1384.24 17156.3,1384.24 17219.4,1384.24 17156.3,1384.24 \n",
       "  \"/>\n",
       "<path clip-path=\"url(#clip562)\" d=\"\n",
       "M17219.4 1384.24 L17219.4 1384.24 L17282.4 1384.24 L17282.4 1384.24 L17219.4 1384.24 L17219.4 1384.24  Z\n",
       "  \" fill=\"#009af9\" fill-rule=\"evenodd\" fill-opacity=\"1\"/>\n",
       "<polyline clip-path=\"url(#clip562)\" style=\"stroke:#000000; stroke-width:4; stroke-opacity:1; fill:none\" points=\"\n",
       "  17219.4,1384.24 17219.4,1384.24 17282.4,1384.24 17219.4,1384.24 \n",
       "  \"/>\n",
       "<path clip-path=\"url(#clip562)\" d=\"\n",
       "M17282.4 1384.24 L17282.4 1384.24 L17345.5 1384.24 L17345.5 1384.24 L17282.4 1384.24 L17282.4 1384.24  Z\n",
       "  \" fill=\"#009af9\" fill-rule=\"evenodd\" fill-opacity=\"1\"/>\n",
       "<polyline clip-path=\"url(#clip562)\" style=\"stroke:#000000; stroke-width:4; stroke-opacity:1; fill:none\" points=\"\n",
       "  17282.4,1384.24 17282.4,1384.24 17345.5,1384.24 17282.4,1384.24 \n",
       "  \"/>\n",
       "<path clip-path=\"url(#clip562)\" d=\"\n",
       "M17345.5 1384.24 L17345.5 1384.24 L17408.5 1384.24 L17408.5 1384.24 L17345.5 1384.24 L17345.5 1384.24  Z\n",
       "  \" fill=\"#009af9\" fill-rule=\"evenodd\" fill-opacity=\"1\"/>\n",
       "<polyline clip-path=\"url(#clip562)\" style=\"stroke:#000000; stroke-width:4; stroke-opacity:1; fill:none\" points=\"\n",
       "  17345.5,1384.24 17345.5,1384.24 17408.5,1384.24 17345.5,1384.24 \n",
       "  \"/>\n",
       "<path clip-path=\"url(#clip562)\" d=\"\n",
       "M17408.5 1312.12 L17408.5 1384.24 L17471.6 1384.24 L17471.6 1312.12 L17408.5 1312.12 L17408.5 1312.12  Z\n",
       "  \" fill=\"#009af9\" fill-rule=\"evenodd\" fill-opacity=\"1\"/>\n",
       "<polyline clip-path=\"url(#clip562)\" style=\"stroke:#000000; stroke-width:4; stroke-opacity:1; fill:none\" points=\"\n",
       "  17408.5,1312.12 17408.5,1384.24 17471.6,1384.24 17471.6,1312.12 17408.5,1312.12 \n",
       "  \"/>\n",
       "</svg>\n"
      ]
     },
     "execution_count": 18,
     "metadata": {},
     "output_type": "execute_result"
    }
   ],
   "source": [
    "using Statistics # bring in statistical support for standard deviations\n",
    "t = c_bench.times / 1e6 # times in milliseconds\n",
    "m, σ = minimum(t), std(t)\n",
    "\n",
    "histogram(t, bins=500,\n",
    "    xlim=(m - 0.01, m + σ),\n",
    "    xlabel=\"milliseconds\", ylabel=\"count\", label=\"\")\n",
    "# # 2. C with -ffast-math"
   ]
  },
  {
   "cell_type": "code",
   "execution_count": 19,
   "metadata": {},
   "outputs": [
    {
     "data": {
      "text/plain": [
       "c_sum_fastmath (generic function with 1 method)"
      ]
     },
     "execution_count": 19,
     "metadata": {},
     "output_type": "execute_result"
    }
   ],
   "source": [
    "# If we allow C to re-arrange the floating point operations, then it'll vectorize with SIMD (single instruction, multiple data) instructions.\n",
    "const Clib_fastmath = tempname()   # make a temporary file\n",
    "\n",
    "# The same as above but with a -ffast-math flag added\n",
    "open(`gcc -fPIC -O3 -msse3 -xc -shared -ffast-math -o $(Clib_fastmath * \".\" * Libdl.dlext) -`, \"w\") do f\n",
    "    print(f, C_code)\n",
    "end\n",
    "\n",
    "# define a Julia function that calls the C function:\n",
    "c_sum_fastmath(X::Array{Float64}) = ccall((\"c_sum\", Clib_fastmath), Float64, (Csize_t, Ptr{Float64}), length(X), X)"
   ]
  },
  {
   "cell_type": "code",
   "execution_count": 20,
   "metadata": {},
   "outputs": [
    {
     "data": {
      "text/plain": [
       "BenchmarkTools.Trial: \n",
       "  memory estimate:  0 bytes\n",
       "  allocs estimate:  0\n",
       "  --------------\n",
       "  minimum time:     5.134 ms (0.00% GC)\n",
       "  median time:      7.426 ms (0.00% GC)\n",
       "  mean time:        8.353 ms (0.00% GC)\n",
       "  maximum time:     40.822 ms (0.00% GC)\n",
       "  --------------\n",
       "  samples:          599\n",
       "  evals/sample:     1"
      ]
     },
     "execution_count": 20,
     "metadata": {},
     "output_type": "execute_result"
    }
   ],
   "source": [
    "c_fastmath_bench = @benchmark $c_sum_fastmath($a)"
   ]
  },
  {
   "cell_type": "code",
   "execution_count": 21,
   "metadata": {},
   "outputs": [
    {
     "data": {
      "text/plain": [
       "5.133617"
      ]
     },
     "execution_count": 21,
     "metadata": {},
     "output_type": "execute_result"
    }
   ],
   "source": [
    "d[\"C -ffast-math\"] = minimum(c_fastmath_bench.times) / 1e6  # in milliseconds"
   ]
  },
  {
   "cell_type": "markdown",
   "metadata": {},
   "source": [
    "# 3. Python's built in `sum`"
   ]
  },
  {
   "cell_type": "markdown",
   "metadata": {},
   "source": [
    "The `PyCall` package provides a Julia interface to Python:"
   ]
  },
  {
   "cell_type": "code",
   "execution_count": 22,
   "metadata": {},
   "outputs": [
    {
     "name": "stderr",
     "output_type": "stream",
     "text": [
      "\u001b[32m\u001b[1m  Resolving\u001b[22m\u001b[39m package versions...\n",
      "\u001b[32m\u001b[1m  Installed\u001b[22m\u001b[39m PyCall ─ v1.92.1\n",
      "\u001b[32m\u001b[1mUpdating\u001b[22m\u001b[39m `~/.julia/environments/v1.5/Project.toml`\n",
      " \u001b[90m [438e738f] \u001b[39m\u001b[92m+ PyCall v1.92.1\u001b[39m\n",
      "\u001b[32m\u001b[1mUpdating\u001b[22m\u001b[39m `~/.julia/environments/v1.5/Manifest.toml`\n",
      " \u001b[90m [438e738f] \u001b[39m\u001b[92m+ PyCall v1.92.1\u001b[39m\n",
      "\u001b[32m\u001b[1m   Building\u001b[22m\u001b[39m PyCall → `~/.julia/packages/PyCall/BcTLp/deps/build.log`\n",
      "┌ Info: Precompiling PyCall [438e738f-606a-5dbb-bf0a-cddfbfd45ab0]\n",
      "└ @ Base loading.jl:1278\n"
     ]
    }
   ],
   "source": [
    "using Pkg; Pkg.add(\"PyCall\")\n",
    "using PyCall"
   ]
  },
  {
   "cell_type": "code",
   "execution_count": 23,
   "metadata": {},
   "outputs": [
    {
     "data": {
      "text/plain": [
       "PyObject <built-in function sum>"
      ]
     },
     "execution_count": 23,
     "metadata": {},
     "output_type": "execute_result"
    }
   ],
   "source": [
    "# get the Python built-in \"sum\" function:\n",
    "pysum = pybuiltin(\"sum\")"
   ]
  },
  {
   "cell_type": "code",
   "execution_count": 24,
   "metadata": {},
   "outputs": [
    {
     "data": {
      "text/plain": [
       "4.999222014877313e6"
      ]
     },
     "execution_count": 24,
     "metadata": {},
     "output_type": "execute_result"
    }
   ],
   "source": [
    "pysum(a)"
   ]
  },
  {
   "cell_type": "code",
   "execution_count": 25,
   "metadata": {},
   "outputs": [
    {
     "data": {
      "text/plain": [
       "true"
      ]
     },
     "execution_count": 25,
     "metadata": {},
     "output_type": "execute_result"
    }
   ],
   "source": [
    "pysum(a) ≈ sum(a)"
   ]
  },
  {
   "cell_type": "code",
   "execution_count": 26,
   "metadata": {},
   "outputs": [
    {
     "data": {
      "text/plain": [
       "BenchmarkTools.Trial: \n",
       "  memory estimate:  336 bytes\n",
       "  allocs estimate:  6\n",
       "  --------------\n",
       "  minimum time:     3.638 s (0.00% GC)\n",
       "  median time:      3.697 s (0.00% GC)\n",
       "  mean time:        3.697 s (0.00% GC)\n",
       "  maximum time:     3.755 s (0.00% GC)\n",
       "  --------------\n",
       "  samples:          2\n",
       "  evals/sample:     1"
      ]
     },
     "execution_count": 26,
     "metadata": {},
     "output_type": "execute_result"
    }
   ],
   "source": [
    "py_list_bench = @benchmark $pysum($a)"
   ]
  },
  {
   "cell_type": "code",
   "execution_count": 27,
   "metadata": {},
   "outputs": [
    {
     "data": {
      "text/plain": [
       "Dict{Any,Any} with 3 entries:\n",
       "  \"C\"               => 11.614\n",
       "  \"Python built-in\" => 3637.93\n",
       "  \"C -ffast-math\"   => 5.13362"
      ]
     },
     "execution_count": 27,
     "metadata": {},
     "output_type": "execute_result"
    }
   ],
   "source": [
    "d[\"Python built-in\"] = minimum(py_list_bench.times) / 1e6\n",
    "d"
   ]
  },
  {
   "cell_type": "markdown",
   "metadata": {},
   "source": [
    "# 4. Python: `numpy`\n",
    "\n",
    "## Takes advantage of hardware \"SIMD\", but only works when it works.\n",
    "\n",
    "`numpy` is an optimized C library, callable from Python.\n",
    "It may be installed within Julia as follows:"
   ]
  },
  {
   "cell_type": "code",
   "execution_count": 28,
   "metadata": {},
   "outputs": [
    {
     "name": "stderr",
     "output_type": "stream",
     "text": [
      "\u001b[32m\u001b[1m  Resolving\u001b[22m\u001b[39m package versions...\n",
      "\u001b[32m\u001b[1mUpdating\u001b[22m\u001b[39m `~/.julia/environments/v1.5/Project.toml`\n",
      " \u001b[90m [8f4d0f93] \u001b[39m\u001b[92m+ Conda v1.4.1\u001b[39m\n",
      "\u001b[32m\u001b[1mNo Changes\u001b[22m\u001b[39m to `~/.julia/environments/v1.5/Manifest.toml`\n"
     ]
    }
   ],
   "source": [
    "using Pkg; Pkg.add(\"Conda\")\n",
    "using Conda"
   ]
  },
  {
   "cell_type": "code",
   "execution_count": 29,
   "metadata": {},
   "outputs": [
    {
     "name": "stderr",
     "output_type": "stream",
     "text": [
      "┌ Info: Running `conda install -y numpy` in root environment\n",
      "└ @ Conda /Users/mekari53/.julia/packages/Conda/3rPhK/src/Conda.jl:113\n"
     ]
    },
    {
     "name": "stdout",
     "output_type": "stream",
     "text": [
      "Collecting package metadata (current_repodata.json): ...working... done\n",
      "Solving environment: ...working... done\n",
      "\n",
      "# All requested packages already installed.\n",
      "\n"
     ]
    }
   ],
   "source": [
    "Conda.add(\"numpy\")"
   ]
  },
  {
   "cell_type": "code",
   "execution_count": 30,
   "metadata": {},
   "outputs": [
    {
     "data": {
      "text/plain": [
       "BenchmarkTools.Trial: \n",
       "  memory estimate:  336 bytes\n",
       "  allocs estimate:  6\n",
       "  --------------\n",
       "  minimum time:     6.486 ms (0.00% GC)\n",
       "  median time:      8.800 ms (0.00% GC)\n",
       "  mean time:        9.656 ms (0.00% GC)\n",
       "  maximum time:     79.781 ms (0.00% GC)\n",
       "  --------------\n",
       "  samples:          518\n",
       "  evals/sample:     1"
      ]
     },
     "execution_count": 30,
     "metadata": {},
     "output_type": "execute_result"
    }
   ],
   "source": [
    "numpy_sum = pyimport(\"numpy\")[\"sum\"]\n",
    "\n",
    "py_numpy_bench = @benchmark $numpy_sum($a)"
   ]
  },
  {
   "cell_type": "code",
   "execution_count": 31,
   "metadata": {},
   "outputs": [
    {
     "data": {
      "text/plain": [
       "4.999222014877347e6"
      ]
     },
     "execution_count": 31,
     "metadata": {},
     "output_type": "execute_result"
    }
   ],
   "source": [
    "numpy_sum(a)"
   ]
  },
  {
   "cell_type": "code",
   "execution_count": 32,
   "metadata": {},
   "outputs": [
    {
     "data": {
      "text/plain": [
       "true"
      ]
     },
     "execution_count": 32,
     "metadata": {},
     "output_type": "execute_result"
    }
   ],
   "source": [
    "numpy_sum(a) ≈ sum(a)"
   ]
  },
  {
   "cell_type": "code",
   "execution_count": 33,
   "metadata": {},
   "outputs": [
    {
     "data": {
      "text/plain": [
       "Dict{Any,Any} with 4 entries:\n",
       "  \"C\"               => 11.614\n",
       "  \"Python numpy\"    => 6.48584\n",
       "  \"Python built-in\" => 3637.93\n",
       "  \"C -ffast-math\"   => 5.13362"
      ]
     },
     "execution_count": 33,
     "metadata": {},
     "output_type": "execute_result"
    }
   ],
   "source": [
    "d[\"Python numpy\"] = minimum(py_numpy_bench.times) / 1e6\n",
    "d"
   ]
  },
  {
   "cell_type": "markdown",
   "metadata": {},
   "source": [
    "# 5. Python, hand-written"
   ]
  },
  {
   "cell_type": "code",
   "execution_count": 34,
   "metadata": {},
   "outputs": [
    {
     "data": {
      "text/plain": [
       "PyObject <function py_sum at 0x144812dc0>"
      ]
     },
     "execution_count": 34,
     "metadata": {},
     "output_type": "execute_result"
    }
   ],
   "source": [
    "py\"\"\"\n",
    "def py_sum(A):\n",
    "    s = 0.0\n",
    "    for a in A:\n",
    "        s += a\n",
    "    return s\n",
    "\"\"\"\n",
    "\n",
    "sum_py = py\"py_sum\""
   ]
  },
  {
   "cell_type": "code",
   "execution_count": 35,
   "metadata": {},
   "outputs": [
    {
     "data": {
      "text/plain": [
       "BenchmarkTools.Trial: \n",
       "  memory estimate:  336 bytes\n",
       "  allocs estimate:  6\n",
       "  --------------\n",
       "  minimum time:     4.643 s (0.00% GC)\n",
       "  median time:      4.801 s (0.00% GC)\n",
       "  mean time:        4.801 s (0.00% GC)\n",
       "  maximum time:     4.958 s (0.00% GC)\n",
       "  --------------\n",
       "  samples:          2\n",
       "  evals/sample:     1"
      ]
     },
     "execution_count": 35,
     "metadata": {},
     "output_type": "execute_result"
    }
   ],
   "source": [
    "py_hand = @benchmark $sum_py($a)"
   ]
  },
  {
   "cell_type": "code",
   "execution_count": 36,
   "metadata": {},
   "outputs": [
    {
     "data": {
      "text/plain": [
       "4.999222014877313e6"
      ]
     },
     "execution_count": 36,
     "metadata": {},
     "output_type": "execute_result"
    }
   ],
   "source": [
    "sum_py(a)"
   ]
  },
  {
   "cell_type": "code",
   "execution_count": 37,
   "metadata": {},
   "outputs": [
    {
     "data": {
      "text/plain": [
       "true"
      ]
     },
     "execution_count": 37,
     "metadata": {},
     "output_type": "execute_result"
    }
   ],
   "source": [
    "sum_py(a) ≈ sum(a)"
   ]
  },
  {
   "cell_type": "code",
   "execution_count": 38,
   "metadata": {},
   "outputs": [
    {
     "data": {
      "text/plain": [
       "Dict{Any,Any} with 5 entries:\n",
       "  \"C\"                   => 11.614\n",
       "  \"Python numpy\"        => 6.48584\n",
       "  \"Python hand-written\" => 4643.22\n",
       "  \"Python built-in\"     => 3637.93\n",
       "  \"C -ffast-math\"       => 5.13362"
      ]
     },
     "execution_count": 38,
     "metadata": {},
     "output_type": "execute_result"
    }
   ],
   "source": [
    "d[\"Python hand-written\"] = minimum(py_hand.times) / 1e6\n",
    "d"
   ]
  },
  {
   "cell_type": "markdown",
   "metadata": {},
   "source": [
    "# 6. Julia (built-in)\n",
    "\n",
    "## Written directly in Julia, not in C!"
   ]
  },
  {
   "cell_type": "code",
   "execution_count": 39,
   "metadata": {},
   "outputs": [
    {
     "data": {
      "text/html": [
       "sum(a::<b>AbstractArray</b>; <i>dims</i>) in Base at <a href=\"https://github.com/JuliaLang/julia/tree/539f3ce943f59dec8aff3f2238b083f1b27f41e5/base/reducedim.jl#L722\" target=\"_blank\">reducedim.jl:722</a>"
      ],
      "text/plain": [
       "sum(a::AbstractArray; dims) in Base at reducedim.jl:722"
      ]
     },
     "execution_count": 39,
     "metadata": {},
     "output_type": "execute_result"
    }
   ],
   "source": [
    "@which sum(a)"
   ]
  },
  {
   "cell_type": "code",
   "execution_count": 40,
   "metadata": {},
   "outputs": [
    {
     "data": {
      "text/plain": [
       "BenchmarkTools.Trial: \n",
       "  memory estimate:  0 bytes\n",
       "  allocs estimate:  0\n",
       "  --------------\n",
       "  minimum time:     6.008 ms (0.00% GC)\n",
       "  median time:      9.052 ms (0.00% GC)\n",
       "  mean time:        10.482 ms (0.00% GC)\n",
       "  maximum time:     65.334 ms (0.00% GC)\n",
       "  --------------\n",
       "  samples:          477\n",
       "  evals/sample:     1"
      ]
     },
     "execution_count": 40,
     "metadata": {},
     "output_type": "execute_result"
    }
   ],
   "source": [
    "j_bench = @benchmark sum($a)"
   ]
  },
  {
   "cell_type": "code",
   "execution_count": 41,
   "metadata": {},
   "outputs": [
    {
     "data": {
      "text/plain": [
       "Dict{Any,Any} with 6 entries:\n",
       "  \"C\"                   => 11.614\n",
       "  \"Python numpy\"        => 6.48584\n",
       "  \"Python hand-written\" => 4643.22\n",
       "  \"Python built-in\"     => 3637.93\n",
       "  \"Julia built-in\"      => 6.00821\n",
       "  \"C -ffast-math\"       => 5.13362"
      ]
     },
     "execution_count": 41,
     "metadata": {},
     "output_type": "execute_result"
    }
   ],
   "source": [
    "d[\"Julia built-in\"] = minimum(j_bench.times) / 1e6\n",
    "d"
   ]
  },
  {
   "cell_type": "markdown",
   "metadata": {},
   "source": [
    "# 7. Julia (hand-written)"
   ]
  },
  {
   "cell_type": "code",
   "execution_count": 42,
   "metadata": {},
   "outputs": [
    {
     "data": {
      "text/plain": [
       "mysum (generic function with 1 method)"
      ]
     },
     "execution_count": 42,
     "metadata": {},
     "output_type": "execute_result"
    }
   ],
   "source": [
    "function mysum(A)\n",
    "    s = 0.0 # s = zero(eltype(a))\n",
    "    for a in A\n",
    "        s += a\n",
    "    end\n",
    "    s\n",
    "end"
   ]
  },
  {
   "cell_type": "code",
   "execution_count": 43,
   "metadata": {},
   "outputs": [
    {
     "data": {
      "text/plain": [
       "BenchmarkTools.Trial: \n",
       "  memory estimate:  0 bytes\n",
       "  allocs estimate:  0\n",
       "  --------------\n",
       "  minimum time:     13.182 ms (0.00% GC)\n",
       "  median time:      17.593 ms (0.00% GC)\n",
       "  mean time:        19.503 ms (0.00% GC)\n",
       "  maximum time:     56.927 ms (0.00% GC)\n",
       "  --------------\n",
       "  samples:          257\n",
       "  evals/sample:     1"
      ]
     },
     "execution_count": 43,
     "metadata": {},
     "output_type": "execute_result"
    }
   ],
   "source": [
    "j_bench_hand = @benchmark mysum($a)"
   ]
  },
  {
   "cell_type": "code",
   "execution_count": 44,
   "metadata": {},
   "outputs": [
    {
     "data": {
      "text/plain": [
       "Dict{Any,Any} with 7 entries:\n",
       "  \"C\"                   => 11.614\n",
       "  \"Python numpy\"        => 6.48584\n",
       "  \"Julia hand-written\"  => 13.1825\n",
       "  \"Python hand-written\" => 4643.22\n",
       "  \"Python built-in\"     => 3637.93\n",
       "  \"Julia built-in\"      => 6.00821\n",
       "  \"C -ffast-math\"       => 5.13362"
      ]
     },
     "execution_count": 44,
     "metadata": {},
     "output_type": "execute_result"
    }
   ],
   "source": [
    "d[\"Julia hand-written\"] = minimum(j_bench_hand.times) / 1e6\n",
    "d"
   ]
  },
  {
   "cell_type": "markdown",
   "metadata": {},
   "source": [
    "# 8. Julia (hand-written w. simd)"
   ]
  },
  {
   "cell_type": "code",
   "execution_count": 45,
   "metadata": {},
   "outputs": [
    {
     "data": {
      "text/plain": [
       "mysum_simd (generic function with 1 method)"
      ]
     },
     "execution_count": 45,
     "metadata": {},
     "output_type": "execute_result"
    }
   ],
   "source": [
    "function mysum_simd(A)\n",
    "    s = 0.0 # s = zero(eltype(A))\n",
    "    @simd for a in A\n",
    "        s += a\n",
    "    end\n",
    "    s\n",
    "end"
   ]
  },
  {
   "cell_type": "code",
   "execution_count": 46,
   "metadata": {},
   "outputs": [
    {
     "data": {
      "text/plain": [
       "BenchmarkTools.Trial: \n",
       "  memory estimate:  0 bytes\n",
       "  allocs estimate:  0\n",
       "  --------------\n",
       "  minimum time:     6.189 ms (0.00% GC)\n",
       "  median time:      9.209 ms (0.00% GC)\n",
       "  mean time:        11.452 ms (0.00% GC)\n",
       "  maximum time:     70.972 ms (0.00% GC)\n",
       "  --------------\n",
       "  samples:          437\n",
       "  evals/sample:     1"
      ]
     },
     "execution_count": 46,
     "metadata": {},
     "output_type": "execute_result"
    }
   ],
   "source": [
    "j_bench_hand_simd = @benchmark mysum_simd($a)"
   ]
  },
  {
   "cell_type": "code",
   "execution_count": 47,
   "metadata": {},
   "outputs": [
    {
     "data": {
      "text/plain": [
       "4.999222014877383e6"
      ]
     },
     "execution_count": 47,
     "metadata": {},
     "output_type": "execute_result"
    }
   ],
   "source": [
    "mysum_simd(a)"
   ]
  },
  {
   "cell_type": "code",
   "execution_count": 48,
   "metadata": {},
   "outputs": [
    {
     "data": {
      "text/plain": [
       "Dict{Any,Any} with 8 entries:\n",
       "  \"Julia hand-written simd\" => 6.18905\n",
       "  \"C\"                       => 11.614\n",
       "  \"Python numpy\"            => 6.48584\n",
       "  \"Julia hand-written\"      => 13.1825\n",
       "  \"Python hand-written\"     => 4643.22\n",
       "  \"Python built-in\"         => 3637.93\n",
       "  \"Julia built-in\"          => 6.00821\n",
       "  \"C -ffast-math\"           => 5.13362"
      ]
     },
     "execution_count": 48,
     "metadata": {},
     "output_type": "execute_result"
    }
   ],
   "source": [
    "d[\"Julia hand-written simd\"] = minimum(j_bench_hand_simd.times) / 1e6\n",
    "d"
   ]
  },
  {
   "cell_type": "markdown",
   "metadata": {},
   "source": [
    "# Summary"
   ]
  },
  {
   "cell_type": "code",
   "execution_count": 49,
   "metadata": {},
   "outputs": [
    {
     "name": "stdout",
     "output_type": "stream",
     "text": [
      "C -ffast-math...............5.1\n",
      "Julia built-in..............6.0\n",
      "Julia hand-written simd.....6.2\n",
      "Python numpy................6.5\n",
      "C..........................11.6\n",
      "Julia hand-written.........13.2\n",
      "Python built-in..........3637.9\n",
      "Python hand-written......4643.2\n"
     ]
    }
   ],
   "source": [
    "for (key, value) in sort(collect(d), by=last)\n",
    "    println(rpad(key, 25, \".\"), lpad(round(value; digits=1), 6, \".\"))\n",
    "end"
   ]
  }
 ],
 "metadata": {
  "kernelspec": {
   "display_name": "Julia 1.5.2",
   "language": "julia",
   "name": "julia-1.5"
  },
  "language_info": {
   "file_extension": ".jl",
   "mimetype": "application/julia",
   "name": "julia",
   "version": "1.5.2"
  }
 },
 "nbformat": 4,
 "nbformat_minor": 3
}
