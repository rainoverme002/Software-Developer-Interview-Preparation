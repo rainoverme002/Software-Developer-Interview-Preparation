{
 "cells": [
  {
   "cell_type": "markdown",
   "metadata": {},
   "source": [
    "# Module 2"
   ]
  },
  {
   "cell_type": "code",
   "execution_count": 2,
   "metadata": {},
   "outputs": [
    {
     "name": "stdout",
     "output_type": "stream",
     "text": [
      "Hello, World!\n"
     ]
    }
   ],
   "source": [
    "print(\"Hello, World!\")"
   ]
  },
  {
   "cell_type": "markdown",
   "metadata": {},
   "source": [
    "## Function\n",
    "\n",
    "- function let you evaluate value\n",
    "- it can come from python, module/library, or you can create one\n",
    "- function use parentheses () to give argument\n",
    "    ```python\n",
    "    function_name(argument)\n",
    "    ```\n",
    "- Python requires that there cannot be more than one instruction in a line.\n",
    "- Python use the positional way (this name comes from the fact that the meaning of the argument is dictated by its position, e.g., the second argument will be outputted after the first, not the other way round).\n",
    "\n",
    "### How function work in python\n",
    "\n",
    "- First, Python checks if the name specified is legal (it browses its internal data in order to find an existing function of the name; if this search fails, Python aborts the code);\n",
    "- second, Python checks if the function's requirements for the number of arguments allows you to invoke the function in this way (e.g., if a specific function demands exactly two arguments, any invocation delivering only one argument will be considered erroneous, and will abort the code's execution);\n",
    "- third, Python leaves your code for a moment and jumps into the function you want to invoke; of course, it takes your argument(s) too and passes it/them to the function;\n",
    "- fourth, the function executes its code, causes the desired effect (if any), evaluates the desired result(s) (if any) and finishes its task;\n",
    "- finally, Python returns to your code (to the place just after the invocation) and resumes its execution."
   ]
  },
  {
   "cell_type": "code",
   "execution_count": 3,
   "metadata": {},
   "outputs": [
    {
     "name": "stdout",
     "output_type": "stream",
     "text": [
      "The itsy bitsy spider climbed up the waterspout.\n",
      "\n",
      "Down came the rain and washed the spider out.\n"
     ]
    }
   ],
   "source": [
    "# print without argument will produce a newline\n",
    "print(\"The itsy bitsy spider climbed up the waterspout.\")\n",
    "print()\n",
    "print(\"Down came the rain and washed the spider out.\")"
   ]
  },
  {
   "cell_type": "code",
   "execution_count": 4,
   "metadata": {},
   "outputs": [
    {
     "name": "stdout",
     "output_type": "stream",
     "text": [
      "The itsy bitsy spider\n",
      "climbed up the waterspout.\n",
      "\n",
      "Down came the rain\n",
      "and washed the spider out.\n"
     ]
    }
   ],
   "source": [
    "# \\n will give a newline also\n",
    "print(\"The itsy bitsy spider\\nclimbed up the waterspout.\")\n",
    "print()\n",
    "print(\"Down came the rain\\nand washed the spider out.\")"
   ]
  },
  {
   "cell_type": "code",
   "execution_count": 5,
   "metadata": {},
   "outputs": [
    {
     "name": "stdout",
     "output_type": "stream",
     "text": [
      "The itsy bitsy spider climbed up the waterspout.\n",
      "1 climbed up the waterspout.\n"
     ]
    }
   ],
   "source": [
    "# print multiple argument will join them together\n",
    "print(\"The itsy bitsy spider\" , \"climbed up\" , \"the waterspout.\")\n",
    "\n",
    "print(1 , \"climbed up\" , \"the waterspout.\")"
   ]
  },
  {
   "cell_type": "markdown",
   "metadata": {},
   "source": [
    "Any keyword arguments have to be put after the last positional argument (this is very important)"
   ]
  },
  {
   "cell_type": "code",
   "execution_count": 7,
   "metadata": {},
   "outputs": [
    {
     "name": "stdout",
     "output_type": "stream",
     "text": [
      "My name is Python. Monty Python.\n"
     ]
    }
   ],
   "source": [
    "# using keyword\n",
    "print(\"My name is\", \"Python.\", end=\" \")\n",
    "print(\"Monty Python.\")"
   ]
  },
  {
   "cell_type": "code",
   "execution_count": 6,
   "metadata": {},
   "outputs": [
    {
     "name": "stdout",
     "output_type": "stream",
     "text": [
      "My name is Monty Python.\n"
     ]
    }
   ],
   "source": [
    "print(\"My name is \", end=\"\")\n",
    "print(\"Monty Python.\")"
   ]
  },
  {
   "cell_type": "markdown",
   "metadata": {},
   "source": [
    "The keyword argument that can do this is named sep (like separator)"
   ]
  },
  {
   "cell_type": "code",
   "execution_count": 8,
   "metadata": {},
   "outputs": [
    {
     "name": "stdout",
     "output_type": "stream",
     "text": [
      "My-name-is-Monty-Python.\n",
      "My_name_is*Monty*Python.*\n"
     ]
    }
   ],
   "source": [
    "print(\"My\", \"name\", \"is\", \"Monty\", \"Python.\", sep=\"-\")\n",
    "print(\"My\", \"name\", \"is\", sep=\"_\", end=\"*\")\n",
    "print(\"Monty\", \"Python.\", sep=\"*\", end=\"*\\n\")"
   ]
  },
  {
   "cell_type": "code",
   "execution_count": 9,
   "metadata": {},
   "outputs": [
    {
     "name": "stdout",
     "output_type": "stream",
     "text": [
      "Programming***Essentials***in...Python\n"
     ]
    }
   ],
   "source": [
    "print(\"Programming\", \"Essentials\", \"in\", end=\"...\", sep=\"***\")\n",
    "print(\"Python\")"
   ]
  },
  {
   "cell_type": "markdown",
   "metadata": {},
   "source": [
    "## Python Literals\n",
    "\n",
    "- A literal is data whose values are determined by the literal itself.\n",
    "- You use literals to encode data and to put them into your code.\n",
    "- If you encode a literal and place it inside Python code, the form of the literal determines the representation (type) Python will use to store it in the memory."
   ]
  },
  {
   "cell_type": "markdown",
   "metadata": {},
   "source": [
    "### Integer"
   ]
  },
  {
   "cell_type": "code",
   "execution_count": 1,
   "metadata": {},
   "outputs": [
    {
     "name": "stdout",
     "output_type": "stream",
     "text": [
      "83\n",
      "291\n",
      "1\n"
     ]
    }
   ],
   "source": [
    "# python allow you to use octal and hexadecimal number\n",
    "print(0o123)\n",
    "print(0x123)\n",
    "print(1)"
   ]
  },
  {
   "cell_type": "markdown",
   "metadata": {},
   "source": [
    "#### Float"
   ]
  },
  {
   "cell_type": "code",
   "execution_count": 3,
   "metadata": {},
   "outputs": [
    {
     "name": "stdout",
     "output_type": "stream",
     "text": [
      "0.4\n",
      "0.4\n",
      "4.0\n"
     ]
    }
   ],
   "source": [
    "print(.4)\n",
    "print(0.4)\n",
    "print(4.)"
   ]
  },
  {
   "cell_type": "code",
   "execution_count": 4,
   "metadata": {},
   "outputs": [
    {
     "name": "stdout",
     "output_type": "stream",
     "text": [
      "300000000.0\n",
      "3e-08\n"
     ]
    }
   ],
   "source": [
    "# using exponen for long float number\n",
    "print(3E8)\n",
    "print(3E-8)"
   ]
  },
  {
   "cell_type": "markdown",
   "metadata": {},
   "source": [
    "### String"
   ]
  },
  {
   "cell_type": "code",
   "execution_count": 5,
   "metadata": {},
   "outputs": [
    {
     "name": "stdout",
     "output_type": "stream",
     "text": [
      "I like \"Monty Python\"\n"
     ]
    }
   ],
   "source": [
    "print(\"I like \\\"Monty Python\\\"\")"
   ]
  },
  {
   "cell_type": "markdown",
   "metadata": {},
   "source": [
    "### Boolean Value"
   ]
  },
  {
   "cell_type": "code",
   "execution_count": 6,
   "metadata": {},
   "outputs": [
    {
     "name": "stdout",
     "output_type": "stream",
     "text": [
      "True\n",
      "False\n"
     ]
    }
   ],
   "source": [
    "print(True > False)\n",
    "print(True < False)"
   ]
  },
  {
   "cell_type": "markdown",
   "metadata": {},
   "source": [
    "### Excercise Python Literals"
   ]
  },
  {
   "cell_type": "code",
   "execution_count": 15,
   "metadata": {},
   "outputs": [
    {
     "name": "stdout",
     "output_type": "stream",
     "text": [
      "\"I'm\"\n",
      "\"\"learning\"\"\n",
      "\"\"\"Python\"\"\"\n",
      "<class 'str'> <class 'str'>\n",
      "<class 'str'> <class 'float'> <class 'int'> <class 'bool'>\n",
      "11\n"
     ]
    }
   ],
   "source": [
    "print(\"\\\"I\\'m\\\"\\n\\\"\\\"learning\\\"\\\"\\n\\\"\\\"\\\"Python\\\"\\\"\\\"\")\n",
    "print(type(\"Hello \"), type(\"007\"))\n",
    "print(type(\"1.5\"), type(2.0), type(528), type(False))\n",
    "# add 0b to convert binary 1011 to int\n",
    "print(int(0b1011))"
   ]
  },
  {
   "cell_type": "markdown",
   "metadata": {},
   "source": [
    "### Basic Operator"
   ]
  },
  {
   "cell_type": "code",
   "execution_count": 22,
   "metadata": {},
   "outputs": [
    {
     "name": "stdout",
     "output_type": "stream",
     "text": [
      "exponentiation depend on the input\n",
      "8\n",
      "8.0\n",
      "8.0\n",
      "8.0\n",
      "division always resulting float\n",
      "2.0\n",
      "2.0\n",
      "2.0\n",
      "2.0\n",
      "divisional operator depend on the input\n",
      "2\n",
      "2.0\n",
      "2.0\n",
      "2.0\n",
      "modulo operator depend on the input\n",
      "3.0\n",
      "2\n",
      "0\n",
      "4.0\n",
      "-8\n",
      "-4.0\n"
     ]
    }
   ],
   "source": [
    "print('exponentiation depend on the input')\n",
    "print(2 ** 3)\n",
    "print(2 ** 3.)\n",
    "print(2. ** 3)\n",
    "print(2. ** 3.)\n",
    "\n",
    "print('division always resulting float')\n",
    "print(6 / 3)\n",
    "print(6 / 3.)\n",
    "print(6. / 3)\n",
    "print(6. / 3.)\n",
    "\n",
    "print('divisional operator depend on the input')\n",
    "print(6 // 3)\n",
    "print(6 // 3.)\n",
    "print(6. // 3)\n",
    "print(6. // 3.)\n",
    "\n",
    "print('modulo operator depend on the input')\n",
    "print(12 % 4.5)\n",
    "print(12 % 5)\n",
    "\n",
    "print('addition and substraction operator depend on the input')\n",
    "print(-4 + 4)\n",
    "print(-4. + 8)\n",
    "print(-4 - 4)\n",
    "print(4. - 8)\n"
   ]
  },
  {
   "cell_type": "markdown",
   "metadata": {},
   "source": [
    "### Operator binding"
   ]
  },
  {
   "cell_type": "code",
   "execution_count": 24,
   "metadata": {},
   "outputs": [
    {
     "name": "stdout",
     "output_type": "stream",
     "text": [
      "17\n",
      "1\n",
      "256\n"
     ]
    }
   ],
   "source": [
    "# hierarchy\n",
    "print(2 + 3 * 5)\n",
    "\n",
    "# module use left-sided binding\n",
    "print(9 % 6 % 2)\n",
    "\n",
    "# exponentiation use right binding\n",
    "print(2 ** 2 ** 3) # 256 instead of 64"
   ]
  },
  {
   "cell_type": "markdown",
   "metadata": {},
   "source": [
    "|Priority  |Operator    |       |\n",
    "|:--------:|:----------:|:-----:|\t\n",
    "| 1        |\t+, -\t|unary  |\n",
    "| 2\t       |    **\t    |       |\n",
    "| 3\t       |  *, /, %   |       |\t\n",
    "| 4\t       |   +, -\t    |binary |"
   ]
  },
  {
   "cell_type": "code",
   "execution_count": 25,
   "metadata": {},
   "outputs": [
    {
     "name": "stdout",
     "output_type": "stream",
     "text": [
      "10.0\n"
     ]
    }
   ],
   "source": [
    "print((5 * ((25 % 13) + 100) / (2 * 13)) // 2)"
   ]
  },
  {
   "cell_type": "markdown",
   "metadata": {},
   "source": [
    "### Excercise Python Operator"
   ]
  },
  {
   "cell_type": "code",
   "execution_count": 27,
   "metadata": {},
   "outputs": [
    {
     "name": "stdout",
     "output_type": "stream",
     "text": [
      "16 8.0 8\n",
      "-0.5 0.5 0 -1\n",
      "-2 2 512\n"
     ]
    }
   ],
   "source": [
    "print((2 ** 4), (2 * 4.), (2 * 4))\n",
    "print((-2 / 4), (2 / 4), (2 // 4), (-2 // 4))\n",
    "print((2 % -4), (2 % 4), (2 ** 3 ** 2))"
   ]
  },
  {
   "cell_type": "markdown",
   "metadata": {},
   "source": [
    "## Variables\n",
    "\n",
    "- Python offers special \"boxes\" (containers) for store the results, and these boxes are called variables\n",
    "\n",
    "```python\n",
    "# variable naming\n",
    "\n",
    "MyVariable, i, t34, Exchange_Rate, counter, days_to_christmas, TheNameIsSoLongThatYouWillMakeMistakesWithIt, _.\n",
    "```"
   ]
  },
  {
   "cell_type": "code",
   "execution_count": 1,
   "metadata": {},
   "outputs": [
    {
     "name": "stdout",
     "output_type": "stream",
     "text": [
      "1 1000.0 John Doe\n",
      "1\n"
     ]
    }
   ],
   "source": [
    "var = 1\n",
    "account_balance = 1000.0\n",
    "client_name = 'John Doe'\n",
    "print(var, account_balance, client_name)\n",
    "print(var)"
   ]
  },
  {
   "cell_type": "code",
   "execution_count": 2,
   "metadata": {},
   "outputs": [
    {
     "name": "stdout",
     "output_type": "stream",
     "text": [
      "1\n",
      "2\n"
     ]
    }
   ],
   "source": [
    "var = 1\n",
    "print(var)\n",
    "var = var + 1\n",
    "print(var)"
   ]
  },
  {
   "cell_type": "code",
   "execution_count": 3,
   "metadata": {},
   "outputs": [
    {
     "name": "stdout",
     "output_type": "stream",
     "text": [
      "c = 5.0\n"
     ]
    }
   ],
   "source": [
    "a = 3.0\n",
    "b = 4.0\n",
    "c = (a ** 2 + b ** 2) ** 0.5\n",
    "print(\"c =\", c)"
   ]
  },
  {
   "cell_type": "markdown",
   "metadata": {},
   "source": [
    "### Excercise : Variables"
   ]
  },
  {
   "cell_type": "code",
   "execution_count": 4,
   "metadata": {},
   "outputs": [
    {
     "name": "stdout",
     "output_type": "stream",
     "text": [
      "Total number of apples:  3\n",
      "7.38 miles is 11.88 kilometers\n",
      "12.25 kilometers is 7.61 miles\n"
     ]
    }
   ],
   "source": [
    "#excercise 1\n",
    "john = 1\n",
    "mary = 1\n",
    "adam = 1\n",
    "totalApples = john + mary + adam\n",
    "print(\"Total number of apples: \", totalApples)\n",
    "\n",
    "# excercise 2\n",
    "kilometers = 12.25\n",
    "miles = 7.38\n",
    "\n",
    "miles_to_kilometers = miles * 1.61\n",
    "kilometers_to_miles = kilometers / 1.61\n",
    "\n",
    "print(miles, \"miles is\", round(miles_to_kilometers, 2), \"kilometers\")\n",
    "print(kilometers, \"kilometers is\", round(kilometers_to_miles, 2), \"miles\")\n",
    "\n",
    "#excercise 3\n",
    "x =  1\n",
    "x = float(x)\n",
    "y = 3*x**3 - 2*x**2 + 3*x - 1\n",
    "print(\"y =\", y)"
   ]
  },
  {
   "cell_type": "markdown",
   "metadata": {},
   "source": [
    "### Inputs"
   ]
  },
  {
   "cell_type": "code",
   "execution_count": null,
   "metadata": {},
   "outputs": [],
   "source": [
    "anything = input(\"Enter a number: \")\n",
    "something = float(anything) ** 2.0\n",
    "print(anything, \"to the power of 2 is\", something)"
   ]
  },
  {
   "cell_type": "markdown",
   "metadata": {},
   "source": [
    "#### Concat"
   ]
  },
  {
   "cell_type": "code",
   "execution_count": null,
   "metadata": {},
   "outputs": [],
   "source": [
    "fnam = input(\"May I have your first name, please? \")\n",
    "lnam = input(\"May I have your last name, please? \")\n",
    "print(\"Thank you.\")\n",
    "print(\"\\nYour name is \" + fnam + \" \" + lnam + \".\")"
   ]
  },
  {
   "cell_type": "markdown",
   "metadata": {},
   "source": [
    "#### Replication"
   ]
  },
  {
   "cell_type": "code",
   "execution_count": 5,
   "metadata": {},
   "outputs": [
    {
     "name": "stdout",
     "output_type": "stream",
     "text": [
      "+----------+\n",
      "|          |\n",
      "|          |\n",
      "|          |\n",
      "|          |\n",
      "|          |\n",
      "+----------+\n"
     ]
    }
   ],
   "source": [
    "print(\"+\" + 10 * \"-\" + \"+\")\n",
    "print((\"|\" + \" \" * 10 + \"|\\n\") * 5, end=\"\")\n",
    "print(\"+\" + 10 * \"-\" + \"+\")"
   ]
  },
  {
   "cell_type": "code",
   "execution_count": 6,
   "metadata": {},
   "outputs": [
    {
     "name": "stdout",
     "output_type": "stream",
     "text": [
      "Hypotenuse length is 36.05551275463989\n"
     ]
    }
   ],
   "source": [
    "leg_a = float(input(\"Input first leg length: \"))\n",
    "leg_b = float(input(\"Input second leg length: \"))\n",
    "print(\"Hypotenuse length is \" + str((leg_a**2 + leg_b**2) ** .5))"
   ]
  },
  {
   "cell_type": "markdown",
   "metadata": {},
   "source": [
    "### Excercise : Input"
   ]
  },
  {
   "cell_type": "code",
   "execution_count": null,
   "metadata": {},
   "outputs": [],
   "source": [
    "# input a float value for variable a here\n",
    "a = float(input(\"please input a number :\"))\n",
    "# input a float value for variable b here\n",
    "b = float(input(\"please input another number :\"))\n",
    "\n",
    "# output the result of addition here\n",
    "print(\"a + b = \",a+b)\n",
    "# output the result of subtraction here\n",
    "print(\"a - b = \",a-b)\n",
    "# output the result of multiplication here\n",
    "print(\"a * b = \",a*b)\n",
    "# output the result of division here\n",
    "print(\"a / b = \",a/b)\n",
    "\n",
    "print(\"\\nThat's all, folks!\")"
   ]
  },
  {
   "cell_type": "markdown",
   "metadata": {},
   "source": [
    "### Excercise : Operator and expressions"
   ]
  },
  {
   "cell_type": "code",
   "execution_count": 7,
   "metadata": {},
   "outputs": [
    {
     "name": "stdout",
     "output_type": "stream",
     "text": [
      "y = 0.04987562111897569\n"
     ]
    }
   ],
   "source": [
    "x = float(input(\"Enter value for x: \"))\n",
    "count = 0\n",
    "\n",
    "# put your code here\n",
    "def try_recursion(x, count):\n",
    "    if(count == 2):\n",
    "        result = x + (1 / x)\n",
    "        return result\n",
    "    else:\n",
    "        count+=1\n",
    "        result = x + (1 / try_recursion(x, count))\n",
    "    \n",
    "    return result\n",
    "    \n",
    "y = 1 / try_recursion(x, count)\n",
    "\n",
    "print(\"y =\", y)"
   ]
  },
  {
   "cell_type": "code",
   "execution_count": 12,
   "metadata": {},
   "outputs": [
    {
     "name": "stdout",
     "output_type": "stream",
     "text": [
      "0 : 11\n"
     ]
    }
   ],
   "source": [
    "hour = int(input(\"Starting time (hours): \"))\n",
    "mins = int(input(\"Starting time (minutes): \"))\n",
    "dura = int(input(\"Event duration (minutes): \"))\n",
    "\n",
    "# put your code here\n",
    "def try_compute(hour, mins, dura):\n",
    "    if((dura + mins) % 60 > 0):\n",
    "        end_min = (dura + mins) % 60\n",
    "        end_hour = hour + 1\n",
    "    else:\n",
    "        end_min = (dura + mins)\n",
    "        end_hour = hour\n",
    "    \n",
    "    if(end_hour % 24 == 0):\n",
    "        end_hour = 0\n",
    "    \n",
    "    return end_min, end_hour\n",
    "    \n",
    "y = try_compute(hour, mins, dura)\n",
    "\n",
    "print(y[1], ':', y[0])"
   ]
  }
 ],
 "metadata": {
  "kernelspec": {
   "display_name": "tf",
   "language": "python",
   "name": "tf"
  },
  "language_info": {
   "codemirror_mode": {
    "name": "ipython",
    "version": 3
   },
   "file_extension": ".py",
   "mimetype": "text/x-python",
   "name": "python",
   "nbconvert_exporter": "python",
   "pygments_lexer": "ipython3",
   "version": "3.7.7"
  }
 },
 "nbformat": 4,
 "nbformat_minor": 2
}
