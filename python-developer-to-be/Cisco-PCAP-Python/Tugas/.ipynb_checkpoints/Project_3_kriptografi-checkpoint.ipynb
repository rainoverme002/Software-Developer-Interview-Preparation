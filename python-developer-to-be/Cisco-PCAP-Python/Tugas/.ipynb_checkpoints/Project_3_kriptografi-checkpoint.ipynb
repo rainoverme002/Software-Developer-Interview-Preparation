{
 "cells": [
  {
   "cell_type": "markdown",
   "metadata": {
    "colab_type": "text",
    "id": "63bYIsEJg5qW"
   },
   "source": [
    "# Kriptografi metode Caesar\n",
    "\n",
    "pra-syarat untuk bisa mengerjakan:\n",
    "* list dan string method\n",
    "\n",
    "\n",
    "## Deadline (06.00 AM WIB 29/06/2020)\n",
    "\n",
    "## Jadwal update github: Rabu, Sabtu, Senin\n",
    "\n"
   ]
  },
  {
   "cell_type": "markdown",
   "metadata": {
    "colab_type": "text",
    "id": "8dXn_wRVhz8W"
   },
   "source": [
    "## Enkripsi dengan metode Caesar:\n",
    "Metode merupakan metode yang paling sederhana dalam melakukan enkripsi. Teknik ini hanya melakukan pemetaan suatu karakter huruf (angka dan karakter spesial tidak termasuk) dengan metode pergeseran karakter. contoh\n",
    "\n",
    "| huruf | shift 2 | shift 3 | shift 4 | shift -2 |\n",
    "|-------|---------|---------|---------|----------|\n",
    "| a     | c       | d       | e       | y        |\n",
    "| A     | C       | D       | E       | Y        |\n",
    "| c     | e       | f       | g       | a        |\n",
    "| z     | b       | c       | d       | x        |\n",
    "| %     | %       | %       | %       | %        |\n",
    "| _     | _       | _       | _       | _        |\n",
    "| 5     | 5       | 5       | 5       | 5        |\n",
    "\n",
    "ketentuan:\n",
    "* pergeseran satu huruf setelah `z` adalah `a`.\n",
    "* Jika input karakter merupakan huruf kapital maka output juga kapital, begitu juga dengan huruf kecil/non-kapital.\n",
    "* semua yang bukan huruf tidak berubah, jadi kalau ada suatu angka maka karakter enkripsinya tetap angka tersebut, begitu juga dengan semua karater spesial termasuk spasi.\n",
    "\n",
    "### Maka, untuk mendeskripsikan (decript) sama dengan menggeser ke arah sebaliknya.\n"
   ]
  },
  {
   "cell_type": "markdown",
   "metadata": {
    "colab_type": "text",
    "id": "HRG5HjZWl5Yg"
   },
   "source": [
    "## 1. Buatlah fungsi `caesar_encript`, dengan argumen `txt` (string) dan `shift` (intiger) seperti dibawah ini. Yang melakukan peng-ekripsian menggunakan metode Caesar terhadap string `txt`. Keluaran dari fungsi ini berupa string terenkripsi / chiper text.\n",
    " \n",
    "**hint**: method yang mungkin berguna:\n",
    "* `ord()`, `chr()`\n",
    "* string method: `.isalpha()`, `.islower()`, dll\n",
    "* jumlah karakter abjad 26\n",
    "* nilai ord dari abjad/huruf berurutan"
   ]
  },
  {
   "cell_type": "code",
   "execution_count": 1,
   "metadata": {
    "colab": {},
    "colab_type": "code",
    "id": "4Z7_zRLc1ab2"
   },
   "outputs": [],
   "source": [
    "# Graded\n",
    "def caesar_encript(txt,shift):\n",
    "  pass\n",
    "  # Mulai Kode anda di sini\n",
    "  result = \"\"\n",
    "\n",
    "  for word in txt:\n",
    "    if word.isalpha() == True:\n",
    "        ASCII_number = ord(word) + shift\n",
    "        \n",
    "        if word.islower() == True and ASCII_number > 122:\n",
    "            ASCII_number = ord(word) + shift - 122\n",
    "        elif word.isupper() == True and ASCII_number > 90:\n",
    "            ASCII_number = ord(word) + shift - 90\n",
    "            \n",
    "        result += chr(ASCII_number)\n",
    "    else:\n",
    "        result += word\n",
    "  \n",
    "\n",
    "  return result\n",
    "    \n",
    "# Fungsi Decript caesar\n",
    "def caesar_decript(chiper,shift):\n",
    "  return caesar_encript(chiper,-shift)"
   ]
  },
  {
   "cell_type": "code",
   "execution_count": 2,
   "metadata": {
    "colab": {},
    "colab_type": "code",
    "id": "6I-940gx9US9"
   },
   "outputs": [
    {
     "name": "stdout",
     "output_type": "stream",
     "text": [
      "plain text: Halo\u0004 DTS mania, MANTAPS\u0004\u0004\u0004!\n",
      "chiper text: Leps\u0004 HXW qerme, QERXETW\u0004\u0004\u0004!\n"
     ]
    }
   ],
   "source": [
    "# Sanity check!!!\n",
    "\n",
    "msg = 'Haloz DTS mania, MANTAPSZZZ!'\n",
    "cpr = caesar_encript(msg,4)\n",
    "txt = caesar_decript(cpr,4)\n",
    "\n",
    "print('plain text:',txt)\n",
    "print('chiper text:',cpr)\n"
   ]
  },
  {
   "cell_type": "markdown",
   "metadata": {
    "colab_type": "text",
    "id": "pgr46Bcs1Wx6"
   },
   "source": [
    "### Expected output:\n",
    "```\n",
    "plain text: Haloz DTS mania, MANTAPSZZZ!\n",
    "chiper text: Lepsd HXW qerme, QERXETWDDD!\n",
    "```"
   ]
  },
  {
   "cell_type": "markdown",
   "metadata": {
    "colab_type": "text",
    "id": "8QOvb_m7oJvX"
   },
   "source": [
    "## Intro 2:\n",
    "### Fungsi shuffle_order akan mengurutkan string `txt` sesuai dengan list `order` parameter. Dimana `len(txt)==len(order)` dan elemen atau item di dalam order memenuhi $x \\in \\{0,..,\\rm{len(txt)-1}\\}$.\n",
    "contoh: \n",
    "`(str) abcde: (list) [0,4,3,2,1]` maka keluarannya adalah `aedcb`. \n",
    "Fungsi ini akan digunakan di soal nomor 3 saat kita bermaksud mengirimkan text terenkripsi secara berkala dengan urutan acak dalam bentuk text-text yang lebih kecil.\n",
    "\n",
    "\n"
   ]
  },
  {
   "cell_type": "markdown",
   "metadata": {
    "colab_type": "text",
    "id": "wjRTLV_QzZuv"
   },
   "source": [
    " \n",
    "## 2. Buatlah fungsi `deshuffle_order`, dengan argument `sftxt` (string) dan `order` (list). Yang akan mengembalikan urutan string kembali seperti semula sebelum di-shuffle. Sedemikian hingga: \n",
    "`deshuffle_order(shuffle_order(txt,order),order) == txt`\n",
    " \n",
    "**hint: list method `.index()`**"
   ]
  },
  {
   "cell_type": "code",
   "execution_count": 3,
   "metadata": {
    "colab": {},
    "colab_type": "code",
    "id": "ik5_8uKeAElC"
   },
   "outputs": [],
   "source": [
    "# Graded\n",
    " \n",
    "# Fungsi mengacak urutan\n",
    "def shuffle_order(txt,order):\n",
    "  return ''.join([txt[i] for i in order])\n",
    " \n",
    "# Fungsi untuk mengurutkan kembali sesuai order\n",
    "def deshuffle_order(sftxt,order):\n",
    "  pass\n",
    "  # Mulai Kode anda di sini\n",
    "  result = []\n",
    "  \n",
    "  for i in order:\n",
    "    result.append(0)\n",
    "\n",
    "  for i in order:\n",
    "       result[i] = sftxt[order.index(i)]  \n",
    "\n",
    "  return \"\".join(result)"
   ]
  },
  {
   "cell_type": "code",
   "execution_count": 4,
   "metadata": {
    "colab": {},
    "colab_type": "code",
    "id": "ktLyUiAZROkw"
   },
   "outputs": [
    {
     "name": "stdout",
     "output_type": "stream",
     "text": [
      "cbda\n",
      "abcd\n"
     ]
    }
   ],
   "source": [
    "# Sanity check!!!\n",
    " \n",
    "print(shuffle_order('abcd',[2,1,3,0]))\n",
    "print(deshuffle_order('cbda',[2,1,3,0]))"
   ]
  },
  {
   "cell_type": "markdown",
   "metadata": {
    "colab_type": "text",
    "id": "A7tc2wQv1krn"
   },
   "source": [
    "### Expected output:\n",
    "```\n",
    "cbda\n",
    "abcd\n",
    "```"
   ]
  },
  {
   "cell_type": "markdown",
   "metadata": {
    "colab_type": "text",
    "id": "0rD42GEyrywz"
   },
   "source": [
    "## Intro 3.\n",
    "### Kita akan mengirimkan text melalui sebuah media komunikasi dengan bentuk paket-paket text yang lebih kecil. \n",
    "Misalkan, media komunikasi tersebut hanya memperbolehkan untuk mengirimkan 4 karakter dalam satu waktu. Sehingga, jika kita memiliki sebuah pesan `halo*DTS`, maka kita perlu memecah pesan tersebut menjadi batch-batch yang terdiri dari 4 karakter, dengan kata lain `halo*DTS` perlu dipecah menjadi dua batch yaitu `halo` dan `*DTS`.\n",
    "\n",
    "Namun, Apabila jumlah karakter tidak penuh, contoh: `haloPY` akan menjadi `halo` dana `PY__`, dimana untuk kekurangan karakter diakhir sesuai panjang batch (dalam hal ini 4) ditambkan karakter `_` underscore sejumlah kekurangan tersebut. \n",
    "\n",
    "Untuk memperaman komunikasi, kita bisa `shuffle` urutan karakter-karakter tersebut dengan fungsi di nomor 2.\n",
    "\n",
    "Perhatikan alur pengiriman pesan seperti gambar ilustrasi di bawah ini.\n",
    "\n",
    "![ilustrasi](https://github.com/sykrn/py-dts/blob/master/asets/enkrip.jpg?raw=true)\n",
    "\n",
    "\n",
    "\n"
   ]
  },
  {
   "cell_type": "markdown",
   "metadata": {
    "colab_type": "text",
    "id": "lCTGVZwjzcir"
   },
   "source": [
    "## 3. Buatlah fungsi `send_batch` dengan argument `txt` (string), `batch_order` (list), dan `shift` (int). Fungsi ini akan memecah text menjadi bagian-bagian yang lebih kecil sesuai dengan panjang dari `batch_order`, di mana batch_order tersebut merupakan list index untuk men-shuffle setiap batch dengan menggunakan fungsi di nomor 2. Keluaran fungsi ini berupa list batch teks terenkripsi.   \n",
    " \n",
    "**Note: tambahkan underscore di akhir (sebelum dipecah menjadi batches) jika panjang `txt` belum memenuhi kelipatan panjang satu batch yaitu `len(batch_order)`.**\n",
    " \n",
    "**Hint: Lihat intro 3 dan gambar, gunakan library `math` jika diperlukan**"
   ]
  },
  {
   "cell_type": "code",
   "execution_count": 42,
   "metadata": {
    "colab": {},
    "colab_type": "code",
    "id": "Qw6_gGPMR42q"
   },
   "outputs": [],
   "source": [
    "# Graded\n",
    " \n",
    "import math\n",
    " \n",
    " \n",
    "# convert txt ke dalam bentuk list teks yang lebih pendek\n",
    "# dan terenkrispi dengan urutan acak setiap batchnya\n",
    "def send_batch(txt,batch_order,shift=3):\n",
    "  pass\n",
    "  # Mulai Kode anda di sini\n",
    "  encrypted_txt = caesar_encript(txt, shift)\n",
    "\n",
    "  result = []\n",
    "  batch_word = []\n",
    "  counter = 0\n",
    "  \n",
    "  # Check how many \"_\"to be added\n",
    "  diff = len(batch_order) - (len(encrypted_txt) % len(batch_order))\n",
    "  \n",
    "  # Adding \"_\"\n",
    "  for i in range(0, diff):\n",
    "    encrypted_txt+= '_'\n",
    "    \n",
    "\n",
    "  for word in encrypted_txt:\n",
    "    batch_word.append(word)\n",
    "\n",
    "    if len(batch_word) == len(batch_order):\n",
    "        result.append(shuffle_order(''.join(batch_word),batch_order))\n",
    "        batch_word = []\n",
    "        \n",
    "        \n",
    "  return result\n",
    "  \n",
    " \n",
    " \n",
    "# batch_cpr: list keluaran send_batch\n",
    "# fungsi ini akan mengembalikan lagi ke txt semula\n",
    "def receive_batch(batch_cpr,batch_order,shift=3):\n",
    "  batch_txt = [caesar_decript(deshuffle_order(i,batch_order),shift) for i in batch_cpr]\n",
    "  return ''.join(batch_txt).strip('_')"
   ]
  },
  {
   "cell_type": "code",
   "execution_count": 43,
   "metadata": {
    "colab": {},
    "colab_type": "code",
    "id": "nWxyt3C7WVgW"
   },
   "outputs": [
    {
     "name": "stdout",
     "output_type": "stream",
     "text": [
      "halo DTS mania, mantaaap!!!\n",
      "['pesl', 'XHW ', 'eqr ', ',e m', 'rexq', 'eete', '!!_!']\n"
     ]
    }
   ],
   "source": [
    "# Sanity check!!!\n",
    " \n",
    "msg_cpr = send_batch('halo DTS mania, mantaaap!!!',[2,1,3,0],4)\n",
    "msg_txt = receive_batch(msg_cpr,[2,1,3,0],4)\n",
    "print(msg_txt,msg_cpr,sep='\\n')"
   ]
  },
  {
   "cell_type": "markdown",
   "metadata": {
    "colab_type": "text",
    "id": "PsiYqaWJ1raR"
   },
   "source": [
    "### Expected output:\n",
    "```\n",
    "halo DTS mania, mantaaap!!!\n",
    "['pesl', 'XHW ', 'eqr ', ',e m', 'rexq', 'eete', '!!_!']\n",
    "```"
   ]
  },
  {
   "cell_type": "markdown",
   "metadata": {
    "colab_type": "text",
    "id": "UqSVK8QyKCPX"
   },
   "source": [
    "# Cara Submit\n",
    "0. Isikan variable priority dengan nilai yang lebih besar dari submisi sebelumnya untuk revisi.\n",
    "1. Tuliskan email akun netacad anda di variable email (tentunya dengan tanda kutip) \n",
    "2. Copy-paste **SEMUA** cell yang ada komentar `#Graded` ke cell code di bawah ini.\n",
    "3. Simpan kode tersebut sebagai p3.py\n",
    "4. Submit file ke google form berikut: https://forms.gle/s2QuuEnbj3jpMKHi6\n",
    "5. Pengisian form membutuhkan anda login ke akun google anda.\n"
   ]
  },
  {
   "cell_type": "code",
   "execution_count": null,
   "metadata": {
    "colab": {},
    "colab_type": "code",
    "id": "6M4OpTknKIOT"
   },
   "outputs": [],
   "source": [
    "# nama file p3.py \n",
    "# Isikan email anda dan copy semua cell code yang dengan komentar #Graded\n",
    "\n",
    "# untuk revisi dan resubmisi sebelum deadline\n",
    "# silakan di resubmit dengan nilai variable priority yang lebih besar dari\n",
    "# nilai priority submisi sebelumnya\n",
    "# JIKA TIDAK ADA VARIABLE priority DIANGGAP priority=0\n",
    "priority = 0\n",
    "\n",
    "#netacad email cth: 'abcd@gmail.com'\n",
    "email=''\n",
    " \n",
    "# copy-paste semua #Graded cells YANG SUDAH ANDA KERJAKAN di bawah ini"
   ]
  }
 ],
 "metadata": {
  "colab": {
   "collapsed_sections": [],
   "name": "Project 3 - kriptografi.ipynb",
   "provenance": []
  },
  "kernelspec": {
   "display_name": "Python 3",
   "language": "python",
   "name": "python3"
  },
  "language_info": {
   "codemirror_mode": {
    "name": "ipython",
    "version": 3
   },
   "file_extension": ".py",
   "mimetype": "text/x-python",
   "name": "python",
   "nbconvert_exporter": "python",
   "pygments_lexer": "ipython3",
   "version": "3.7.7"
  }
 },
 "nbformat": 4,
 "nbformat_minor": 1
}
