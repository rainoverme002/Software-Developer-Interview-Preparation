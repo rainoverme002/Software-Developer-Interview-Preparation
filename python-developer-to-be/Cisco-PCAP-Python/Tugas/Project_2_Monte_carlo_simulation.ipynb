{
  "cells": [
    {
      "cell_type": "markdown",
      "metadata": {
        "id": "lA-LL0O8KyRh",
        "colab_type": "text"
      },
      "source": [
        "\n",
        "\n",
        "---\n",
        "\n",
        "\n",
        "# Sebelum mengerjakan dibaca dengan seksama teorinya. **Rumus matematis untuk semua soal sudah ada di lembar ini**\n",
        "\n",
        "## Deadline (06.00 AM WIB 15/06/2020)\n",
        "\n",
        "## Jadwal update github: Rabu, Sabtu, Senin\n",
        "\n",
        "## Untuk yang tidak mengerjakan di colab:\n",
        "* Install matplotlib, atau\n",
        "* Kode visualilasasi dihiraukan saja \n",
        "\n",
        "\n",
        "\n",
        "\n",
        "---\n",
        "\n"
      ]
    },
    {
      "cell_type": "markdown",
      "metadata": {
        "id": "6Vfcl3l1wj5X",
        "colab_type": "text"
      },
      "source": [
        "# <center>Estimasi nilai $\\pi$ dengan Monte Carlo</center>\n",
        "Dalam project kali ini kita akan memnbuat suatu program simulasi untuk mengestimasi nilai $\\pi$ dengan menggunakan metode Monte Carlo. \n",
        "\n",
        "Monte Carlo merupakan sebuah algoritme matematis yang berdasarkan simulasi dari nilai-nilai random yang diulang-ulang berkali-kali untuk memprediksi distribusi suatu fenomena yang banyak digunakan untuk analisis resiko dan pengambilan keputusan.\n",
        "\n",
        "## Project Items:\n",
        "1. Estimasi luas lingkaran denga MC.\n",
        "2. Estimasi nilai $\\pi$ dengan MC.\n",
        "3. Menghitung error relative dari estimasi $\\pi$ dengan MC."
      ]
    },
    {
      "cell_type": "markdown",
      "metadata": {
        "id": "BqVNRiWzzdk1",
        "colab_type": "text"
      },
      "source": [
        "## Fungsi lingkaran:\n",
        "$$L((x_0,y_0),r)\t\\equiv (x-x_0)^2+(y-y_0)^2=r^2$$\n",
        "merupakan suatu lingkaran yang berpusat di $(x_0,y_0)$ (cth: _titik $\\times$ pada gambar di bawah_) dengan jari-jari $r$. Titik-titik $(x,y)$ yang memenuhi persamaan tersebut merupakan suatu titik yang berada digaris lingkaran $L((x_0,y_0),r)\t$.\n",
        "\n",
        "\n",
        "**note: jari-jari, $r$, merupakan jarak dari titik pusat lingkaran  $(x_0,y_0)$ ke tepi/garis lingkaran, atau setengah dari diameter lingkaran.** \n",
        "\n",
        "Penjelasan mudahnya:\n",
        "*  Jika suatu titik $(x,y)$ sedemikian hingga $(x-x_0)^2+(y-y_0)^2 < r^2$, maka titik tersebut berada di **DALAM** lingkaran $L((x_0,y_0),r)\t$ -- \n",
        "(cth: titik $\\triangle$).\n",
        "*  Jika suatu titik $(x,y)$ sedemikian hingga $(x-x_0)^2+(y-y_0)^2 > r^2$, maka titik tersebut berada di **LUAR** lingkaran $L((x_0,y_0),r)\t$ -- (cth: titik $+$).\n",
        "*  Jika suatu titik $(x,y)$ sedemikian hingga $(x-x_0)^2+(y-y_0)^2 = r^2$, maka titik tersebut berada **TEPAT DI GARIS** lingkaran $L((x_0,y_0),r)\t$ -- (cth: titik $\\bigcirc$).\n",
        "\n",
        "![alt text](https://github.com/sykrn/py-dts/blob/master/asets/linkaran.png?raw=true)\n",
        "\n"
      ]
    },
    {
      "cell_type": "markdown",
      "metadata": {
        "id": "Nd-sDRm3CC_i",
        "colab_type": "text"
      },
      "source": [
        "\n",
        "\n",
        "---\n",
        "\n",
        "\n",
        "### 1. Buatlah sebuah fungsi `isPointInCircle` dengan posisional argument `x,y,r` dan keyword argument `center` dengan default value sebuah tupple dua nilai `(0,0)`. Untuk menentukan apakah titik `(x,y)` berada di dalam atau di luar lingkaran $L(\\rm{center},r)$. Keluaran fungsi `isPointInCircle` merupakan suatu nilai boolean, `True` Jika titik `(x,y)` berada di dalam lingkaran dan `False` Jika berada di luar.\n",
        "**Note: titik yang berada tepat di lingkaran dikategorikan sebagai dalam, maka `True`.**"
      ]
    },
    {
      "cell_type": "code",
      "metadata": {
        "id": "7Cr4z36_PyJq",
        "colab_type": "code",
        "colab": {}
      },
      "source": [
        "#Graded\n",
        "\n",
        "def isPointInCircle(x,y,r,center=(0,0)):\n",
        "  # MULAI KODEMU DI SINI\n",
        "  right_sign = r**2\n",
        "  left_sign = (x-center[0])**2 + (y-center[1])**2\n",
        "  if left_sign < right_sign: return True\n",
        "  if left_sign > right_sign: return False\n",
        "  if left_sign == right_sign: return True\n",
        "  pass\n",
        "  "
      ],
      "execution_count": 1,
      "outputs": []
    },
    {
      "cell_type": "code",
      "metadata": {
        "id": "vzxpk2ejADGn",
        "colab_type": "code",
        "outputId": "a0e2d234-6e07-45b6-c6f9-f8a9554f01d6",
        "colab": {
          "base_uri": "https://localhost:8080/",
          "height": 34
        }
      },
      "source": [
        "#CEK OUTPUT KODE ANDA\n",
        "print(isPointInCircle(1,1,1,center=(0,0)),isPointInCircle(1,0,1,center=(0,0)),\n",
        "      isPointInCircle(1,1,1,center=(1,0)),isPointInCircle(0,0,1,center=(1,1)))"
      ],
      "execution_count": 2,
      "outputs": [
        {
          "output_type": "stream",
          "name": "stdout",
          "text": "False True True False\n"
        }
      ]
    },
    {
      "cell_type": "markdown",
      "metadata": {
        "id": "9d-hkB-DACO6",
        "colab_type": "text"
      },
      "source": [
        "### Expected output\n",
        "```\n",
        "False True True False\n",
        "```\n",
        "\n"
      ]
    },
    {
      "cell_type": "markdown",
      "metadata": {
        "id": "9UIzNJ0s8kKV",
        "colab_type": "text"
      },
      "source": [
        "\n",
        "\n",
        "---\n",
        "\n",
        "\n",
        "## 2. `generateRandomSquarePoints` dengan dua positional argumen `n` dan `length`, dan keyword argument `center` default: tupple`(0,0)`. Fungsi ini akan mengeluarkan suatu list dengan jumlah `n` titik random `[x,y]` yang berada di dalam suatu kotak persegi dengan panjang `length` dan titik tengah `center`. Keluaran fungsi merupakan list dari `n` titik random `[x,y]`, cth: `[[x1,y1],...,[xn,yn]]`.\n",
        "\n",
        "**hint:**\n",
        "\n",
        "1. Jarak titik tengah `center` ke tepi persegi sama dengan `length/2`.\n",
        "2. Untuk menghasilkan nilai random, gunakan `random.uniform`, penjelasan [random.uniform](https://docs.python.org/3/library/random.html#random.uniform). Untuk menentukan nilai `a` dan `b` dari fungsi random.uniform, coba perhatikan gambar di cell bawah dengan `center=(0,0)`. Note: harus fleksible ketika titik `center` berubah.\n",
        "3. Gunakan list comprehension untuk men-generate n titik x,y tersebut.\n",
        "4. Untuk menyelesaikan hanya butuh ubah satu baris kode, ganti `None` value, dengan kode anda.\n"
      ]
    },
    {
      "cell_type": "code",
      "metadata": {
        "id": "6-t8X3M-c_c3",
        "colab_type": "code",
        "colab": {}
      },
      "source": [
        "#Graded\n",
        "import random\n",
        "\n",
        "\n",
        "def generateRandomSquarePoints(n,length,center=(0,0)):\n",
        "  # MULAI KODEMU DI SINI\n",
        "  minx = center[0]-length/2\n",
        "  miny = center[1]-length/2\n",
        "  maxx = center[0]+length/2\n",
        "  maxy = center[1]+length/2\n",
        "  \n",
        "  # Gunakan list comprehension dengan variable minx, miny, length, dan n\n",
        "  points = []\n",
        "\n",
        "  for i in range(n):\n",
        "    points.append([random.uniform(minx, maxx), random.uniform(miny, maxy)])\n",
        "    \n",
        "  return points\n"
      ],
      "execution_count": 3,
      "outputs": []
    },
    {
      "cell_type": "code",
      "metadata": {
        "id": "LxZ8ca0ihV-P",
        "colab_type": "code",
        "outputId": "19c54bd2-aa48-47ef-800e-59187891b62e",
        "colab": {
          "base_uri": "https://localhost:8080/",
          "height": 54
        }
      },
      "source": [
        "#CEK OUTPUT KODE ANDA\n",
        "random.seed(0)\n",
        "\n",
        "# generate 100 point di dalam persegi dengan panjang sisi 1 dan berpusat di (0,0)\n",
        "points = generateRandomSquarePoints(100,1)\n",
        "print(points[10:15])\n",
        "\n"
      ],
      "execution_count": 4,
      "outputs": [
        {
          "output_type": "stream",
          "name": "stdout",
          "text": "[[-0.18985243068066737, 0.22983174826012864], [0.3988382879679935, 0.18398393191544127], [-0.027857284547286643, -0.3992987919316342], [-0.06582816454621632, 0.1108869734438016], [0.4130110532378982, 0.4666063677707588]]\n"
        }
      ]
    },
    {
      "cell_type": "markdown",
      "metadata": {
        "id": "_KD6pskbg0ZT",
        "colab_type": "text"
      },
      "source": [
        "### Expected output:\n",
        "```\n",
        "[[-0.18985243068066737, 0.22983174826012864],\n",
        " [0.3988382879679935, 0.18398393191544127],\n",
        " [-0.027857284547286643, -0.3992987919316342],\n",
        " [-0.06582816454621632, 0.1108869734438016],\n",
        " [0.4130110532378982, 0.4666063677707588]]\n",
        " ```"
      ]
    },
    {
      "cell_type": "code",
      "metadata": {
        "id": "fxlJL4n3HQUO",
        "colab_type": "code",
        "outputId": "2b81632d-19be-466d-f8cb-3c37e8f6e6f7",
        "colab": {
          "base_uri": "https://localhost:8080/",
          "height": 541
        }
      },
      "source": [
        "#CEK OUTPUT KODE ANDA VISUALISASI\n",
        "# Mari kita Visualisasikan \n",
        "# Jika sama dengan gambar di bawah ini maka keluaran sesuai harapan\n",
        "import matplotlib.pyplot as plt\n",
        "x,y = zip(*points)\n",
        "\n",
        "# persegi dengan panjang sisi 1 dan berpusat di (0,0)\n",
        "r1 = plt.Rectangle((-0.5,-0.5),1,1,color='r', fill=False)\n",
        "c1 = plt.Circle((0,0), 0.5, color='b', fill=False)\n",
        "fig, ax = plt.subplots(figsize=(9,9)) \n",
        "ax.add_artist(r1)\n",
        "ax.add_artist(c1)\n",
        "plt.xlim(-0.6,0.6)\n",
        "plt.ylim(-0.6,0.6)\n",
        "plt.scatter(x,y,s=100,marker='x')\n",
        "plt.show()\n"
      ],
      "execution_count": 5,
      "outputs": [
        {
          "output_type": "display_data",
          "data": {
            "text/plain": "<Figure size 648x648 with 1 Axes>",
            "image/svg+xml": "<?xml version=\"1.0\" encoding=\"utf-8\" standalone=\"no\"?>\n<!DOCTYPE svg PUBLIC \"-//W3C//DTD SVG 1.1//EN\"\n  \"http://www.w3.org/Graphics/SVG/1.1/DTD/svg11.dtd\">\n<!-- Created with matplotlib (https://matplotlib.org/) -->\n<svg height=\"524.117344pt\" version=\"1.1\" viewBox=\"0 0 555.834375 524.117344\" width=\"555.834375pt\" xmlns=\"http://www.w3.org/2000/svg\" xmlns:xlink=\"http://www.w3.org/1999/xlink\">\n <defs>\n  <style type=\"text/css\">\n*{stroke-linecap:butt;stroke-linejoin:round;}\n  </style>\n </defs>\n <g id=\"figure_1\">\n  <g id=\"patch_1\">\n   <path d=\"M 0 524.117344 \nL 555.834375 524.117344 \nL 555.834375 0 \nL 0 0 \nz\n\" style=\"fill:none;\"/>\n  </g>\n  <g id=\"axes_1\">\n   <g id=\"patch_2\">\n    <path d=\"M 38.482813 500.239219 \nL 540.682813 500.239219 \nL 540.682813 10.999219 \nL 38.482813 10.999219 \nz\n\" style=\"fill:#ffffff;\"/>\n   </g>\n   <g id=\"PathCollection_1\">\n    <defs>\n     <path d=\"M -5 5 \nL 5 -5 \nM -5 -5 \nL 5 5 \n\" id=\"mca221c4f22\" style=\"stroke:#1f77b4;stroke-width:1.5;\"/>\n    </defs>\n    <g clip-path=\"url(#p80656af65c)\">\n     <use style=\"fill:#1f77b4;stroke:#1f77b4;stroke-width:1.5;\" x=\"433.723357\" xlink:href=\"#mca221c4f22\" y=\"150.451209\"/>\n     <use style=\"fill:#1f77b4;stroke:#1f77b4;stroke-width:1.5;\" x=\"256.342019\" xlink:href=\"#mca221c4f22\" y=\"353.90886\"/>\n     <use style=\"fill:#1f77b4;stroke:#1f77b4;stroke-width:1.5;\" x=\"294.301283\" xlink:href=\"#mca221c4f22\" y=\"294.377571\"/>\n     <use style=\"fill:#1f77b4;stroke:#1f77b4;stroke-width:1.5;\" x=\"408.352522\" xlink:href=\"#mca221c4f22\" y=\"335.80862\"/>\n     <use style=\"fill:#1f77b4;stroke:#1f77b4;stroke-width:1.5;\" x=\"279.788638\" xlink:href=\"#mca221c4f22\" y=\"221.624361\"/>\n     <use style=\"fill:#1f77b4;stroke:#1f77b4;stroke-width:1.5;\" x=\"460.378055\" xlink:href=\"#mca221c4f22\" y=\"253.708388\"/>\n     <use style=\"fill:#1f77b4;stroke:#1f77b4;stroke-width:1.5;\" x=\"198.28195\" xlink:href=\"#mca221c4f22\" y=\"151.327845\"/>\n     <use style=\"fill:#1f77b4;stroke:#1f77b4;stroke-width:1.5;\" x=\"339.120238\" xlink:href=\"#mca221c4f22\" y=\"357.337783\"/>\n     <use style=\"fill:#1f77b4;stroke:#1f77b4;stroke-width:1.5;\" x=\"461.061621\" xlink:href=\"#mca221c4f22\" y=\"58.78758\"/>\n     <use style=\"fill:#1f77b4;stroke:#1f77b4;stroke-width:1.5;\" x=\"419.408726\" xlink:href=\"#mca221c4f22\" y=\"91.656161\"/>\n     <use style=\"fill:#1f77b4;stroke:#1f77b4;stroke-width:1.5;\" x=\"210.12957\" xlink:href=\"#mca221c4f22\" y=\"161.916815\"/>\n     <use style=\"fill:#1f77b4;stroke:#1f77b4;stroke-width:1.5;\" x=\"456.496636\" xlink:href=\"#mca221c4f22\" y=\"180.60897\"/>\n     <use style=\"fill:#1f77b4;stroke:#1f77b4;stroke-width:1.5;\" x=\"277.924539\" xlink:href=\"#mca221c4f22\" y=\"418.413336\"/>\n     <use style=\"fill:#1f77b4;stroke:#1f77b4;stroke-width:1.5;\" x=\"262.033726\" xlink:href=\"#mca221c4f22\" y=\"210.4106\"/>\n     <use style=\"fill:#1f77b4;stroke:#1f77b4;stroke-width:1.5;\" x=\"462.427938\" xlink:href=\"#mca221c4f22\" y=\"65.383803\"/>\n     <use style=\"fill:#1f77b4;stroke:#1f77b4;stroke-width:1.5;\" x=\"279.961404\" xlink:href=\"#mca221c4f22\" y=\"106.682361\"/>\n     <use style=\"fill:#1f77b4;stroke:#1f77b4;stroke-width:1.5;\" x=\"189.348844\" xlink:href=\"#mca221c4f22\" y=\"131.259374\"/>\n     <use style=\"fill:#1f77b4;stroke:#1f77b4;stroke-width:1.5;\" x=\"309.963471\" xlink:href=\"#mca221c4f22\" y=\"453.744418\"/>\n     <use style=\"fill:#1f77b4;stroke:#1f77b4;stroke-width:1.5;\" x=\"381.529224\" xlink:href=\"#mca221c4f22\" y=\"296.868861\"/>\n     <use style=\"fill:#1f77b4;stroke:#1f77b4;stroke-width:1.5;\" x=\"425.530435\" xlink:href=\"#mca221c4f22\" y=\"187.063159\"/>\n     <use style=\"fill:#1f77b4;stroke:#1f77b4;stroke-width:1.5;\" x=\"80.811082\" xlink:href=\"#mca221c4f22\" y=\"258.237523\"/>\n     <use style=\"fill:#1f77b4;stroke:#1f77b4;stroke-width:1.5;\" x=\"443.424574\" xlink:href=\"#mca221c4f22\" y=\"360.026754\"/>\n     <use style=\"fill:#1f77b4;stroke:#1f77b4;stroke-width:1.5;\" x=\"216.430838\" xlink:href=\"#mca221c4f22\" y=\"104.578097\"/>\n     <use style=\"fill:#1f77b4;stroke:#1f77b4;stroke-width:1.5;\" x=\"160.29439\" xlink:href=\"#mca221c4f22\" y=\"228.09509\"/>\n     <use style=\"fill:#1f77b4;stroke:#1f77b4;stroke-width:1.5;\" x=\"180.193579\" xlink:href=\"#mca221c4f22\" y=\"65.003059\"/>\n     <use style=\"fill:#1f77b4;stroke:#1f77b4;stroke-width:1.5;\" x=\"416.46342\" xlink:href=\"#mca221c4f22\" y=\"276.832024\"/>\n     <use style=\"fill:#1f77b4;stroke:#1f77b4;stroke-width:1.5;\" x=\"113.999388\" xlink:href=\"#mca221c4f22\" y=\"328.982956\"/>\n     <use style=\"fill:#1f77b4;stroke:#1f77b4;stroke-width:1.5;\" x=\"292.905971\" xlink:href=\"#mca221c4f22\" y=\"79.152869\"/>\n     <use style=\"fill:#1f77b4;stroke:#1f77b4;stroke-width:1.5;\" x=\"125.973521\" xlink:href=\"#mca221c4f22\" y=\"234.717563\"/>\n     <use style=\"fill:#1f77b4;stroke:#1f77b4;stroke-width:1.5;\" x=\"376.028763\" xlink:href=\"#mca221c4f22\" y=\"236.277559\"/>\n     <use style=\"fill:#1f77b4;stroke:#1f77b4;stroke-width:1.5;\" x=\"421.187195\" xlink:href=\"#mca221c4f22\" y=\"239.195592\"/>\n     <use style=\"fill:#1f77b4;stroke:#1f77b4;stroke-width:1.5;\" x=\"483.699244\" xlink:href=\"#mca221c4f22\" y=\"213.550438\"/>\n     <use style=\"fill:#1f77b4;stroke:#1f77b4;stroke-width:1.5;\" x=\"326.250554\" xlink:href=\"#mca221c4f22\" y=\"278.047193\"/>\n     <use style=\"fill:#1f77b4;stroke:#1f77b4;stroke-width:1.5;\" x=\"329.878864\" xlink:href=\"#mca221c4f22\" y=\"302.545022\"/>\n     <use style=\"fill:#1f77b4;stroke:#1f77b4;stroke-width:1.5;\" x=\"321.242762\" xlink:href=\"#mca221c4f22\" y=\"341.101881\"/>\n     <use style=\"fill:#1f77b4;stroke:#1f77b4;stroke-width:1.5;\" x=\"159.593083\" xlink:href=\"#mca221c4f22\" y=\"383.33959\"/>\n     <use style=\"fill:#1f77b4;stroke:#1f77b4;stroke-width:1.5;\" x=\"336.778388\" xlink:href=\"#mca221c4f22\" y=\"191.749186\"/>\n     <use style=\"fill:#1f77b4;stroke:#1f77b4;stroke-width:1.5;\" x=\"279.761033\" xlink:href=\"#mca221c4f22\" y=\"422.847827\"/>\n     <use style=\"fill:#1f77b4;stroke:#1f77b4;stroke-width:1.5;\" x=\"397.390054\" xlink:href=\"#mca221c4f22\" y=\"102.009939\"/>\n     <use style=\"fill:#1f77b4;stroke:#1f77b4;stroke-width:1.5;\" x=\"466.767768\" xlink:href=\"#mca221c4f22\" y=\"115.998186\"/>\n     <use style=\"fill:#1f77b4;stroke:#1f77b4;stroke-width:1.5;\" x=\"456.218264\" xlink:href=\"#mca221c4f22\" y=\"83.128508\"/>\n     <use style=\"fill:#1f77b4;stroke:#1f77b4;stroke-width:1.5;\" x=\"306.573881\" xlink:href=\"#mca221c4f22\" y=\"299.937819\"/>\n     <use style=\"fill:#1f77b4;stroke:#1f77b4;stroke-width:1.5;\" x=\"375.493915\" xlink:href=\"#mca221c4f22\" y=\"347.093187\"/>\n     <use style=\"fill:#1f77b4;stroke:#1f77b4;stroke-width:1.5;\" x=\"419.999427\" xlink:href=\"#mca221c4f22\" y=\"113.133791\"/>\n     <use style=\"fill:#1f77b4;stroke:#1f77b4;stroke-width:1.5;\" x=\"454.90662\" xlink:href=\"#mca221c4f22\" y=\"219.007276\"/>\n     <use style=\"fill:#1f77b4;stroke:#1f77b4;stroke-width:1.5;\" x=\"477.809412\" xlink:href=\"#mca221c4f22\" y=\"223.127563\"/>\n     <use style=\"fill:#1f77b4;stroke:#1f77b4;stroke-width:1.5;\" x=\"268.893473\" xlink:href=\"#mca221c4f22\" y=\"190.287178\"/>\n     <use style=\"fill:#1f77b4;stroke:#1f77b4;stroke-width:1.5;\" x=\"497.266718\" xlink:href=\"#mca221c4f22\" y=\"85.632284\"/>\n     <use style=\"fill:#1f77b4;stroke:#1f77b4;stroke-width:1.5;\" x=\"412.33936\" xlink:href=\"#mca221c4f22\" y=\"425.885751\"/>\n     <use style=\"fill:#1f77b4;stroke:#1f77b4;stroke-width:1.5;\" x=\"336.782542\" xlink:href=\"#mca221c4f22\" y=\"261.145918\"/>\n     <use style=\"fill:#1f77b4;stroke:#1f77b4;stroke-width:1.5;\" x=\"344.049474\" xlink:href=\"#mca221c4f22\" y=\"114.931091\"/>\n     <use style=\"fill:#1f77b4;stroke:#1f77b4;stroke-width:1.5;\" x=\"182.04322\" xlink:href=\"#mca221c4f22\" y=\"161.241063\"/>\n     <use style=\"fill:#1f77b4;stroke:#1f77b4;stroke-width:1.5;\" x=\"129.353514\" xlink:href=\"#mca221c4f22\" y=\"369.587458\"/>\n     <use style=\"fill:#1f77b4;stroke:#1f77b4;stroke-width:1.5;\" x=\"412.865786\" xlink:href=\"#mca221c4f22\" y=\"323.894231\"/>\n     <use style=\"fill:#1f77b4;stroke:#1f77b4;stroke-width:1.5;\" x=\"421.792443\" xlink:href=\"#mca221c4f22\" y=\"418.451533\"/>\n     <use style=\"fill:#1f77b4;stroke:#1f77b4;stroke-width:1.5;\" x=\"141.58384\" xlink:href=\"#mca221c4f22\" y=\"175.028899\"/>\n     <use style=\"fill:#1f77b4;stroke:#1f77b4;stroke-width:1.5;\" x=\"99.26327\" xlink:href=\"#mca221c4f22\" y=\"225.504036\"/>\n     <use style=\"fill:#1f77b4;stroke:#1f77b4;stroke-width:1.5;\" x=\"461.174515\" xlink:href=\"#mca221c4f22\" y=\"241.676707\"/>\n     <use style=\"fill:#1f77b4;stroke:#1f77b4;stroke-width:1.5;\" x=\"365.159364\" xlink:href=\"#mca221c4f22\" y=\"448.584936\"/>\n     <use style=\"fill:#1f77b4;stroke:#1f77b4;stroke-width:1.5;\" x=\"346.080275\" xlink:href=\"#mca221c4f22\" y=\"212.265046\"/>\n     <use style=\"fill:#1f77b4;stroke:#1f77b4;stroke-width:1.5;\" x=\"321.369121\" xlink:href=\"#mca221c4f22\" y=\"299.973143\"/>\n     <use style=\"fill:#1f77b4;stroke:#1f77b4;stroke-width:1.5;\" x=\"235.236378\" xlink:href=\"#mca221c4f22\" y=\"59.71258\"/>\n     <use style=\"fill:#1f77b4;stroke:#1f77b4;stroke-width:1.5;\" x=\"95.56288\" xlink:href=\"#mca221c4f22\" y=\"450.648014\"/>\n     <use style=\"fill:#1f77b4;stroke:#1f77b4;stroke-width:1.5;\" x=\"482.524403\" xlink:href=\"#mca221c4f22\" y=\"384.056158\"/>\n     <use style=\"fill:#1f77b4;stroke:#1f77b4;stroke-width:1.5;\" x=\"132.182939\" xlink:href=\"#mca221c4f22\" y=\"373.617176\"/>\n     <use style=\"fill:#1f77b4;stroke:#1f77b4;stroke-width:1.5;\" x=\"415.445261\" xlink:href=\"#mca221c4f22\" y=\"77.466893\"/>\n     <use style=\"fill:#1f77b4;stroke:#1f77b4;stroke-width:1.5;\" x=\"89.86732\" xlink:href=\"#mca221c4f22\" y=\"285.944421\"/>\n     <use style=\"fill:#1f77b4;stroke:#1f77b4;stroke-width:1.5;\" x=\"122.810654\" xlink:href=\"#mca221c4f22\" y=\"353.49988\"/>\n     <use style=\"fill:#1f77b4;stroke:#1f77b4;stroke-width:1.5;\" x=\"172.749863\" xlink:href=\"#mca221c4f22\" y=\"195.717603\"/>\n     <use style=\"fill:#1f77b4;stroke:#1f77b4;stroke-width:1.5;\" x=\"226.930838\" xlink:href=\"#mca221c4f22\" y=\"385.95361\"/>\n     <use style=\"fill:#1f77b4;stroke:#1f77b4;stroke-width:1.5;\" x=\"291.10469\" xlink:href=\"#mca221c4f22\" y=\"443.41452\"/>\n     <use style=\"fill:#1f77b4;stroke:#1f77b4;stroke-width:1.5;\" x=\"122.568352\" xlink:href=\"#mca221c4f22\" y=\"56.565749\"/>\n     <use style=\"fill:#1f77b4;stroke:#1f77b4;stroke-width:1.5;\" x=\"163.763211\" xlink:href=\"#mca221c4f22\" y=\"313.286222\"/>\n     <use style=\"fill:#1f77b4;stroke:#1f77b4;stroke-width:1.5;\" x=\"386.506704\" xlink:href=\"#mca221c4f22\" y=\"117.683478\"/>\n     <use style=\"fill:#1f77b4;stroke:#1f77b4;stroke-width:1.5;\" x=\"464.717555\" xlink:href=\"#mca221c4f22\" y=\"390.394807\"/>\n     <use style=\"fill:#1f77b4;stroke:#1f77b4;stroke-width:1.5;\" x=\"361.832888\" xlink:href=\"#mca221c4f22\" y=\"65.407231\"/>\n     <use style=\"fill:#1f77b4;stroke:#1f77b4;stroke-width:1.5;\" x=\"104.627132\" xlink:href=\"#mca221c4f22\" y=\"183.781751\"/>\n     <use style=\"fill:#1f77b4;stroke:#1f77b4;stroke-width:1.5;\" x=\"434.143005\" xlink:href=\"#mca221c4f22\" y=\"319.908396\"/>\n     <use style=\"fill:#1f77b4;stroke:#1f77b4;stroke-width:1.5;\" x=\"185.245464\" xlink:href=\"#mca221c4f22\" y=\"216.157368\"/>\n     <use style=\"fill:#1f77b4;stroke:#1f77b4;stroke-width:1.5;\" x=\"265.441236\" xlink:href=\"#mca221c4f22\" y=\"388.195315\"/>\n     <use style=\"fill:#1f77b4;stroke:#1f77b4;stroke-width:1.5;\" x=\"277.708049\" xlink:href=\"#mca221c4f22\" y=\"292.350789\"/>\n     <use style=\"fill:#1f77b4;stroke:#1f77b4;stroke-width:1.5;\" x=\"318.506494\" xlink:href=\"#mca221c4f22\" y=\"252.112946\"/>\n     <use style=\"fill:#1f77b4;stroke:#1f77b4;stroke-width:1.5;\" x=\"210.672964\" xlink:href=\"#mca221c4f22\" y=\"313.858478\"/>\n     <use style=\"fill:#1f77b4;stroke:#1f77b4;stroke-width:1.5;\" x=\"430.894014\" xlink:href=\"#mca221c4f22\" y=\"357.163971\"/>\n     <use style=\"fill:#1f77b4;stroke:#1f77b4;stroke-width:1.5;\" x=\"314.944004\" xlink:href=\"#mca221c4f22\" y=\"454.398932\"/>\n     <use style=\"fill:#1f77b4;stroke:#1f77b4;stroke-width:1.5;\" x=\"390.681689\" xlink:href=\"#mca221c4f22\" y=\"322.516039\"/>\n     <use style=\"fill:#1f77b4;stroke:#1f77b4;stroke-width:1.5;\" x=\"99.456795\" xlink:href=\"#mca221c4f22\" y=\"344.953153\"/>\n     <use style=\"fill:#1f77b4;stroke:#1f77b4;stroke-width:1.5;\" x=\"180.827388\" xlink:href=\"#mca221c4f22\" y=\"70.878387\"/>\n     <use style=\"fill:#1f77b4;stroke:#1f77b4;stroke-width:1.5;\" x=\"227.73921\" xlink:href=\"#mca221c4f22\" y=\"342.101393\"/>\n     <use style=\"fill:#1f77b4;stroke:#1f77b4;stroke-width:1.5;\" x=\"230.658514\" xlink:href=\"#mca221c4f22\" y=\"73.41571\"/>\n     <use style=\"fill:#1f77b4;stroke:#1f77b4;stroke-width:1.5;\" x=\"345.556289\" xlink:href=\"#mca221c4f22\" y=\"206.256189\"/>\n     <use style=\"fill:#1f77b4;stroke:#1f77b4;stroke-width:1.5;\" x=\"379.819511\" xlink:href=\"#mca221c4f22\" y=\"301.274592\"/>\n     <use style=\"fill:#1f77b4;stroke:#1f77b4;stroke-width:1.5;\" x=\"253.766741\" xlink:href=\"#mca221c4f22\" y=\"194.124661\"/>\n     <use style=\"fill:#1f77b4;stroke:#1f77b4;stroke-width:1.5;\" x=\"80.970699\" xlink:href=\"#mca221c4f22\" y=\"381.064619\"/>\n     <use style=\"fill:#1f77b4;stroke:#1f77b4;stroke-width:1.5;\" x=\"220.27992\" xlink:href=\"#mca221c4f22\" y=\"361.859332\"/>\n     <use style=\"fill:#1f77b4;stroke:#1f77b4;stroke-width:1.5;\" x=\"347.084462\" xlink:href=\"#mca221c4f22\" y=\"305.0944\"/>\n     <use style=\"fill:#1f77b4;stroke:#1f77b4;stroke-width:1.5;\" x=\"446.697502\" xlink:href=\"#mca221c4f22\" y=\"227.833884\"/>\n     <use style=\"fill:#1f77b4;stroke:#1f77b4;stroke-width:1.5;\" x=\"253.76189\" xlink:href=\"#mca221c4f22\" y=\"295.464932\"/>\n     <use style=\"fill:#1f77b4;stroke:#1f77b4;stroke-width:1.5;\" x=\"374.04851\" xlink:href=\"#mca221c4f22\" y=\"288.958253\"/>\n     <use style=\"fill:#1f77b4;stroke:#1f77b4;stroke-width:1.5;\" x=\"357.461792\" xlink:href=\"#mca221c4f22\" y=\"440.397141\"/>\n    </g>\n   </g>\n   <g id=\"patch_3\">\n    <path clip-path=\"url(#p80656af65c)\" d=\"M 80.332813 459.469219 \nL 498.832813 459.469219 \nL 498.832813 51.769219 \nL 80.332813 51.769219 \nz\n\" style=\"fill:none;stroke:#ff0000;stroke-linejoin:miter;\"/>\n   </g>\n   <g id=\"patch_4\">\n    <path clip-path=\"url(#p80656af65c)\" d=\"M 289.582813 459.469219 \nC 345.076561 459.469219 398.3049 437.990297 437.544906 399.762936 \nC 476.784912 361.535575 498.832813 309.680871 498.832813 255.619219 \nC 498.832813 201.557567 476.784912 149.702862 437.544906 111.475501 \nC 398.3049 73.248141 345.076561 51.769219 289.582813 51.769219 \nC 234.089064 51.769219 180.860725 73.248141 141.620719 111.475501 \nC 102.380713 149.702862 80.332813 201.557567 80.332813 255.619219 \nC 80.332813 309.680871 102.380713 361.535575 141.620719 399.762936 \nC 180.860725 437.990297 234.089064 459.469219 289.582813 459.469219 \nz\n\" style=\"fill:none;stroke:#0000ff;stroke-linejoin:miter;\"/>\n   </g>\n   <g id=\"matplotlib.axis_1\">\n    <g id=\"xtick_1\">\n     <g id=\"line2d_1\">\n      <defs>\n       <path d=\"M 0 0 \nL 0 3.5 \n\" id=\"mfc8809d9f9\" style=\"stroke:#000000;stroke-width:0.8;\"/>\n      </defs>\n      <g>\n       <use style=\"stroke:#000000;stroke-width:0.8;\" x=\"38.482812\" xlink:href=\"#mfc8809d9f9\" y=\"500.239219\"/>\n      </g>\n     </g>\n     <g id=\"text_1\">\n      <!-- −0.6 -->\n      <defs>\n       <path d=\"M 10.59375 35.5 \nL 73.1875 35.5 \nL 73.1875 27.203125 \nL 10.59375 27.203125 \nz\n\" id=\"DejaVuSans-8722\"/>\n       <path d=\"M 31.78125 66.40625 \nQ 24.171875 66.40625 20.328125 58.90625 \nQ 16.5 51.421875 16.5 36.375 \nQ 16.5 21.390625 20.328125 13.890625 \nQ 24.171875 6.390625 31.78125 6.390625 \nQ 39.453125 6.390625 43.28125 13.890625 \nQ 47.125 21.390625 47.125 36.375 \nQ 47.125 51.421875 43.28125 58.90625 \nQ 39.453125 66.40625 31.78125 66.40625 \nz\nM 31.78125 74.21875 \nQ 44.046875 74.21875 50.515625 64.515625 \nQ 56.984375 54.828125 56.984375 36.375 \nQ 56.984375 17.96875 50.515625 8.265625 \nQ 44.046875 -1.421875 31.78125 -1.421875 \nQ 19.53125 -1.421875 13.0625 8.265625 \nQ 6.59375 17.96875 6.59375 36.375 \nQ 6.59375 54.828125 13.0625 64.515625 \nQ 19.53125 74.21875 31.78125 74.21875 \nz\n\" id=\"DejaVuSans-48\"/>\n       <path d=\"M 10.6875 12.40625 \nL 21 12.40625 \nL 21 0 \nL 10.6875 0 \nz\n\" id=\"DejaVuSans-46\"/>\n       <path d=\"M 33.015625 40.375 \nQ 26.375 40.375 22.484375 35.828125 \nQ 18.609375 31.296875 18.609375 23.390625 \nQ 18.609375 15.53125 22.484375 10.953125 \nQ 26.375 6.390625 33.015625 6.390625 \nQ 39.65625 6.390625 43.53125 10.953125 \nQ 47.40625 15.53125 47.40625 23.390625 \nQ 47.40625 31.296875 43.53125 35.828125 \nQ 39.65625 40.375 33.015625 40.375 \nz\nM 52.59375 71.296875 \nL 52.59375 62.3125 \nQ 48.875 64.0625 45.09375 64.984375 \nQ 41.3125 65.921875 37.59375 65.921875 \nQ 27.828125 65.921875 22.671875 59.328125 \nQ 17.53125 52.734375 16.796875 39.40625 \nQ 19.671875 43.65625 24.015625 45.921875 \nQ 28.375 48.1875 33.59375 48.1875 \nQ 44.578125 48.1875 50.953125 41.515625 \nQ 57.328125 34.859375 57.328125 23.390625 \nQ 57.328125 12.15625 50.6875 5.359375 \nQ 44.046875 -1.421875 33.015625 -1.421875 \nQ 20.359375 -1.421875 13.671875 8.265625 \nQ 6.984375 17.96875 6.984375 36.375 \nQ 6.984375 53.65625 15.1875 63.9375 \nQ 23.390625 74.21875 37.203125 74.21875 \nQ 40.921875 74.21875 44.703125 73.484375 \nQ 48.484375 72.75 52.59375 71.296875 \nz\n\" id=\"DejaVuSans-54\"/>\n      </defs>\n      <g transform=\"translate(26.341406 514.837656)scale(0.1 -0.1)\">\n       <use xlink:href=\"#DejaVuSans-8722\"/>\n       <use x=\"83.789062\" xlink:href=\"#DejaVuSans-48\"/>\n       <use x=\"147.412109\" xlink:href=\"#DejaVuSans-46\"/>\n       <use x=\"179.199219\" xlink:href=\"#DejaVuSans-54\"/>\n      </g>\n     </g>\n    </g>\n    <g id=\"xtick_2\">\n     <g id=\"line2d_2\">\n      <g>\n       <use style=\"stroke:#000000;stroke-width:0.8;\" x=\"122.182812\" xlink:href=\"#mfc8809d9f9\" y=\"500.239219\"/>\n      </g>\n     </g>\n     <g id=\"text_2\">\n      <!-- −0.4 -->\n      <defs>\n       <path d=\"M 37.796875 64.3125 \nL 12.890625 25.390625 \nL 37.796875 25.390625 \nz\nM 35.203125 72.90625 \nL 47.609375 72.90625 \nL 47.609375 25.390625 \nL 58.015625 25.390625 \nL 58.015625 17.1875 \nL 47.609375 17.1875 \nL 47.609375 0 \nL 37.796875 0 \nL 37.796875 17.1875 \nL 4.890625 17.1875 \nL 4.890625 26.703125 \nz\n\" id=\"DejaVuSans-52\"/>\n      </defs>\n      <g transform=\"translate(110.041406 514.837656)scale(0.1 -0.1)\">\n       <use xlink:href=\"#DejaVuSans-8722\"/>\n       <use x=\"83.789062\" xlink:href=\"#DejaVuSans-48\"/>\n       <use x=\"147.412109\" xlink:href=\"#DejaVuSans-46\"/>\n       <use x=\"179.199219\" xlink:href=\"#DejaVuSans-52\"/>\n      </g>\n     </g>\n    </g>\n    <g id=\"xtick_3\">\n     <g id=\"line2d_3\">\n      <g>\n       <use style=\"stroke:#000000;stroke-width:0.8;\" x=\"205.882812\" xlink:href=\"#mfc8809d9f9\" y=\"500.239219\"/>\n      </g>\n     </g>\n     <g id=\"text_3\">\n      <!-- −0.2 -->\n      <defs>\n       <path d=\"M 19.1875 8.296875 \nL 53.609375 8.296875 \nL 53.609375 0 \nL 7.328125 0 \nL 7.328125 8.296875 \nQ 12.9375 14.109375 22.625 23.890625 \nQ 32.328125 33.6875 34.8125 36.53125 \nQ 39.546875 41.84375 41.421875 45.53125 \nQ 43.3125 49.21875 43.3125 52.78125 \nQ 43.3125 58.59375 39.234375 62.25 \nQ 35.15625 65.921875 28.609375 65.921875 \nQ 23.96875 65.921875 18.8125 64.3125 \nQ 13.671875 62.703125 7.8125 59.421875 \nL 7.8125 69.390625 \nQ 13.765625 71.78125 18.9375 73 \nQ 24.125 74.21875 28.421875 74.21875 \nQ 39.75 74.21875 46.484375 68.546875 \nQ 53.21875 62.890625 53.21875 53.421875 \nQ 53.21875 48.921875 51.53125 44.890625 \nQ 49.859375 40.875 45.40625 35.40625 \nQ 44.1875 33.984375 37.640625 27.21875 \nQ 31.109375 20.453125 19.1875 8.296875 \nz\n\" id=\"DejaVuSans-50\"/>\n      </defs>\n      <g transform=\"translate(193.741406 514.837656)scale(0.1 -0.1)\">\n       <use xlink:href=\"#DejaVuSans-8722\"/>\n       <use x=\"83.789062\" xlink:href=\"#DejaVuSans-48\"/>\n       <use x=\"147.412109\" xlink:href=\"#DejaVuSans-46\"/>\n       <use x=\"179.199219\" xlink:href=\"#DejaVuSans-50\"/>\n      </g>\n     </g>\n    </g>\n    <g id=\"xtick_4\">\n     <g id=\"line2d_4\">\n      <g>\n       <use style=\"stroke:#000000;stroke-width:0.8;\" x=\"289.582813\" xlink:href=\"#mfc8809d9f9\" y=\"500.239219\"/>\n      </g>\n     </g>\n     <g id=\"text_4\">\n      <!-- 0.0 -->\n      <g transform=\"translate(281.63125 514.837656)scale(0.1 -0.1)\">\n       <use xlink:href=\"#DejaVuSans-48\"/>\n       <use x=\"63.623047\" xlink:href=\"#DejaVuSans-46\"/>\n       <use x=\"95.410156\" xlink:href=\"#DejaVuSans-48\"/>\n      </g>\n     </g>\n    </g>\n    <g id=\"xtick_5\">\n     <g id=\"line2d_5\">\n      <g>\n       <use style=\"stroke:#000000;stroke-width:0.8;\" x=\"373.282813\" xlink:href=\"#mfc8809d9f9\" y=\"500.239219\"/>\n      </g>\n     </g>\n     <g id=\"text_5\">\n      <!-- 0.2 -->\n      <g transform=\"translate(365.33125 514.837656)scale(0.1 -0.1)\">\n       <use xlink:href=\"#DejaVuSans-48\"/>\n       <use x=\"63.623047\" xlink:href=\"#DejaVuSans-46\"/>\n       <use x=\"95.410156\" xlink:href=\"#DejaVuSans-50\"/>\n      </g>\n     </g>\n    </g>\n    <g id=\"xtick_6\">\n     <g id=\"line2d_6\">\n      <g>\n       <use style=\"stroke:#000000;stroke-width:0.8;\" x=\"456.982813\" xlink:href=\"#mfc8809d9f9\" y=\"500.239219\"/>\n      </g>\n     </g>\n     <g id=\"text_6\">\n      <!-- 0.4 -->\n      <g transform=\"translate(449.03125 514.837656)scale(0.1 -0.1)\">\n       <use xlink:href=\"#DejaVuSans-48\"/>\n       <use x=\"63.623047\" xlink:href=\"#DejaVuSans-46\"/>\n       <use x=\"95.410156\" xlink:href=\"#DejaVuSans-52\"/>\n      </g>\n     </g>\n    </g>\n    <g id=\"xtick_7\">\n     <g id=\"line2d_7\">\n      <g>\n       <use style=\"stroke:#000000;stroke-width:0.8;\" x=\"540.682813\" xlink:href=\"#mfc8809d9f9\" y=\"500.239219\"/>\n      </g>\n     </g>\n     <g id=\"text_7\">\n      <!-- 0.6 -->\n      <g transform=\"translate(532.73125 514.837656)scale(0.1 -0.1)\">\n       <use xlink:href=\"#DejaVuSans-48\"/>\n       <use x=\"63.623047\" xlink:href=\"#DejaVuSans-46\"/>\n       <use x=\"95.410156\" xlink:href=\"#DejaVuSans-54\"/>\n      </g>\n     </g>\n    </g>\n   </g>\n   <g id=\"matplotlib.axis_2\">\n    <g id=\"ytick_1\">\n     <g id=\"line2d_8\">\n      <defs>\n       <path d=\"M 0 0 \nL -3.5 0 \n\" id=\"m74900f3fe7\" style=\"stroke:#000000;stroke-width:0.8;\"/>\n      </defs>\n      <g>\n       <use style=\"stroke:#000000;stroke-width:0.8;\" x=\"38.482813\" xlink:href=\"#m74900f3fe7\" y=\"500.239219\"/>\n      </g>\n     </g>\n     <g id=\"text_8\">\n      <!-- −0.6 -->\n      <g transform=\"translate(7.2 504.038438)scale(0.1 -0.1)\">\n       <use xlink:href=\"#DejaVuSans-8722\"/>\n       <use x=\"83.789062\" xlink:href=\"#DejaVuSans-48\"/>\n       <use x=\"147.412109\" xlink:href=\"#DejaVuSans-46\"/>\n       <use x=\"179.199219\" xlink:href=\"#DejaVuSans-54\"/>\n      </g>\n     </g>\n    </g>\n    <g id=\"ytick_2\">\n     <g id=\"line2d_9\">\n      <g>\n       <use style=\"stroke:#000000;stroke-width:0.8;\" x=\"38.482813\" xlink:href=\"#m74900f3fe7\" y=\"418.699219\"/>\n      </g>\n     </g>\n     <g id=\"text_9\">\n      <!-- −0.4 -->\n      <g transform=\"translate(7.2 422.498438)scale(0.1 -0.1)\">\n       <use xlink:href=\"#DejaVuSans-8722\"/>\n       <use x=\"83.789062\" xlink:href=\"#DejaVuSans-48\"/>\n       <use x=\"147.412109\" xlink:href=\"#DejaVuSans-46\"/>\n       <use x=\"179.199219\" xlink:href=\"#DejaVuSans-52\"/>\n      </g>\n     </g>\n    </g>\n    <g id=\"ytick_3\">\n     <g id=\"line2d_10\">\n      <g>\n       <use style=\"stroke:#000000;stroke-width:0.8;\" x=\"38.482813\" xlink:href=\"#m74900f3fe7\" y=\"337.159219\"/>\n      </g>\n     </g>\n     <g id=\"text_10\">\n      <!-- −0.2 -->\n      <g transform=\"translate(7.2 340.958438)scale(0.1 -0.1)\">\n       <use xlink:href=\"#DejaVuSans-8722\"/>\n       <use x=\"83.789062\" xlink:href=\"#DejaVuSans-48\"/>\n       <use x=\"147.412109\" xlink:href=\"#DejaVuSans-46\"/>\n       <use x=\"179.199219\" xlink:href=\"#DejaVuSans-50\"/>\n      </g>\n     </g>\n    </g>\n    <g id=\"ytick_4\">\n     <g id=\"line2d_11\">\n      <g>\n       <use style=\"stroke:#000000;stroke-width:0.8;\" x=\"38.482813\" xlink:href=\"#m74900f3fe7\" y=\"255.619219\"/>\n      </g>\n     </g>\n     <g id=\"text_11\">\n      <!-- 0.0 -->\n      <g transform=\"translate(15.579688 259.418438)scale(0.1 -0.1)\">\n       <use xlink:href=\"#DejaVuSans-48\"/>\n       <use x=\"63.623047\" xlink:href=\"#DejaVuSans-46\"/>\n       <use x=\"95.410156\" xlink:href=\"#DejaVuSans-48\"/>\n      </g>\n     </g>\n    </g>\n    <g id=\"ytick_5\">\n     <g id=\"line2d_12\">\n      <g>\n       <use style=\"stroke:#000000;stroke-width:0.8;\" x=\"38.482813\" xlink:href=\"#m74900f3fe7\" y=\"174.079219\"/>\n      </g>\n     </g>\n     <g id=\"text_12\">\n      <!-- 0.2 -->\n      <g transform=\"translate(15.579688 177.878438)scale(0.1 -0.1)\">\n       <use xlink:href=\"#DejaVuSans-48\"/>\n       <use x=\"63.623047\" xlink:href=\"#DejaVuSans-46\"/>\n       <use x=\"95.410156\" xlink:href=\"#DejaVuSans-50\"/>\n      </g>\n     </g>\n    </g>\n    <g id=\"ytick_6\">\n     <g id=\"line2d_13\">\n      <g>\n       <use style=\"stroke:#000000;stroke-width:0.8;\" x=\"38.482813\" xlink:href=\"#m74900f3fe7\" y=\"92.539219\"/>\n      </g>\n     </g>\n     <g id=\"text_13\">\n      <!-- 0.4 -->\n      <g transform=\"translate(15.579688 96.338438)scale(0.1 -0.1)\">\n       <use xlink:href=\"#DejaVuSans-48\"/>\n       <use x=\"63.623047\" xlink:href=\"#DejaVuSans-46\"/>\n       <use x=\"95.410156\" xlink:href=\"#DejaVuSans-52\"/>\n      </g>\n     </g>\n    </g>\n    <g id=\"ytick_7\">\n     <g id=\"line2d_14\">\n      <g>\n       <use style=\"stroke:#000000;stroke-width:0.8;\" x=\"38.482813\" xlink:href=\"#m74900f3fe7\" y=\"10.999219\"/>\n      </g>\n     </g>\n     <g id=\"text_14\">\n      <!-- 0.6 -->\n      <g transform=\"translate(15.579688 14.798438)scale(0.1 -0.1)\">\n       <use xlink:href=\"#DejaVuSans-48\"/>\n       <use x=\"63.623047\" xlink:href=\"#DejaVuSans-46\"/>\n       <use x=\"95.410156\" xlink:href=\"#DejaVuSans-54\"/>\n      </g>\n     </g>\n    </g>\n   </g>\n   <g id=\"patch_5\">\n    <path d=\"M 38.482813 500.239219 \nL 38.482813 10.999219 \n\" style=\"fill:none;stroke:#000000;stroke-linecap:square;stroke-linejoin:miter;stroke-width:0.8;\"/>\n   </g>\n   <g id=\"patch_6\">\n    <path d=\"M 540.682813 500.239219 \nL 540.682813 10.999219 \n\" style=\"fill:none;stroke:#000000;stroke-linecap:square;stroke-linejoin:miter;stroke-width:0.8;\"/>\n   </g>\n   <g id=\"patch_7\">\n    <path d=\"M 38.482813 500.239219 \nL 540.682813 500.239219 \n\" style=\"fill:none;stroke:#000000;stroke-linecap:square;stroke-linejoin:miter;stroke-width:0.8;\"/>\n   </g>\n   <g id=\"patch_8\">\n    <path d=\"M 38.482813 10.999219 \nL 540.682813 10.999219 \n\" style=\"fill:none;stroke:#000000;stroke-linecap:square;stroke-linejoin:miter;stroke-width:0.8;\"/>\n   </g>\n  </g>\n </g>\n <defs>\n  <clipPath id=\"p80656af65c\">\n   <rect height=\"489.24\" width=\"502.2\" x=\"38.482813\" y=\"10.999219\"/>\n  </clipPath>\n </defs>\n</svg>\n",
            "image/png": "[encoded data removed]"
          },
          "metadata": {
            "needs_background": "light"
          }
        }
      ]
    },
    {
      "cell_type": "markdown",
      "metadata": {
        "id": "HUyV7SaiINQ_",
        "colab_type": "text"
      },
      "source": [
        "\n",
        "\n",
        "---\n",
        "\n",
        "\n",
        "## Menghitung Luas Lingkaran dengan estimasi MC\n",
        "![alt text](https://github.com/sykrn/py-dts/blob/master/asets/persegilink.png?raw=true)\n",
        "\n",
        "### Kita bisa mengestimasi luas lingkaran dengan MC sebagai berikut.\n",
        "1. Buatlah titik-titik random sebanyak mungkin di dalam sebuah persegi yang bersinggungan dengan lingkaran yang berada di dalamnya yang akan kita hitung luasannya seperti gambar di atas.\n",
        "2. Hitunglah jumlah titik-titik yang berada di dalam lingkaran tersebut.\n",
        "3. Estimasi:\n",
        "\n",
        "$$\\frac{n_{titik-dalam-lingkaran}}{n_{total-titik}}=\\frac{Luas Lingkaran}{Luas Persegi}$$\n",
        "maka,\n",
        "$$Luas Lingkaran=\\frac{n_{titik-dalam-lingkaran}}{n_{total-titik}}\\times Luas Persegi$$\n",
        "di mana,\n",
        "$$Luas Persegi = sisi \\times sisi$$\n",
        "mudah untuk dihitung."
      ]
    },
    {
      "cell_type": "markdown",
      "metadata": {
        "id": "LFdEq_eENAXi",
        "colab_type": "text"
      },
      "source": [
        "\n",
        "\n",
        "---\n",
        "\n",
        "\n",
        "## 3. Buatlah fungsi `MCCircleArea` dengan positional argument `r` dan keyword argument dengan default `n=100` dan `center=(0,0)`, untuk menghitung luas lingkaran dengan jari-jari r dengan mengestimasi dari `n` titik random. Keluaran fungsi merupakan suatu nilai yang menunjukkan estimasi luas lingkaran tersebut.\n",
        "\n",
        "**hint:**\n",
        "1. gunakan fungsi yang sudah dibuat di atas `isPointInCircle` dan `generateRandomSquarePoints`.\n",
        "2. perhatikan gambar lingkaran dan persegi di atas, jari-jari $r$ lingkaran sama dengan setengah dari panjang sisi persegi.\n",
        "3. lingkaran dan persegi memiliki pusat yang sama.\n",
        "\n",
        "\n",
        "\n",
        "\n"
      ]
    },
    {
      "cell_type": "code",
      "metadata": {
        "id": "BQXU83rDha_0",
        "colab_type": "code",
        "colab": {}
      },
      "source": [
        "#Graded\n",
        "\n",
        "def MCCircleArea(r,n=100,center=(0,0)):\n",
        "  # MULAI KODEMU DI SINI\n",
        "  points = generateRandomSquarePoints(n, r*2, center)\n",
        "  \n",
        "  point_inside = 0\n",
        "  point_outside = 0\n",
        "  square_area = (r*2)**2\n",
        "  \n",
        "  for point in points:\n",
        "    if isPointInCircle(point[0], point[1], r, center) == True: point_inside+=1\n",
        "    if isPointInCircle(point[0], point[1], r, center) == False: point_outside+=1\n",
        "\n",
        "  return point_inside/(point_inside + point_outside) * square_area\n",
        "  pass\n"
      ],
      "execution_count": 6,
      "outputs": []
    },
    {
      "cell_type": "code",
      "metadata": {
        "id": "jl_xNR3OkIP2",
        "colab_type": "code",
        "outputId": "3b290ced-f85f-4dcf-fd6e-22b447eb24f2",
        "colab": {
          "base_uri": "https://localhost:8080/",
          "height": 34
        }
      },
      "source": [
        "#CEK OUTPUT KODE ANDA\n",
        "\n",
        "random.seed(0)\n",
        "print(MCCircleArea(1,100),MCCircleArea(1,10,center=(10,10)))"
      ],
      "execution_count": 7,
      "outputs": [
        {
          "output_type": "stream",
          "name": "stdout",
          "text": "3.28 3.2\n"
        }
      ]
    },
    {
      "cell_type": "markdown",
      "metadata": {
        "colab_type": "text",
        "id": "eHwlg-ZIQg4I"
      },
      "source": [
        "### Expected output:\n",
        "```\n",
        "3.28 3.2\n",
        " ```"
      ]
    },
    {
      "cell_type": "markdown",
      "metadata": {
        "id": "7q-ib2r-SW5h",
        "colab_type": "text"
      },
      "source": [
        "\n",
        "\n",
        "---\n",
        "## Estimasi $\\pi$\n",
        "\n",
        "### Luas lingkaran\n",
        "$$Luas = \\pi r^2$$\n",
        "\n",
        "sehingga untuk mengestimasi nilai $\\pi$ sama dengan mengestimasi luas lingkaran dengan jari-jari $r=1$.\n",
        "\n",
        "### Law of large numbers (LLN)\n",
        "merupakan hukum statistik dimana kita bisa menghitung nilai rata-rata dari suatu distribusi atau bahkan standar deviasinya dengan menggunakan banyak sampel. LLN umum digunakan di dalam metode MC.\n",
        "\n",
        "Penjelasan mudahnya: Semakin banyak sampel semakin akurat untuk menghitung rata-rata atau nilai mean-nya. \n",
        "\n",
        "### Estimasi $\\pi$ lebih akurat dengan LLN\n",
        "1. Estimasi luas lingkaran dengan jari-jari satu dengan menggunakan sejumlah titik-titik random.\n",
        "2. lakukan sebanyak mungkin langkah 1.\n",
        "3. ambil nilai rata-ratanya, yaitu $\\mu = \\sum x/n$, yang merupakan estimasi akhir dari metode MC.\n",
        "\n",
        "\n"
      ]
    },
    {
      "cell_type": "markdown",
      "metadata": {
        "id": "zImtpxHuUUoQ",
        "colab_type": "text"
      },
      "source": [
        "## 4. Buatlah fungsi `LLNPiMC` untuk mengestimasi nilai `pi` dengan positional argumen `nsim` dan `nsample`. `nsample` merupakan jumlah sample titik-titik random untuk menghitung luas lingkaran berjari-jari 1 (maka Luas = $\\pi$) dan `nsim` merupakan jumlah simulasi untuk menghitung nilai rata-rata atau mean dari estimasi nilai $\\pi$. Keluaran fungsi merupakan nilai mean dari simulasi tersebut (estimasi nilai $\\pi$)."
      ]
    },
    {
      "cell_type": "code",
      "metadata": {
        "id": "MH_JdQvTkKb_",
        "colab_type": "code",
        "colab": {}
      },
      "source": [
        "#Graded\n",
        "\n",
        "def LLNPiMC(nsim,nsample):\n",
        "  # MULAI KODEMU DI SINI\n",
        "  total_of_circle_area = 0\n",
        "\n",
        "  for i in range(nsim):\n",
        "    total_of_circle_area += MCCircleArea(1,nsample)\n",
        "\n",
        "  return total_of_circle_area / nsim\n",
        "\n",
        "  pass\n"
      ],
      "execution_count": 8,
      "outputs": []
    },
    {
      "cell_type": "code",
      "metadata": {
        "id": "MP3BGDqaXiI2",
        "colab_type": "code",
        "outputId": "76c7ce32-5346-4a44-e2d2-8068d965f39a",
        "colab": {
          "base_uri": "https://localhost:8080/",
          "height": 50
        }
      },
      "source": [
        "#CEK OUTPUT KODE ANDA\n",
        "\n",
        "import math\n",
        "\n",
        "random.seed(0)\n",
        "estpi = LLNPiMC(10000,500)\n",
        "\n",
        "print('est_pi:',estpi)\n",
        "print('act_pi:',math.pi)"
      ],
      "execution_count": 9,
      "outputs": [
        {
          "output_type": "stream",
          "name": "stdout",
          "text": "est_pi: 3.1416055999999823\nact_pi: 3.141592653589793\n"
        }
      ]
    },
    {
      "cell_type": "markdown",
      "metadata": {
        "colab_type": "text",
        "id": "UKExZc1EXsBr"
      },
      "source": [
        "### Expected output:\n",
        "```\n",
        "est_pi: 3.1416055999999823\n",
        "act_pi: 3.141592653589793\n",
        " ```"
      ]
    },
    {
      "cell_type": "markdown",
      "metadata": {
        "id": "92LZvAY2Yhhu",
        "colab_type": "text"
      },
      "source": [
        "## Menghitung error relatif\n",
        "\n",
        "$$E = \\|\\frac{estimasi-aktual}{aktual}\\|\\times 100$$\n",
        "\n",
        "$\\|\\dots\\|$ merupakan nilai absolut atau mutlak (selalu positif)."
      ]
    },
    {
      "cell_type": "markdown",
      "metadata": {
        "id": "coUe9JSm-6Lf",
        "colab_type": "text"
      },
      "source": [
        "## 5. Buatlah fungsi `relativeError`, dengan argument `act` yang merupakan nilai aktual, dan `est` yang merupakan nilai estimasi."
      ]
    },
    {
      "cell_type": "code",
      "metadata": {
        "id": "fh2-4YkAeti-",
        "colab_type": "code",
        "colab": {}
      },
      "source": [
        "# Graded\n",
        "def relativeError(act,est):\n",
        "  pass\n",
        "  # MULAI KODEMU DI SINI\n",
        "  return abs(est - act)/act *100"
      ],
      "execution_count": 10,
      "outputs": []
    },
    {
      "cell_type": "code",
      "metadata": {
        "id": "797vk8LdlYUq",
        "colab_type": "code",
        "outputId": "f210933a-98f2-49cb-87b6-995d6a082972",
        "colab": {
          "base_uri": "https://localhost:8080/",
          "height": 34
        }
      },
      "source": [
        "#CEK OUTPUT KODE ANDA\n",
        "print('error relatif:',relativeError(math.pi,estpi),'%')"
      ],
      "execution_count": 11,
      "outputs": [
        {
          "output_type": "stream",
          "name": "stdout",
          "text": "error relatif: 0.0004120970353822341 %\n"
        }
      ]
    },
    {
      "cell_type": "markdown",
      "metadata": {
        "colab_type": "text",
        "id": "32v0QsumRcHH"
      },
      "source": [
        "### Expected output:\n",
        "```\n",
        "error relatif: 0.0004120970353822341 %\n",
        " ```"
      ]
    },
    {
      "cell_type": "markdown",
      "metadata": {
        "id": "BYqKtNpcBS5K",
        "colab_type": "text"
      },
      "source": [
        "# Cara Submit\n",
        "0. Isikan variable priority dengan nilai yang lebih besar dari submisi sebelumnya untuk revisi.\n",
        "1. Tuliskan email akun netacad anda di variable email (tentunya dengan tanda kutip) \n",
        "2. Copy-paste **SEMUA** cell yang ada komentar `#Graded` ke cell code di bawah ini.\n",
        "3. Simpan kode tersebut sebagai p2.py\n",
        "4. Submit file ke google form berikut: https://forms.gle/oVt17KbpFwQvTmG2A\n",
        "5. Pengisian form membutuhkan anda login ke akun google anda.\n",
        "\n"
      ]
    },
    {
      "cell_type": "code",
      "metadata": {
        "id": "1DRcA1UmBXLT",
        "colab_type": "code",
        "colab": {}
      },
      "source": [
        "# nama file p2.py \n",
        "# Isikan email anda dan copy semua cell code yang dengan komentar #Graded\n",
        "\n",
        "# untuk revisi dan resubmisi sebelum deadline\n",
        "# silakan di resubmit dengan nilai variable priority yang lebih besar dari\n",
        "# nilai priority submisi sebelumnya\n",
        "# JIKA TIDAK ADA VARIABLE priority DIANGGAP priority=0\n",
        "priority = 0\n",
        "\n",
        "#netacad email cth: 'abcd@gmail.com'\n",
        "email=''\n",
        " \n",
        "# copy-paste semua #Graded cells YANG SUDAH ANDA KERJAKAN di bawah ini"
      ],
      "execution_count": 12,
      "outputs": []
    }
  ],
  "metadata": {
    "colab": {
      "name": "Copy of Project 2 -  Monte carlo simulation.ipynb",
      "provenance": [],
      "collapsed_sections": []
    },
    "kernelspec": {
      "name": "python37664bitanaconda3virtualenv75d5475c12a94d19862e9f720c4e5a0e",
      "display_name": "Python 3.7.6 64-bit ('anaconda3': virtualenv)"
    }
  },
  "nbformat": 4,
  "nbformat_minor": 0
}