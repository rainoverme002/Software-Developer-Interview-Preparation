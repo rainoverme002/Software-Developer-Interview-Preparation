{
 "cells": [
  {
   "cell_type": "markdown",
   "metadata": {
    "colab_type": "text",
    "id": "PmdKYwW_NUjc"
   },
   "source": [
    "# Project 1 - Working with list and dictionary \n",
    "## (DEADLINE: 06.00 WIB 8 JUNI 2020)\n",
    "Pada project ini peserta pelatihan python akan membuat code-code untuk mengolah `list` dan `dictionary` \n",
    "\n",
    "Project items yang dibutuhkan:\n",
    "- Pemahaman dan pembuatan `fungsi`, `variabel`, dan `tipe data`\n",
    "- pemahaman `list` dan `dictionary`\n",
    "- logika dasar pemrograman\n",
    "\n",
    "**Note: Tidak diperkenankan untuk menggunakan library/module lain, kecuali disediakan atau didefinisikan**\n",
    "\n",
    ">>**BOLEH BERDISKUSI TANPA MEMBERIKAN JAWABAN!!!**\n",
    "\n"
   ]
  },
  {
   "cell_type": "markdown",
   "metadata": {
    "colab_type": "text",
    "id": "wmfagSdvOz6m"
   },
   "source": [
    "### 1. Buatlah fungsi `letter_catalog` dengan sebuah positional argument berupa list dan keyword argument `letter` untuk nilai default 'A'. Fungsi `letter_catalog` akan mengembalikan sebuah list yang berisi nama-nama buah yang dimulai dengan huruf yang ada keyword argument `letter`. Jika tidak ada item di list inputan tersebut yang diawali dengan huruf yang didefinisikan di keyword `letter` maka fungsi mengembalikan list kosong.\n",
    "\n"
   ]
  },
  {
   "cell_type": "code",
   "execution_count": 8,
   "metadata": {
    "colab": {},
    "colab_type": "code",
    "id": "SZJw59BEO-fd"
   },
   "outputs": [],
   "source": [
    "#Graded\n",
    "\n",
    "def letter_catalog(items,letter='A'):\n",
    "  pass\n",
    "  # MULAI KODEMU DI SINI\n",
    "  answer = []\n",
    "  for item in items:\n",
    "    if item[0] == letter:\n",
    "        answer.append(item)\n",
    "            \n",
    "  return answer\n",
    "  \n"
   ]
  },
  {
   "cell_type": "code",
   "execution_count": 9,
   "metadata": {
    "colab": {},
    "colab_type": "code",
    "id": "7fQUkRXl0zCa"
   },
   "outputs": [
    {
     "data": {
      "text/plain": [
       "['Apple', 'Avocado']"
      ]
     },
     "execution_count": 9,
     "metadata": {},
     "output_type": "execute_result"
    }
   ],
   "source": [
    "# Cek output kode anda\n",
    "letter_catalog(['Apple','Avocado','Banana','Blackberries','Blueberries','Cherries'],letter='A')"
   ]
  },
  {
   "cell_type": "markdown",
   "metadata": {
    "colab_type": "text",
    "id": "1_Va_bPq0_r1"
   },
   "source": [
    "Expected output:\n",
    "```\n",
    "['Apple', 'Avocado']\n",
    "```"
   ]
  },
  {
   "cell_type": "markdown",
   "metadata": {
    "colab_type": "text",
    "id": "1plym_6cJTmH"
   },
   "source": [
    "### 2. Buatlah fungsi `counter_item` yang memiliki sebuah input argument berupa list. Fungsi ini mengembalikan sebuah dictionary yang menghitung jumlah buah dalam list input, dengan `key` berupa nama buah tersebut dan `value` berupa jumlah nama buah tersebut muncul di list input."
   ]
  },
  {
   "cell_type": "code",
   "execution_count": 10,
   "metadata": {
    "colab": {},
    "colab_type": "code",
    "id": "xZCCOKQIve9d"
   },
   "outputs": [],
   "source": [
    "#Graded\n",
    "\n",
    "def counter_item(items):\n",
    "  pass\n",
    "  # MULAI KODEMU DI SINI\n",
    "  answer = {}\n",
    "  for item in items:\n",
    "        if item in answer:\n",
    "            answer[item]+=1\n",
    "        else:\n",
    "            answer[item] = 1\n",
    "  \n",
    "  return answer\n",
    "  \n"
   ]
  },
  {
   "cell_type": "code",
   "execution_count": 11,
   "metadata": {
    "colab": {},
    "colab_type": "code",
    "id": "KfxtWsNj1S19"
   },
   "outputs": [
    {
     "data": {
      "text/plain": [
       "{'Apple': 3, 'Blueberries': 3}"
      ]
     },
     "execution_count": 11,
     "metadata": {},
     "output_type": "execute_result"
    }
   ],
   "source": [
    "# Cek output kode anda\n",
    "counter_item(['Apple','Apple','Apple','Blueberries','Blueberries','Blueberries'])"
   ]
  },
  {
   "cell_type": "markdown",
   "metadata": {
    "colab_type": "text",
    "id": "qSh_3MqK1HkK"
   },
   "source": [
    "Expected output:\n",
    "```\n",
    "{'Apple': 3, 'Blueberries': 3}\n",
    "```"
   ]
  },
  {
   "cell_type": "markdown",
   "metadata": {
    "colab_type": "text",
    "id": "RQ5u4YdFKqcL"
   },
   "source": [
    "### 3. Di bawah ini sudah ada tiga variables `fruits`, `prices`, dan `chart`. \n",
    "- Buatlah sebuah dictionary yang berupa daftar harga buah dengan `key` berupa nama buah di variable `fruits` dan dengan `value` berupa harga dari buah tersebut di variable `price` (sudah diurutkan sesuai dengan nama-nama buah di varibale `fruits`, kemudian Dictionary tersebut disimpan di dalam variable `fruit_price`.\n",
    "- Selanjutnya, Buatlah fungsi `total_price` dengan dua input yaitu: 1) dictionary yang merupakan keluaran dari fungsi `counter_item` dan 2) dictionary harga buah  `fruit_price`. Fungsi ini mengeluarkan sebuah total harga dari daftar buah di dictionary keluaran dari `counter_item`.\n",
    "\n",
    "**Hint**: Gunakan fungsi `counter_item` di soal nomor 2."
   ]
  },
  {
   "cell_type": "code",
   "execution_count": 19,
   "metadata": {
    "colab": {},
    "colab_type": "code",
    "id": "IfdaUhaxwWNA"
   },
   "outputs": [],
   "source": [
    "#Graded\n",
    "\n",
    "# dua variable berikut jangan diubah\n",
    "fruits = ['Apple','Avocado','Banana','Blackberries','Blueberries','Cherries','Date Fruit','Grapes','Guava','Jackfruit','Kiwifruit']\n",
    "prices = [6,5,3,10,12,7,14,15,8,7,9]\n",
    "\n",
    "# list buah\n",
    "chart = ['Blueberries','Blueberries','Grapes','Apple','Apple','Apple','Blueberries','Guava','Jackfruit','Blueberries','Jackfruit']\n",
    "\n",
    "# MULAI KODEMU DI SINI\n",
    "fruit_price = {}\n",
    "for index, fruit in enumerate(fruits):\n",
    "    fruit_price[fruit] = prices[index]\n",
    "\n",
    "\n",
    "def total_price(dcounter,fprice):\n",
    "  pass\n",
    "  # MULAI KODEMU DI SINI\n",
    "  ttl_price = 0\n",
    "  for key, value in dcounter.items():\n",
    "    ttl_price+= fprice[key] * value\n",
    "  \n",
    "  return ttl_price\n",
    "  \n",
    " \n"
   ]
  },
  {
   "cell_type": "code",
   "execution_count": 20,
   "metadata": {
    "colab": {},
    "colab_type": "code",
    "id": "xW14Y6f41b8e"
   },
   "outputs": [
    {
     "data": {
      "text/plain": [
       "103"
      ]
     },
     "execution_count": 20,
     "metadata": {},
     "output_type": "execute_result"
    }
   ],
   "source": [
    "# Cek output kode anda\n",
    "total_price(counter_item(chart),fruit_price)"
   ]
  },
  {
   "cell_type": "markdown",
   "metadata": {
    "colab_type": "text",
    "id": "pbcpTPNo1LYW"
   },
   "source": [
    "Expected output:\n",
    "```\n",
    "103\n",
    "```"
   ]
  },
  {
   "cell_type": "markdown",
   "metadata": {
    "colab_type": "text",
    "id": "U5VzcIs5R-MJ"
   },
   "source": [
    "### 4. Buatlah fungsi `discounted_price` dengan dua positional arguments input dari keluaran fungsi totalprice dan discount dalam persen(80 berarti 80%, dst), dan satu keyword argument `minprice` yang menunjukkan hanya dengan minimum price tersebut yang hanya di-discount, set default value `minprice` ke 100. Fungsi tersebut menghitung nilai harga akhir setelah di-discount sebesar discount variable (argument kedua). Untuk harga total yang kurang dari `minprice` maka keluarannya sama dengan harga total tersebut tanpa discount."
   ]
  },
  {
   "cell_type": "code",
   "execution_count": 24,
   "metadata": {
    "colab": {},
    "colab_type": "code",
    "id": "aHDCFfNQzUzC"
   },
   "outputs": [],
   "source": [
    "#Graded\n",
    "\n",
    "def discounted_price(total,discount,minprice=100):\n",
    "  pass\n",
    "  # MULAI KODEMU DI SINI\n",
    "  if total > minprice:\n",
    "    discounted_total = total - (total * discount/100)\n",
    "    \n",
    "  return discounted_total\n",
    "  "
   ]
  },
  {
   "cell_type": "code",
   "execution_count": 25,
   "metadata": {
    "colab": {},
    "colab_type": "code",
    "id": "yNhIwaAZ1lzX"
   },
   "outputs": [
    {
     "data": {
      "text/plain": [
       "92.7"
      ]
     },
     "execution_count": 25,
     "metadata": {},
     "output_type": "execute_result"
    }
   ],
   "source": [
    "# Cek output kode anda\n",
    "discounted_price(total_price(counter_item(chart),fruit_price),10,minprice=100)\n"
   ]
  },
  {
   "cell_type": "markdown",
   "metadata": {
    "colab_type": "text",
    "id": "cweITli-1Mhp"
   },
   "source": [
    "Expected output:\n",
    "```\n",
    "92.7\n",
    "```"
   ]
  },
  {
   "cell_type": "markdown",
   "metadata": {
    "colab_type": "text",
    "id": "wFj8-NVV3Zh1"
   },
   "source": [
    "### 5. Buatlah fungsi `print_summary` dengan 2 posisional argument input, list nama2 buah (cth: seperti variable `chart`) dan dictionary harga buah (cth: seperti variable `fruit_price`, yang mengeluarkan tulisan ringakasan dari pembelian buah seperti berikut ini.\n",
    "\n",
    "cth keluaran:\n",
    "```\n",
    "3 Apple : 18\n",
    "4 Blueberries : 48\n",
    "1 Grapes : 15\n",
    "1 Guava : 8\n",
    "2 Jackfruit : 14\n",
    "total : 103\n",
    "discount price : 92.7\n",
    "```\n",
    "dengan format `jumlahbuah`\\<spasi\\>`namabuah`\\<spasi\\>`totalhargabuah\\n` dengan nama nama buah berurutan sesuai abjad `ascending`, kemudian diikuti total harga semuanya dan discount price dengan besaran 10% dengan minimum harga pembelian 100.\n",
    "\n",
    "**Note**: dipisahkan hanya satu spasi. Output harus sama dengan contoh diatas untuk pemanggilan fungsi berikut ini.\n",
    "```\n",
    "print_summary(chart,fruit_price)\n",
    "```\n",
    "\n",
    "\n",
    "\n",
    "\n"
   ]
  },
  {
   "cell_type": "code",
   "execution_count": 65,
   "metadata": {
    "colab": {},
    "colab_type": "code",
    "id": "zXQzarsv1_bS"
   },
   "outputs": [],
   "source": [
    "#Graded\n",
    "\n",
    "def print_summary(items,fprice):\n",
    "  pass\n",
    "  # MULAI KODEMU DI SINI\n",
    "  items_in_basket = counter_item(items)\n",
    "  \n",
    "  for key, value in sorted(items_in_basket.items()):\n",
    "    singular_price = fprice[key] * value\n",
    "    print(value, key,':', singular_price)\n",
    "    \n",
    "  print('total :',total_price(items_in_basket, fprice))\n",
    "  print('discount price :', discounted_price(total_price(counter_item(items),fprice),10,minprice=100))\n",
    "  \n",
    "  "
   ]
  },
  {
   "cell_type": "code",
   "execution_count": 66,
   "metadata": {
    "colab": {},
    "colab_type": "code",
    "id": "lh0v-YiH1w24"
   },
   "outputs": [
    {
     "name": "stdout",
     "output_type": "stream",
     "text": [
      "3 Apple : 18\n",
      "4 Blueberries : 48\n",
      "1 Grapes : 15\n",
      "1 Guava : 8\n",
      "2 Jackfruit : 14\n",
      "total : 103\n",
      "discount price : 92.7\n"
     ]
    }
   ],
   "source": [
    "# Cek output kode anda\n",
    "print_summary(chart,fruit_price)\n",
    "  "
   ]
  },
  {
   "cell_type": "markdown",
   "metadata": {
    "colab_type": "text",
    "id": "UroVZiY51Oqk"
   },
   "source": [
    "Expected output:\n",
    "```\n",
    "3 Apple : 18\n",
    "4 Blueberries : 48\n",
    "1 Grapes : 15\n",
    "1 Guava : 8\n",
    "2 Jackfruit : 14\n",
    "total : 103\n",
    "discount price : 92.7\n",
    "```"
   ]
  },
  {
   "cell_type": "markdown",
   "metadata": {
    "colab_type": "text",
    "id": "WoJFPIBvwg8L"
   },
   "source": [
    "# Cara Submit\n",
    "0. Isikan variable priority dengan nilai yang lebih besar dari submisi sebelumnya untuk revisi.\n",
    "1. Tuliskan email akun netacad anda di variable email (tentunya dengan tanda kutip) \n",
    "2. Copy-paste **SEMUA** cell yang ada komentar `#Graded` ke cell code di bawah ini.\n",
    "3. Simpan kode tersebut sebagai p1.py\n",
    "4. Submit file ke google form berikut: https://forms.gle/6AQ8BYM8UoMK7kJg6\n",
    "5. Pengisian form membutuhkan anda login ke akun google anda.\n",
    "\n"
   ]
  },
  {
   "cell_type": "code",
   "execution_count": 0,
   "metadata": {
    "colab": {},
    "colab_type": "code",
    "id": "V1eLQuC9xgZ-"
   },
   "outputs": [],
   "source": [
    "# nama file p1.py \n",
    "# Isikan email anda dan copy semua cell code yang dengan komentar #Graded\n",
    "\n",
    "# untuk revisi dan resubmisi sebelum deadline\n",
    "# silakan di resubmit dengan nilai variable priority yang lebih besar dari\n",
    "# nilai priority submisi sebelumnya\n",
    "# JIKA TIDAK ADA VARIABLE priority DIANGGAP priority=0\n",
    "priority = 0\n",
    "\n",
    "#netacad email cth: 'abcd@gmail.com'\n",
    "email=''\n",
    " \n",
    "# copy-paste semua #Graded cells YANG SUDAH ANDA KERJAKAN di bawah ini"
   ]
  }
 ],
 "metadata": {
  "colab": {
   "collapsed_sections": [],
   "name": "Project 1 - list and dictionary.ipynb",
   "provenance": []
  },
  "kernelspec": {
   "display_name": "Python 3",
   "language": "python",
   "name": "python3"
  },
  "language_info": {
   "codemirror_mode": {
    "name": "ipython",
    "version": 3
   },
   "file_extension": ".py",
   "mimetype": "text/x-python",
   "name": "python",
   "nbconvert_exporter": "python",
   "pygments_lexer": "ipython3",
   "version": "3.7.6"
  }
 },
 "nbformat": 4,
 "nbformat_minor": 1
}
