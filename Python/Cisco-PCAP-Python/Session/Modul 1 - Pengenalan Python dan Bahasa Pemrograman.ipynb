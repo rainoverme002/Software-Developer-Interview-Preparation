{
 "cells": [
  {
   "cell_type": "markdown",
   "metadata": {},
   "source": [
    "## Luaran Pembelajaran\n",
    "klik untuk [Open in colab](https://colab.research.google.com/github/sykrn/py-dts/blob/master/Modul%201%20-%20Pengenalan%20Python%20dan%20Bahasa%20Pemrograman.ipynb) \n",
    "- dasar-dasar pemrograman komputer;\n",
    "- mengatur lingkungan pemrograman;\n",
    "- compilation vs interpretation;\n",
    "- pengantar bahasa pemrograman Python.\n",
    "\n",
    "#### Masuk ke Slide Power Point"
   ]
  },
  {
   "cell_type": "code",
   "execution_count": 2,
   "metadata": {},
   "outputs": [
    {
     "name": "stdout",
     "output_type": "stream",
     "text": [
      "Hello World\n"
     ]
    }
   ],
   "source": [
    "# Your First Program\n",
    "\n",
    "print(\"Hello World\")"
   ]
  },
  {
   "cell_type": "markdown",
   "metadata": {},
   "source": [
    "## Instalasi python dan tools\n",
    "Cara dibawah ini pilih salah satu:\n",
    "\n",
    "1. Tidak perlu install apapun -> Pakai **sandbox** atau **Google Colab** (klik link colab setiap notebook)\n",
    "2. Install minimal python -> download di [python.org](https://www.python.org/) (Sudah termasuk package manager pip dan IDLE)\n",
    "> Saat menginstall, silakan centang **add to path variable** dan **change minimum path length** \n",
    "3. Install miniconda (minimum anaconda) - Command Line Interface (CLI) only [miniconda](https://docs.conda.io/en/latest/miniconda.html)\n",
    "4. Install Anaconda - Graphical User Interface (GUI) (sudah bisa install spyder, VSCode, dll) [download](https://www.anaconda.com/products/individual)\n",
    "\n",
    "### Editor & working space \n",
    "1. IDLE dari python.org\n",
    "2. Visual Studio Code -> Rcmd: install ekstensi `python` dari microsoft. [download](https://code.visualstudio.com/)\n",
    "3. Jupyter notebook di CLI baik menggunakan `pip` atau `conda`. [Install](https://jupyter.org/install)\n",
    "\n",
    "### CLI only untuk linux\n",
    "* bisa menggunakan `curl` atau `wget`"
   ]
  },
  {
   "cell_type": "code",
   "execution_count": null,
   "metadata": {},
   "outputs": [],
   "source": []
  }
 ],
 "metadata": {
  "kernelspec": {
   "display_name": "Python 3",
   "language": "python",
   "name": "python3"
  },
  "language_info": {
   "codemirror_mode": {
    "name": "ipython",
    "version": 3
   },
   "file_extension": ".py",
   "mimetype": "text/x-python",
   "name": "python",
   "nbconvert_exporter": "python",
   "pygments_lexer": "ipython3",
   "version": "3.7.4"
  }
 },
 "nbformat": 4,
 "nbformat_minor": 2
}
