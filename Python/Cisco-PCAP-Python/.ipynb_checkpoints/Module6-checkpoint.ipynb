{
 "cells": [
  {
   "cell_type": "markdown",
   "metadata": {},
   "source": [
    "# Module 6 OOP, Exception Handlings, Working with Files"
   ]
  },
  {
   "cell_type": "markdown",
   "metadata": {},
   "source": [
    "## Object Oriented Programming\n",
    "\n",
    "- useful when applied to big and complex projects carried out by large teams consisting of many developers.\n",
    "\n",
    "- The data and the code are enclosed together in the same world, divided into classes.\n",
    "\n",
    "- Every object has a set of traits (they are called properties or attributes - we'll use both words synonymously) and is able to perform a set of activities (which are called methods).\n",
    "\n",
    "- Every object reflect real facts, relationships, and circumstances\n",
    "\n",
    "### Class Hierarchy\n",
    "\n",
    "![class hierarchy](https://static.packt-cdn.com/products/9781788391818/graphics/5d3e7762-8e5f-432b-b578-0932936edca7.png)\n",
    "\n",
    "- the hierarchy grows from top to bottom, like tree roots, not branches\n",
    "\n",
    "Example :\n",
    "\n",
    "The vehicles class is very broad. Too broad. We have to define some more specialized classes, then. The specialized classes are the subclasses. The vehicles class will be a superclass for them all."
   ]
  },
  {
   "cell_type": "markdown",
   "metadata": {},
   "source": [
    "### Object\n",
    "\n",
    "- An object is an incarnation of the requirements, traits, and qualities assigned to a specific class\n",
    "\n",
    "- Each subclass is more specialized (or more specific) than its superclass. Conversely, each superclass is more general (more abstract) than any of its subclasses. \n",
    "\n",
    "What you need to build an object?\n",
    "\n",
    "1. an object has a name that uniquely identifies it within its home namespace (although there may be some anonymous objects, too)\n",
    "2. an object has a set of individual properties which make it original, unique or outstanding (although it's possible that some objects may have no properties at all)\n",
    "3. an object has a set of abilities to perform specific activities, able to change the object itself, or some of the other objects."
   ]
  },
  {
   "cell_type": "code",
   "execution_count": 1,
   "metadata": {},
   "outputs": [],
   "source": [
    "class TheSimplestClass:\n",
    "    pass # fill class with nothing, It doesn't contain any methods or properties.\n",
    "\n",
    "myFirstObject = TheSimplestClass()"
   ]
  },
  {
   "cell_type": "code",
   "execution_count": 2,
   "metadata": {},
   "outputs": [
    {
     "ename": "SyntaxError",
     "evalue": "invalid syntax (<ipython-input-2-a3ef2f39a96b>, line 3)",
     "output_type": "error",
     "traceback": [
      "\u001b[0;36m  File \u001b[0;32m\"<ipython-input-2-a3ef2f39a96b>\"\u001b[0;36m, line \u001b[0;32m3\u001b[0m\n\u001b[0;31m    - A stack is a structure developed to store data in a very specific way\u001b[0m\n\u001b[0m            ^\u001b[0m\n\u001b[0;31mSyntaxError\u001b[0m\u001b[0;31m:\u001b[0m invalid syntax\n"
     ]
    }
   ],
   "source": [
    "#### Stack - LIFO\n",
    "\n",
    "- A stack is a structure developed to store data in a very specific way\n",
    "\n",
    "- Last In - First Out"
   ]
  },
  {
   "cell_type": "code",
   "execution_count": null,
   "metadata": {},
   "outputs": [],
   "source": [
    "class Stack:\n",
    "    def __init__(self):\n",
    "        self.__stackList = []\n",
    "\n",
    "    def push(self, val):\n",
    "        self.__stackList.append(val)\n",
    "\n",
    "    def pop(self):\n",
    "        val = self.__stackList[-1]\n",
    "        del self.__stackList[-1]\n",
    "        return val\n",
    "\n",
    "\n",
    "stackObject = Stack()\n",
    "\n",
    "stackObject.push(3)\n",
    "stackObject.push(2)\n",
    "stackObject.push(1)\n",
    "\n",
    "print(stackObject.pop())\n",
    "print(stackObject.pop())\n",
    "print(stackObject.pop())"
   ]
  },
  {
   "cell_type": "code",
   "execution_count": null,
   "metadata": {},
   "outputs": [],
   "source": [
    "### Inheritance\n",
    "\n",
    "![inheritance](https://media.geeksforgeeks.org/wp-content/uploads/inheritance2.png)\n",
    "\n",
    "- Any object bound to a specific level of a class hierarchy inherits all the traits (as well as the requirements and qualities) defined inside any of the superclasses."
   ]
  },
  {
   "cell_type": "code",
   "execution_count": null,
   "metadata": {},
   "outputs": [],
   "source": [
    "# check if any is subclass of the other\n",
    "class Vehicle:\n",
    "    pass\n",
    "\n",
    "class LandVehicle(Vehicle):\n",
    "    pass\n",
    "\n",
    "class TrackedVehicle(LandVehicle):\n",
    "    pass\n",
    "\n",
    "\n",
    "for cls1 in [Vehicle, LandVehicle, TrackedVehicle]:\n",
    "    for cls2 in [Vehicle, LandVehicle, TrackedVehicle]:\n",
    "        print(issubclass(cls1, cls2), end=\"\\t\")\n",
    "    print()"
   ]
  },
  {
   "cell_type": "code",
   "execution_count": null,
   "metadata": {},
   "outputs": [],
   "source": [
    "# you can check if any isinstance of the other\n",
    "class Vehicle:\n",
    "    pass\n",
    "\n",
    "class LandVehicle(Vehicle):\n",
    "    pass\n",
    "\n",
    "class TrackedVehicle(LandVehicle):\n",
    "    pass\n",
    "\n",
    "\n",
    "myVehicle = Vehicle()\n",
    "myLandVehicle = LandVehicle()\n",
    "myTrackedVehicle = TrackedVehicle()\n",
    "\n",
    "for obj in [myVehicle, myLandVehicle, myTrackedVehicle]:\n",
    "    for cls in [Vehicle, LandVehicle, TrackedVehicle]:\n",
    "        print(isinstance(obj, cls), end=\"\\t\")\n",
    "    print()"
   ]
  },
  {
   "cell_type": "code",
   "execution_count": null,
   "metadata": {},
   "outputs": [],
   "source": [
    "# you can assign object like variable\n",
    "class SampleClass:\n",
    "    def __init__(self, val):\n",
    "        self.val = val\n",
    "\n",
    "ob1 = SampleClass(0)\n",
    "ob2 = SampleClass(2)\n",
    "ob3 = ob1\n",
    "ob3.val += 1\n",
    "\n",
    "print(ob1 is ob2)\n",
    "print(ob2 is ob3)\n",
    "print(ob3 is ob1)\n",
    "print(ob1.val, ob2.val, ob3.val)\n",
    "\n",
    "str1 = \"Mary had a little \"\n",
    "str2 = \"Mary had a little lamb\"\n",
    "str1 += \"lamb\"\n",
    "\n",
    "print(str1 == str2, str1 is str2)"
   ]
  },
  {
   "cell_type": "code",
   "execution_count": null,
   "metadata": {},
   "outputs": [],
   "source": [
    "class Super:\n",
    "    def __init__(self, name):\n",
    "        self.name = name\n",
    "\n",
    "    def __str__(self):\n",
    "        return \"My name is \" + self.name + \".\"\n",
    "\n",
    "class Sub(Super):\n",
    "    def __init__(self, name):\n",
    "        Super.__init__(self, name)\n",
    "\n",
    "\n",
    "obj = Sub(\"Andy\")\n",
    "\n",
    "print(obj)"
   ]
  },
  {
   "cell_type": "code",
   "execution_count": null,
   "metadata": {},
   "outputs": [],
   "source": [
    "# Testing properties: class variables\n",
    "class Super:\n",
    "    supVar = 1\n",
    "\n",
    "class Sub(Super):\n",
    "    subVar = 2\n",
    "\n",
    "obj = Sub()\n",
    "\n",
    "print(obj.subVar)\n",
    "print(obj.supVar)"
   ]
  },
  {
   "cell_type": "code",
   "execution_count": null,
   "metadata": {},
   "outputs": [],
   "source": [
    "class Left:\n",
    "    var = \"L\"\n",
    "    varLeft = \"LL\"\n",
    "    def fun(self):\n",
    "        return \"Left\"\n",
    "\n",
    "\n",
    "class Right:\n",
    "    var = \"R\"\n",
    "    varRight = \"RR\"\n",
    "    def fun(self):\n",
    "        return \"Right\"\n",
    "\n",
    "class Sub(Left, Right):\n",
    "    pass\n",
    "\n",
    "\n",
    "obj = Sub()\n",
    "\n",
    "print(obj.var, obj.varLeft, obj.varRight, obj.fun())"
   ]
  },
  {
   "cell_type": "code",
   "execution_count": null,
   "metadata": {},
   "outputs": [],
   "source": [
    "import time\n",
    "\n",
    "class Tracks:\n",
    "    def changedirection(self, left, on):\n",
    "        print(\"tracks: \", left, on)\n",
    "\n",
    "class Wheels:\n",
    "    def changedirection(self, left, on):\n",
    "        print(\"wheels: \", left, on)\n",
    "\n",
    "class Vehicle:\n",
    "    def __init__(self, controller):\n",
    "        self.controller = controller\n",
    "\n",
    "    def turn(self, left):\n",
    "        self.controller.changedirection(left, True)\n",
    "        time.sleep(0.25)\n",
    "        self.controller.changedirection(left, False)\n",
    "\n",
    "wheeled = Vehicle(Wheels())\n",
    "tracked = Vehicle(Tracks())\n",
    "\n",
    "wheeled.turn(True)\n",
    "tracked.turn(False)"
   ]
  },
  {
   "cell_type": "markdown",
   "metadata": {},
   "source": [
    "#### Single inheritance vs. multiple inheritance\n",
    "\n",
    "- multiple inheritance violates the single responsibility principle (more details here: https://en.wikipedia.org/wiki/Single_responsibility_principle) as it makes a new class of two (or more) classes that know nothing about each other;"
   ]
  },
  {
   "cell_type": "markdown",
   "metadata": {},
   "source": [
    "### Encapsulation\n",
    "\n",
    "- name starting with two underscores (__), it becomes private \n",
    "\n",
    "- You cannot see it from the outside world. This is how Python implements the encapsulation concept"
   ]
  },
  {
   "cell_type": "code",
   "execution_count": null,
   "metadata": {},
   "outputs": [],
   "source": [
    "# play with super and subclass\n",
    "# Stack is superclass and AddingStack is it subclass\n",
    "# Stack.__init__(self) => will give all Stack method to AddingStack\n",
    "\n",
    "class Stack:\n",
    "    def __init__(self):\n",
    "        self.__stackList = []\n",
    "\n",
    "    def push(self, val):\n",
    "        self.__stackList.append(val)\n",
    "\n",
    "    def pop(self):\n",
    "        val = self.__stackList[-1]\n",
    "        del self.__stackList[-1]\n",
    "        return val\n",
    "\n",
    "\n",
    "class AddingStack(Stack):\n",
    "    def __init__(self):\n",
    "        Stack.__init__(self)\n",
    "        self.__sum = 0\n",
    "\n",
    "    def getSum(self):\n",
    "        return self.__sum\n",
    "\n",
    "    def push(self, val):\n",
    "        self.__sum += val\n",
    "        Stack.push(self, val)\n",
    "\n",
    "    def pop(self):\n",
    "        val = Stack.pop(self)\n",
    "        self.__sum -= val\n",
    "        return val\n",
    "\n",
    "\n",
    "stackObject = AddingStack()\n",
    "\n",
    "for i in range(5):\n",
    "    stackObject.push(i)\n",
    "print(stackObject.getSum())\n",
    "\n",
    "for i in range(5):\n",
    "    print(stackObject.pop())"
   ]
  },
  {
   "cell_type": "markdown",
   "metadata": {},
   "source": [
    "### Instance Variable\n",
    "\n",
    "- Variable that always connect with it object and will store the object only"
   ]
  },
  {
   "cell_type": "code",
   "execution_count": 3,
   "metadata": {},
   "outputs": [
    {
     "name": "stdout",
     "output_type": "stream",
     "text": [
      "{'_ExampleClass__first': 1}\n",
      "{'_ExampleClass__first': 2, '_ExampleClass__second': 3}\n",
      "{'_ExampleClass__first': 4, '__third': 5}\n"
     ]
    }
   ],
   "source": [
    "class ExampleClass:\n",
    "    def __init__(self, val = 1):\n",
    "        self.__first = val\n",
    "\n",
    "    def setSecond(self, val = 2):\n",
    "        self.__second = val\n",
    "\n",
    "\n",
    "exampleObject1 = ExampleClass()\n",
    "exampleObject2 = ExampleClass(2)\n",
    "\n",
    "exampleObject2.setSecond(3)\n",
    "\n",
    "exampleObject3 = ExampleClass(4)\n",
    "exampleObject3.__third = 5 # will build private instance variable third\n",
    "\n",
    "\n",
    "print(exampleObject1.__dict__)\n",
    "print(exampleObject2.__dict__)\n",
    "print(exampleObject3.__dict__)"
   ]
  },
  {
   "cell_type": "markdown",
   "metadata": {},
   "source": [
    "### Class Variable\n",
    "\n",
    "- A class variable is a property which exists in just one copy and is stored outside any object"
   ]
  },
  {
   "cell_type": "code",
   "execution_count": 4,
   "metadata": {},
   "outputs": [
    {
     "name": "stdout",
     "output_type": "stream",
     "text": [
      "{'_ExampleClass__first': 1} 3\n",
      "{'_ExampleClass__first': 2} 3\n",
      "{'_ExampleClass__first': 4} 3\n"
     ]
    }
   ],
   "source": [
    "class ExampleClass:\n",
    "    counter = 0\n",
    "    def __init__(self, val = 1):\n",
    "        self.__first = val\n",
    "        ExampleClass.counter += 1\n",
    "\n",
    "exampleObject1 = ExampleClass()\n",
    "exampleObject2 = ExampleClass(2)\n",
    "exampleObject3 = ExampleClass(4)\n",
    "\n",
    "print(exampleObject1.__dict__, exampleObject1.counter)\n",
    "print(exampleObject2.__dict__, exampleObject2.counter)\n",
    "print(exampleObject3.__dict__, exampleObject3.counter)"
   ]
  },
  {
   "cell_type": "markdown",
   "metadata": {},
   "source": [
    "### Checking attributes in class"
   ]
  },
  {
   "cell_type": "code",
   "execution_count": 5,
   "metadata": {},
   "outputs": [
    {
     "name": "stdout",
     "output_type": "stream",
     "text": [
      "1\n"
     ]
    }
   ],
   "source": [
    "class ExampleClass:\n",
    "    def __init__(self, val):\n",
    "        if val % 2 != 0:\n",
    "            self.a = 1\n",
    "        else:\n",
    "            self.b = 1\n",
    "\n",
    "exampleObject = ExampleClass(1)\n",
    "print(exampleObject.a)\n",
    "\n",
    "try:\n",
    "    print(exampleObject.b)\n",
    "except AttributeError:\n",
    "    pass"
   ]
  },
  {
   "cell_type": "code",
   "execution_count": 6,
   "metadata": {},
   "outputs": [
    {
     "name": "stdout",
     "output_type": "stream",
     "text": [
      "True\n",
      "False\n"
     ]
    }
   ],
   "source": [
    "class ExampleClass:\n",
    "    attr = 1\n",
    "\n",
    "print(hasattr(ExampleClass, 'attr'))\n",
    "print(hasattr(ExampleClass, 'prop'))"
   ]
  },
  {
   "cell_type": "markdown",
   "metadata": {},
   "source": [
    "### Methods inside Class\n",
    "\n",
    "- a method whose name starts with __ is (partially) hidden"
   ]
  },
  {
   "cell_type": "code",
   "execution_count": 7,
   "metadata": {},
   "outputs": [
    {
     "name": "stdout",
     "output_type": "stream",
     "text": [
      "{'var': 2}\n",
      "{'__module__': '__main__', 'varia': 1, '__init__': <function Classy.__init__ at 0x1113b84d0>, 'method': <function Classy.method at 0x1113b8560>, '_Classy__hidden': <function Classy.__hidden at 0x1113b85f0>, '__dict__': <attribute '__dict__' of 'Classy' objects>, '__weakref__': <attribute '__weakref__' of 'Classy' objects>, '__doc__': None}\n"
     ]
    }
   ],
   "source": [
    "class Classy:\n",
    "    varia = 1\n",
    "    def __init__(self):\n",
    "        self.var = 2\n",
    "\n",
    "    def method(self):\n",
    "        pass\n",
    "\n",
    "    def __hidden(self):\n",
    "        pass\n",
    "\n",
    "obj = Classy()\n",
    "\n",
    "print(obj.__dict__)\n",
    "print(Classy.__dict__)"
   ]
  },
  {
   "cell_type": "code",
   "execution_count": 8,
   "metadata": {},
   "outputs": [
    {
     "name": "stdout",
     "output_type": "stream",
     "text": [
      "( object )\n",
      "( object )\n",
      "( SuperOne SuperTwo )\n"
     ]
    }
   ],
   "source": [
    "class SuperOne:\n",
    "    pass\n",
    "\n",
    "class SuperTwo:\n",
    "    pass\n",
    "\n",
    "class Sub(SuperOne, SuperTwo):\n",
    "    pass\n",
    "\n",
    "\n",
    "def printBases(cls):\n",
    "    print('( ', end='')\n",
    "\n",
    "    for x in cls.__bases__:\n",
    "        print(x.__name__, end=' ')\n",
    "    print(')')\n",
    "\n",
    "\n",
    "printBases(SuperOne)\n",
    "printBases(SuperTwo)\n",
    "printBases(Sub)"
   ]
  },
  {
   "cell_type": "markdown",
   "metadata": {},
   "source": [
    "### Reflection and Introspection\n",
    "\n",
    "- introspection, which is the ability of a program to examine the type or properties of an object at runtime;\n",
    "- reflection, which goes a step further, and is the ability of a program to manipulate the values, properties and/or functions of an object at runtime."
   ]
  },
  {
   "cell_type": "code",
   "execution_count": 9,
   "metadata": {},
   "outputs": [
    {
     "name": "stdout",
     "output_type": "stream",
     "text": [
      "{'a': 1, 'b': 2, 'i': 3, 'ireal': 3.5, 'integer': 4, 'z': 5}\n",
      "{'a': 1, 'b': 2, 'i': 4, 'ireal': 3.5, 'integer': 5, 'z': 5}\n"
     ]
    }
   ],
   "source": [
    "class MyClass:\n",
    "    pass\n",
    "\n",
    "obj = MyClass()\n",
    "obj.a = 1\n",
    "obj.b = 2\n",
    "obj.i = 3\n",
    "obj.ireal = 3.5\n",
    "obj.integer = 4\n",
    "obj.z = 5\n",
    "\n",
    "def incIntsI(obj):\n",
    "    for name in obj.__dict__.keys():\n",
    "        if name.startswith('i'):\n",
    "            val = getattr(obj, name)\n",
    "            if isinstance(val, int):\n",
    "                setattr(obj, name, val + 1)\n",
    "\n",
    "print(obj.__dict__)\n",
    "incIntsI(obj)\n",
    "print(obj.__dict__)"
   ]
  },
  {
   "cell_type": "markdown",
   "metadata": {},
   "source": [
    "## Exception Handling\n",
    "\n",
    "- Exception basicly is a class"
   ]
  },
  {
   "cell_type": "code",
   "execution_count": 10,
   "metadata": {},
   "outputs": [
    {
     "name": "stdout",
     "output_type": "stream",
     "text": [
      "Everything went fine\n",
      "It's time to say goodbye\n",
      "0.5\n",
      "Division failed\n",
      "It's time to say goodbye\n",
      "None\n"
     ]
    }
   ],
   "source": [
    "def reciprocal(n):\n",
    "    try:\n",
    "        n = 1 / n\n",
    "    except ZeroDivisionError:\n",
    "        print(\"Division failed\")\n",
    "        n = None\n",
    "    else:\n",
    "        print(\"Everything went fine\")\n",
    "    finally:\n",
    "        print(\"It's time to say goodbye\")\n",
    "        return n\n",
    "\n",
    "print(reciprocal(2))\n",
    "print(reciprocal(0))"
   ]
  },
  {
   "cell_type": "code",
   "execution_count": 11,
   "metadata": {},
   "outputs": [
    {
     "name": "stdout",
     "output_type": "stream",
     "text": [
      "invalid literal for int() with base 10: 'Hello!'\n",
      "invalid literal for int() with base 10: 'Hello!'\n"
     ]
    }
   ],
   "source": [
    "try:\n",
    "    i = int(\"Hello!\")\n",
    "except Exception as e:\n",
    "    print(e)\n",
    "    print(e.__str__())"
   ]
  },
  {
   "cell_type": "code",
   "execution_count": 12,
   "metadata": {},
   "outputs": [
    {
     "name": "stdout",
     "output_type": "stream",
     "text": [
      " :  : \n",
      "my exception : my exception : my exception\n",
      "('my', 'exception') : ('my', 'exception') : ('my', 'exception')\n"
     ]
    }
   ],
   "source": [
    "def printargs(args):\n",
    "\tlng = len(args)\n",
    "\tif lng == 0:\n",
    "\t\tprint(\"\")\n",
    "\telif lng == 1:\n",
    "\t\tprint(args[0])\n",
    "\telse:\n",
    "\t\tprint(str(args))\n",
    "\n",
    "try:\n",
    "\traise Exception\n",
    "except Exception as e:\n",
    "\tprint(e, e.__str__(), sep=' : ' ,end=' : ')\n",
    "\tprintargs(e.args)\n",
    "\n",
    "try:\n",
    "\traise Exception(\"my exception\")\n",
    "except Exception as e:\n",
    "\tprint(e, e.__str__(), sep=' : ', end=' : ')\n",
    "\tprintargs(e.args)\n",
    "\n",
    "try:\n",
    "\traise Exception(\"my\", \"exception\")\n",
    "except Exception as e:\n",
    "\tprint(e, e.__str__(), sep=' : ', end=' : ')\n",
    "\tprintargs(e.args)"
   ]
  },
  {
   "cell_type": "markdown",
   "metadata": {},
   "source": [
    "## Advance Technique"
   ]
  },
  {
   "cell_type": "markdown",
   "metadata": {},
   "source": [
    "### Generator"
   ]
  },
  {
   "cell_type": "code",
   "execution_count": 13,
   "metadata": {},
   "outputs": [
    {
     "name": "stdout",
     "output_type": "stream",
     "text": [
      "__init__\n",
      "__iter__\n",
      "__next__\n",
      "1\n",
      "__next__\n",
      "1\n",
      "__next__\n",
      "2\n",
      "__next__\n",
      "3\n",
      "__next__\n",
      "5\n",
      "__next__\n",
      "8\n",
      "__next__\n",
      "13\n",
      "__next__\n",
      "21\n",
      "__next__\n",
      "34\n",
      "__next__\n",
      "55\n",
      "__next__\n"
     ]
    }
   ],
   "source": [
    "class Fib:\n",
    "\tdef __init__(self, nn):\n",
    "\t\tprint(\"__init__\")\n",
    "\t\tself.__n = nn\n",
    "\t\tself.__i = 0\n",
    "\t\tself.__p1 = self.__p2 = 1\n",
    "\n",
    "\tdef __iter__(self):\n",
    "\t\tprint(\"__iter__\")\t\t\n",
    "\t\treturn self\n",
    "\n",
    "\tdef __next__(self):\n",
    "\t\tprint(\"__next__\")\t\t\t\t\n",
    "\t\tself.__i += 1\n",
    "\t\tif self.__i > self.__n:\n",
    "\t\t\traise StopIteration\n",
    "\t\tif self.__i in [1, 2]:\n",
    "\t\t\treturn 1\n",
    "\t\tret = self.__p1 + self.__p2\n",
    "\t\tself.__p1, self.__p2 = self.__p2, ret\n",
    "\t\treturn ret\n",
    "\n",
    "for i in Fib(10):\n",
    "\tprint(i)"
   ]
  },
  {
   "cell_type": "markdown",
   "metadata": {},
   "source": [
    "### Yield\n",
    "\n",
    "- have similar function as return, but it will still continue instead break the function"
   ]
  },
  {
   "cell_type": "code",
   "execution_count": 14,
   "metadata": {},
   "outputs": [
    {
     "name": "stdout",
     "output_type": "stream",
     "text": [
      "0\n",
      "1\n",
      "2\n",
      "3\n",
      "4\n"
     ]
    }
   ],
   "source": [
    "def fun(n):\n",
    "    for i in range(n):\n",
    "        yield i\n",
    "\n",
    "for v in fun(5):\n",
    "    print(v)"
   ]
  },
  {
   "cell_type": "markdown",
   "metadata": {},
   "source": [
    "#### List Comprehension"
   ]
  },
  {
   "cell_type": "code",
   "execution_count": 15,
   "metadata": {},
   "outputs": [
    {
     "name": "stdout",
     "output_type": "stream",
     "text": [
      "[1, 10, 100, 1000, 10000, 100000]\n",
      "[1, 10, 100, 1000, 10000, 100000]\n"
     ]
    }
   ],
   "source": [
    "listOne = []\n",
    "\n",
    "for ex in range(6):\n",
    "    listOne.append(10 ** ex)\n",
    "\n",
    "\n",
    "listTwo = [10 ** ex for ex in range(6)]\n",
    "\n",
    "print(listOne)\n",
    "print(listTwo)"
   ]
  },
  {
   "cell_type": "code",
   "execution_count": 16,
   "metadata": {},
   "outputs": [
    {
     "name": "stdout",
     "output_type": "stream",
     "text": [
      "[1, 0, 1, 0, 1, 0, 1, 0, 1, 0]\n"
     ]
    }
   ],
   "source": [
    "lst = [1 if x % 2 == 0 else 0 for x in range(10)]\n",
    "\n",
    "print(lst)"
   ]
  },
  {
   "cell_type": "markdown",
   "metadata": {},
   "source": [
    "### Lambda\n",
    "\n",
    "- Programmers use the lambda function to simplify the code, to make it clearer and easier to understand."
   ]
  },
  {
   "cell_type": "code",
   "execution_count": 17,
   "metadata": {},
   "outputs": [
    {
     "name": "stdout",
     "output_type": "stream",
     "text": [
      "4 4\n",
      "1 1\n",
      "0 0\n",
      "1 1\n",
      "4 4\n"
     ]
    }
   ],
   "source": [
    "two = lambda : 2\n",
    "sqr = lambda x : x * x\n",
    "pwr = lambda x, y : x ** y\n",
    "\n",
    "for a in range(-2, 3):\n",
    "    print(sqr(a), end=\" \")\n",
    "    print(pwr(a, two()))"
   ]
  },
  {
   "cell_type": "code",
   "execution_count": 18,
   "metadata": {},
   "outputs": [
    {
     "name": "stdout",
     "output_type": "stream",
     "text": [
      "[0, 1, 2, 3, 4]\n",
      "[1, 2, 4, 8, 16]\n",
      "1 4 16 64 256 \n"
     ]
    }
   ],
   "source": [
    "list1 = [x for x in range(5)]\n",
    "list2 = list(map(lambda x: 2 ** x, list1))\n",
    "print(list1)\n",
    "print(list2)\n",
    "for x in map(lambda x: x * x, list2):\n",
    "\tprint(x, end=' ')\n",
    "print()"
   ]
  },
  {
   "cell_type": "code",
   "execution_count": 19,
   "metadata": {},
   "outputs": [
    {
     "name": "stdout",
     "output_type": "stream",
     "text": [
      "[10, 3, 2, -1, -5]\n",
      "[10, 2]\n"
     ]
    }
   ],
   "source": [
    "from random import seed, randint\n",
    "\n",
    "seed()\n",
    "data = [ randint(-10,10) for x in range(5) ]\n",
    "filtered = list(filter(lambda x: x > 0 and x % 2 == 0, data))\n",
    "print(data)\n",
    "print(filtered)"
   ]
  },
  {
   "cell_type": "markdown",
   "metadata": {},
   "source": [
    "### Closure\n",
    "\n",
    "-  closure is a technique which allows the storing of values in spite of the fact that the context in which they have been created does not exist anymore."
   ]
  },
  {
   "cell_type": "code",
   "execution_count": 20,
   "metadata": {},
   "outputs": [
    {
     "name": "stdout",
     "output_type": "stream",
     "text": [
      "1\n"
     ]
    }
   ],
   "source": [
    "def outer(par):\n",
    "\tloc = par\n",
    "\tdef inner():\n",
    "\t\treturn loc\n",
    "\treturn inner\n",
    "\n",
    "var = 1\n",
    "fun = outer(var)\n",
    "print(fun())"
   ]
  },
  {
   "cell_type": "code",
   "execution_count": 21,
   "metadata": {},
   "outputs": [
    {
     "name": "stdout",
     "output_type": "stream",
     "text": [
      "0 0 0\n",
      "1 1 1\n",
      "2 4 8\n",
      "3 9 27\n",
      "4 16 64\n"
     ]
    }
   ],
   "source": [
    "def makeclosure(par):\n",
    "\tloc = par\n",
    "\tdef power(p):\n",
    "\t\treturn p ** loc\n",
    "\treturn power\n",
    "\n",
    "fsqr = makeclosure(2)\n",
    "fcub = makeclosure(3)\n",
    "for i in range(5):\n",
    "\tprint(i, fsqr(i), fcub(i))"
   ]
  },
  {
   "cell_type": "markdown",
   "metadata": {},
   "source": [
    "## Processing File\n",
    "\n",
    "### File system\n",
    "\n",
    "In Unix/Linux systems, it may look as follows:\n",
    "\n",
    "```python\n",
    "name = \"/dir/file\"\n",
    "```\n",
    "\n",
    "But if you try to code it for the Windows system:\n",
    "\n",
    "```python\n",
    "name = \"\\dir\\file\"\n",
    "```\n",
    "\n",
    "### File streams\n",
    "\n",
    "Basic of File streams:\n",
    "\n",
    "1. read mode: a stream opened in this mode allows read operations only; trying to write to the stream will cause an exception (the exception is named UnsupportedOperation, which inherits OSError and ValueError, and comes from the io module);\n",
    "2. write mode: a stream opened in this mode allows write operations only; attempting to read the stream will cause the exception mentioned above;\n",
    "3. update mode: a stream opened in this mode allows both writes and reads\n",
    "\n",
    "### File handles\n",
    "\n",
    "- Python assumes that every file is hidden behind an object of an adequate class\n",
    "\n",
    "```python\n",
    "stream = open(file, mode = 'r', encoding = None)\n",
    "```"
   ]
  },
  {
   "cell_type": "code",
   "execution_count": 23,
   "metadata": {},
   "outputs": [
    {
     "name": "stdout",
     "output_type": "stream",
     "text": [
      "Cannot open the file: [Errno 2] No such file or directory: '~/'\n"
     ]
    }
   ],
   "source": [
    "try:\n",
    "    stream = open(\"~/\", \"rt\")\n",
    "    # processing goes here\n",
    "    stream.close()\n",
    "except Exception as exc:\n",
    "    print(\"Cannot open the file:\", exc)"
   ]
  },
  {
   "cell_type": "code",
   "execution_count": 43,
   "metadata": {},
   "outputs": [
    {
     "name": "stdout",
     "output_type": "stream",
     "text": [
      "\n",
      "\n",
      "Characters in file: 0\n"
     ]
    }
   ],
   "source": [
    "import os\n",
    "\n",
    "try:\n",
    "    cnt = 0\n",
    "    s = open('text.txt', \"a+\") # can create file to write and read\n",
    "    s.close()\n",
    "    s = open('text.txt', \"r\") # only to read\n",
    "    ch = s.read(1)\n",
    "    while ch != '':\n",
    "        print(ch, end='')\n",
    "        cnt += 1\n",
    "        ch = s.read(1)\n",
    "    s.close()\n",
    "    print(\"\\n\\nCharacters in file:\", cnt)\n",
    "    os.remove('text.txt') # make sure it clean\n",
    "except IOError as e:\n",
    "    print(\"I/O error occurred: \", strerr(e.errno))"
   ]
  },
  {
   "cell_type": "code",
   "execution_count": 42,
   "metadata": {},
   "outputs": [
    {
     "name": "stdout",
     "output_type": "stream",
     "text": [
      "line #1\n",
      "line #2\n",
      "line #3\n",
      "line #4\n",
      "line #5\n",
      "line #6\n",
      "line #7\n",
      "line #8\n",
      "line #9\n",
      "line #10\n",
      "\n",
      "\n",
      "Characters in file: 82\n"
     ]
    }
   ],
   "source": [
    "import os\n",
    "\n",
    "try:\n",
    "# Write\n",
    "\tfo = open('text.txt', 'a+') # a new file (newtext.txt) is created\n",
    "\tfor i in range(10):\n",
    "\t\ts = \"line #\" + str(i+1) + \"\\n\"\n",
    "\t\tfor ch in s:\n",
    "\t\t\tfo.write(ch)\n",
    "\tfo.close()\n",
    "\n",
    "# Read\n",
    "\tfo = open('text.txt', 'r') # read only\n",
    "\tch = fo.read(1)\n",
    "\twhile ch != '':\n",
    "\t\tprint(ch, end='')\n",
    "\t\tcnt += 1\n",
    "\t\tch = fo.read(1)\n",
    "\tprint(\"\\n\\nCharacters in file:\", cnt)\n",
    "except IOError as e:\n",
    "\tprint(\"I/O error occurred: \", strerr(e.errno))"
   ]
  },
  {
   "cell_type": "code",
   "execution_count": 47,
   "metadata": {},
   "outputs": [
    {
     "name": "stdout",
     "output_type": "stream",
     "text": [
      "0xa 0xb 0xc 0xd 0xe "
     ]
    }
   ],
   "source": [
    "import os\n",
    "\n",
    "data = bytearray(10)\n",
    "\n",
    "# WRITE\n",
    "\n",
    "for i in range(len(data)):\n",
    "    data[i] = 10 + i\n",
    "\n",
    "try:\n",
    "    bf = open('file.bin', 'wb')\n",
    "    bf.write(data)\n",
    "    bf.close()\n",
    "except IOError as e:\n",
    "    print(\"I/O error occurred:\", strerr(e.errno))\n",
    "    \n",
    "# READ\n",
    "\n",
    "try:\n",
    "    bf = open('file.bin', 'rb')\n",
    "    data = bytearray(bf.read(5))\n",
    "    bf.close()\n",
    "\n",
    "    for b in data:\n",
    "        print(hex(b), end=' ')\n",
    "        \n",
    "    os.remove('file.bin')\n",
    "except IOError as e:\n",
    "    print(\"I/O error occurred:\", strerr(e.errno))\n",
    "\n",
    "\n",
    "\n",
    "# enter code that reads bytes from the stream here"
   ]
  },
  {
   "cell_type": "code",
   "execution_count": null,
   "metadata": {},
   "outputs": [],
   "source": []
  }
 ],
 "metadata": {
  "kernelspec": {
   "display_name": "Python 3.7.6 64-bit ('anaconda3': virtualenv)",
   "language": "python",
   "name": "python37664bitanaconda3virtualenv75d5475c12a94d19862e9f720c4e5a0e"
  },
  "language_info": {
   "codemirror_mode": {
    "name": "ipython",
    "version": 3
   },
   "file_extension": ".py",
   "mimetype": "text/x-python",
   "name": "python",
   "nbconvert_exporter": "python",
   "pygments_lexer": "ipython3",
   "version": "3.7.6"
  }
 },
 "nbformat": 4,
 "nbformat_minor": 4
}
