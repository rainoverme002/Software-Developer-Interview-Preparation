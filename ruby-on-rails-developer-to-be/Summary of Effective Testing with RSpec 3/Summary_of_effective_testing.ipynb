{
 "cells": [
  {
   "cell_type": "markdown",
   "metadata": {},
   "source": [
    "# The Summary of Effective Testing with Rspec 3\n",
    "## By : I Gusti Bagus Awienandra"
   ]
  },
  {
   "cell_type": "markdown",
   "metadata": {},
   "source": [
    "## Your First Spec"
   ]
  },
  {
   "cell_type": "markdown",
   "metadata": {},
   "source": [
    "Passing specs are green.\n",
    "Failing specs, and failure details, are red."
   ]
  },
  {
   "cell_type": "code",
   "execution_count": 1,
   "metadata": {},
   "outputs": [
    {
     "data": {
      "text/plain": [
       "false"
      ]
     },
     "execution_count": 1,
     "metadata": {},
     "output_type": "execute_result"
    }
   ],
   "source": [
    "require 'rspec'\n",
    "\n",
    "an_ideal_sandwich_spec = RSpec.describe 'An ideal sandwich' do \n",
    "    it 'is delicious' do\n",
    "        sandwich = Sandwich.new('delicious', [])\n",
    "        \n",
    "        taste = sandwich.taste\n",
    "        \n",
    "        expect(taste).to eq 'delicious'\n",
    "    end\n",
    "end\n",
    "\n",
    "an_ideal_sandwich_spec.run"
   ]
  },
  {
   "cell_type": "markdown",
   "metadata": {},
   "source": [
    "That's spec is failing because we need to create Sandwich Object and than rerun the spec"
   ]
  },
  {
   "cell_type": "code",
   "execution_count": 2,
   "metadata": {},
   "outputs": [
    {
     "data": {
      "text/plain": [
       "true"
      ]
     },
     "execution_count": 2,
     "metadata": {},
     "output_type": "execute_result"
    }
   ],
   "source": [
    "require 'rspec'\n",
    "\n",
    "Sandwich = Struct.new(:taste, :toppings)\n",
    "\n",
    "an_ideal_sandwich_spec = RSpec.describe 'An ideal sandwich' do \n",
    "    it 'is delicious' do\n",
    "        sandwich = Sandwich.new('delicious', [])\n",
    "        \n",
    "        taste = sandwich.taste\n",
    "        \n",
    "        expect(taste).to eq 'delicious'\n",
    "    end\n",
    "end\n",
    "\n",
    "an_ideal_sandwich_spec.run"
   ]
  },
  {
   "cell_type": "markdown",
   "metadata": {},
   "source": [
    "### Using Let to share object"
   ]
  },
  {
   "cell_type": "code",
   "execution_count": 3,
   "metadata": {},
   "outputs": [
    {
     "data": {
      "text/plain": [
       "true"
      ]
     },
     "execution_count": 3,
     "metadata": {},
     "output_type": "execute_result"
    }
   ],
   "source": [
    "require 'rspec'\n",
    "\n",
    "an_ideal_sandwich_spec = RSpec.describe 'An ideal sandwich' do\n",
    "    let(:sandwich) { Sandwich.new('delicious', []) }\n",
    "    \n",
    "    it 'is delicious' do\n",
    "        taste = sandwich.taste\n",
    "        \n",
    "        expect(taste).to eq 'delicious'\n",
    "    end\n",
    "end\n",
    "\n",
    "an_ideal_sandwich_spec.run"
   ]
  },
  {
   "cell_type": "markdown",
   "metadata": {},
   "source": [
    "### Useful RSpec Command"
   ]
  },
  {
   "cell_type": "raw",
   "metadata": {},
   "source": [
    "# identify slow rspec\n",
    "rspec --profile 2\n",
    "\n",
    "# rerun only the failing one\n",
    "rspec --only-failures\n",
    "\n",
    "# for specific line number\n",
    "rspec ./spec/coffee_spec.rb:25\n",
    "\n",
    "# create pending spec\n",
    "it 'is light in color' do\n",
    "    pending 'Color not implemented yet' expect(coffee.color).to be(:light)\n",
    "end"
   ]
  },
  {
   "cell_type": "markdown",
   "metadata": {},
   "source": [
    "## The RSpec Ways\n",
    "\n",
    "### Creating Confidence\n",
    "\n",
    "- The “happy path” through a particular bit of code behaves the way you want it to.\n",
    "- A method detects and reacts to an error condition you’re anticipating.\n",
    "- That last feature you added didn’t break the existing ones.\n",
    "- You’re making measurable progress through the project.\n",
    "\n",
    "### Eliminating Fear\n",
    "\n",
    "- A simple, innocuous change would break distant parts of the code that seemed unrelated.\n",
    "- Developers felt paralyzed by fear, unable to safely make any changes to the code at all.\n",
    "\n",
    "### Enabling Refactoring\n",
    "\n",
    "- Without a good set of specs, refactoring is a daunting task\n",
    "- They provide a safety net and guard against regressions\n",
    "- They also point out places where the code is too tightly coupled\n",
    "\n",
    "### Guiding Design\n",
    "\n",
    "- One of the purposes of writing specs is to cause pain\n",
    "- By surfacing the pain of a design problem early, specs allow you to fix it while it’s cheap and easy to do so.\n",
    "\n",
    "### Sustainability\n",
    "\n",
    "- If you’re writing a throwaway project, or an app with a tiny, frozen feature set, testing extensively at every layer might be overkill.\n",
    "- If you're writing a lifetime project, you’ll gain consis- tent productivity.\n",
    "\n",
    "### Documenting Behavior\n",
    "\n",
    "- Well-written specs document how your system is intended to behave\n",
    "- RSpec encourages you to write examples that make great documentation\n",
    "\n",
    "### Transforming Your Workflow\n",
    "\n",
    "- You get fast, frequent feedback when something doesn’t work, and you can change course immediately.\n",
    "\n",
    "### Don’t Overdo It!\n",
    "\n",
    "- In overtested projects, even the simplest change takes too long to complete. Either seemingly unrelated tests start failing, or the test suite takes too long to run for developers to be productive.\n",
    "\n",
    "### Deciding What Not to Test\n",
    "\n",
    "- For instance, user interfaces can change rapidly. If you couple your automated tests tightly to incidental details of your UI, you increase the cost of change\n",
    "\n",
    "### Different Types of Specs\n",
    "\n",
    "- Acceptance Specs, describe a feature in an end-to-end, black-box style that exercises the entire system\n",
    "- Unit Specs, focus on individual units of code—often as small as a single object or method\n",
    "- Integration Specs, Code that interacts with an external service—such as a database or third-party REST API—should have an integration spec"
   ]
  },
  {
   "cell_type": "markdown",
   "metadata": {},
   "source": [
    "## RSpec Core\n",
    "\n",
    "### The Basic\n",
    "\n",
    "- describe creates an example group.\n",
    "- it creates a single example."
   ]
  },
  {
   "cell_type": "code",
   "execution_count": 4,
   "metadata": {},
   "outputs": [
    {
     "data": {
      "text/plain": [
       "true"
      ]
     },
     "execution_count": 4,
     "metadata": {},
     "output_type": "execute_result"
    }
   ],
   "source": [
    "require 'rspec'\n",
    "\n",
    "describe_it_spec = RSpec.describe 'A kettle of water' do \n",
    "    describe 'when boiling' do\n",
    "        it 'can make tea' do\n",
    "            \n",
    "        end\n",
    "        it 'can make coffee' do\n",
    "            \n",
    "        end\n",
    "    end\n",
    "end\n",
    "\n",
    "describe_it_spec.run"
   ]
  },
  {
   "cell_type": "markdown",
   "metadata": {},
   "source": [
    "Using context instead of describe"
   ]
  },
  {
   "cell_type": "code",
   "execution_count": 5,
   "metadata": {},
   "outputs": [
    {
     "data": {
      "text/plain": [
       "true"
      ]
     },
     "execution_count": 5,
     "metadata": {},
     "output_type": "execute_result"
    }
   ],
   "source": [
    "require 'rspec'\n",
    "\n",
    "describe_it_spec = RSpec.describe 'A kettle of water' do \n",
    "    context 'when boiling' do\n",
    "        it 'can make tea' do\n",
    "            \n",
    "        end\n",
    "        it 'can make coffee' do\n",
    "            \n",
    "        end\n",
    "    end\n",
    "end\n",
    "\n",
    "describe_it_spec.run"
   ]
  },
  {
   "cell_type": "markdown",
   "metadata": {},
   "source": [
    "Using example instead of it"
   ]
  },
  {
   "cell_type": "code",
   "execution_count": 6,
   "metadata": {},
   "outputs": [
    {
     "data": {
      "text/plain": [
       "true"
      ]
     },
     "execution_count": 6,
     "metadata": {},
     "output_type": "execute_result"
    }
   ],
   "source": [
    "require 'rspec'\n",
    "\n",
    "describe_it_spec = RSpec.describe 'A kettle of water' do \n",
    "    context 'when boiling' do\n",
    "        example 'can make tea' do\n",
    "            \n",
    "        end\n",
    "        example 'can make coffee' do\n",
    "            \n",
    "        end\n",
    "    end\n",
    "end\n",
    "\n",
    "describe_it_spec.run"
   ]
  },
  {
   "cell_type": "markdown",
   "metadata": {},
   "source": [
    "Using specify instead of it"
   ]
  },
  {
   "cell_type": "code",
   "execution_count": 7,
   "metadata": {},
   "outputs": [
    {
     "data": {
      "text/plain": [
       "true"
      ]
     },
     "execution_count": 7,
     "metadata": {},
     "output_type": "execute_result"
    }
   ],
   "source": [
    "require 'rspec'\n",
    "\n",
    "describe_it_spec = RSpec.describe 'A kettle of water' do \n",
    "    context 'when boiling' do\n",
    "        specify 'can make tea' do\n",
    "            \n",
    "        end\n",
    "        specify 'can make coffee' do\n",
    "            \n",
    "        end\n",
    "    end\n",
    "end\n",
    "\n",
    "describe_it_spec.run"
   ]
  },
  {
   "cell_type": "markdown",
   "metadata": {},
   "source": [
    "## Hooks\n",
    "\n",
    "### When to use it?\n",
    "\n",
    "- Removing duplicated or incidental details that would distract readers from the point of your example\n",
    "- Expressing the English descriptions of your example groups as exe- cutable code\n",
    "\n",
    "### Type of Hooks\n",
    "\n",
    "- before, will run before your example\n",
    "- after, will run after your example"
   ]
  },
  {
   "cell_type": "raw",
   "metadata": {},
   "source": [
    "RSpec.describe MyApp::Configuration do \n",
    "    before(:example) do\n",
    "        @original_env = ENV.to_hash\n",
    "    end\n",
    "    \n",
    "    after(:example) do \n",
    "        ENV.replace(@original_env)\n",
    "    end \n",
    "end"
   ]
  },
  {
   "cell_type": "markdown",
   "metadata": {},
   "source": [
    "- around, part of the hook runs before the example and part runs after"
   ]
  },
  {
   "cell_type": "raw",
   "metadata": {},
   "source": [
    "RSpec.describe MyApp::Configuration do \n",
    "    around(:example) do |ex|\n",
    "        original_env = ENV.to_hash \n",
    "        ex.run \n",
    "        ENV.replace(original_env)\n",
    "    end \n",
    "end"
   ]
  },
  {
   "cell_type": "markdown",
   "metadata": {},
   "source": [
    "## RSpec Expectations\n",
    "\n",
    "- It provides an API for specifying expected outcomes."
   ]
  },
  {
   "cell_type": "code",
   "execution_count": 8,
   "metadata": {},
   "outputs": [
    {
     "data": {
      "text/plain": [
       "false"
      ]
     },
     "execution_count": 8,
     "metadata": {},
     "output_type": "execute_result"
    }
   ],
   "source": [
    "require 'rspec'\n",
    "\n",
    "describe_it_spec = RSpec.describe 'rspec expectation' do \n",
    "    example 'of it' do\n",
    "        ratio = 22 / 7.0\n",
    "        it { expect(ratio).to be_within(0.1).of(Math::PI) }\n",
    "      \n",
    "        numbers = [13, 3, 99]\n",
    "        it { expect(numbers).to all be_odd }\n",
    "      \n",
    "        alphabet = ('a'..'z').to_a\n",
    "        it { expect(alphabet).to start_with('a').and end_with('z') }\n",
    "    end\n",
    "end\n",
    "\n",
    "describe_it_spec.run"
   ]
  },
  {
   "cell_type": "markdown",
   "metadata": {},
   "source": [
    "when it fails, it will give you actual and expected result"
   ]
  },
  {
   "cell_type": "raw",
   "metadata": {},
   "source": [
    ">> resp = Struct.new(:status, :body).new(400, 'unknown query param `sort`') \n",
    "=> #<struct status=400, body=\"unknown query param `sort`\">\n",
    ">> expect(resp.status).to eq(200) RSpec::Expectations::ExpectationNotMetError: \n",
    "expected: 200\n",
    "got: 400"
   ]
  },
  {
   "cell_type": "markdown",
   "metadata": {},
   "source": [
    "### RSpec Expectations vs. Traditional Assertions\n",
    "\n",
    "- Assertions are simpler to explain than RSpec’s expectations—and simplicity is a good thing—but that doesn’t necessarily make one better than the other\n",
    "- RSpec’s complexity provides a number of advantages over simple assert methods."
   ]
  },
  {
   "cell_type": "markdown",
   "metadata": {},
   "source": [
    "Better to write both logic (True and False) for spec"
   ]
  },
  {
   "cell_type": "code",
   "execution_count": 11,
   "metadata": {},
   "outputs": [
    {
     "data": {
      "text/plain": [
       "true"
      ]
     },
     "execution_count": 11,
     "metadata": {},
     "output_type": "execute_result"
    }
   ],
   "source": [
    "require 'rspec'\n",
    "\n",
    "class CookieRecipe attr_reader :ingredients\n",
    "  def initialize\n",
    "    @ingredients = [:butter, :milk, :flour, :sugar, :eggs, :chocolate_chips]\n",
    "  end \n",
    "end\n",
    "\n",
    "describe_it_spec = RSpec.describe CookieRecipe, '#ingredients' do\n",
    "  \n",
    "  it 'should include :butter, :milk and :eggs' do\n",
    "    expect(CookieRecipe.new.ingredients).to include(:butter, :milk, :eggs)\n",
    "  end\n",
    "  \n",
    "  it 'should not include :fish_oil' do\n",
    "    expect(CookieRecipe.new.ingredients).not_to include(:fish_oil)\n",
    "  end\n",
    "end\n",
    "\n",
    "describe_it_spec.run"
   ]
  },
  {
   "cell_type": "markdown",
   "metadata": {},
   "source": [
    "#### You can use one liner syntax for spec\n",
    "\n",
    "using normal expectation"
   ]
  },
  {
   "cell_type": "code",
   "execution_count": 13,
   "metadata": {},
   "outputs": [
    {
     "data": {
      "text/plain": [
       "true"
      ]
     },
     "execution_count": 13,
     "metadata": {},
     "output_type": "execute_result"
    }
   ],
   "source": [
    "require 'rspec'\n",
    "\n",
    "describe_it_spec = RSpec.describe CookieRecipe, '#ingredients' do\n",
    "  subject { CookieRecipe.new.ingredients }\n",
    "  it { is_expected.to include(:butter, :milk, :eggs) }\n",
    "  it { is_expected.not_to include(:fish_oil) }\n",
    "end\n",
    "\n",
    "describe_it_spec.run"
   ]
  },
  {
   "cell_type": "markdown",
   "metadata": {},
   "source": [
    "or using should"
   ]
  },
  {
   "cell_type": "code",
   "execution_count": 12,
   "metadata": {},
   "outputs": [
    {
     "data": {
      "text/plain": [
       "true"
      ]
     },
     "execution_count": 12,
     "metadata": {},
     "output_type": "execute_result"
    }
   ],
   "source": [
    "require 'rspec'\n",
    "\n",
    "describe_it_spec = RSpec.describe CookieRecipe, '#ingredients' do\n",
    "  subject { CookieRecipe.new.ingredients }\n",
    "  it { should include(:butter, :milk, :eggs) }\n",
    "  it { should_not include(:fish_oil) }\n",
    "end\n",
    "\n",
    "describe_it_spec.run"
   ]
  },
  {
   "cell_type": "markdown",
   "metadata": {},
   "source": [
    "## Rspec Matchers\n",
    "\n",
    "![alt text](rspec_matcher.png \"Title\")\n",
    "\n",
    "RSpec’s most fundamental matchers are all concerned with variations of the question, “Are these two things the same?” Depending on context, “the same” might refer to one of several things:\n",
    "- Identity: for example, two references to one object, use this if you’d like to memoize (cache) the resul\n",
    "- Hash key equality: two objects of the same type and value, such as two\n",
    "copies of the string “hello”\n",
    "- Value equality: two objects of compatible types with the same meaning, such as the integer 42 and the floating-point number 42.0"
   ]
  },
  {
   "cell_type": "code",
   "execution_count": 23,
   "metadata": {},
   "outputs": [
    {
     "data": {
      "text/plain": [
       "true"
      ]
     },
     "execution_count": 23,
     "metadata": {},
     "output_type": "execute_result"
    }
   ],
   "source": [
    "require 'rspec'\n",
    "\n",
    "describe_it_spec = RSpec.describe 'Rspec Matcher' do\n",
    "  context 'value equality' do\n",
    "    it { expect(Math.sqrt(9)).to eq(3) }\n",
    "  end\n",
    "  \n",
    "  context 'identity' do\n",
    "    it 'returns the same object every time' do \n",
    "      expect(RSpec.configuration).to be(RSpec.configuration)\n",
    "    end\n",
    "  end\n",
    "  \n",
    "  context 'hash key equality' do\n",
    "    it{ expect(['a string', Regexp]).to include(String) }\n",
    "  end\n",
    "  \n",
    "  context 'satisfication' do\n",
    "    it { expect(1).to satisfy { |number| number.odd? } }\n",
    "  end\n",
    "  \n",
    "  context 'Dynamic Predicates, answer with boolean answer' do\n",
    "  hash = { name: 'Harry Potter', age: 17, house: 'Gryffindor' }\n",
    "    it { expect(hash).to have_key(:age) }\n",
    "  end\n",
    "end\n",
    "\n",
    "describe_it_spec.run"
   ]
  },
  {
   "cell_type": "markdown",
   "metadata": {},
   "source": [
    "## Rspec Mocks\n",
    "\n",
    "- RSpec’s built-in library for creating test doubles\n",
    "- RSpec’s double method creates a generic test double that you can use in any mode. "
   ]
  },
  {
   "cell_type": "markdown",
   "metadata": {},
   "source": [
    "What is test double?\n",
    "Test double is a generic term for any object that stands in for a real object during a test"
   ]
  },
  {
   "cell_type": "code",
   "execution_count": 40,
   "metadata": {},
   "outputs": [
    {
     "data": {
      "text/plain": [
       "#<Double (anonymous)>"
      ]
     },
     "execution_count": 40,
     "metadata": {},
     "output_type": "execute_result"
    }
   ],
   "source": [
    "# activate mocking standalone mode\n",
    "require 'rspec/mocks/standalone'\n",
    "\n",
    "ledger = double"
   ]
  },
  {
   "cell_type": "markdown",
   "metadata": {},
   "source": [
    "#### Stubs"
   ]
  },
  {
   "cell_type": "code",
   "execution_count": 41,
   "metadata": {},
   "outputs": [
    {
     "data": {
      "text/plain": [
       "#<Double \"HTTPResponse\">"
      ]
     },
     "execution_count": 41,
     "metadata": {},
     "output_type": "execute_result"
    }
   ],
   "source": [
    "http_response = double('HTTPResponse')"
   ]
  },
  {
   "cell_type": "code",
   "execution_count": 42,
   "metadata": {},
   "outputs": [
    {
     "data": {
      "text/plain": [
       "{:status=>200, :body=>\"OK\"}"
      ]
     },
     "execution_count": 42,
     "metadata": {},
     "output_type": "execute_result"
    }
   ],
   "source": [
    "allow(http_response).to receive_messages(status: 200, body: 'OK')"
   ]
  },
  {
   "cell_type": "code",
   "execution_count": 43,
   "metadata": {},
   "outputs": [
    {
     "data": {
      "text/plain": [
       "200"
      ]
     },
     "execution_count": 43,
     "metadata": {},
     "output_type": "execute_result"
    }
   ],
   "source": [
    "http_response.status"
   ]
  },
  {
   "cell_type": "code",
   "execution_count": 44,
   "metadata": {},
   "outputs": [
    {
     "data": {
      "text/plain": [
       "\"OK\""
      ]
     },
     "execution_count": 44,
     "metadata": {},
     "output_type": "execute_result"
    }
   ],
   "source": [
    "http_response.body"
   ]
  },
  {
   "cell_type": "markdown",
   "metadata": {},
   "source": [
    "#### Mocks\n",
    "\n",
    "Mocks are great when you’re dealing with command methods. With these, it’s not a return value that you care about, but rather a side effect. Here’s a typ- ical sequence:\n",
    "1. Receive an event from the system\n",
    "2. Make a decision based on that event\n",
    "3. Perform an action that has a side effect\n"
   ]
  },
  {
   "cell_type": "markdown",
   "metadata": {},
   "source": [
    "you can expect an object to receive method"
   ]
  },
  {
   "cell_type": "code",
   "execution_count": 45,
   "metadata": {},
   "outputs": [
    {
     "data": {
      "text/plain": [
       "#<RSpec::Mocks::MessageExpectation #<Double (anonymous)>.record(any arguments)>"
      ]
     },
     "execution_count": 45,
     "metadata": {},
     "output_type": "execute_result"
    }
   ],
   "source": [
    "expect(ledger).to receive(:record)"
   ]
  },
  {
   "cell_type": "markdown",
   "metadata": {},
   "source": [
    "also you can verify it"
   ]
  },
  {
   "cell_type": "code",
   "execution_count": null,
   "metadata": {},
   "outputs": [
    {
     "ename": "RSpec::Mocks::MockExpectationError",
     "evalue": "(Double (anonymous)).record(*(any args))\n    expected: 1 time with any arguments\n    received: 0 times with any arguments",
     "output_type": "error",
     "traceback": [
      "\u001b[31mRSpec::Mocks::MockExpectationError\u001b[0m: (Double (anonymous)).record(*(any args))\n    expected: 1 time with any arguments\n    received: 0 times with any arguments",
      "<main>:in `<main>'",
      "/Users/mekari53/.rbenv/versions/2.5.1/lib/ruby/gems/2.5.0/gems/rspec-mocks-3.9.1/lib/rspec/mocks/error_generator.rb:310:in `__raise'",
      "/Users/mekari53/.rbenv/versions/2.5.1/lib/ruby/gems/2.5.0/gems/rspec-mocks-3.9.1/lib/rspec/mocks/error_generator.rb:82:in `raise_expectation_error'",
      "/Users/mekari53/.rbenv/versions/2.5.1/lib/ruby/gems/2.5.0/gems/rspec-mocks-3.9.1/lib/rspec/mocks/message_expectation.rb:493:in `generate_error'",
      "/Users/mekari53/.rbenv/versions/2.5.1/lib/ruby/gems/2.5.0/gems/rspec-mocks-3.9.1/lib/rspec/mocks/message_expectation.rb:451:in `verify_messages_received'",
      "/Users/mekari53/.rbenv/versions/2.5.1/lib/ruby/gems/2.5.0/gems/rspec-mocks-3.9.1/lib/rspec/mocks/method_double.rb:113:in `block in verify'",
      "/Users/mekari53/.rbenv/versions/2.5.1/lib/ruby/gems/2.5.0/gems/rspec-mocks-3.9.1/lib/rspec/mocks/method_double.rb:113:in `each'",
      "/Users/mekari53/.rbenv/versions/2.5.1/lib/ruby/gems/2.5.0/gems/rspec-mocks-3.9.1/lib/rspec/mocks/method_double.rb:113:in `verify'",
      "/Users/mekari53/.rbenv/versions/2.5.1/lib/ruby/gems/2.5.0/gems/rspec-mocks-3.9.1/lib/rspec/mocks/proxy.rb:149:in `block in verify'",
      "/Users/mekari53/.rbenv/versions/2.5.1/lib/ruby/gems/2.5.0/gems/rspec-mocks-3.9.1/lib/rspec/mocks/proxy.rb:149:in `each_value'",
      "/Users/mekari53/.rbenv/versions/2.5.1/lib/ruby/gems/2.5.0/gems/rspec-mocks-3.9.1/lib/rspec/mocks/proxy.rb:149:in `verify'",
      "/Users/mekari53/.rbenv/versions/2.5.1/lib/ruby/gems/2.5.0/gems/rspec-mocks-3.9.1/lib/rspec/mocks/space.rb:74:in `block in verify_all'",
      "/Users/mekari53/.rbenv/versions/2.5.1/lib/ruby/gems/2.5.0/gems/rspec-mocks-3.9.1/lib/rspec/mocks/space.rb:74:in `each'",
      "/Users/mekari53/.rbenv/versions/2.5.1/lib/ruby/gems/2.5.0/gems/rspec-mocks-3.9.1/lib/rspec/mocks/space.rb:74:in `verify_all'",
      "/Users/mekari53/.rbenv/versions/2.5.1/lib/ruby/gems/2.5.0/gems/rspec-mocks-3.9.1/lib/rspec/mocks.rb:45:in `verify'",
      "<main>:1:in `<main>'",
      "/Users/mekari53/.rbenv/versions/2.5.1/lib/ruby/gems/2.5.0/gems/iruby-0.4.0/lib/iruby/backend.rb:44:in `eval'",
      "/Users/mekari53/.rbenv/versions/2.5.1/lib/ruby/gems/2.5.0/gems/iruby-0.4.0/lib/iruby/backend.rb:44:in `eval'",
      "/Users/mekari53/.rbenv/versions/2.5.1/lib/ruby/gems/2.5.0/gems/iruby-0.4.0/lib/iruby/backend.rb:12:in `eval'",
      "/Users/mekari53/.rbenv/versions/2.5.1/lib/ruby/gems/2.5.0/gems/iruby-0.4.0/lib/iruby/kernel.rb:90:in `execute_request'",
      "/Users/mekari53/.rbenv/versions/2.5.1/lib/ruby/gems/2.5.0/gems/iruby-0.4.0/lib/iruby/kernel.rb:49:in `dispatch'",
      "/Users/mekari53/.rbenv/versions/2.5.1/lib/ruby/gems/2.5.0/gems/iruby-0.4.0/lib/iruby/kernel.rb:38:in `run'",
      "/Users/mekari53/.rbenv/versions/2.5.1/lib/ruby/gems/2.5.0/gems/iruby-0.4.0/lib/iruby/command.rb:110:in `run_kernel'",
      "/Users/mekari53/.rbenv/versions/2.5.1/lib/ruby/gems/2.5.0/gems/iruby-0.4.0/lib/iruby/command.rb:40:in `run'",
      "/Users/mekari53/.rbenv/versions/2.5.1/lib/ruby/gems/2.5.0/gems/iruby-0.4.0/bin/iruby:5:in `<top (required)>'",
      "/Users/mekari53/.rbenv/versions/2.5.1/bin/iruby:23:in `load'",
      "/Users/mekari53/.rbenv/versions/2.5.1/bin/iruby:23:in `<main>'"
     ]
    }
   ],
   "source": [
    "# will throw an error because ledger is not receive record\n",
    "RSpec::Mocks.verify"
   ]
  },
  {
   "cell_type": "code",
   "execution_count": 47,
   "metadata": {},
   "outputs": [
    {
     "data": {
      "text/plain": [
       "#<RSpec::Mocks::MessageExpectation #<Double (anonymous)>.reset(any arguments)>"
      ]
     },
     "execution_count": 47,
     "metadata": {},
     "output_type": "execute_result"
    }
   ],
   "source": [
    "expect(ledger).not_to receive(:reset)"
   ]
  },
  {
   "cell_type": "code",
   "execution_count": null,
   "metadata": {},
   "outputs": [
    {
     "ename": "RSpec::Mocks::MockExpectationError",
     "evalue": "(Double (anonymous)).reset(no args)\n    expected: 0 times with any arguments\n    received: 1 time",
     "output_type": "error",
     "traceback": [
      "\u001b[31mRSpec::Mocks::MockExpectationError\u001b[0m: (Double (anonymous)).reset(no args)\n    expected: 0 times with any arguments\n    received: 1 time",
      "/Users/mekari53/.rbenv/versions/2.5.1/lib/ruby/gems/2.5.0/gems/rspec-support-3.9.2/lib/rspec/support.rb:97:in `block in <module:Support>'",
      "/Users/mekari53/.rbenv/versions/2.5.1/lib/ruby/gems/2.5.0/gems/rspec-support-3.9.2/lib/rspec/support.rb:106:in `notify_failure'",
      "/Users/mekari53/.rbenv/versions/2.5.1/lib/ruby/gems/2.5.0/gems/rspec-mocks-3.9.1/lib/rspec/mocks/error_generator.rb:327:in `notify'",
      "/Users/mekari53/.rbenv/versions/2.5.1/lib/ruby/gems/2.5.0/gems/rspec-mocks-3.9.1/lib/rspec/mocks/error_generator.rb:311:in `__raise'",
      "/Users/mekari53/.rbenv/versions/2.5.1/lib/ruby/gems/2.5.0/gems/rspec-mocks-3.9.1/lib/rspec/mocks/error_generator.rb:82:in `raise_expectation_error'",
      "/Users/mekari53/.rbenv/versions/2.5.1/lib/ruby/gems/2.5.0/gems/rspec-mocks-3.9.1/lib/rspec/mocks/message_expectation.rb:561:in `invoke_incrementing_actual_calls_by'",
      "/Users/mekari53/.rbenv/versions/2.5.1/lib/ruby/gems/2.5.0/gems/rspec-mocks-3.9.1/lib/rspec/mocks/message_expectation.rb:427:in `invoke'",
      "/Users/mekari53/.rbenv/versions/2.5.1/lib/ruby/gems/2.5.0/gems/rspec-mocks-3.9.1/lib/rspec/mocks/proxy.rb:201:in `message_received'",
      "/Users/mekari53/.rbenv/versions/2.5.1/lib/ruby/gems/2.5.0/gems/rspec-mocks-3.9.1/lib/rspec/mocks/method_double.rb:77:in `proxy_method_invoked'",
      "/Users/mekari53/.rbenv/versions/2.5.1/lib/ruby/gems/2.5.0/gems/rspec-mocks-3.9.1/lib/rspec/mocks/method_double.rb:64:in `block (2 levels) in define_proxy_method'",
      "<main>:in `<main>'",
      "/Users/mekari53/.rbenv/versions/2.5.1/lib/ruby/gems/2.5.0/gems/iruby-0.4.0/lib/iruby/backend.rb:44:in `eval'",
      "/Users/mekari53/.rbenv/versions/2.5.1/lib/ruby/gems/2.5.0/gems/iruby-0.4.0/lib/iruby/backend.rb:44:in `eval'",
      "/Users/mekari53/.rbenv/versions/2.5.1/lib/ruby/gems/2.5.0/gems/iruby-0.4.0/lib/iruby/backend.rb:12:in `eval'",
      "/Users/mekari53/.rbenv/versions/2.5.1/lib/ruby/gems/2.5.0/gems/iruby-0.4.0/lib/iruby/kernel.rb:90:in `execute_request'",
      "/Users/mekari53/.rbenv/versions/2.5.1/lib/ruby/gems/2.5.0/gems/iruby-0.4.0/lib/iruby/kernel.rb:49:in `dispatch'",
      "/Users/mekari53/.rbenv/versions/2.5.1/lib/ruby/gems/2.5.0/gems/iruby-0.4.0/lib/iruby/kernel.rb:38:in `run'",
      "/Users/mekari53/.rbenv/versions/2.5.1/lib/ruby/gems/2.5.0/gems/iruby-0.4.0/lib/iruby/command.rb:110:in `run_kernel'",
      "/Users/mekari53/.rbenv/versions/2.5.1/lib/ruby/gems/2.5.0/gems/iruby-0.4.0/lib/iruby/command.rb:40:in `run'",
      "/Users/mekari53/.rbenv/versions/2.5.1/lib/ruby/gems/2.5.0/gems/iruby-0.4.0/bin/iruby:5:in `<top (required)>'",
      "/Users/mekari53/.rbenv/versions/2.5.1/bin/iruby:23:in `load'",
      "/Users/mekari53/.rbenv/versions/2.5.1/bin/iruby:23:in `<main>'"
     ]
    }
   ],
   "source": [
    "# will throw error because ledger receive ledger\n",
    "ledger.reset"
   ]
  },
  {
   "cell_type": "markdown",
   "metadata": {},
   "source": [
    "#### Null Objects\n",
    "\n",
    "- They’re benign objects that do nothing, can stand in for anything, and can satisfy any interface.\n",
    "\n",
    "example of usage:\n",
    "\n",
    "This flexibility is useful for testing objects that have multiple collaborators. If you have a ChatBot class that interacts with a room and a user, you may want to test these collaborations separately. While you’re focusing on the user- related specs, you can use a null object for the room"
   ]
  },
  {
   "cell_type": "code",
   "execution_count": 49,
   "metadata": {},
   "outputs": [
    {
     "data": {
      "text/html": [
       "#[Double \"Yoshi\"]"
      ],
      "text/plain": [
       "#<Double \"Yoshi\">"
      ]
     },
     "execution_count": 49,
     "metadata": {},
     "output_type": "execute_result"
    }
   ],
   "source": [
    "yoshi = double('Yoshi').as_null_object"
   ]
  },
  {
   "cell_type": "code",
   "execution_count": 50,
   "metadata": {},
   "outputs": [
    {
     "data": {
      "text/html": [
       "#[Double \"Yoshi\"]"
      ],
      "text/plain": [
       "#<Double \"Yoshi\">"
      ]
     },
     "execution_count": 50,
     "metadata": {},
     "output_type": "execute_result"
    }
   ],
   "source": [
    "yoshi.eat(:apple).then_shoot(:shell).then_stomp"
   ]
  },
  {
   "cell_type": "markdown",
   "metadata": {},
   "source": [
    "#### Spies\n",
    "\n",
    "Spies are one way to restore the traditional flow"
   ]
  },
  {
   "cell_type": "markdown",
   "metadata": {},
   "source": [
    "from assert before acting"
   ]
  },
  {
   "cell_type": "code",
   "execution_count": 51,
   "metadata": {},
   "outputs": [
    {
     "data": {
      "text/plain": [
       ":play"
      ]
     },
     "execution_count": 51,
     "metadata": {},
     "output_type": "execute_result"
    }
   ],
   "source": [
    "class Game\n",
    "  def self.play(character)\n",
    "    character.jump\n",
    "  end\n",
    "end"
   ]
  },
  {
   "cell_type": "code",
   "execution_count": 52,
   "metadata": {},
   "outputs": [
    {
     "data": {
      "text/plain": [
       "#<RSpec::Mocks::MessageExpectation #<Double \"Mario\">.jump(any arguments)>"
      ]
     },
     "execution_count": 52,
     "metadata": {},
     "output_type": "execute_result"
    }
   ],
   "source": [
    "mario = double('Mario')\n",
    "expect(mario).to receive(:jump)"
   ]
  },
  {
   "cell_type": "code",
   "execution_count": 53,
   "metadata": {},
   "outputs": [],
   "source": [
    "Game.play(mario)"
   ]
  },
  {
   "cell_type": "markdown",
   "metadata": {},
   "source": [
    "into acting after assert"
   ]
  },
  {
   "cell_type": "code",
   "execution_count": 54,
   "metadata": {},
   "outputs": [],
   "source": [
    "mario = spy('Mario')\n",
    "Game.play(mario)\n",
    "expect(mario).to have_received(:jump)"
   ]
  },
  {
   "cell_type": "markdown",
   "metadata": {},
   "source": [
    "### Verifiying Doubles\n",
    "\n",
    "\n",
    "RSpec gives you a few different ways to create verifying doubles, based on what it will use as an interface template for the double:\n",
    "- instance_double('SomeClass'), Constrains the double’s interface using the instance methods of SomeClass\n",
    "- class_double('SomeClass'), Constrains the double’s interface using the class methods of SomeClass\n",
    "- object_double(some_object), Constrains the double’s interface using the methods of some_object, rather than a class; handy for dynamic objects that use method_missing"
   ]
  },
  {
   "cell_type": "markdown",
   "metadata": {},
   "source": [
    "### Customize Test Double\n",
    "\n",
    "- you can customize the test double object with your own"
   ]
  },
  {
   "cell_type": "raw",
   "metadata": {},
   "source": [
    "allow(double).to receive(:a_message).and_return(a_return_value)\n",
    "allow(double).to receive(:a_message).and_raise(AnException)\n",
    "allow(double).to receive(:a_message).and_yield(a_value_to_a_block)\n",
    "allow(double).to receive(:a_message).and_throw(:a_symbol, optional_value)\n",
    "allow(double).to receive(:a_message) { |arg| do_something_with(arg) }\n",
    "# These last two are just for partial doubles:\n",
    "allow(object).to receive(:a_message).and_call_original\n",
    "allow(object).to receive(:a_message).and_wrap_original { |original| }"
   ]
  },
  {
   "cell_type": "code",
   "execution_count": 58,
   "metadata": {},
   "outputs": [
    {
     "data": {
      "text/plain": [
       "#<RSpec::Mocks::MessageExpectation #<Double (anonymous)>.temperature(any arguments)>"
      ]
     },
     "execution_count": 58,
     "metadata": {},
     "output_type": "execute_result"
    }
   ],
   "source": [
    "counter = 0\n",
    "weather_api = double\n",
    "\n",
    "allow(weather_api).to receive(:temperature) do |zip_code|\n",
    "  counter = (counter + 1) % 4\n",
    "  counter.zero? ? raise(Timeout::Error) : 35.0\n",
    "end"
   ]
  },
  {
   "cell_type": "markdown",
   "metadata": {},
   "source": [
    "### Using Test Doubles Effectively\n",
    "\n",
    "Here are some of the problems you can run into when you are using test double:\n",
    "- Code that passes the tests but fails in production, because the test doubles don’t behave enough like the real thing\n",
    "- Brittle tests that fail after a refactoring, even though the new code is working correctly\n",
    "- Do-nothing tests that only end up checking your doubles\n"
   ]
  },
  {
   "cell_type": "markdown",
   "metadata": {},
   "source": [
    "we can use stub to make persistent test, like this"
   ]
  },
  {
   "cell_type": "raw",
   "metadata": {},
   "source": [
    "class PasswordStrengthValidator\n",
    "  def strong_enough?\n",
    "    return false unless password.length >= Acme::Config.min_password_length\n",
    "    # ... more validations ...\n",
    "  end\n",
    "end\n",
    "\n",
    "RSpec.describe PasswordStrengthValidator do\n",
    "  before do\n",
    "    allow(Acme::Config).to receive(:min_password_length).and_return(6)\n",
    "  end\n",
    "  it 'rejects passwords shorter than the configured length' do\n",
    "    validator = PasswordStrengthValidator.new('a8E^r')\n",
    "    expect(validator.strong_enough?).to eq false\n",
    "  end\n",
    "  it 'accepts passwords that satisfy the configured length' do\n",
    "    validator = PasswordStrengthValidator.new('a8E^rda')\n",
    "    expect(validator.strong_enough?).to eq true\n",
    "  end\n",
    "end"
   ]
  },
  {
   "cell_type": "code",
   "execution_count": null,
   "metadata": {},
   "outputs": [],
   "source": []
  }
 ],
 "metadata": {
  "kernelspec": {
   "display_name": "Ruby 2.5.1",
   "language": "ruby",
   "name": "ruby"
  },
  "language_info": {
   "file_extension": ".rb",
   "mimetype": "application/x-ruby",
   "name": "ruby",
   "version": "2.5.1"
  }
 },
 "nbformat": 4,
 "nbformat_minor": 4
}
