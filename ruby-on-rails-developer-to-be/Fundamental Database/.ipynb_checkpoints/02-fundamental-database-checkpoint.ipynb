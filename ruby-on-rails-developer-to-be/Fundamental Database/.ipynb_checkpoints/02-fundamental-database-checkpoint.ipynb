{
 "cells": [
  {
   "cell_type": "markdown",
   "metadata": {},
   "source": [
    "# Fundamental of Database : One to Many and Many to Many Relation\n",
    "\n",
    "https://www.udemy.com/course/the-ultimate-mysql-bootcamp-go-from-sql-beginner-to-expert/"
   ]
  },
  {
   "cell_type": "markdown",
   "metadata": {},
   "source": [
    "## Pre step and Dependency Check"
   ]
  },
  {
   "cell_type": "code",
   "execution_count": 1,
   "metadata": {},
   "outputs": [
    {
     "name": "stdout",
     "output_type": "stream",
     "text": [
      "Requirement already satisfied: mysql in /Users/mekari53/.local/lib/python3.7/site-packages (0.0.2)\r\n",
      "Requirement already satisfied: mysqlclient in /Users/mekari53/.local/lib/python3.7/site-packages (from mysql) (1.4.6)\r\n"
     ]
    }
   ],
   "source": [
    "! pip install mysql"
   ]
  },
  {
   "cell_type": "markdown",
   "metadata": {},
   "source": [
    "### Import mysql first"
   ]
  },
  {
   "cell_type": "code",
   "execution_count": 2,
   "metadata": {},
   "outputs": [
    {
     "name": "stdout",
     "output_type": "stream",
     "text": [
      "<mysql.connector.connection_cext.CMySQLConnection object at 0x103c21310>\n"
     ]
    }
   ],
   "source": [
    "import mysql.connector\n",
    "\n",
    "mydb = mysql.connector.connect(\n",
    "    host=\"127.0.0.1\",\n",
    "    user=\"root\",\n",
    "    passwd=\"\",\n",
    ")\n",
    "\n",
    "print(mydb)\n",
    "\n",
    "mycursor = mydb.cursor()"
   ]
  },
  {
   "cell_type": "markdown",
   "metadata": {},
   "source": [
    "### Create Databases"
   ]
  },
  {
   "cell_type": "code",
   "execution_count": 3,
   "metadata": {},
   "outputs": [],
   "source": [
    "mycursor.execute(\"CREATE DATABASE learning_relationship\")"
   ]
  },
  {
   "cell_type": "markdown",
   "metadata": {},
   "source": [
    "### Show databases"
   ]
  },
  {
   "cell_type": "code",
   "execution_count": 4,
   "metadata": {},
   "outputs": [],
   "source": [
    "mycursor.execute(\"SHOW DATABASES\")\n",
    "query_result = mycursor.fetchall()"
   ]
  },
  {
   "cell_type": "code",
   "execution_count": 5,
   "metadata": {},
   "outputs": [],
   "source": [
    "# function to print query result\n",
    "def print_query_result(results):\n",
    "    for result in results:\n",
    "        print(result)"
   ]
  },
  {
   "cell_type": "code",
   "execution_count": 6,
   "metadata": {},
   "outputs": [
    {
     "name": "stdout",
     "output_type": "stream",
     "text": [
      "('information_schema',)\n",
      "('jurnal_dev',)\n",
      "('jurnal_dev_2',)\n",
      "('jurnal_dev_audit',)\n",
      "('jurnal_test',)\n",
      "('jurnal_test_2',)\n",
      "('jurnal_test_audit_2',)\n",
      "('learning_relationship',)\n",
      "('mysql',)\n",
      "('performance_schema',)\n",
      "('sys',)\n"
     ]
    }
   ],
   "source": [
    "print_query_result(query_result)"
   ]
  },
  {
   "cell_type": "markdown",
   "metadata": {},
   "source": [
    "### Use Database"
   ]
  },
  {
   "cell_type": "code",
   "execution_count": 7,
   "metadata": {},
   "outputs": [],
   "source": [
    "mycursor.execute(\"USE learning_relationship\")"
   ]
  },
  {
   "cell_type": "code",
   "execution_count": 8,
   "metadata": {},
   "outputs": [],
   "source": [
    "# use this if you have \n",
    "# DatabaseError: 2014 (HY000): Commands out of sync; you can't run this command now\n",
    "\n",
    "# mycursor.close()"
   ]
  },
  {
   "cell_type": "markdown",
   "metadata": {},
   "source": [
    "## Reality of Data\n",
    "\n",
    "- Real world data is messy and interrelated\n",
    "- sometimes we need connection of data between tables\n",
    "\n",
    "## Basic Relationship of Data\n",
    "\n",
    "1. one to one, e.g: user only has one email, and email for one user\n",
    "2. one to many, e.g: one book can have many reviews, but review only for one book\n",
    "3. many to many, e.g: many books can have many authors, and many authors can have many books\n",
    "\n",
    "## One to Many Relationship\n",
    "\n",
    "### Primary vs Foreign Key\n",
    "\n",
    "![primary_foreign_key](https://www.thecrazyprogrammer.com/wp-content/uploads/2019/04/Difference-between-Primary-Key-and-Foreign-Key-1024x672.gif)"
   ]
  },
  {
   "cell_type": "markdown",
   "metadata": {},
   "source": [
    "### Add customers and orders Tables"
   ]
  },
  {
   "cell_type": "code",
   "execution_count": 9,
   "metadata": {},
   "outputs": [],
   "source": [
    "mycursor.execute(\"\"\"\n",
    "    CREATE TABLE customers(\n",
    "    id INT AUTO_INCREMENT PRIMARY KEY,\n",
    "    first_name VARCHAR(100),\n",
    "    last_name VARCHAR(100),\n",
    "    email VARCHAR(100)\n",
    ");\"\"\")"
   ]
  },
  {
   "cell_type": "code",
   "execution_count": 10,
   "metadata": {},
   "outputs": [],
   "source": [
    "# using customer id as foreign key\n",
    "mycursor.execute(\"\"\"\n",
    "    CREATE TABLE orders(\n",
    "    id INT AUTO_INCREMENT PRIMARY KEY,\n",
    "    order_date DATE,\n",
    "    amount DECIMAL(8,2),\n",
    "    customer_id INT,\n",
    "    FOREIGN KEY(customer_id) REFERENCES customers(id)\n",
    ");\"\"\")"
   ]
  },
  {
   "cell_type": "markdown",
   "metadata": {},
   "source": [
    "### Insert data into the table"
   ]
  },
  {
   "cell_type": "code",
   "execution_count": 11,
   "metadata": {},
   "outputs": [],
   "source": [
    "mycursor.execute(\"\"\"\n",
    "INSERT INTO customers (first_name, last_name, email) \n",
    "VALUES ('Boy', 'George', 'george@gmail.com'),\n",
    "       ('George', 'Michael', 'gm@gmail.com'),\n",
    "       ('David', 'Bowie', 'david@gmail.com'),\n",
    "       ('Blue', 'Steele', 'blue@gmail.com'),\n",
    "       ('Bette', 'Davis', 'bette@aol.com');\n",
    "\"\"\")"
   ]
  },
  {
   "cell_type": "code",
   "execution_count": 12,
   "metadata": {},
   "outputs": [],
   "source": [
    "mycursor.execute(\"\"\"\n",
    "INSERT INTO orders (order_date, amount, customer_id)\n",
    "VALUES ('2016/02/10', 99.99, 1),\n",
    "       ('2017/11/11', 35.50, 1),\n",
    "       ('2014/12/12', 800.67, 2),\n",
    "       ('2015/01/03', 12.50, 2),\n",
    "       ('1999/04/11', 450.25, 5);\n",
    "\"\"\")"
   ]
  },
  {
   "cell_type": "code",
   "execution_count": 13,
   "metadata": {},
   "outputs": [
    {
     "name": "stdout",
     "output_type": "stream",
     "text": [
      "(1, 'Boy', 'George', 'george@gmail.com')\n",
      "(2, 'George', 'Michael', 'gm@gmail.com')\n",
      "(3, 'David', 'Bowie', 'david@gmail.com')\n",
      "(4, 'Blue', 'Steele', 'blue@gmail.com')\n",
      "(5, 'Bette', 'Davis', 'bette@aol.com')\n"
     ]
    }
   ],
   "source": [
    "mycursor.execute(\"\"\"SELECT * FROM customers\"\"\")\n",
    "query_result = mycursor.fetchall()\n",
    "print_query_result(query_result)"
   ]
  },
  {
   "cell_type": "markdown",
   "metadata": {},
   "source": [
    "### This insert will fail because there is no id 98 on customers table (foreign key avoid this situation)"
   ]
  },
  {
   "cell_type": "code",
   "execution_count": 14,
   "metadata": {},
   "outputs": [
    {
     "name": "stdout",
     "output_type": "stream",
     "text": [
      "Something went wrong: 1452 (23000): Cannot add or update a child row: a foreign key constraint fails (`learning_relationship`.`orders`, CONSTRAINT `orders_ibfk_1` FOREIGN KEY (`customer_id`) REFERENCES `customers` (`id`))\n"
     ]
    }
   ],
   "source": [
    "try:\n",
    "    mycursor.execute(\"\"\"\n",
    "    INSERT INTO orders (order_date, amount, customer_id)\n",
    "    VALUES ('2016/06/06', 33.67, 98);\n",
    "    \"\"\")\n",
    "except mysql.connector.Error as err:\n",
    "    print(\"Something went wrong: {}\".format(err))"
   ]
  },
  {
   "cell_type": "code",
   "execution_count": null,
   "metadata": {},
   "outputs": [],
   "source": []
  },
  {
   "cell_type": "code",
   "execution_count": 15,
   "metadata": {},
   "outputs": [
    {
     "name": "stdout",
     "output_type": "stream",
     "text": [
      "(1, datetime.date(2016, 2, 10), Decimal('99.99'), 1)\n",
      "(2, datetime.date(2017, 11, 11), Decimal('35.50'), 1)\n"
     ]
    }
   ],
   "source": [
    "# using subquery to find orders placed by George\n",
    "mycursor.execute(\"\"\"\n",
    "    SELECT * FROM orders WHERE customer_id =\n",
    "    (\n",
    "        SELECT id FROM customers\n",
    "        WHERE last_name='George'\n",
    "    );\n",
    "    \"\"\")\n",
    "query_result = mycursor.fetchall()\n",
    "print_query_result(query_result)"
   ]
  },
  {
   "cell_type": "markdown",
   "metadata": {},
   "source": [
    "### Cross Join\n",
    "\n",
    "![cross_join_round](https://www.w3resource.com/w3r_images/cross-join-round.png)\n"
   ]
  },
  {
   "cell_type": "code",
   "execution_count": 16,
   "metadata": {},
   "outputs": [
    {
     "name": "stdout",
     "output_type": "stream",
     "text": [
      "(1, 'Boy', 'George', 'george@gmail.com', 1, datetime.date(2016, 2, 10), Decimal('99.99'), 1)\n",
      "(2, 'George', 'Michael', 'gm@gmail.com', 1, datetime.date(2016, 2, 10), Decimal('99.99'), 1)\n",
      "(3, 'David', 'Bowie', 'david@gmail.com', 1, datetime.date(2016, 2, 10), Decimal('99.99'), 1)\n",
      "(4, 'Blue', 'Steele', 'blue@gmail.com', 1, datetime.date(2016, 2, 10), Decimal('99.99'), 1)\n",
      "(5, 'Bette', 'Davis', 'bette@aol.com', 1, datetime.date(2016, 2, 10), Decimal('99.99'), 1)\n",
      "(1, 'Boy', 'George', 'george@gmail.com', 2, datetime.date(2017, 11, 11), Decimal('35.50'), 1)\n",
      "(2, 'George', 'Michael', 'gm@gmail.com', 2, datetime.date(2017, 11, 11), Decimal('35.50'), 1)\n",
      "(3, 'David', 'Bowie', 'david@gmail.com', 2, datetime.date(2017, 11, 11), Decimal('35.50'), 1)\n",
      "(4, 'Blue', 'Steele', 'blue@gmail.com', 2, datetime.date(2017, 11, 11), Decimal('35.50'), 1)\n",
      "(5, 'Bette', 'Davis', 'bette@aol.com', 2, datetime.date(2017, 11, 11), Decimal('35.50'), 1)\n",
      "(1, 'Boy', 'George', 'george@gmail.com', 3, datetime.date(2014, 12, 12), Decimal('800.67'), 2)\n",
      "(2, 'George', 'Michael', 'gm@gmail.com', 3, datetime.date(2014, 12, 12), Decimal('800.67'), 2)\n",
      "(3, 'David', 'Bowie', 'david@gmail.com', 3, datetime.date(2014, 12, 12), Decimal('800.67'), 2)\n",
      "(4, 'Blue', 'Steele', 'blue@gmail.com', 3, datetime.date(2014, 12, 12), Decimal('800.67'), 2)\n",
      "(5, 'Bette', 'Davis', 'bette@aol.com', 3, datetime.date(2014, 12, 12), Decimal('800.67'), 2)\n",
      "(1, 'Boy', 'George', 'george@gmail.com', 4, datetime.date(2015, 1, 3), Decimal('12.50'), 2)\n",
      "(2, 'George', 'Michael', 'gm@gmail.com', 4, datetime.date(2015, 1, 3), Decimal('12.50'), 2)\n",
      "(3, 'David', 'Bowie', 'david@gmail.com', 4, datetime.date(2015, 1, 3), Decimal('12.50'), 2)\n",
      "(4, 'Blue', 'Steele', 'blue@gmail.com', 4, datetime.date(2015, 1, 3), Decimal('12.50'), 2)\n",
      "(5, 'Bette', 'Davis', 'bette@aol.com', 4, datetime.date(2015, 1, 3), Decimal('12.50'), 2)\n",
      "(1, 'Boy', 'George', 'george@gmail.com', 5, datetime.date(1999, 4, 11), Decimal('450.25'), 5)\n",
      "(2, 'George', 'Michael', 'gm@gmail.com', 5, datetime.date(1999, 4, 11), Decimal('450.25'), 5)\n",
      "(3, 'David', 'Bowie', 'david@gmail.com', 5, datetime.date(1999, 4, 11), Decimal('450.25'), 5)\n",
      "(4, 'Blue', 'Steele', 'blue@gmail.com', 5, datetime.date(1999, 4, 11), Decimal('450.25'), 5)\n",
      "(5, 'Bette', 'Davis', 'bette@aol.com', 5, datetime.date(1999, 4, 11), Decimal('450.25'), 5)\n"
     ]
    }
   ],
   "source": [
    "mycursor.execute(\"\"\"\n",
    "    SELECT * FROM customers, orders;\n",
    "    \"\"\")\n",
    "\n",
    "# or\n",
    "\n",
    "# mycursor.execute(\"\"\"\n",
    "#    SELECT * FROM customers CROSS JOIN orders;\n",
    "#    \"\"\")\n",
    "\n",
    "query_result = mycursor.fetchall()\n",
    "print_query_result(query_result)"
   ]
  },
  {
   "cell_type": "markdown",
   "metadata": {},
   "source": [
    "### Inner Join\n",
    "\n",
    "![inner_join_round](https://www.w3schools.com/sql/img_innerjoin.gif)"
   ]
  },
  {
   "cell_type": "code",
   "execution_count": 17,
   "metadata": {},
   "outputs": [
    {
     "name": "stdout",
     "output_type": "stream",
     "text": [
      "('Boy', 'George', datetime.date(2016, 2, 10), Decimal('99.99'))\n",
      "('Boy', 'George', datetime.date(2017, 11, 11), Decimal('35.50'))\n",
      "('George', 'Michael', datetime.date(2014, 12, 12), Decimal('800.67'))\n",
      "('George', 'Michael', datetime.date(2015, 1, 3), Decimal('12.50'))\n",
      "('Bette', 'Davis', datetime.date(1999, 4, 11), Decimal('450.25'))\n"
     ]
    }
   ],
   "source": [
    "# better to select data that you need instead using *\n",
    "\n",
    "mycursor.execute(\"\"\"\n",
    "    SELECT first_name, last_name, order_date, amount \n",
    "    FROM customers\n",
    "    JOIN orders\n",
    "    ON customers.id = orders.customer_id;\n",
    "    \"\"\")\n",
    "query_result = mycursor.fetchall()\n",
    "print_query_result(query_result)"
   ]
  },
  {
   "cell_type": "markdown",
   "metadata": {},
   "source": [
    "### Left Join / Right Join\n",
    "\n",
    "![left_join_round](https://www.w3schools.com/sql/img_leftjoin.gif)"
   ]
  },
  {
   "cell_type": "code",
   "execution_count": 18,
   "metadata": {},
   "outputs": [
    {
     "name": "stdout",
     "output_type": "stream",
     "text": [
      "('George', 'Michael', Decimal('813.17'))\n",
      "('Bette', 'Davis', Decimal('450.25'))\n",
      "('Boy', 'George', Decimal('135.49'))\n",
      "('David', 'Bowie', Decimal('0.00'))\n",
      "('Blue', 'Steele', Decimal('0.00'))\n"
     ]
    }
   ],
   "source": [
    "# we want to know customer who have high spent and also who haven't spent yet\n",
    "\n",
    "mycursor.execute(\"\"\"\n",
    "SELECT \n",
    "    first_name, \n",
    "    last_name,\n",
    "    IFNULL(SUM(amount), 0) AS total_spent\n",
    "FROM customers\n",
    "LEFT JOIN orders\n",
    "    ON customers.id = orders.customer_id\n",
    "GROUP BY customers.id\n",
    "ORDER BY total_spent DESC;\n",
    "    \"\"\")\n",
    "query_result = mycursor.fetchall()\n",
    "print_query_result(query_result)"
   ]
  },
  {
   "cell_type": "markdown",
   "metadata": {},
   "source": [
    "## Many to Many Relationship\n",
    "\n",
    "![many_to_many](https://fmhelp.filemaker.com/help/18/fmp/en/FMP_Help/images/relational.07.06.1.png)"
   ]
  },
  {
   "cell_type": "markdown",
   "metadata": {},
   "source": [
    "### Add reviewers, reviews and series Tables"
   ]
  },
  {
   "cell_type": "code",
   "execution_count": 19,
   "metadata": {},
   "outputs": [],
   "source": [
    "# CREATING THE REVIEWERS TABLE\n",
    "mycursor.execute(\"\"\"\n",
    "    CREATE TABLE reviewers (\n",
    "    id INT AUTO_INCREMENT PRIMARY KEY,\n",
    "    first_name VARCHAR(100),\n",
    "    last_name VARCHAR(100)\n",
    ");\n",
    "\"\"\")"
   ]
  },
  {
   "cell_type": "code",
   "execution_count": 20,
   "metadata": {},
   "outputs": [],
   "source": [
    "# CREATING THE SERIES TABLE\n",
    "mycursor.execute(\"\"\"\n",
    "    CREATE TABLE series(\n",
    "    id INT AUTO_INCREMENT PRIMARY KEY,\n",
    "    title VARCHAR(100),\n",
    "    released_year YEAR(4),\n",
    "    genre VARCHAR(100)\n",
    ");\n",
    "\"\"\")"
   ]
  },
  {
   "cell_type": "markdown",
   "metadata": {},
   "source": [
    "#### in many to many, one table contain foreign key for two or many connected tables"
   ]
  },
  {
   "cell_type": "code",
   "execution_count": 21,
   "metadata": {},
   "outputs": [],
   "source": [
    "# CREATING THE REVIEWS TABLE\n",
    "mycursor.execute(\"\"\"\n",
    "    CREATE TABLE reviews (\n",
    "    id INT AUTO_INCREMENT PRIMARY KEY,\n",
    "    rating DECIMAL(2,1),\n",
    "    series_id INT,\n",
    "    reviewer_id INT,\n",
    "    FOREIGN KEY(series_id) REFERENCES series(id),\n",
    "    FOREIGN KEY(reviewer_id) REFERENCES reviewers(id)\n",
    ");\n",
    "\"\"\")"
   ]
  },
  {
   "cell_type": "markdown",
   "metadata": {},
   "source": [
    "### Insert data into the table"
   ]
  },
  {
   "cell_type": "code",
   "execution_count": 22,
   "metadata": {},
   "outputs": [],
   "source": [
    "mycursor.execute(\"\"\"\n",
    "INSERT INTO series (title, released_year, genre) VALUES\n",
    "    ('Archer', 2009, 'Animation'),\n",
    "    ('Arrested Development', 2003, 'Comedy'),\n",
    "    (\"Bob's Burgers\", 2011, 'Animation'),\n",
    "    ('Bojack Horseman', 2014, 'Animation'),\n",
    "    (\"Breaking Bad\", 2008, 'Drama'),\n",
    "    ('Curb Your Enthusiasm', 2000, 'Comedy'),\n",
    "    (\"Fargo\", 2014, 'Drama'),\n",
    "    ('Freaks and Geeks', 1999, 'Comedy'),\n",
    "    ('General Hospital', 1963, 'Drama'),\n",
    "    ('Halt and Catch Fire', 2014, 'Drama'),\n",
    "    ('Malcolm In The Middle', 2000, 'Comedy'),\n",
    "    ('Pushing Daisies', 2007, 'Comedy'),\n",
    "    ('Seinfeld', 1989, 'Comedy'),\n",
    "    ('Stranger Things', 2016, 'Drama');\n",
    "\"\"\")"
   ]
  },
  {
   "cell_type": "code",
   "execution_count": 23,
   "metadata": {},
   "outputs": [],
   "source": [
    "mycursor.execute(\"\"\"\n",
    "INSERT INTO reviewers (first_name, last_name) VALUES\n",
    "    ('Thomas', 'Stoneman'),\n",
    "    ('Wyatt', 'Skaggs'),\n",
    "    ('Kimbra', 'Masters'),\n",
    "    ('Domingo', 'Cortes'),\n",
    "    ('Colt', 'Steele'),\n",
    "    ('Pinkie', 'Petit'),\n",
    "    ('Marlon', 'Crafford');\n",
    "\"\"\")"
   ]
  },
  {
   "cell_type": "code",
   "execution_count": 24,
   "metadata": {},
   "outputs": [],
   "source": [
    "mycursor.execute(\"\"\"\n",
    "INSERT INTO reviews(series_id, reviewer_id, rating) VALUES\n",
    "    (1,1,8.0),(1,2,7.5),(1,3,8.5),(1,4,7.7),(1,5,8.9),\n",
    "    (2,1,8.1),(2,4,6.0),(2,3,8.0),(2,6,8.4),(2,5,9.9),\n",
    "    (3,1,7.0),(3,6,7.5),(3,4,8.0),(3,3,7.1),(3,5,8.0),\n",
    "    (4,1,7.5),(4,3,7.8),(4,4,8.3),(4,2,7.6),(4,5,8.5),\n",
    "    (5,1,9.5),(5,3,9.0),(5,4,9.1),(5,2,9.3),(5,5,9.9),\n",
    "    (6,2,6.5),(6,3,7.8),(6,4,8.8),(6,2,8.4),(6,5,9.1),\n",
    "    (7,2,9.1),(7,5,9.7),\n",
    "    (8,4,8.5),(8,2,7.8),(8,6,8.8),(8,5,9.3),\n",
    "    (9,2,5.5),(9,3,6.8),(9,4,5.8),(9,6,4.3),(9,5,4.5),\n",
    "    (10,5,9.9),\n",
    "    (13,3,8.0),(13,4,7.2),\n",
    "    (14,2,8.5),(14,3,8.9),(14,4,8.9);\n",
    "\"\"\")"
   ]
  },
  {
   "cell_type": "code",
   "execution_count": 25,
   "metadata": {},
   "outputs": [
    {
     "name": "stdout",
     "output_type": "stream",
     "text": [
      "('id', 'int(11)', 'NO', 'PRI', None, 'auto_increment')\n",
      "('first_name', 'varchar(100)', 'YES', '', None, '')\n",
      "('last_name', 'varchar(100)', 'YES', '', None, '')\n"
     ]
    }
   ],
   "source": [
    "mycursor.execute(\"\"\"DESCRIBE reviewers;\"\"\")\n",
    "query_result = mycursor.fetchall()\n",
    "print_query_result(query_result)"
   ]
  },
  {
   "cell_type": "markdown",
   "metadata": {},
   "source": [
    "### Looking for rating of the series\n",
    "\n",
    "- you can join series and reviews table and select title and rating of the series"
   ]
  },
  {
   "cell_type": "code",
   "execution_count": 26,
   "metadata": {},
   "outputs": [
    {
     "name": "stdout",
     "output_type": "stream",
     "text": [
      "('Archer', Decimal('8.0'))\n",
      "('Archer', Decimal('7.5'))\n",
      "('Archer', Decimal('8.5'))\n",
      "('Archer', Decimal('7.7'))\n",
      "('Archer', Decimal('8.9'))\n",
      "('Arrested Development', Decimal('8.1'))\n",
      "('Arrested Development', Decimal('6.0'))\n",
      "('Arrested Development', Decimal('8.0'))\n",
      "('Arrested Development', Decimal('8.4'))\n",
      "('Arrested Development', Decimal('9.9'))\n",
      "(\"Bob's Burgers\", Decimal('7.0'))\n",
      "(\"Bob's Burgers\", Decimal('7.5'))\n",
      "(\"Bob's Burgers\", Decimal('8.0'))\n",
      "(\"Bob's Burgers\", Decimal('7.1'))\n",
      "(\"Bob's Burgers\", Decimal('8.0'))\n",
      "('Bojack Horseman', Decimal('7.5'))\n",
      "('Bojack Horseman', Decimal('7.8'))\n",
      "('Bojack Horseman', Decimal('8.3'))\n",
      "('Bojack Horseman', Decimal('7.6'))\n",
      "('Bojack Horseman', Decimal('8.5'))\n",
      "('Breaking Bad', Decimal('9.5'))\n",
      "('Breaking Bad', Decimal('9.0'))\n",
      "('Breaking Bad', Decimal('9.1'))\n",
      "('Breaking Bad', Decimal('9.3'))\n",
      "('Breaking Bad', Decimal('9.9'))\n",
      "('Curb Your Enthusiasm', Decimal('6.5'))\n",
      "('Curb Your Enthusiasm', Decimal('7.8'))\n",
      "('Curb Your Enthusiasm', Decimal('8.8'))\n",
      "('Curb Your Enthusiasm', Decimal('8.4'))\n",
      "('Curb Your Enthusiasm', Decimal('9.1'))\n",
      "('Fargo', Decimal('9.1'))\n",
      "('Fargo', Decimal('9.7'))\n",
      "('Freaks and Geeks', Decimal('8.5'))\n",
      "('Freaks and Geeks', Decimal('7.8'))\n",
      "('Freaks and Geeks', Decimal('8.8'))\n",
      "('Freaks and Geeks', Decimal('9.3'))\n",
      "('General Hospital', Decimal('5.5'))\n",
      "('General Hospital', Decimal('6.8'))\n",
      "('General Hospital', Decimal('5.8'))\n",
      "('General Hospital', Decimal('4.3'))\n",
      "('General Hospital', Decimal('4.5'))\n",
      "('Halt and Catch Fire', Decimal('9.9'))\n",
      "('Seinfeld', Decimal('8.0'))\n",
      "('Seinfeld', Decimal('7.2'))\n",
      "('Stranger Things', Decimal('8.5'))\n",
      "('Stranger Things', Decimal('8.9'))\n",
      "('Stranger Things', Decimal('8.9'))\n"
     ]
    }
   ],
   "source": [
    "mycursor.execute(\"\"\"\n",
    "SELECT \n",
    "    title, \n",
    "    rating \n",
    "FROM series\n",
    "JOIN reviews\n",
    "    ON series.id = reviews.series_id;\n",
    "\"\"\")\n",
    "query_result = mycursor.fetchall()\n",
    "print_query_result(query_result)"
   ]
  },
  {
   "cell_type": "markdown",
   "metadata": {},
   "source": [
    "### Looking for highest rating of the series\n",
    "\n",
    "- you can join series and review table like before\n",
    "- and then select title and calculate avg(rating)\n",
    "- and then group by the series and order by the rating average"
   ]
  },
  {
   "cell_type": "code",
   "execution_count": 27,
   "metadata": {},
   "outputs": [
    {
     "name": "stdout",
     "output_type": "stream",
     "text": [
      "('General Hospital', Decimal('5.38000'))\n",
      "(\"Bob's Burgers\", Decimal('7.52000'))\n",
      "('Seinfeld', Decimal('7.60000'))\n",
      "('Bojack Horseman', Decimal('7.94000'))\n",
      "('Arrested Development', Decimal('8.08000'))\n",
      "('Archer', Decimal('8.12000'))\n",
      "('Curb Your Enthusiasm', Decimal('8.12000'))\n",
      "('Freaks and Geeks', Decimal('8.60000'))\n",
      "('Stranger Things', Decimal('8.76667'))\n",
      "('Breaking Bad', Decimal('9.36000'))\n",
      "('Fargo', Decimal('9.40000'))\n",
      "('Halt and Catch Fire', Decimal('9.90000'))\n"
     ]
    }
   ],
   "source": [
    "mycursor.execute(\"\"\"\n",
    "SELECT\n",
    "    title,\n",
    "    AVG(rating) as avg_rating\n",
    "FROM series\n",
    "JOIN reviews\n",
    "    ON series.id = reviews.series_id\n",
    "GROUP BY series.id\n",
    "ORDER BY avg_rating;\n",
    "\"\"\")\n",
    "query_result = mycursor.fetchall()\n",
    "print_query_result(query_result)"
   ]
  },
  {
   "cell_type": "markdown",
   "metadata": {},
   "source": [
    "## Post Step"
   ]
  },
  {
   "cell_type": "code",
   "execution_count": 28,
   "metadata": {},
   "outputs": [],
   "source": [
    "mycursor.execute(\"DROP DATABASE learning_relationship;\")"
   ]
  }
 ],
 "metadata": {
  "kernelspec": {
   "display_name": "Python 3.7.6 64-bit ('anaconda3': virtualenv)",
   "language": "python",
   "name": "python37664bitanaconda3virtualenv75d5475c12a94d19862e9f720c4e5a0e"
  },
  "language_info": {
   "codemirror_mode": {
    "name": "ipython",
    "version": 3
   },
   "file_extension": ".py",
   "mimetype": "text/x-python",
   "name": "python",
   "nbconvert_exporter": "python",
   "pygments_lexer": "ipython3",
   "version": "3.7.6"
  }
 },
 "nbformat": 4,
 "nbformat_minor": 4
}
